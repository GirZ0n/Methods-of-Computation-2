{
 "cells": [
  {
   "cell_type": "markdown",
   "source": [
    "# Вспомогательные функции"
   ],
   "attachments": {},
   "metadata": {
    "datalore": {
     "type": "MD",
     "hide_input_from_viewers": false,
     "hide_output_from_viewers": false,
     "sheet_delimiter": true
    },
    "pycharm": {
     "name": "#%% md\n"
    }
   }
  },
  {
   "cell_type": "code",
   "source": [
    "from typing import Callable, Tuple, List, Dict, Literal\n",
    "\n",
    "import numpy as np\n",
    "import numpy.linalg as linalg\n",
    "import pandas as pd\n",
    "import plotly.graph_objects as go\n",
    "from scipy.integrate import quad\n",
    "from scipy.interpolate import interp1d\n",
    "from tqdm.auto import tqdm\n",
    "from itertools import product\n",
    "\n",
    "tqdm.pandas()"
   ],
   "execution_count": 1,
   "outputs": [],
   "metadata": {
    "datalore": {
     "type": "CODE",
     "hide_input_from_viewers": false,
     "hide_output_from_viewers": false
    },
    "pycharm": {
     "name": "#%%\n"
    }
   }
  },
  {
   "cell_type": "code",
   "source": [
    "Function1 = Callable[[float], float]  # Функция одного аргумента\n",
    "Function2 = Callable[[float, float], float]  # Функция двух аргументов\n",
    "Segment = Tuple[float, float]  # Отрезок [a, b]\n",
    "Linspace = Tuple[Segment, int]  # Отрезок [a, b] и количество точек\n",
    "\n",
    "N = [500, 1000, 1500, 2000, 2500, 3000]  # Рассматриваемые N\n",
    "ALPHA = [10 ** -i for i in range(2, 13)]"
   ],
   "execution_count": 2,
   "outputs": [],
   "metadata": {
    "datalore": {
     "type": "CODE",
     "hide_input_from_viewers": false,
     "hide_output_from_viewers": false
    },
    "pycharm": {
     "name": "#%%\n"
    }
   }
  },
  {
   "cell_type": "code",
   "source": [
    "def get_quadrature_coefficients(linspace: Linspace, type: Literal['trapezoid', 'midpoint']) -> List[float]:\n",
    "    \"\"\"Находим коэффициенты квадратурной формулы трапеций\"\"\"\n",
    "    segment, number_of_nodes = linspace\n",
    "    _, step = np.linspace(*segment, number_of_nodes, retstep=True)\n",
    "\n",
    "    if type == 'trapezoid':\n",
    "        return [step / 2] + [step] * (number_of_nodes - 2) + [step / 2]\n",
    "\n",
    "    return [step] * number_of_nodes"
   ],
   "execution_count": 3,
   "outputs": [],
   "metadata": {
    "datalore": {
     "type": "CODE",
     "hide_input_from_viewers": false,
     "hide_output_from_viewers": false
    },
    "pycharm": {
     "name": "#%%\n"
    }
   }
  },
  {
   "cell_type": "code",
   "source": [
    "kernel = lambda x, s: np.cos(3 * x * s)\n",
    "segment = (0, 1)\n",
    "\n",
    "z_1 = lambda s: 1\n",
    "u_1 = lambda x: np.sin(3 * x) / (3 * x) if x != 0 else 1\n",
    "\n",
    "z_2 = lambda s: s * (1 - s)\n",
    "u_2 = lambda x: (-3 * x - 3 * x * np.cos(3 * x) + 2 * np.sin(3 * x)) / (27 * x ** 3) if x != 0 else 1 / 6"
   ],
   "execution_count": 4,
   "outputs": [],
   "metadata": {
    "datalore": {
     "type": "CODE",
     "hide_input_from_viewers": false,
     "hide_output_from_viewers": false
    },
    "pycharm": {
     "name": "#%%\n"
    }
   }
  },
  {
   "cell_type": "code",
   "source": [
    "def find_solution_using_regularization(matrix: np.ndarray, right_side: np.ndarray, alpha: float) -> np.ndarray:\n",
    "    \"\"\"Находит решение СЛУ с помощью регуляризации.\"\"\"\n",
    "    transpose_matrix = np.transpose(matrix)\n",
    "\n",
    "    new_matrix = transpose_matrix.dot(matrix) + alpha * np.eye(matrix.shape[0])\n",
    "    new_right_part = transpose_matrix.dot(right_side)\n",
    "\n",
    "    return linalg.solve(new_matrix, new_right_part)"
   ],
   "execution_count": 5,
   "outputs": [],
   "metadata": {
    "datalore": {
     "type": "CODE",
     "hide_input_from_viewers": false,
     "hide_output_from_viewers": false
    },
    "pycharm": {
     "name": "#%%\n"
    }
   }
  },
  {
   "cell_type": "code",
   "source": [
    "def find_integral_error(\n",
    "        solution: np.ndarray,\n",
    "        kernel: Function2,\n",
    "        u: Function1,\n",
    "        linspace: Linspace,\n",
    ") -> float:\n",
    "    (segment), n = linspace\n",
    "\n",
    "    points = np.linspace(*segment, n)\n",
    "    solution_poly = interp1d(points, solution)\n",
    "\n",
    "    expected_u = lambda x: quad(lambda s, _x: kernel(_x, s) * solution_poly(s), *segment, args=(x,))[0]\n",
    "    expected_u = np.vectorize(expected_u, otypes=[float])\n",
    "\n",
    "    actual_u = np.vectorize(u, otypes=[float])\n",
    "    return abs(actual_u(points) - expected_u(points)).max()"
   ],
   "execution_count": 6,
   "outputs": [],
   "metadata": {
    "datalore": {
     "type": "CODE",
     "hide_input_from_viewers": false,
     "hide_output_from_viewers": false
    },
    "pycharm": {
     "name": "#%%\n"
    }
   }
  },
  {
   "cell_type": "code",
   "source": [
    "def plot_solutions_by_alpha(data: pd.DataFrame, segment: Segment) -> List[go.Figure]:\n",
    "    figures = []\n",
    "\n",
    "    grouped_data = data.groupby('n')\n",
    "    for n in grouped_data.groups.keys():\n",
    "        fig = go.Figure()\n",
    "\n",
    "        group = grouped_data.get_group(n)\n",
    "        group.apply(\n",
    "            func=lambda row: fig.add_scatter(\n",
    "                x=np.linspace(*segment, int(n)),\n",
    "                y=eval(str(row.solution)),\n",
    "                name=row.alpha,\n",
    "            ),\n",
    "            axis=1,\n",
    "        )\n",
    "\n",
    "        fig.update_layout(title=f'График решения для {n = }')\n",
    "        figures.append(fig)\n",
    "\n",
    "    return figures"
   ],
   "execution_count": 7,
   "outputs": [],
   "metadata": {
    "datalore": {
     "type": "CODE",
     "hide_input_from_viewers": false,
     "hide_output_from_viewers": false
    },
    "pycharm": {
     "name": "#%%\n"
    }
   }
  },
  {
   "cell_type": "code",
   "source": [
    "def get_best_error_by_n(\n",
    "        data: pd.DataFrame,\n",
    "        n: int,\n",
    "        drop_alphas: List[float],\n",
    "        error_column: str = 'error_solve_max',\n",
    ") -> pd.DataFrame:\n",
    "    data = data[data.n == n]\n",
    "    data = data.drop(columns=['solution'])\n",
    "    data = data[~data.alpha.isin(drop_alphas)]\n",
    "    return data.sort_values(error_column)"
   ],
   "execution_count": 8,
   "outputs": [],
   "metadata": {
    "datalore": {
     "type": "CODE",
     "hide_input_from_viewers": false,
     "hide_output_from_viewers": false
    },
    "pycharm": {
     "name": "#%%\n"
    }
   }
  },
  {
   "cell_type": "code",
   "source": [
    "def plot_best_solutions(\n",
    "        data: pd.DataFrame,\n",
    "        n_to_best_alpha: Dict[int, float],\n",
    "        segment: Segment,\n",
    "        error_column: str = 'error_solve_max',\n",
    ") -> go.Figure:\n",
    "    fig = go.Figure()\n",
    "\n",
    "    for n, alpha in n_to_best_alpha.items():\n",
    "        row = data[(data.n == n) & (data.alpha == alpha)].iloc[0]\n",
    "        print(f'error({n}, {alpha}): {row[error_column]}')\n",
    "        fig.add_scatter(x=np.linspace(*segment, n), y=eval(str(row.solution)), name=f'{n = }, {alpha = }')\n",
    "\n",
    "    fig.update_xaxes(title='x')\n",
    "    fig.update_yaxes(title='y', zeroline=False)\n",
    "    fig.update_layout(title='Наилучшие решения для каждого n и alpha', template=None)\n",
    "    \n",
    "    return fig"
   ],
   "execution_count": 9,
   "outputs": [],
   "metadata": {
    "datalore": {
     "type": "CODE",
     "hide_input_from_viewers": false,
     "hide_output_from_viewers": false
    },
    "pycharm": {
     "name": "#%%\n"
    }
   }
  },
  {
   "cell_type": "markdown",
   "source": [
    "# Метод 1"
   ],
   "attachments": {},
   "metadata": {
    "datalore": {
     "type": "MD",
     "hide_input_from_viewers": false,
     "hide_output_from_viewers": false,
     "sheet_delimiter": true
    },
    "pycharm": {
     "name": "#%% md\n"
    }
   }
  },
  {
   "cell_type": "code",
   "source": [
    "def benchmark_first_method(\n",
    "        kernel: Function2,\n",
    "        u: Function1,\n",
    "        linspace: Linspace,\n",
    "        alphas: List[float],\n",
    "        true_function: Function1,\n",
    ") -> pd.Series:\n",
    "    segment, n = linspace\n",
    "    u = np.vectorize(u, otypes=[float])\n",
    "    true_function = np.vectorize(true_function, otypes=[float])\n",
    "\n",
    "    points, step = np.linspace(*segment, n, retstep=True)\n",
    "\n",
    "    quadrature_coefficients = get_quadrature_coefficients(linspace, type='midpoint')\n",
    "    matrix = [\n",
    "        [coefficient * kernel(s_j, s_k) for coefficient, s_k in zip(quadrature_coefficients, points)]\n",
    "        for s_j in points\n",
    "    ]\n",
    "    right_side = u(points)\n",
    "\n",
    "    matrix = np.array(matrix)\n",
    "    right_side = np.array(right_side)\n",
    "\n",
    "    errors_true_max = []\n",
    "    errors_solve_max = []\n",
    "    solutions = []\n",
    "    for alpha in tqdm(alphas, desc='alphas', leave=False):\n",
    "        solution = find_solution_using_regularization(matrix, right_side, alpha)\n",
    "\n",
    "        error_true_max = abs(solution - true_function(points)).max()\n",
    "        error_solve_max = abs(matrix.dot(solution) - right_side).max()\n",
    "\n",
    "        errors_true_max.append(error_true_max)\n",
    "        errors_solve_max.append(error_solve_max)\n",
    "        solutions.append(solution.tolist())\n",
    "\n",
    "    return pd.Series([alphas, errors_true_max, errors_solve_max, solutions])"
   ],
   "execution_count": 10,
   "outputs": [],
   "metadata": {
    "datalore": {
     "type": "CODE",
     "hide_input_from_viewers": false,
     "hide_output_from_viewers": false
    },
    "pycharm": {
     "name": "#%%\n"
    }
   }
  },
  {
   "cell_type": "markdown",
   "source": [
    "# $$z = 1$$"
   ],
   "attachments": {},
   "metadata": {
    "datalore": {
     "type": "MD",
     "hide_input_from_viewers": false,
     "hide_output_from_viewers": false
    },
    "pycharm": {
     "name": "#%% md\n"
    }
   }
  },
  {
   "cell_type": "code",
   "source": [
    "# first_method_data = pd.DataFrame(N, columns=['n'])\n",
    "#\n",
    "# columns_to_add = [\n",
    "#     'alpha',\n",
    "#     'error_true_max',\n",
    "#     'error_solve_max',\n",
    "#     'solution',\n",
    "# ]\n",
    "#\n",
    "# first_method_data[columns_to_add] = first_method_data.progress_apply(\n",
    "#     lambda row: benchmark_first_method(kernel, u_1, (segment, int(row.n)), ALPHAS, z_1),\n",
    "#     axis=1,\n",
    "# )\n",
    "#\n",
    "# first_method_data = first_method_data.explode(columns_to_add)\n",
    "# first_method_data.to_csv('./first_z_1.csv', index=False)"
   ],
   "execution_count": 11,
   "outputs": [],
   "metadata": {
    "datalore": {
     "type": "CODE",
     "hide_input_from_viewers": false,
     "hide_output_from_viewers": false
    },
    "pycharm": {
     "name": "#%%\n"
    }
   }
  },
  {
   "cell_type": "code",
   "source": [
    "first_method_data = pd.read_csv('first_z_1.csv')\n",
    "first_method_data"
   ],
   "execution_count": 12,
   "outputs": [
    {
     "data": {
      "text/html": [
       "<div>\n",
       "<style scoped>\n",
       "    .dataframe tbody tr th:only-of-type {\n",
       "        vertical-align: middle;\n",
       "    }\n",
       "\n",
       "    .dataframe tbody tr th {\n",
       "        vertical-align: top;\n",
       "    }\n",
       "\n",
       "    .dataframe thead th {\n",
       "        text-align: right;\n",
       "    }\n",
       "</style>\n",
       "<table border=\"1\" class=\"dataframe\">\n",
       "  <thead>\n",
       "    <tr style=\"text-align: right;\">\n",
       "      <th></th>\n",
       "      <th>n</th>\n",
       "      <th>alpha</th>\n",
       "      <th>error_true_max</th>\n",
       "      <th>error_solve_max</th>\n",
       "      <th>solution</th>\n",
       "    </tr>\n",
       "  </thead>\n",
       "  <tbody>\n",
       "    <tr>\n",
       "      <th>0</th>\n",
       "      <td>500</td>\n",
       "      <td>1.000000e-02</td>\n",
       "      <td>0.119790</td>\n",
       "      <td>2.560809e-02</td>\n",
       "      <td>[0.978137941979886, 0.9781384928666949, 0.9781...</td>\n",
       "    </tr>\n",
       "    <tr>\n",
       "      <th>1</th>\n",
       "      <td>500</td>\n",
       "      <td>1.000000e-03</td>\n",
       "      <td>0.057437</td>\n",
       "      <td>2.869070e-03</td>\n",
       "      <td>[0.9824162121856819, 0.9824169494841672, 0.982...</td>\n",
       "    </tr>\n",
       "    <tr>\n",
       "      <th>2</th>\n",
       "      <td>500</td>\n",
       "      <td>1.000000e-04</td>\n",
       "      <td>0.026765</td>\n",
       "      <td>3.334087e-04</td>\n",
       "      <td>[0.9912740157712296, 0.991274349513722, 0.9912...</td>\n",
       "    </tr>\n",
       "    <tr>\n",
       "      <th>3</th>\n",
       "      <td>500</td>\n",
       "      <td>1.000000e-05</td>\n",
       "      <td>0.017361</td>\n",
       "      <td>3.422349e-05</td>\n",
       "      <td>[0.9944800340980404, 0.9944802109970067, 0.994...</td>\n",
       "    </tr>\n",
       "    <tr>\n",
       "      <th>4</th>\n",
       "      <td>500</td>\n",
       "      <td>1.000000e-06</td>\n",
       "      <td>0.016982</td>\n",
       "      <td>3.482740e-06</td>\n",
       "      <td>[0.9951290818044091, 0.9951292159611435, 0.995...</td>\n",
       "    </tr>\n",
       "    <tr>\n",
       "      <th>...</th>\n",
       "      <td>...</td>\n",
       "      <td>...</td>\n",
       "      <td>...</td>\n",
       "      <td>...</td>\n",
       "      <td>...</td>\n",
       "    </tr>\n",
       "    <tr>\n",
       "      <th>61</th>\n",
       "      <td>3000</td>\n",
       "      <td>1.000000e-08</td>\n",
       "      <td>0.003949</td>\n",
       "      <td>3.344893e-08</td>\n",
       "      <td>[0.999520289669191, 0.999520250636745, 0.99952...</td>\n",
       "    </tr>\n",
       "    <tr>\n",
       "      <th>62</th>\n",
       "      <td>3000</td>\n",
       "      <td>1.000000e-09</td>\n",
       "      <td>0.003995</td>\n",
       "      <td>1.141330e-08</td>\n",
       "      <td>[0.9995090437443008, 0.9995086558465074, 0.999...</td>\n",
       "    </tr>\n",
       "    <tr>\n",
       "      <th>63</th>\n",
       "      <td>3000</td>\n",
       "      <td>1.000000e-10</td>\n",
       "      <td>0.004391</td>\n",
       "      <td>1.150994e-08</td>\n",
       "      <td>[0.9994015268730138, 0.9993976569200805, 0.999...</td>\n",
       "    </tr>\n",
       "    <tr>\n",
       "      <th>64</th>\n",
       "      <td>3000</td>\n",
       "      <td>1.000000e-11</td>\n",
       "      <td>0.006035</td>\n",
       "      <td>5.423808e-09</td>\n",
       "      <td>[0.9989515534943187, 0.9989102199383036, 0.998...</td>\n",
       "    </tr>\n",
       "    <tr>\n",
       "      <th>65</th>\n",
       "      <td>3000</td>\n",
       "      <td>1.000000e-12</td>\n",
       "      <td>0.007361</td>\n",
       "      <td>7.904280e-10</td>\n",
       "      <td>[0.9985638336468449, 0.998177625957264, 0.9983...</td>\n",
       "    </tr>\n",
       "  </tbody>\n",
       "</table>\n",
       "<p>66 rows × 5 columns</p>\n",
       "</div>"
      ]
     },
     "metadata": {},
     "output_type": "display_data"
    }
   ],
   "metadata": {
    "datalore": {
     "type": "CODE",
     "hide_input_from_viewers": false,
     "hide_output_from_viewers": false
    },
    "pycharm": {
     "name": "#%%\n"
    }
   }
  },
  {
   "cell_type": "code",
   "source": [
    "for fig in plot_solutions_by_alpha(first_method_data, segment):\n",
    "    fig.show()"
   ],
   "execution_count": 13,
   "outputs": [
    {
     "data": {
      "text/plain": [
       "Unsupported"
      ]
     },
     "metadata": {},
     "output_type": "display_data"
    }
   ],
   "metadata": {
    "datalore": {
     "type": "CODE",
     "hide_input_from_viewers": false,
     "hide_output_from_viewers": false
    },
    "pycharm": {
     "name": "#%%\n"
    }
   }
  },
  {
   "cell_type": "code",
   "source": [
    "get_best_error_by_n(first_method_data, N[5], ALPHA[(6 - 1):], error_column='error_true_max')"
   ],
   "execution_count": 14,
   "outputs": [
    {
     "data": {
      "text/html": [
       "<div>\n",
       "<style scoped>\n",
       "    .dataframe tbody tr th:only-of-type {\n",
       "        vertical-align: middle;\n",
       "    }\n",
       "\n",
       "    .dataframe tbody tr th {\n",
       "        vertical-align: top;\n",
       "    }\n",
       "\n",
       "    .dataframe thead th {\n",
       "        text-align: right;\n",
       "    }\n",
       "</style>\n",
       "<table border=\"1\" class=\"dataframe\">\n",
       "  <thead>\n",
       "    <tr style=\"text-align: right;\">\n",
       "      <th></th>\n",
       "      <th>n</th>\n",
       "      <th>alpha</th>\n",
       "      <th>error_true_max</th>\n",
       "      <th>error_solve_max</th>\n",
       "    </tr>\n",
       "  </thead>\n",
       "  <tbody>\n",
       "    <tr>\n",
       "      <th>59</th>\n",
       "      <td>3000</td>\n",
       "      <td>0.000001</td>\n",
       "      <td>0.004083</td>\n",
       "      <td>0.000004</td>\n",
       "    </tr>\n",
       "    <tr>\n",
       "      <th>58</th>\n",
       "      <td>3000</td>\n",
       "      <td>0.000010</td>\n",
       "      <td>0.005517</td>\n",
       "      <td>0.000037</td>\n",
       "    </tr>\n",
       "    <tr>\n",
       "      <th>57</th>\n",
       "      <td>3000</td>\n",
       "      <td>0.000100</td>\n",
       "      <td>0.016992</td>\n",
       "      <td>0.000350</td>\n",
       "    </tr>\n",
       "    <tr>\n",
       "      <th>56</th>\n",
       "      <td>3000</td>\n",
       "      <td>0.001000</td>\n",
       "      <td>0.052937</td>\n",
       "      <td>0.002930</td>\n",
       "    </tr>\n",
       "    <tr>\n",
       "      <th>55</th>\n",
       "      <td>3000</td>\n",
       "      <td>0.010000</td>\n",
       "      <td>0.117999</td>\n",
       "      <td>0.025776</td>\n",
       "    </tr>\n",
       "  </tbody>\n",
       "</table>\n",
       "</div>"
      ]
     },
     "metadata": {},
     "output_type": "display_data"
    }
   ],
   "metadata": {
    "datalore": {
     "type": "CODE",
     "hide_input_from_viewers": false,
     "hide_output_from_viewers": false
    },
    "pycharm": {
     "name": "#%%\n"
    }
   }
  },
  {
   "cell_type": "code",
   "source": [
    "fig = plot_best_solutions(\n",
    "    first_method_data,\n",
    "    {\n",
    "        N[0]: 1e-6,\n",
    "        N[1]: 1e-6,\n",
    "        N[2]: 1e-6,\n",
    "        N[3]: 1e-6,\n",
    "        N[4]: 1e-6,\n",
    "        N[5]: 1e-6,\n",
    "    },\n",
    "    segment,\n",
    "    error_column='error_true_max',\n",
    ")\n",
    "fig.show()\n",
    "fig.write_image('first_z_1.svg', height=350)"
   ],
   "execution_count": 15,
   "outputs": [
    {
     "name": "stdout",
     "text": [
      "error(500, 1e-06): 0.016981775794891\n",
      "error(1000, 1e-06): 0.0092682359159744\n",
      "error(1500, 1e-06): 0.0066798555881608\n",
      "error(2000, 1e-06): 0.0053824262516508\n",
      "error(2500, 1e-06): 0.0046029304897895\n",
      "error(3000, 1e-06): 0.0040828348779801\n"
     ],
     "output_type": "stream"
    },
    {
     "data": {
      "text/plain": [
       "Unsupported"
      ]
     },
     "metadata": {},
     "output_type": "display_data"
    }
   ],
   "metadata": {
    "datalore": {
     "type": "CODE",
     "hide_input_from_viewers": false,
     "hide_output_from_viewers": false
    },
    "pycharm": {
     "name": "#%%\n"
    }
   }
  },
  {
   "cell_type": "code",
   "source": [
    "# fig = plot_best_solutions(\n",
    "#     first_method_data,\n",
    "#     {\n",
    "#         N[5]: 1e-6,\n",
    "#         N[1]: 1e-12,\n",
    "#     },\n",
    "#     segment,\n",
    "#     error_column='error_true_max',\n",
    "# )\n",
    "# fig.update_layout(title='Пример \"нормального\" и \"расшатавшегося\" решения', showlegend=False)\n",
    "# fig.show()\n",
    "# fig.write_image('solutions_example.svg', height=400)"
   ],
   "execution_count": 16,
   "outputs": [],
   "metadata": {
    "datalore": {
     "type": "CODE",
     "hide_input_from_viewers": false,
     "hide_output_from_viewers": false
    },
    "pycharm": {
     "name": "#%%\n"
    }
   }
  },
  {
   "cell_type": "markdown",
   "source": [
    "# $$z = s(1 - s)$$"
   ],
   "attachments": {},
   "metadata": {
    "datalore": {
     "type": "MD",
     "hide_input_from_viewers": false,
     "hide_output_from_viewers": false
    },
    "pycharm": {
     "name": "#%% md\n"
    }
   }
  },
  {
   "cell_type": "code",
   "source": [
    "# first_method_data = pd.DataFrame(N, columns=['n'])\n",
    "#\n",
    "# columns_to_add = [\n",
    "#     'alpha',\n",
    "#     'error_true_max',\n",
    "#     'error_solve_max',\n",
    "#     'solution',\n",
    "# ]\n",
    "#\n",
    "# first_method_data[columns_to_add] = first_method_data.progress_apply(\n",
    "#     lambda row: benchmark_first_method(kernel, u_2, (segment, int(row.n)), ALPHAS, z_2),\n",
    "#     axis=1,\n",
    "# )\n",
    "#\n",
    "# first_method_data = first_method_data.explode(columns_to_add)\n",
    "# first_method_data.to_csv('./first_z_2.csv', index=False)"
   ],
   "execution_count": 17,
   "outputs": [],
   "metadata": {
    "datalore": {
     "type": "CODE",
     "hide_input_from_viewers": false,
     "hide_output_from_viewers": false
    },
    "pycharm": {
     "name": "#%%\n"
    }
   }
  },
  {
   "cell_type": "code",
   "source": [
    "first_method_data = pd.read_csv('first_z_2.csv')\n",
    "first_method_data"
   ],
   "execution_count": 18,
   "outputs": [
    {
     "data": {
      "text/html": [
       "<div>\n",
       "<style scoped>\n",
       "    .dataframe tbody tr th:only-of-type {\n",
       "        vertical-align: middle;\n",
       "    }\n",
       "\n",
       "    .dataframe tbody tr th {\n",
       "        vertical-align: top;\n",
       "    }\n",
       "\n",
       "    .dataframe thead th {\n",
       "        text-align: right;\n",
       "    }\n",
       "</style>\n",
       "<table border=\"1\" class=\"dataframe\">\n",
       "  <thead>\n",
       "    <tr style=\"text-align: right;\">\n",
       "      <th></th>\n",
       "      <th>n</th>\n",
       "      <th>alpha</th>\n",
       "      <th>error_true_max</th>\n",
       "      <th>error_solve_max</th>\n",
       "      <th>solution</th>\n",
       "    </tr>\n",
       "  </thead>\n",
       "  <tbody>\n",
       "    <tr>\n",
       "      <th>0</th>\n",
       "      <td>500</td>\n",
       "      <td>1.000000e-02</td>\n",
       "      <td>0.171176</td>\n",
       "      <td>5.185924e-03</td>\n",
       "      <td>[0.1711759524775745, 0.17117601819089173, 0.17...</td>\n",
       "    </tr>\n",
       "    <tr>\n",
       "      <th>1</th>\n",
       "      <td>500</td>\n",
       "      <td>1.000000e-03</td>\n",
       "      <td>0.155632</td>\n",
       "      <td>2.886917e-03</td>\n",
       "      <td>[0.1556316011196577, 0.1556325224434287, 0.155...</td>\n",
       "    </tr>\n",
       "    <tr>\n",
       "      <th>2</th>\n",
       "      <td>500</td>\n",
       "      <td>1.000000e-04</td>\n",
       "      <td>0.120625</td>\n",
       "      <td>8.203757e-04</td>\n",
       "      <td>[0.12062482573972352, 0.12062749477766098, 0.1...</td>\n",
       "    </tr>\n",
       "    <tr>\n",
       "      <th>3</th>\n",
       "      <td>500</td>\n",
       "      <td>1.000000e-05</td>\n",
       "      <td>0.107886</td>\n",
       "      <td>1.270577e-04</td>\n",
       "      <td>[0.10788588625186524, 0.10788920249341087, 0.1...</td>\n",
       "    </tr>\n",
       "    <tr>\n",
       "      <th>4</th>\n",
       "      <td>500</td>\n",
       "      <td>1.000000e-06</td>\n",
       "      <td>0.103569</td>\n",
       "      <td>3.674045e-05</td>\n",
       "      <td>[0.10356935976796637, 0.10357301156374833, 0.1...</td>\n",
       "    </tr>\n",
       "    <tr>\n",
       "      <th>...</th>\n",
       "      <td>...</td>\n",
       "      <td>...</td>\n",
       "      <td>...</td>\n",
       "      <td>...</td>\n",
       "      <td>...</td>\n",
       "    </tr>\n",
       "    <tr>\n",
       "      <th>61</th>\n",
       "      <td>3000</td>\n",
       "      <td>1.000000e-08</td>\n",
       "      <td>0.083539</td>\n",
       "      <td>2.371021e-06</td>\n",
       "      <td>[0.08353935136000766, 0.08353950654645505, 0.0...</td>\n",
       "    </tr>\n",
       "    <tr>\n",
       "      <th>62</th>\n",
       "      <td>3000</td>\n",
       "      <td>1.000000e-09</td>\n",
       "      <td>0.081837</td>\n",
       "      <td>4.544623e-07</td>\n",
       "      <td>[0.08183671593814872, 0.0818368918467414, 0.08...</td>\n",
       "    </tr>\n",
       "    <tr>\n",
       "      <th>63</th>\n",
       "      <td>3000</td>\n",
       "      <td>1.000000e-10</td>\n",
       "      <td>0.079852</td>\n",
       "      <td>2.245380e-07</td>\n",
       "      <td>[0.0798520822535665, 0.07985242790446556, 0.07...</td>\n",
       "    </tr>\n",
       "    <tr>\n",
       "      <th>64</th>\n",
       "      <td>3000</td>\n",
       "      <td>1.000000e-11</td>\n",
       "      <td>0.072246</td>\n",
       "      <td>9.750195e-08</td>\n",
       "      <td>[0.07224636692646846, 0.07224626889948038, 0.0...</td>\n",
       "    </tr>\n",
       "    <tr>\n",
       "      <th>65</th>\n",
       "      <td>3000</td>\n",
       "      <td>1.000000e-12</td>\n",
       "      <td>0.066657</td>\n",
       "      <td>1.622841e-08</td>\n",
       "      <td>[0.06665714168756784, 0.06667602068971991, 0.0...</td>\n",
       "    </tr>\n",
       "  </tbody>\n",
       "</table>\n",
       "<p>66 rows × 5 columns</p>\n",
       "</div>"
      ]
     },
     "metadata": {},
     "output_type": "display_data"
    }
   ],
   "metadata": {
    "datalore": {
     "type": "CODE",
     "hide_input_from_viewers": false,
     "hide_output_from_viewers": false
    },
    "pycharm": {
     "name": "#%%\n"
    }
   }
  },
  {
   "cell_type": "code",
   "source": [
    "for fig in plot_solutions_by_alpha(first_method_data, segment):\n",
    "    fig.show()"
   ],
   "execution_count": 19,
   "outputs": [
    {
     "data": {
      "text/plain": [
       "Unsupported"
      ]
     },
     "metadata": {},
     "output_type": "display_data"
    }
   ],
   "metadata": {
    "datalore": {
     "type": "CODE",
     "hide_input_from_viewers": false,
     "hide_output_from_viewers": false
    },
    "pycharm": {
     "name": "#%%\n"
    }
   }
  },
  {
   "cell_type": "code",
   "source": [
    "get_best_error_by_n(first_method_data, N[5], ALPHA[(10 - 1):], error_column='error_true_max')"
   ],
   "execution_count": 20,
   "outputs": [
    {
     "data": {
      "text/html": [
       "<div>\n",
       "<style scoped>\n",
       "    .dataframe tbody tr th:only-of-type {\n",
       "        vertical-align: middle;\n",
       "    }\n",
       "\n",
       "    .dataframe tbody tr th {\n",
       "        vertical-align: top;\n",
       "    }\n",
       "\n",
       "    .dataframe thead th {\n",
       "        text-align: right;\n",
       "    }\n",
       "</style>\n",
       "<table border=\"1\" class=\"dataframe\">\n",
       "  <thead>\n",
       "    <tr style=\"text-align: right;\">\n",
       "      <th></th>\n",
       "      <th>n</th>\n",
       "      <th>alpha</th>\n",
       "      <th>error_true_max</th>\n",
       "      <th>error_solve_max</th>\n",
       "    </tr>\n",
       "  </thead>\n",
       "  <tbody>\n",
       "    <tr>\n",
       "      <th>63</th>\n",
       "      <td>3000</td>\n",
       "      <td>1.000000e-10</td>\n",
       "      <td>0.079852</td>\n",
       "      <td>2.245380e-07</td>\n",
       "    </tr>\n",
       "    <tr>\n",
       "      <th>62</th>\n",
       "      <td>3000</td>\n",
       "      <td>1.000000e-09</td>\n",
       "      <td>0.081837</td>\n",
       "      <td>4.544623e-07</td>\n",
       "    </tr>\n",
       "    <tr>\n",
       "      <th>61</th>\n",
       "      <td>3000</td>\n",
       "      <td>1.000000e-08</td>\n",
       "      <td>0.083539</td>\n",
       "      <td>2.371021e-06</td>\n",
       "    </tr>\n",
       "    <tr>\n",
       "      <th>60</th>\n",
       "      <td>3000</td>\n",
       "      <td>1.000000e-07</td>\n",
       "      <td>0.092319</td>\n",
       "      <td>1.395349e-05</td>\n",
       "    </tr>\n",
       "    <tr>\n",
       "      <th>59</th>\n",
       "      <td>3000</td>\n",
       "      <td>1.000000e-06</td>\n",
       "      <td>0.103915</td>\n",
       "      <td>3.693853e-05</td>\n",
       "    </tr>\n",
       "    <tr>\n",
       "      <th>58</th>\n",
       "      <td>3000</td>\n",
       "      <td>1.000000e-05</td>\n",
       "      <td>0.108201</td>\n",
       "      <td>1.281535e-04</td>\n",
       "    </tr>\n",
       "    <tr>\n",
       "      <th>57</th>\n",
       "      <td>3000</td>\n",
       "      <td>1.000000e-04</td>\n",
       "      <td>0.121085</td>\n",
       "      <td>8.267761e-04</td>\n",
       "    </tr>\n",
       "    <tr>\n",
       "      <th>56</th>\n",
       "      <td>3000</td>\n",
       "      <td>1.000000e-03</td>\n",
       "      <td>0.156110</td>\n",
       "      <td>2.886973e-03</td>\n",
       "    </tr>\n",
       "    <tr>\n",
       "      <th>55</th>\n",
       "      <td>3000</td>\n",
       "      <td>1.000000e-02</td>\n",
       "      <td>0.171474</td>\n",
       "      <td>5.182733e-03</td>\n",
       "    </tr>\n",
       "  </tbody>\n",
       "</table>\n",
       "</div>"
      ]
     },
     "metadata": {},
     "output_type": "display_data"
    }
   ],
   "metadata": {
    "datalore": {
     "type": "CODE",
     "hide_input_from_viewers": false,
     "hide_output_from_viewers": false
    },
    "pycharm": {
     "name": "#%%\n"
    }
   }
  },
  {
   "cell_type": "code",
   "source": [
    "fig = plot_best_solutions(\n",
    "    first_method_data,\n",
    "    {\n",
    "        N[0]: 1e-10,\n",
    "        N[1]: 1e-10,\n",
    "        N[2]: 1e-10,\n",
    "        N[3]: 1e-9,\n",
    "        N[4]: 1e-9,\n",
    "        N[5]: 1e-9,\n",
    "    },\n",
    "    segment,\n",
    "    error_column='error_true_max',\n",
    ")\n",
    "fig.show()\n",
    "fig.write_image('first_z_2.svg', height=350)"
   ],
   "execution_count": 21,
   "outputs": [
    {
     "name": "stdout",
     "text": [
      "error(500, 1e-10): 0.079513839645598\n",
      "error(1000, 1e-10): 0.0797165303870054\n",
      "error(1500, 1e-10): 0.0797835065645968\n",
      "error(2000, 1e-09): 0.081807290670358\n",
      "error(2500, 1e-09): 0.0818246453241264\n",
      "error(3000, 1e-09): 0.0818367159381487\n"
     ],
     "output_type": "stream"
    },
    {
     "data": {
      "text/plain": [
       "Unsupported"
      ]
     },
     "metadata": {},
     "output_type": "display_data"
    }
   ],
   "metadata": {
    "datalore": {
     "type": "CODE",
     "hide_input_from_viewers": false,
     "hide_output_from_viewers": false
    },
    "pycharm": {
     "name": "#%%\n"
    }
   }
  },
  {
   "cell_type": "markdown",
   "source": [
    "# Метод №2"
   ],
   "attachments": {},
   "metadata": {
    "datalore": {
     "type": "MD",
     "hide_input_from_viewers": false,
     "hide_output_from_viewers": false,
     "sheet_delimiter": true
    },
    "pycharm": {
     "name": "#%% md\n"
    }
   }
  },
  {
   "cell_type": "code",
   "source": [
    "def banchmark_second_method(\n",
    "        kernel: Function2,\n",
    "        u: Function1,\n",
    "        p: Function1,\n",
    "        r: Function1,\n",
    "        z_0: float,\n",
    "        z_n: float,\n",
    "        linspace: Linspace,\n",
    "        alphas: List[float],\n",
    "        true_function: Function1,\n",
    "):\n",
    "    segment, n = linspace\n",
    "    kernel_1 = lambda s, t: quad(lambda x: kernel(x, s) * kernel(x, t), *segment)[0]\n",
    "    f = lambda s: quad(lambda t: kernel(t, s) * u(t), *segment)[0]\n",
    "\n",
    "    points, step = np.linspace(*segment, n, retstep=True)\n",
    "    half_step = step / 2\n",
    "\n",
    "    quadrature_coefficients = get_quadrature_coefficients(linspace, type='trapezoid')\n",
    "\n",
    "    D = []\n",
    "    for i in tqdm(range(1, n - 1), desc='D', leave=False):\n",
    "        a = -1 * p(points[i] - half_step) / step ** 2\n",
    "        b = (p(points[i] - half_step) + p(points[i] + half_step)) / step ** 2 + r(points[i])\n",
    "        c = -1 * p(points[i] + half_step) / step ** 2\n",
    "\n",
    "        if i == 1:\n",
    "            D.append([b, c] + [0] * (n - 4))\n",
    "        elif i == (n - 2):\n",
    "            D.append([0] * (n - 4) + [a, b])\n",
    "        else:\n",
    "            D.append([0] * (i - 2) + [a, b, c] + [0] * (n - i - 3))\n",
    "\n",
    "    L = [\n",
    "        [quadrature_coefficients[j] * kernel_1(points[i], points[j]) for j in range(1, n - 1)]\n",
    "        for i in tqdm(range(1, n - 1), desc='L', leave=False)\n",
    "    ]\n",
    "\n",
    "    F = [\n",
    "        f(points[i])\n",
    "        - quadrature_coefficients[0] * kernel_1(points[i], points[0]) * z_0\n",
    "        - quadrature_coefficients[n - 1] * kernel_1(points[i], points[n - 1]) * z_n\n",
    "        for i in tqdm(range(1, n - 1), desc='F', leave=False)\n",
    "    ]\n",
    "\n",
    "    errors_true_max = []\n",
    "    errors_solve_max = []\n",
    "    solutions = []\n",
    "    for alpha in tqdm(alphas, desc='alphas', leave=False):\n",
    "        F[0] += p(points[1] - half_step) / step ** 2 * z_0 * alpha\n",
    "        F[-1] += p(points[n - 2] + half_step) / step ** 2 * z_n * alpha\n",
    "\n",
    "        matrix = alpha * np.array(D) + np.array(L)\n",
    "        right_side = np.array(F)\n",
    "\n",
    "        solution = linalg.solve(matrix, right_side)\n",
    "\n",
    "        error_solve_max = abs(matrix.dot(solution) - right_side).max()\n",
    "\n",
    "        solution = np.array([z_0] + solution.tolist() + [z_n])\n",
    "        error_true_max = abs(solution - true_function(points)).max()\n",
    "\n",
    "        errors_true_max.append(error_true_max)\n",
    "        errors_solve_max.append(error_solve_max)\n",
    "        solutions.append(solution.tolist())\n",
    "\n",
    "    return pd.Series([alphas, errors_true_max, errors_solve_max, solutions])"
   ],
   "execution_count": 22,
   "outputs": [],
   "metadata": {
    "datalore": {
     "type": "CODE",
     "hide_input_from_viewers": false,
     "hide_output_from_viewers": false
    },
    "pycharm": {
     "name": "#%%\n"
    }
   }
  },
  {
   "cell_type": "code",
   "source": [
    "# second_method_data = pd.DataFrame([100], columns=['n'])\n",
    "\n",
    "# columns_to_add = [\n",
    "#     'alpha',\n",
    "#     'error_true_max',\n",
    "#     'error_solve_max',\n",
    "#     'solution',\n",
    "# ]\n",
    "\n",
    "# second_method_data[columns_to_add] = second_method_data.progress_apply(\n",
    "#     func=lambda row: banchmark_second_method(\n",
    "#         kernel,\n",
    "#         u_1,\n",
    "#         lambda x: 1,\n",
    "#         lambda x: 1,\n",
    "#         1,\n",
    "#         1,\n",
    "#         (segment, int(row.n)),\n",
    "#         [10 ** -i for i in range(2, 13)],\n",
    "#         z_1,\n",
    "#     ),\n",
    "#     axis=1,\n",
    "# )\n",
    "\n",
    "# second_method_data = second_method_data.explode(columns_to_add)\n",
    "# second_method_data.to_csv('./second_z_1.csv', index=False)"
   ],
   "execution_count": 23,
   "outputs": [],
   "metadata": {
    "datalore": {
     "type": "CODE",
     "hide_input_from_viewers": false,
     "hide_output_from_viewers": false
    },
    "pycharm": {
     "name": "#%%\n"
    }
   }
  },
  {
   "cell_type": "markdown",
   "source": [
    "# $$z=s(1-s)$$"
   ],
   "attachments": {},
   "metadata": {
    "datalore": {
     "type": "MD",
     "hide_input_from_viewers": false,
     "hide_output_from_viewers": false
    },
    "pycharm": {
     "name": "#%% md\n"
    }
   }
  },
  {
   "cell_type": "code",
   "source": [
    "second_method_data = pd.read_csv('second_z_2.csv')\n",
    "second_method_data"
   ],
   "execution_count": 24,
   "outputs": [
    {
     "data": {
      "text/html": [
       "<div>\n",
       "<style scoped>\n",
       "    .dataframe tbody tr th:only-of-type {\n",
       "        vertical-align: middle;\n",
       "    }\n",
       "\n",
       "    .dataframe tbody tr th {\n",
       "        vertical-align: top;\n",
       "    }\n",
       "\n",
       "    .dataframe thead th {\n",
       "        text-align: right;\n",
       "    }\n",
       "</style>\n",
       "<table border=\"1\" class=\"dataframe\">\n",
       "  <thead>\n",
       "    <tr style=\"text-align: right;\">\n",
       "      <th></th>\n",
       "      <th>n</th>\n",
       "      <th>alpha</th>\n",
       "      <th>error_true_max</th>\n",
       "      <th>error_solve_max</th>\n",
       "      <th>solution</th>\n",
       "    </tr>\n",
       "  </thead>\n",
       "  <tbody>\n",
       "    <tr>\n",
       "      <th>0</th>\n",
       "      <td>500</td>\n",
       "      <td>1.000000e-02</td>\n",
       "      <td>0.057500</td>\n",
       "      <td>1.433867e-12</td>\n",
       "      <td>[0.0, 0.0017619363895029845, 0.003515327794822...</td>\n",
       "    </tr>\n",
       "    <tr>\n",
       "      <th>1</th>\n",
       "      <td>500</td>\n",
       "      <td>1.000000e-03</td>\n",
       "      <td>0.010779</td>\n",
       "      <td>1.274675e-13</td>\n",
       "      <td>[0.0, 0.0020503087939499572, 0.004091347424412...</td>\n",
       "    </tr>\n",
       "    <tr>\n",
       "      <th>2</th>\n",
       "      <td>500</td>\n",
       "      <td>1.000000e-04</td>\n",
       "      <td>0.001379</td>\n",
       "      <td>2.181588e-14</td>\n",
       "      <td>[0.0, 0.00202815125003691, 0.00404755389055348...</td>\n",
       "    </tr>\n",
       "    <tr>\n",
       "      <th>3</th>\n",
       "      <td>500</td>\n",
       "      <td>1.000000e-05</td>\n",
       "      <td>0.000468</td>\n",
       "      <td>2.414735e-15</td>\n",
       "      <td>[0.0, 0.0020210821726985824, 0.004033525552097...</td>\n",
       "    </tr>\n",
       "    <tr>\n",
       "      <th>4</th>\n",
       "      <td>500</td>\n",
       "      <td>1.000000e-06</td>\n",
       "      <td>0.000323</td>\n",
       "      <td>2.914335e-16</td>\n",
       "      <td>[0.0, 0.0020166850447855787, 0.004024798333663...</td>\n",
       "    </tr>\n",
       "    <tr>\n",
       "      <th>...</th>\n",
       "      <td>...</td>\n",
       "      <td>...</td>\n",
       "      <td>...</td>\n",
       "      <td>...</td>\n",
       "      <td>...</td>\n",
       "    </tr>\n",
       "    <tr>\n",
       "      <th>61</th>\n",
       "      <td>3000</td>\n",
       "      <td>1.000000e-08</td>\n",
       "      <td>0.000258</td>\n",
       "      <td>1.137979e-15</td>\n",
       "      <td>[0.0, 0.0003357353342096189, 0.000671234250443...</td>\n",
       "    </tr>\n",
       "    <tr>\n",
       "      <th>62</th>\n",
       "      <td>3000</td>\n",
       "      <td>1.000000e-09</td>\n",
       "      <td>0.000210</td>\n",
       "      <td>2.914335e-16</td>\n",
       "      <td>[0.0, 0.00033544538246363647, 0.00067065530826...</td>\n",
       "    </tr>\n",
       "    <tr>\n",
       "      <th>63</th>\n",
       "      <td>3000</td>\n",
       "      <td>1.000000e-10</td>\n",
       "      <td>0.000143</td>\n",
       "      <td>2.775558e-16</td>\n",
       "      <td>[0.0, 0.00033496699884583473, 0.00066970013255...</td>\n",
       "    </tr>\n",
       "    <tr>\n",
       "      <th>64</th>\n",
       "      <td>3000</td>\n",
       "      <td>1.000000e-11</td>\n",
       "      <td>0.000127</td>\n",
       "      <td>1.110223e-16</td>\n",
       "      <td>[0.0, 0.00033482986382072245, 0.00066942632019...</td>\n",
       "    </tr>\n",
       "    <tr>\n",
       "      <th>65</th>\n",
       "      <td>3000</td>\n",
       "      <td>1.000000e-12</td>\n",
       "      <td>0.000124</td>\n",
       "      <td>1.249001e-16</td>\n",
       "      <td>[0.0, 0.0003347986209106671, 0.000669363950421...</td>\n",
       "    </tr>\n",
       "  </tbody>\n",
       "</table>\n",
       "<p>66 rows × 5 columns</p>\n",
       "</div>"
      ]
     },
     "metadata": {},
     "output_type": "display_data"
    }
   ],
   "metadata": {
    "datalore": {
     "type": "CODE",
     "hide_input_from_viewers": false,
     "hide_output_from_viewers": false
    },
    "pycharm": {
     "name": "#%%\n"
    }
   }
  },
  {
   "cell_type": "code",
   "source": [
    "for fig in plot_solutions_by_alpha(second_method_data, segment):\n",
    "    fig.show()"
   ],
   "execution_count": 25,
   "outputs": [
    {
     "data": {
      "text/plain": [
       "Unsupported"
      ]
     },
     "metadata": {},
     "output_type": "display_data"
    }
   ],
   "metadata": {
    "datalore": {
     "type": "CODE",
     "hide_input_from_viewers": false,
     "hide_output_from_viewers": false
    },
    "pycharm": {
     "name": "#%%\n"
    }
   }
  },
  {
   "cell_type": "code",
   "source": [
    "get_best_error_by_n(second_method_data, N[0], [], error_column='error_true_max')"
   ],
   "execution_count": 26,
   "outputs": [
    {
     "data": {
      "text/html": [
       "<div>\n",
       "<style scoped>\n",
       "    .dataframe tbody tr th:only-of-type {\n",
       "        vertical-align: middle;\n",
       "    }\n",
       "\n",
       "    .dataframe tbody tr th {\n",
       "        vertical-align: top;\n",
       "    }\n",
       "\n",
       "    .dataframe thead th {\n",
       "        text-align: right;\n",
       "    }\n",
       "</style>\n",
       "<table border=\"1\" class=\"dataframe\">\n",
       "  <thead>\n",
       "    <tr style=\"text-align: right;\">\n",
       "      <th></th>\n",
       "      <th>n</th>\n",
       "      <th>alpha</th>\n",
       "      <th>error_true_max</th>\n",
       "      <th>error_solve_max</th>\n",
       "    </tr>\n",
       "  </thead>\n",
       "  <tbody>\n",
       "    <tr>\n",
       "      <th>10</th>\n",
       "      <td>500</td>\n",
       "      <td>1.000000e-12</td>\n",
       "      <td>0.000122</td>\n",
       "      <td>6.938894e-17</td>\n",
       "    </tr>\n",
       "    <tr>\n",
       "      <th>9</th>\n",
       "      <td>500</td>\n",
       "      <td>1.000000e-11</td>\n",
       "      <td>0.000125</td>\n",
       "      <td>8.326673e-17</td>\n",
       "    </tr>\n",
       "    <tr>\n",
       "      <th>8</th>\n",
       "      <td>500</td>\n",
       "      <td>1.000000e-10</td>\n",
       "      <td>0.000143</td>\n",
       "      <td>5.551115e-17</td>\n",
       "    </tr>\n",
       "    <tr>\n",
       "      <th>7</th>\n",
       "      <td>500</td>\n",
       "      <td>1.000000e-09</td>\n",
       "      <td>0.000211</td>\n",
       "      <td>5.551115e-17</td>\n",
       "    </tr>\n",
       "    <tr>\n",
       "      <th>6</th>\n",
       "      <td>500</td>\n",
       "      <td>1.000000e-08</td>\n",
       "      <td>0.000258</td>\n",
       "      <td>6.938894e-17</td>\n",
       "    </tr>\n",
       "    <tr>\n",
       "      <th>5</th>\n",
       "      <td>500</td>\n",
       "      <td>1.000000e-07</td>\n",
       "      <td>0.000270</td>\n",
       "      <td>6.938894e-17</td>\n",
       "    </tr>\n",
       "    <tr>\n",
       "      <th>4</th>\n",
       "      <td>500</td>\n",
       "      <td>1.000000e-06</td>\n",
       "      <td>0.000323</td>\n",
       "      <td>2.914335e-16</td>\n",
       "    </tr>\n",
       "    <tr>\n",
       "      <th>3</th>\n",
       "      <td>500</td>\n",
       "      <td>1.000000e-05</td>\n",
       "      <td>0.000468</td>\n",
       "      <td>2.414735e-15</td>\n",
       "    </tr>\n",
       "    <tr>\n",
       "      <th>2</th>\n",
       "      <td>500</td>\n",
       "      <td>1.000000e-04</td>\n",
       "      <td>0.001379</td>\n",
       "      <td>2.181588e-14</td>\n",
       "    </tr>\n",
       "    <tr>\n",
       "      <th>1</th>\n",
       "      <td>500</td>\n",
       "      <td>1.000000e-03</td>\n",
       "      <td>0.010779</td>\n",
       "      <td>1.274675e-13</td>\n",
       "    </tr>\n",
       "    <tr>\n",
       "      <th>0</th>\n",
       "      <td>500</td>\n",
       "      <td>1.000000e-02</td>\n",
       "      <td>0.057500</td>\n",
       "      <td>1.433867e-12</td>\n",
       "    </tr>\n",
       "  </tbody>\n",
       "</table>\n",
       "</div>"
      ]
     },
     "metadata": {},
     "output_type": "display_data"
    }
   ],
   "metadata": {
    "datalore": {
     "type": "CODE",
     "hide_input_from_viewers": false,
     "hide_output_from_viewers": false
    },
    "pycharm": {
     "name": "#%%\n"
    }
   }
  },
  {
   "cell_type": "code",
   "source": [
    "fig = plot_best_solutions(\n",
    "    second_method_data,\n",
    "    {\n",
    "        N[0]: 1e-12,\n",
    "        N[1]: 1e-12,\n",
    "        N[2]: 1e-12,\n",
    "        N[3]: 1e-12,\n",
    "        N[4]: 1e-12,\n",
    "        N[5]: 1e-12,\n",
    "    },\n",
    "    segment,\n",
    "    error_column='error_true_max',\n",
    ")\n",
    "fig.show()\n",
    "fig.write_image('second_z_2.svg', height=350)"
   ],
   "execution_count": 27,
   "outputs": [
    {
     "name": "stdout",
     "text": [
      "error(500, 1e-12): 0.0001217534058415\n",
      "error(1000, 1e-12): 0.0001234925931501\n",
      "error(1500, 1e-12): 0.0001238082145091\n",
      "error(2000, 1e-12): 0.000123923901114\n",
      "error(2500, 1e-12): 0.000123974635152\n",
      "error(3000, 1e-12): 0.0001240023491469\n"
     ],
     "output_type": "stream"
    },
    {
     "data": {
      "text/plain": [
       "Unsupported"
      ]
     },
     "metadata": {},
     "output_type": "display_data"
    }
   ],
   "metadata": {
    "datalore": {
     "type": "CODE",
     "hide_input_from_viewers": false,
     "hide_output_from_viewers": false
    },
    "pycharm": {
     "name": "#%%\n"
    }
   }
  },
  {
   "cell_type": "code",
   "source": [
    "# second_method_improved_data = pd.DataFrame(product([0, 1, 10, 100], [0, 1, 10, 100]), columns=['p', 'r'])\n",
    "\n",
    "# columns_to_add = [\n",
    "#     'alpha',\n",
    "#     'error_true_max',\n",
    "#     'error_solve_max',\n",
    "#     'solution',\n",
    "# ]\n",
    "\n",
    "# second_method_improved_data[columns_to_add] = second_method_improved_data.progress_apply(\n",
    "#     func=lambda row: banchmark_second_method(\n",
    "#         kernel,\n",
    "#         u_2,\n",
    "#         lambda x: row.p,\n",
    "#         lambda x: row.r,\n",
    "#         0,\n",
    "#         0,\n",
    "#         (segment, 500),\n",
    "#         [10 ** -12],\n",
    "#         z_2,\n",
    "#     ),\n",
    "#     axis=1,\n",
    "# )\n",
    "\n",
    "# second_method_improved_data = second_method_improved_data.explode(columns_to_add)\n",
    "# second_method_improved_data.to_csv('./second_z_2_improved.csv', index=False)"
   ],
   "execution_count": 28,
   "outputs": [],
   "metadata": {
    "datalore": {
     "type": "CODE",
     "hide_input_from_viewers": false,
     "hide_output_from_viewers": false
    },
    "pycharm": {
     "name": "#%%\n"
    }
   }
  },
  {
   "cell_type": "code",
   "source": [
    "second_method_improved_data = pd.read_csv('second_z_2_improved.csv')\n",
    "second_method_improved_data"
   ],
   "execution_count": 29,
   "outputs": [
    {
     "data": {
      "text/html": [
       "<div>\n",
       "<style scoped>\n",
       "    .dataframe tbody tr th:only-of-type {\n",
       "        vertical-align: middle;\n",
       "    }\n",
       "\n",
       "    .dataframe tbody tr th {\n",
       "        vertical-align: top;\n",
       "    }\n",
       "\n",
       "    .dataframe thead th {\n",
       "        text-align: right;\n",
       "    }\n",
       "</style>\n",
       "<table border=\"1\" class=\"dataframe\">\n",
       "  <thead>\n",
       "    <tr style=\"text-align: right;\">\n",
       "      <th></th>\n",
       "      <th>p</th>\n",
       "      <th>r</th>\n",
       "      <th>alpha</th>\n",
       "      <th>error_true_max</th>\n",
       "      <th>error_solve_max</th>\n",
       "      <th>solution</th>\n",
       "    </tr>\n",
       "  </thead>\n",
       "  <tbody>\n",
       "    <tr>\n",
       "      <th>0</th>\n",
       "      <td>0</td>\n",
       "      <td>0</td>\n",
       "      <td>1.000000e-12</td>\n",
       "      <td>138.342190</td>\n",
       "      <td>9.575674e-16</td>\n",
       "      <td>[0.0, -80.03525608551277, -74.21323928250922, ...</td>\n",
       "    </tr>\n",
       "    <tr>\n",
       "      <th>1</th>\n",
       "      <td>0</td>\n",
       "      <td>1</td>\n",
       "      <td>1.000000e-12</td>\n",
       "      <td>0.065016</td>\n",
       "      <td>4.163336e-17</td>\n",
       "      <td>[0.0, 0.06701568561175777, 0.0670594509007286,...</td>\n",
       "    </tr>\n",
       "    <tr>\n",
       "      <th>2</th>\n",
       "      <td>0</td>\n",
       "      <td>10</td>\n",
       "      <td>1.000000e-12</td>\n",
       "      <td>0.070741</td>\n",
       "      <td>6.938894e-17</td>\n",
       "      <td>[0.0, 0.0727411755655125, 0.07276464434895409,...</td>\n",
       "    </tr>\n",
       "    <tr>\n",
       "      <th>3</th>\n",
       "      <td>0</td>\n",
       "      <td>100</td>\n",
       "      <td>1.000000e-12</td>\n",
       "      <td>0.078293</td>\n",
       "      <td>1.387779e-16</td>\n",
       "      <td>[0.0, 0.08029310973608902, 0.08031128734148761...</td>\n",
       "    </tr>\n",
       "    <tr>\n",
       "      <th>4</th>\n",
       "      <td>1</td>\n",
       "      <td>0</td>\n",
       "      <td>1.000000e-12</td>\n",
       "      <td>0.000005</td>\n",
       "      <td>6.938894e-17</td>\n",
       "      <td>[0.0, 0.001999969005832517, 0.0039919067484825...</td>\n",
       "    </tr>\n",
       "    <tr>\n",
       "      <th>5</th>\n",
       "      <td>1</td>\n",
       "      <td>1</td>\n",
       "      <td>1.000000e-12</td>\n",
       "      <td>0.000122</td>\n",
       "      <td>6.938894e-17</td>\n",
       "      <td>[0.0, 0.0020086139642137685, 0.004008808854254...</td>\n",
       "    </tr>\n",
       "    <tr>\n",
       "      <th>6</th>\n",
       "      <td>1</td>\n",
       "      <td>10</td>\n",
       "      <td>1.000000e-12</td>\n",
       "      <td>0.001185</td>\n",
       "      <td>8.326673e-17</td>\n",
       "      <td>[0.0, 0.0020845968399092244, 0.004157299862984...</td>\n",
       "    </tr>\n",
       "    <tr>\n",
       "      <th>7</th>\n",
       "      <td>1</td>\n",
       "      <td>100</td>\n",
       "      <td>1.000000e-12</td>\n",
       "      <td>0.008934</td>\n",
       "      <td>4.163336e-17</td>\n",
       "      <td>[0.0, 0.002714862366541397, 0.0053842346310515...</td>\n",
       "    </tr>\n",
       "    <tr>\n",
       "      <th>8</th>\n",
       "      <td>10</td>\n",
       "      <td>0</td>\n",
       "      <td>1.000000e-12</td>\n",
       "      <td>0.000005</td>\n",
       "      <td>1.110223e-16</td>\n",
       "      <td>[0.0, 0.0019999659030612562, 0.003991900638662...</td>\n",
       "    </tr>\n",
       "    <tr>\n",
       "      <th>9</th>\n",
       "      <td>10</td>\n",
       "      <td>1</td>\n",
       "      <td>1.000000e-12</td>\n",
       "      <td>0.000012</td>\n",
       "      <td>6.938894e-17</td>\n",
       "      <td>[0.0, 0.0020008506949526716, 0.003993631009890...</td>\n",
       "    </tr>\n",
       "    <tr>\n",
       "      <th>10</th>\n",
       "      <td>10</td>\n",
       "      <td>10</td>\n",
       "      <td>1.000000e-12</td>\n",
       "      <td>0.000125</td>\n",
       "      <td>1.526557e-16</td>\n",
       "      <td>[0.0, 0.0020087941902504334, 0.004009165252579...</td>\n",
       "    </tr>\n",
       "    <tr>\n",
       "      <th>11</th>\n",
       "      <td>10</td>\n",
       "      <td>100</td>\n",
       "      <td>1.000000e-12</td>\n",
       "      <td>0.001217</td>\n",
       "      <td>5.551115e-17</td>\n",
       "      <td>[0.0, 0.0020863702206341877, 0.004160805343059...</td>\n",
       "    </tr>\n",
       "    <tr>\n",
       "      <th>12</th>\n",
       "      <td>100</td>\n",
       "      <td>0</td>\n",
       "      <td>1.000000e-12</td>\n",
       "      <td>0.000004</td>\n",
       "      <td>5.551115e-17</td>\n",
       "      <td>[0.0, 0.0020000033099408254, 0.003991974703261...</td>\n",
       "    </tr>\n",
       "    <tr>\n",
       "      <th>13</th>\n",
       "      <td>100</td>\n",
       "      <td>1</td>\n",
       "      <td>1.000000e-12</td>\n",
       "      <td>0.000004</td>\n",
       "      <td>5.551115e-17</td>\n",
       "      <td>[0.0, 0.002000099743958217, 0.0039921634900905...</td>\n",
       "    </tr>\n",
       "    <tr>\n",
       "      <th>14</th>\n",
       "      <td>100</td>\n",
       "      <td>10</td>\n",
       "      <td>1.000000e-12</td>\n",
       "      <td>0.000015</td>\n",
       "      <td>5.551115e-17</td>\n",
       "      <td>[0.0, 0.0020009674364450153, 0.003993862145919...</td>\n",
       "    </tr>\n",
       "    <tr>\n",
       "      <th>15</th>\n",
       "      <td>100</td>\n",
       "      <td>100</td>\n",
       "      <td>1.000000e-12</td>\n",
       "      <td>0.000143</td>\n",
       "      <td>8.326673e-17</td>\n",
       "      <td>[0.0, 0.0020096245432778695, 0.004010809173780...</td>\n",
       "    </tr>\n",
       "  </tbody>\n",
       "</table>\n",
       "</div>"
      ]
     },
     "metadata": {},
     "output_type": "display_data"
    }
   ],
   "metadata": {
    "datalore": {
     "type": "CODE",
     "hide_input_from_viewers": false,
     "hide_output_from_viewers": false
    },
    "pycharm": {
     "name": "#%%\n"
    }
   }
  }
 ],
 "metadata": {
  "datalore": {
   "version": 1,
   "computation_mode": "JUPYTER",
   "package_manager": "pip",
   "base_environment": "default",
   "packages": [
    {
     "name": "kaleido",
     "version": "0.2.1",
     "source": "PIP"
    }
   ]
  }
 },
 "nbformat": 4,
 "nbformat_minor": 4
}
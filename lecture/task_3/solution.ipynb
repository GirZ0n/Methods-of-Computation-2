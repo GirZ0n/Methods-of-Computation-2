{
 "cells": [
  {
   "cell_type": "markdown",
   "source": [
    "# Утилиты"
   ],
   "attachments": {},
   "metadata": {
    "datalore": {
     "type": "MD",
     "hide_input_from_viewers": false,
     "hide_output_from_viewers": false,
     "sheet_delimiter": true
    },
    "pycharm": {
     "name": "#%% md\n"
    }
   }
  },
  {
   "cell_type": "code",
   "source": [
    "from sympy.solvers import solve\n",
    "from sympy import Symbol\n",
    "import numpy as np\n",
    "from typing import Tuple, Callable, List, Dict\n",
    "import plotly.express as px\n",
    "import plotly.graph_objects as go\n",
    "from scipy.special import gamma\n",
    "import pandas as pd\n",
    "from tqdm import tqdm"
   ],
   "execution_count": 61,
   "outputs": [],
   "metadata": {
    "datalore": {
     "type": "CODE",
     "hide_input_from_viewers": false,
     "hide_output_from_viewers": false
    },
    "pycharm": {
     "name": "#%%\n"
    }
   }
  },
  {
   "cell_type": "code",
   "source": [
    "Original = Callable[[int], complex]\n",
    "Image = Callable[[complex], complex]\n",
    "\n",
    "tqdm.pandas()"
   ],
   "execution_count": 62,
   "outputs": [],
   "metadata": {
    "datalore": {
     "type": "CODE",
     "hide_input_from_viewers": false,
     "hide_output_from_viewers": false
    },
    "pycharm": {
     "name": "#%%\n"
    }
   }
  },
  {
   "cell_type": "code",
   "source": [
    "def get_optimal_parameters(n: int, M: float = 2, eps: float = 10 ** -16) -> Tuple[float, int]:\n",
    "    coeff = [1, -1] + [0 for _ in range(n - 1)] + [10 ** -4]\n",
    "    roots = np.roots(coeff)\n",
    "    real_roots = roots[np.isreal(roots)].real\n",
    "    r = real_roots[real_roots >= 0].min()\n",
    "\n",
    "    m = n + 1\n",
    "    error = (M * r ** m) / (1 - r ** m) * 10 ** 12\n",
    "    while error > 1:\n",
    "        m += 1\n",
    "        error = (M * r ** m) / (1 - r ** m) * 10 ** 12\n",
    "\n",
    "    return r, m"
   ],
   "execution_count": 63,
   "outputs": [],
   "metadata": {
    "datalore": {
     "type": "CODE",
     "hide_input_from_viewers": false,
     "hide_output_from_viewers": false
    },
    "pycharm": {
     "name": "#%%\n"
    }
   }
  },
  {
   "cell_type": "code",
   "source": [
    "def get_w(F: Image, n: int, M: float = 2) -> Original:\n",
    "    phi = lambda p: p * F(p)\n",
    "    r, m = get_optimal_parameters(n, M)\n",
    "\n",
    "    e = lambda x: np.exp(1j * 2 * np.pi * x / m)\n",
    "    re = lambda x: r * e(x)\n",
    "\n",
    "    return lambda t: 1 / m * sum([re(j) ** (-n) / (1 - re(j)) * phi(n / t * (1 - re(j))) for j in range(1, m + 1)])"
   ],
   "execution_count": 64,
   "outputs": [],
   "metadata": {
    "datalore": {
     "type": "CODE",
     "hide_input_from_viewers": false,
     "hide_output_from_viewers": false
    },
    "pycharm": {
     "name": "#%%\n"
    }
   }
  },
  {
   "cell_type": "code",
   "source": [
    "def find_coefficients(numbers: List[float]) -> List[float]:\n",
    "    coefficients = []\n",
    "    for number_i in numbers:\n",
    "        coefficient = 1\n",
    "        for number in numbers:\n",
    "            if number == number_i:\n",
    "                continue\n",
    "            coefficient *= number_i / (number_i - number)\n",
    "        coefficients.append(coefficient)\n",
    "    return coefficients\n",
    "\n",
    "\n",
    "# def find_optimal_numbers(k: int, n_1: int, n_k: int) -> List[Tuple[float, int]]:\n",
    "#     roots = [1 / 2 * ((1 / n_1 - 1 / n_k) * np.cos(j * np.pi / (k - 1)) + 1 / n_1 + 1 / n_k) for j in range(k)]\n",
    "#     numbers = [roots[0] / root for root in roots]\n",
    "\n",
    "#     return list(zip(find_coefficients(numbers), [round(1 / root + 1 / 2) for root in roots]))"
   ],
   "execution_count": 65,
   "outputs": [],
   "metadata": {
    "datalore": {
     "type": "CODE",
     "hide_input_from_viewers": false,
     "hide_output_from_viewers": false
    },
    "pycharm": {
     "name": "#%%\n"
    }
   }
  },
  {
   "cell_type": "code",
   "source": [
    "def get_optimized_w_values(w_values: List[np.ndarray], numbers: List[int]) -> np.ndarray:\n",
    "    coefficients = find_coefficients(numbers)\n",
    "    return sum(coefficient * w_value for coefficient, w_value in zip(coefficients, w_values))"
   ],
   "execution_count": 66,
   "outputs": [],
   "metadata": {
    "datalore": {
     "type": "CODE",
     "hide_input_from_viewers": false,
     "hide_output_from_viewers": false
    },
    "pycharm": {
     "name": "#%%\n"
    }
   }
  },
  {
   "cell_type": "code",
   "source": [
    "def banchmark_slow(\n",
    "    n: int,\n",
    "    image: Image,\n",
    "    original_values: List[float],\n",
    "    linspace: np.linspace\n",
    ") -> pd.Series:\n",
    "    w = np.vectorize(get_w(image, n))\n",
    "    \n",
    "    approx_values = w(linspace).real\n",
    "    error = abs(approx_values - original_values).max()\n",
    "\n",
    "    print(f'{n}: {error}')\n",
    "\n",
    "    return pd.Series([error, list(approx_values)])"
   ],
   "execution_count": 67,
   "outputs": [],
   "metadata": {
    "datalore": {
     "type": "CODE",
     "hide_input_from_viewers": false,
     "hide_output_from_viewers": false
    },
    "pycharm": {
     "name": "#%%\n"
    }
   }
  },
  {
   "cell_type": "code",
   "source": [
    "def banchmark_fast(\n",
    "    n: int,\n",
    "    original_values: List[float],\n",
    "    data_slow: pd.DataFrame,\n",
    "    k: int = 5,\n",
    ") -> pd.Series:\n",
    "    last = (n - k if n > k else 0) + 1\n",
    "    numbers = list(range(last, n + 1))\n",
    "\n",
    "    w_values = []\n",
    "    data_slow[data_slow.n.isin(numbers)].apply(lambda row: w_values.append(np.array(eval(str(row.w)))), axis=1)\n",
    "\n",
    "    approx_values = get_optimized_w_values(w_values, numbers)\n",
    "\n",
    "    error = abs(approx_values - original_values).max()\n",
    "    print(f'{n}: {error}')\n",
    "\n",
    "    return pd.Series([error, list(approx_values)])"
   ],
   "execution_count": 68,
   "outputs": [],
   "metadata": {
    "datalore": {
     "type": "CODE",
     "hide_input_from_viewers": false,
     "hide_output_from_viewers": false
    },
    "pycharm": {
     "name": "#%%\n"
    }
   }
  },
  {
   "cell_type": "code",
   "source": [
    "def plot_errors(data: Dict[str, pd.DataFrame], dtick: float = 0.25) -> go.Figure:\n",
    "    fig = go.Figure()\n",
    "\n",
    "    for name, df in data.items():\n",
    "        fig.add_scatter(x=df.n, y=df.error, name=name)\n",
    "\n",
    "    fig.update_layout(title='Зависимость ошибки от n')\n",
    "    fig.update_xaxes(title='n')\n",
    "    fig.update_yaxes(title='Ошибка', tickmode = 'linear', tick0 = 0, dtick = dtick, tickformat='.2f', type='log')\n",
    "\n",
    "    return fig"
   ],
   "execution_count": 84,
   "outputs": [],
   "metadata": {
    "datalore": {
     "type": "CODE",
     "hide_input_from_viewers": false,
     "hide_output_from_viewers": false
    },
    "pycharm": {
     "name": "#%%\n"
    }
   }
  },
  {
   "cell_type": "code",
   "source": [
    "def plot_w(data: pd.DataFrame, original_values: List[float], linspace: np.linspace, k: int = 5) -> go.Figure:\n",
    "    filtered_data = pd.concat([data.head(k), data.tail(k)])\n",
    "\n",
    "    fig = go.Figure()\n",
    "    filtered_data.apply(lambda row: fig.add_scatter(x=linspace, y=eval(str(row.w)), name=f'{row.n}'), axis=1)\n",
    "    fig.add_scatter(x=linspace, y=original_values, name='Оригинал', marker_color='black')\n",
    "\n",
    "    fig.update_layout(title='Полученные приближения для разных n', legend_title='n')\n",
    "    fig.update_xaxes(title='x')\n",
    "    fig.update_yaxes(title='y')\n",
    "\n",
    "    return fig"
   ],
   "execution_count": 70,
   "outputs": [],
   "metadata": {
    "datalore": {
     "type": "CODE",
     "hide_input_from_viewers": false,
     "hide_output_from_viewers": false
    },
    "pycharm": {
     "name": "#%%\n"
    }
   }
  },
  {
   "cell_type": "markdown",
   "source": [
    "# Sheet 2"
   ],
   "attachments": {},
   "metadata": {
    "datalore": {
     "type": "MD",
     "hide_input_from_viewers": false,
     "hide_output_from_viewers": false,
     "sheet_delimiter": true
    },
    "pycharm": {
     "name": "#%% md\n"
    }
   }
  },
  {
   "cell_type": "code",
   "source": [
    "F = lambda p: (np.sqrt(p) + 1) / (p ** 2 + 1)\n",
    "# F = lambda p: 1 / (p + 1)\n",
    "\n",
    "segment = (10 ** -12, 10)\n",
    "N = 10000\n",
    "\n",
    "t = np.linspace(*segment, N)\n",
    "\n",
    "SERIES_LIMIT = 40"
   ],
   "execution_count": 71,
   "outputs": [],
   "metadata": {
    "datalore": {
     "type": "CODE",
     "hide_input_from_viewers": false,
     "hide_output_from_viewers": false
    },
    "pycharm": {
     "name": "#%%\n"
    }
   }
  },
  {
   "cell_type": "code",
   "source": [
    "original = lambda t: sum((-1) ** k / gamma(2 * k + 3 / 2) * t ** (2 * k + 1 / 2) for k in range(SERIES_LIMIT)) + np.sin(t)\n",
    "original = np.vectorize(original)\n",
    "\n",
    "original_values = original(t).real"
   ],
   "execution_count": 72,
   "outputs": [],
   "metadata": {
    "datalore": {
     "type": "CODE",
     "hide_input_from_viewers": false,
     "hide_output_from_viewers": false
    },
    "pycharm": {
     "name": "#%%\n"
    }
   }
  },
  {
   "cell_type": "code",
   "source": [
    "fig = px.line(x=t, y=original_values)\n",
    "\n",
    "fig.update_layout(title=f'Сумма первых {SERIES_LIMIT} членов ряда', template=None, margin={'l': 50, 'r': 50, 't': 50, 'b': 50})\n",
    "\n",
    "fig.show()\n",
    "\n",
    "fig.write_image(\"original.svg\")"
   ],
   "execution_count": 73,
   "outputs": [
    {
     "data": {
      "text/plain": [
       "Unsupported"
      ]
     },
     "metadata": {},
     "output_type": "display_data"
    }
   ],
   "metadata": {
    "datalore": {
     "type": "CODE",
     "hide_input_from_viewers": false,
     "hide_output_from_viewers": false
    },
    "pycharm": {
     "name": "#%%\n"
    }
   }
  },
  {
   "cell_type": "code",
   "source": [
    "for n in [*range(1, 6), *range(46, 51)]:\n",
    "    r, m = get_optimal_parameters(n)\n",
    "    print(f'{n}: r={round(r, 6)}, {m=}')"
   ],
   "execution_count": 74,
   "outputs": [
    {
     "name": "stdout",
     "text": [
      "1: r=0.0001, m=4\n",
      "2: r=0.010051, m=7\n",
      "3: r=0.04717, m=10\n",
      "4: r=0.102748, m=13\n",
      "5: r=0.164281, m=16\n",
      "46: r=0.853441, m=179\n",
      "47: r=0.856739, m=184\n",
      "48: r=0.859903, m=188\n",
      "49: r=0.862942, m=193\n",
      "50: r=0.865863, m=197\n"
     ],
     "output_type": "stream"
    }
   ],
   "metadata": {
    "datalore": {
     "type": "CODE",
     "hide_input_from_viewers": false,
     "hide_output_from_viewers": false
    },
    "pycharm": {
     "name": "#%%\n"
    }
   }
  },
  {
   "cell_type": "code",
   "source": [
    "# data_slow = pd.DataFrame(range(1, 51), columns=['n'])\n",
    "# data_slow[['error', 'w']] = data_slow.progress_apply(lambda row: banchmark_slow(row.n, F, original_values, t), axis=1)\n",
    "# data_slow.to_csv('data_slow.csv', index=False)\n",
    "# data_slow"
   ],
   "execution_count": 75,
   "outputs": [],
   "metadata": {
    "datalore": {
     "type": "CODE",
     "hide_input_from_viewers": false,
     "hide_output_from_viewers": false
    },
    "pycharm": {
     "name": "#%%\n"
    }
   }
  },
  {
   "cell_type": "code",
   "source": [
    "data_slow = pd.read_csv('data_slow.csv')\n",
    "data_slow"
   ],
   "execution_count": 76,
   "outputs": [
    {
     "data": {
      "text/html": [
       "<div>\n",
       "<style scoped>\n",
       "    .dataframe tbody tr th:only-of-type {\n",
       "        vertical-align: middle;\n",
       "    }\n",
       "\n",
       "    .dataframe tbody tr th {\n",
       "        vertical-align: top;\n",
       "    }\n",
       "\n",
       "    .dataframe thead th {\n",
       "        text-align: right;\n",
       "    }\n",
       "</style>\n",
       "<table border=\"1\" class=\"dataframe\">\n",
       "  <thead>\n",
       "    <tr style=\"text-align: right;\">\n",
       "      <th></th>\n",
       "      <th>n</th>\n",
       "      <th>error</th>\n",
       "      <th>w</th>\n",
       "    </tr>\n",
       "  </thead>\n",
       "  <tbody>\n",
       "    <tr>\n",
       "      <th>0</th>\n",
       "      <td>1</td>\n",
       "      <td>1.855477</td>\n",
       "      <td>[1.5000019999997574e-06, 0.04943662212598099, ...</td>\n",
       "    </tr>\n",
       "    <tr>\n",
       "      <th>1</th>\n",
       "      <td>2</td>\n",
       "      <td>1.878187</td>\n",
       "      <td>[1.3258267147257558e-06, 0.04342847580263001, ...</td>\n",
       "    </tr>\n",
       "    <tr>\n",
       "      <th>2</th>\n",
       "      <td>3</td>\n",
       "      <td>1.880964</td>\n",
       "      <td>[1.2629550471857447e-06, 0.041273536871437956,...</td>\n",
       "    </tr>\n",
       "    <tr>\n",
       "      <th>3</th>\n",
       "      <td>4</td>\n",
       "      <td>1.869177</td>\n",
       "      <td>[1.230470000000692e-06, 0.04016288538047355, 0...</td>\n",
       "    </tr>\n",
       "    <tr>\n",
       "      <th>4</th>\n",
       "      <td>5</td>\n",
       "      <td>1.848781</td>\n",
       "      <td>[1.2106223784427521e-06, 0.03948521705086172, ...</td>\n",
       "    </tr>\n",
       "    <tr>\n",
       "      <th>5</th>\n",
       "      <td>6</td>\n",
       "      <td>1.823244</td>\n",
       "      <td>[1.1972371200488098e-06, 0.03902858332487151, ...</td>\n",
       "    </tr>\n",
       "    <tr>\n",
       "      <th>6</th>\n",
       "      <td>7</td>\n",
       "      <td>1.794573</td>\n",
       "      <td>[1.1875994747973037e-06, 0.0386999892441595, 0...</td>\n",
       "    </tr>\n",
       "    <tr>\n",
       "      <th>7</th>\n",
       "      <td>8</td>\n",
       "      <td>1.763970</td>\n",
       "      <td>[1.1803286751697775e-06, 0.03845219752902442, ...</td>\n",
       "    </tr>\n",
       "    <tr>\n",
       "      <th>8</th>\n",
       "      <td>9</td>\n",
       "      <td>1.732193</td>\n",
       "      <td>[1.1746481244589297e-06, 0.0382586646891743, 0...</td>\n",
       "    </tr>\n",
       "    <tr>\n",
       "      <th>9</th>\n",
       "      <td>10</td>\n",
       "      <td>1.699750</td>\n",
       "      <td>[1.1700875028012915e-06, 0.03810332668537127, ...</td>\n",
       "    </tr>\n",
       "    <tr>\n",
       "      <th>10</th>\n",
       "      <td>11</td>\n",
       "      <td>1.667004</td>\n",
       "      <td>[1.1663453208580666e-06, 0.037975891533250976,...</td>\n",
       "    </tr>\n",
       "    <tr>\n",
       "      <th>11</th>\n",
       "      <td>12</td>\n",
       "      <td>1.634225</td>\n",
       "      <td>[1.1632193986745423e-06, 0.037869460368602864,...</td>\n",
       "    </tr>\n",
       "    <tr>\n",
       "      <th>12</th>\n",
       "      <td>13</td>\n",
       "      <td>1.601623</td>\n",
       "      <td>[1.1605690850736226e-06, 0.037779235535546914,...</td>\n",
       "    </tr>\n",
       "    <tr>\n",
       "      <th>13</th>\n",
       "      <td>14</td>\n",
       "      <td>1.569359</td>\n",
       "      <td>[1.1582935057263242e-06, 0.037701777195846255,...</td>\n",
       "    </tr>\n",
       "    <tr>\n",
       "      <th>14</th>\n",
       "      <td>15</td>\n",
       "      <td>1.537563</td>\n",
       "      <td>[1.1563184299510351e-06, 0.03763455469989141, ...</td>\n",
       "    </tr>\n",
       "    <tr>\n",
       "      <th>15</th>\n",
       "      <td>16</td>\n",
       "      <td>1.506331</td>\n",
       "      <td>[1.1545880187549697e-06, 0.03757566481125139, ...</td>\n",
       "    </tr>\n",
       "    <tr>\n",
       "      <th>16</th>\n",
       "      <td>17</td>\n",
       "      <td>1.475739</td>\n",
       "      <td>[1.1530594609753387e-06, 0.037523648611124054,...</td>\n",
       "    </tr>\n",
       "    <tr>\n",
       "      <th>17</th>\n",
       "      <td>18</td>\n",
       "      <td>1.445843</td>\n",
       "      <td>[1.1516993832004685e-06, 0.03747736898639961, ...</td>\n",
       "    </tr>\n",
       "    <tr>\n",
       "      <th>18</th>\n",
       "      <td>19</td>\n",
       "      <td>1.423984</td>\n",
       "      <td>[1.1504813848760545e-06, 0.037435926536145324,...</td>\n",
       "    </tr>\n",
       "    <tr>\n",
       "      <th>19</th>\n",
       "      <td>20</td>\n",
       "      <td>1.406970</td>\n",
       "      <td>[1.1493843076044375e-06, 0.03739860053929545, ...</td>\n",
       "    </tr>\n",
       "    <tr>\n",
       "      <th>20</th>\n",
       "      <td>21</td>\n",
       "      <td>1.389602</td>\n",
       "      <td>[1.148390995535283e-06, 0.037364806681385844, ...</td>\n",
       "    </tr>\n",
       "    <tr>\n",
       "      <th>21</th>\n",
       "      <td>22</td>\n",
       "      <td>1.371978</td>\n",
       "      <td>[1.1474873916492234e-06, 0.037334066241326944,...</td>\n",
       "    </tr>\n",
       "    <tr>\n",
       "      <th>22</th>\n",
       "      <td>23</td>\n",
       "      <td>1.354183</td>\n",
       "      <td>[1.1466618683047842e-06, 0.03730598326933831, ...</td>\n",
       "    </tr>\n",
       "    <tr>\n",
       "      <th>23</th>\n",
       "      <td>24</td>\n",
       "      <td>1.336293</td>\n",
       "      <td>[1.1459047241589346e-06, 0.03728022743909379, ...</td>\n",
       "    </tr>\n",
       "    <tr>\n",
       "      <th>24</th>\n",
       "      <td>25</td>\n",
       "      <td>1.318372</td>\n",
       "      <td>[1.1452078011255924e-06, 0.03725652099318306, ...</td>\n",
       "    </tr>\n",
       "    <tr>\n",
       "      <th>25</th>\n",
       "      <td>26</td>\n",
       "      <td>1.300477</td>\n",
       "      <td>[1.1445641892382653e-06, 0.03723462868565324, ...</td>\n",
       "    </tr>\n",
       "    <tr>\n",
       "      <th>26</th>\n",
       "      <td>27</td>\n",
       "      <td>1.282655</td>\n",
       "      <td>[1.1439679967559885e-06, 0.03721434994872014, ...</td>\n",
       "    </tr>\n",
       "    <tr>\n",
       "      <th>27</th>\n",
       "      <td>28</td>\n",
       "      <td>1.264948</td>\n",
       "      <td>[1.1434141692737778e-06, 0.03719551272984434, ...</td>\n",
       "    </tr>\n",
       "    <tr>\n",
       "      <th>28</th>\n",
       "      <td>29</td>\n",
       "      <td>1.247392</td>\n",
       "      <td>[1.1428983460693754e-06, 0.03717796859791553, ...</td>\n",
       "    </tr>\n",
       "    <tr>\n",
       "      <th>29</th>\n",
       "      <td>30</td>\n",
       "      <td>1.230015</td>\n",
       "      <td>[1.1424167450451442e-06, 0.03716158882393886, ...</td>\n",
       "    </tr>\n",
       "    <tr>\n",
       "      <th>30</th>\n",
       "      <td>31</td>\n",
       "      <td>1.212843</td>\n",
       "      <td>[1.1419660698444307e-06, 0.03714626121726336, ...</td>\n",
       "    </tr>\n",
       "    <tr>\n",
       "      <th>31</th>\n",
       "      <td>32</td>\n",
       "      <td>1.195896</td>\n",
       "      <td>[1.1415434342911945e-06, 0.03713188755212724, ...</td>\n",
       "    </tr>\n",
       "    <tr>\n",
       "      <th>32</th>\n",
       "      <td>33</td>\n",
       "      <td>1.179191</td>\n",
       "      <td>[1.141146300514018e-06, 0.03711838146037822, 0...</td>\n",
       "    </tr>\n",
       "    <tr>\n",
       "      <th>33</th>\n",
       "      <td>34</td>\n",
       "      <td>1.162741</td>\n",
       "      <td>[1.1407724279422708e-06, 0.03710566669458458, ...</td>\n",
       "    </tr>\n",
       "    <tr>\n",
       "      <th>34</th>\n",
       "      <td>35</td>\n",
       "      <td>1.146556</td>\n",
       "      <td>[1.1404198310128429e-06, 0.037093675687857784,...</td>\n",
       "    </tr>\n",
       "    <tr>\n",
       "      <th>35</th>\n",
       "      <td>36</td>\n",
       "      <td>1.130646</td>\n",
       "      <td>[1.140086743890936e-06, 0.037082348352598264, ...</td>\n",
       "    </tr>\n",
       "    <tr>\n",
       "      <th>36</th>\n",
       "      <td>37</td>\n",
       "      <td>1.115015</td>\n",
       "      <td>[1.1397715909007714e-06, 0.03707163107370438, ...</td>\n",
       "    </tr>\n",
       "    <tr>\n",
       "      <th>37</th>\n",
       "      <td>38</td>\n",
       "      <td>1.099669</td>\n",
       "      <td>[1.1394729615896208e-06, 0.037061475859596724,...</td>\n",
       "    </tr>\n",
       "    <tr>\n",
       "      <th>38</th>\n",
       "      <td>39</td>\n",
       "      <td>1.084608</td>\n",
       "      <td>[1.1391895896317537e-06, 0.03705183962399824, ...</td>\n",
       "    </tr>\n",
       "    <tr>\n",
       "      <th>39</th>\n",
       "      <td>40</td>\n",
       "      <td>1.069836</td>\n",
       "      <td>[1.1389203348733385e-06, 0.03704268357469278, ...</td>\n",
       "    </tr>\n",
       "    <tr>\n",
       "      <th>40</th>\n",
       "      <td>41</td>\n",
       "      <td>1.055351</td>\n",
       "      <td>[1.1386641680028685e-06, 0.037033972691667, 0....</td>\n",
       "    </tr>\n",
       "    <tr>\n",
       "      <th>41</th>\n",
       "      <td>42</td>\n",
       "      <td>1.041152</td>\n",
       "      <td>[1.138420157400802e-06, 0.03702567527946537, 0...</td>\n",
       "    </tr>\n",
       "    <tr>\n",
       "      <th>42</th>\n",
       "      <td>43</td>\n",
       "      <td>1.027238</td>\n",
       "      <td>[1.1381874578173346e-06, 0.037017762581795545,...</td>\n",
       "    </tr>\n",
       "    <tr>\n",
       "      <th>43</th>\n",
       "      <td>44</td>\n",
       "      <td>1.013605</td>\n",
       "      <td>[1.1379653005884976e-06, 0.03701020844850939, ...</td>\n",
       "    </tr>\n",
       "    <tr>\n",
       "      <th>44</th>\n",
       "      <td>45</td>\n",
       "      <td>1.000251</td>\n",
       "      <td>[1.1377529851580953e-06, 0.037002989047021026,...</td>\n",
       "    </tr>\n",
       "    <tr>\n",
       "      <th>45</th>\n",
       "      <td>46</td>\n",
       "      <td>0.987172</td>\n",
       "      <td>[1.1375498716954889e-06, 0.036996082611063776,...</td>\n",
       "    </tr>\n",
       "    <tr>\n",
       "      <th>46</th>\n",
       "      <td>47</td>\n",
       "      <td>0.974364</td>\n",
       "      <td>[1.1373553746526122e-06, 0.036989469221403615,...</td>\n",
       "    </tr>\n",
       "    <tr>\n",
       "      <th>47</th>\n",
       "      <td>48</td>\n",
       "      <td>0.961822</td>\n",
       "      <td>[1.1371689571342905e-06, 0.03698313061423073, ...</td>\n",
       "    </tr>\n",
       "    <tr>\n",
       "      <th>48</th>\n",
       "      <td>49</td>\n",
       "      <td>0.949542</td>\n",
       "      <td>[1.1369901259406245e-06, 0.03697705001245465, ...</td>\n",
       "    </tr>\n",
       "    <tr>\n",
       "      <th>49</th>\n",
       "      <td>50</td>\n",
       "      <td>0.937518</td>\n",
       "      <td>[1.1368184272120196e-06, 0.0369712119774919, 0...</td>\n",
       "    </tr>\n",
       "  </tbody>\n",
       "</table>\n",
       "</div>"
      ]
     },
     "metadata": {},
     "output_type": "display_data"
    }
   ],
   "metadata": {
    "datalore": {
     "type": "CODE",
     "hide_input_from_viewers": false,
     "hide_output_from_viewers": false
    },
    "pycharm": {
     "name": "#%%\n"
    }
   }
  },
  {
   "cell_type": "code",
   "source": [
    "fig = plot_errors({'Без ускорения': data_slow}, dtick=0.03)\n",
    "\n",
    "fig.update_layout(template=None, margin={'l': 100, 'r': 50, 't': 50, 'b': 50})\n",
    "fig.write_image('slow_error.svg')\n",
    "\n",
    "fig.show()"
   ],
   "execution_count": 88,
   "outputs": [
    {
     "data": {
      "text/plain": [
       "Unsupported"
      ]
     },
     "metadata": {},
     "output_type": "display_data"
    }
   ],
   "metadata": {
    "datalore": {
     "type": "CODE",
     "hide_input_from_viewers": false,
     "hide_output_from_viewers": false
    },
    "pycharm": {
     "name": "#%%\n"
    }
   }
  },
  {
   "cell_type": "code",
   "source": [
    "fig = plot_w(data_slow, original_values, t)\n",
    "\n",
    "fig.update_layout(template=None, margin={'l': 50, 'r': 50, 't': 50, 'b': 50})\n",
    "fig.write_image('slow_w.svg')\n",
    "\n",
    "fig.show()"
   ],
   "execution_count": 78,
   "outputs": [
    {
     "data": {
      "text/plain": [
       "Unsupported"
      ]
     },
     "metadata": {},
     "output_type": "display_data"
    }
   ],
   "metadata": {
    "datalore": {
     "type": "CODE",
     "hide_input_from_viewers": false,
     "hide_output_from_viewers": false
    },
    "pycharm": {
     "name": "#%%\n"
    }
   }
  },
  {
   "cell_type": "code",
   "source": [
    "data_fast = pd.DataFrame(range(1, 51), columns=['n'])\n",
    "data_fast[['error', 'w']] = data_fast.progress_apply(lambda row: banchmark_fast(row.n, original_values, data_slow, 5), axis=1)\n",
    "data_fast.to_csv('data_fast.csv', index=False)\n",
    "data_fast"
   ],
   "execution_count": 79,
   "outputs": [
    {
     "name": "stdout",
     "text": [
      "1: 1.8554766984602202\n",
      "2: 1.9040010266183094\n",
      "3: 1.8779767149493962\n",
      "4: 1.7488171231399032\n",
      "5: 1.6092892773819474\n",
      "6: 1.5531720521997314\n",
      "7: 1.4555767181327075\n",
      "8: 1.3369041073804757\n",
      "9: 1.2083845676279066\n",
      "10: 1.0763985447643405\n",
      "11: 0.9451794636525191\n",
      "12: 0.8180205726155654\n",
      "13: 0.6976391510263298\n",
      "14: 0.5861790997567695\n",
      "15: 0.48513412070570183\n",
      "16: 0.3966129631331673\n",
      "17: 0.35157038115791617\n",
      "18: 0.31209028866462574\n",
      "19: 0.27747453863464444\n",
      "20: 0.24710358028805984\n",
      "21: 0.22043291288792383\n",
      "22: 0.19698406640122784\n",
      "23: 0.17634199910285941\n",
      "24: 0.1581435269437516\n",
      "25: 0.14207561262084645\n",
      "26: 0.1278657434167093\n",
      "27: 0.1152781572557629\n",
      "28: 0.1041090386269018\n",
      "29: 0.0941818588432849\n",
      "30: 0.08534336152539657\n",
      "31: 0.07745983321915506\n",
      "32: 0.07041761358062193\n",
      "33: 0.06411592768606422\n",
      "34: 0.05846647455809462\n",
      "35: 0.05339494796468158\n",
      "36: 0.04883442198306376\n",
      "37: 0.044724641172336765\n",
      "38: 0.04102099776107393\n",
      "39: 0.03767100526287914\n",
      "40: 0.03464360559651114\n",
      "41: 0.03189667881580438\n",
      "42: 0.029405807843588927\n",
      "43: 0.027143056526603537\n",
      "44: 0.02508350649130775\n",
      "45: 0.023204676054999762\n",
      "46: 0.02149507591375288\n",
      "47: 0.019930071792520376\n",
      "48: 0.018497100244424303\n",
      "49: 0.017190800424799146\n",
      "50: 0.015988490123689747\n"
     ],
     "output_type": "stream"
    },
    {
     "name": "stderr",
     "text": [
      "\r  0%|          | 0/50 [00:00<?, ?it/s]\r  8%|▊         | 4/50 [00:00<00:02, 22.45it/s]\r 14%|█▍        | 7/50 [00:00<00:03, 11.07it/s]\r 18%|█▊        | 9/50 [00:00<00:04,  9.37it/s]\r 22%|██▏       | 11/50 [00:01<00:04,  8.61it/s]\r 24%|██▍       | 12/50 [00:01<00:04,  8.30it/s]\r 26%|██▌       | 13/50 [00:01<00:04,  8.14it/s]\r 28%|██▊       | 14/50 [00:01<00:04,  7.92it/s]\r 30%|███       | 15/50 [00:01<00:04,  7.81it/s]\r 32%|███▏      | 16/50 [00:01<00:04,  7.74it/s]\r 34%|███▍      | 17/50 [00:01<00:04,  7.66it/s]\r 36%|███▌      | 18/50 [00:02<00:04,  7.60it/s]\r 38%|███▊      | 19/50 [00:02<00:04,  7.56it/s]\r 40%|████      | 20/50 [00:02<00:04,  7.47it/s]\r 42%|████▏     | 21/50 [00:02<00:03,  7.44it/s]\r 44%|████▍     | 22/50 [00:02<00:03,  7.40it/s]\r 46%|████▌     | 23/50 [00:02<00:03,  7.41it/s]\r 48%|████▊     | 24/50 [00:02<00:03,  7.45it/s]\r 50%|█████     | 25/50 [00:03<00:03,  7.55it/s]\r 52%|█████▏    | 26/50 [00:03<00:03,  7.63it/s]\r 54%|█████▍    | 27/50 [00:03<00:02,  7.69it/s]\r 56%|█████▌    | 28/50 [00:03<00:02,  7.68it/s]\r 58%|█████▊    | 29/50 [00:03<00:02,  7.69it/s]\r 60%|██████    | 30/50 [00:03<00:02,  7.75it/s]\r 62%|██████▏   | 31/50 [00:03<00:02,  7.73it/s]\r 64%|██████▍   | 32/50 [00:03<00:02,  7.73it/s]\r 66%|██████▌   | 33/50 [00:04<00:02,  7.68it/s]\r 68%|██████▊   | 34/50 [00:04<00:02,  7.64it/s]\r 70%|███████   | 35/50 [00:04<00:01,  7.72it/s]\r 72%|███████▏  | 36/50 [00:04<00:01,  7.74it/s]\r 74%|███████▍  | 37/50 [00:04<00:01,  7.75it/s]\r 76%|███████▌  | 38/50 [00:04<00:01,  7.81it/s]\r 78%|███████▊  | 39/50 [00:04<00:01,  7.81it/s]\r 80%|████████  | 40/50 [00:04<00:01,  7.83it/s]\r 82%|████████▏ | 41/50 [00:05<00:01,  7.79it/s]\r 84%|████████▍ | 42/50 [00:05<00:01,  7.78it/s]\r 86%|████████▌ | 43/50 [00:05<00:00,  7.78it/s]\r 88%|████████▊ | 44/50 [00:05<00:00,  7.74it/s]\r 90%|█████████ | 45/50 [00:05<00:00,  7.69it/s]\r 92%|█████████▏| 46/50 [00:05<00:00,  7.73it/s]\r 94%|█████████▍| 47/50 [00:05<00:00,  7.73it/s]\r 96%|█████████▌| 48/50 [00:05<00:00,  7.75it/s]\r 98%|█████████▊| 49/50 [00:06<00:00,  7.80it/s]\r100%|██████████| 50/50 [00:06<00:00,  7.82it/s]\r100%|██████████| 50/50 [00:06<00:00,  7.86it/s]\n"
     ],
     "output_type": "stream"
    },
    {
     "data": {
      "text/html": [
       "<div>\n",
       "<style scoped>\n",
       "    .dataframe tbody tr th:only-of-type {\n",
       "        vertical-align: middle;\n",
       "    }\n",
       "\n",
       "    .dataframe tbody tr th {\n",
       "        vertical-align: top;\n",
       "    }\n",
       "\n",
       "    .dataframe thead th {\n",
       "        text-align: right;\n",
       "    }\n",
       "</style>\n",
       "<table border=\"1\" class=\"dataframe\">\n",
       "  <thead>\n",
       "    <tr style=\"text-align: right;\">\n",
       "      <th></th>\n",
       "      <th>n</th>\n",
       "      <th>error</th>\n",
       "      <th>w</th>\n",
       "    </tr>\n",
       "  </thead>\n",
       "  <tbody>\n",
       "    <tr>\n",
       "      <th>0</th>\n",
       "      <td>1</td>\n",
       "      <td>1.855477</td>\n",
       "      <td>[1.5000019999997574e-06, 0.04943662212598099, ...</td>\n",
       "    </tr>\n",
       "    <tr>\n",
       "      <th>1</th>\n",
       "      <td>2</td>\n",
       "      <td>1.904001</td>\n",
       "      <td>[1.1516514294517542e-06, 0.037420329479279035,...</td>\n",
       "    </tr>\n",
       "    <tr>\n",
       "      <th>2</th>\n",
       "      <td>3</td>\n",
       "      <td>1.877977</td>\n",
       "      <td>[1.1299918534327061e-06, 0.03673532377394126, ...</td>\n",
       "    </tr>\n",
       "    <tr>\n",
       "      <th>3</th>\n",
       "      <td>4</td>\n",
       "      <td>1.748817</td>\n",
       "      <td>[1.1284267219028913e-06, 0.036685829150162, 0....</td>\n",
       "    </tr>\n",
       "    <tr>\n",
       "      <th>4</th>\n",
       "      <td>5</td>\n",
       "      <td>1.609289</td>\n",
       "      <td>[1.128372988159791e-06, 0.03668412989417391, 0...</td>\n",
       "    </tr>\n",
       "    <tr>\n",
       "      <th>5</th>\n",
       "      <td>6</td>\n",
       "      <td>1.553172</td>\n",
       "      <td>[1.1283780677029376e-06, 0.036684290532612795,...</td>\n",
       "    </tr>\n",
       "    <tr>\n",
       "      <th>6</th>\n",
       "      <td>7</td>\n",
       "      <td>1.455577</td>\n",
       "      <td>[1.128379443206422e-06, 0.03668433403358495, 0...</td>\n",
       "    </tr>\n",
       "    <tr>\n",
       "      <th>7</th>\n",
       "      <td>8</td>\n",
       "      <td>1.336904</td>\n",
       "      <td>[1.1283798722893116e-06, 0.03668434760099615, ...</td>\n",
       "    </tr>\n",
       "    <tr>\n",
       "      <th>8</th>\n",
       "      <td>9</td>\n",
       "      <td>1.208385</td>\n",
       "      <td>[1.1283800298771758e-06, 0.036684352589707814,...</td>\n",
       "    </tr>\n",
       "    <tr>\n",
       "      <th>9</th>\n",
       "      <td>10</td>\n",
       "      <td>1.076399</td>\n",
       "      <td>[1.128380096465458e-06, 0.03668435468551223, 0...</td>\n",
       "    </tr>\n",
       "    <tr>\n",
       "      <th>10</th>\n",
       "      <td>11</td>\n",
       "      <td>0.945179</td>\n",
       "      <td>[1.128380128675153e-06, 0.03668435571679041, 0...</td>\n",
       "    </tr>\n",
       "    <tr>\n",
       "      <th>11</th>\n",
       "      <td>12</td>\n",
       "      <td>0.818021</td>\n",
       "      <td>[1.1283801440104338e-06, 0.03668435618786958, ...</td>\n",
       "    </tr>\n",
       "    <tr>\n",
       "      <th>12</th>\n",
       "      <td>13</td>\n",
       "      <td>0.697639</td>\n",
       "      <td>[1.1283801561489445e-06, 0.03668435658943281, ...</td>\n",
       "    </tr>\n",
       "    <tr>\n",
       "      <th>13</th>\n",
       "      <td>14</td>\n",
       "      <td>0.586179</td>\n",
       "      <td>[1.1283801501884346e-06, 0.03668435637941059, ...</td>\n",
       "    </tr>\n",
       "    <tr>\n",
       "      <th>14</th>\n",
       "      <td>15</td>\n",
       "      <td>0.485134</td>\n",
       "      <td>[1.1283801703903737e-06, 0.03668435703947637, ...</td>\n",
       "    </tr>\n",
       "    <tr>\n",
       "      <th>15</th>\n",
       "      <td>16</td>\n",
       "      <td>0.396613</td>\n",
       "      <td>[1.1283801541793828e-06, 0.036684356511131, 0....</td>\n",
       "    </tr>\n",
       "    <tr>\n",
       "      <th>16</th>\n",
       "      <td>17</td>\n",
       "      <td>0.351570</td>\n",
       "      <td>[1.1283801709706387e-06, 0.03668435705250772, ...</td>\n",
       "    </tr>\n",
       "    <tr>\n",
       "      <th>17</th>\n",
       "      <td>18</td>\n",
       "      <td>0.312090</td>\n",
       "      <td>[1.1283801674725688e-06, 0.036684356923387895,...</td>\n",
       "    </tr>\n",
       "    <tr>\n",
       "      <th>18</th>\n",
       "      <td>19</td>\n",
       "      <td>0.277475</td>\n",
       "      <td>[1.1283801466133864e-06, 0.03668435630518729, ...</td>\n",
       "    </tr>\n",
       "    <tr>\n",
       "      <th>19</th>\n",
       "      <td>20</td>\n",
       "      <td>0.247104</td>\n",
       "      <td>[1.128380197325425e-06, 0.03668435785044721, 0...</td>\n",
       "    </tr>\n",
       "    <tr>\n",
       "      <th>20</th>\n",
       "      <td>21</td>\n",
       "      <td>0.220433</td>\n",
       "      <td>[1.128380131779766e-06, 0.03668435583438168, 0...</td>\n",
       "    </tr>\n",
       "    <tr>\n",
       "      <th>21</th>\n",
       "      <td>22</td>\n",
       "      <td>0.196984</td>\n",
       "      <td>[1.1283801989274422e-06, 0.03668435790956437, ...</td>\n",
       "    </tr>\n",
       "    <tr>\n",
       "      <th>22</th>\n",
       "      <td>23</td>\n",
       "      <td>0.176342</td>\n",
       "      <td>[1.1283801389112141e-06, 0.036684356053001466,...</td>\n",
       "    </tr>\n",
       "    <tr>\n",
       "      <th>23</th>\n",
       "      <td>24</td>\n",
       "      <td>0.158144</td>\n",
       "      <td>[1.1283801850565933e-06, 0.03668435748943466, ...</td>\n",
       "    </tr>\n",
       "    <tr>\n",
       "      <th>24</th>\n",
       "      <td>25</td>\n",
       "      <td>0.142076</td>\n",
       "      <td>[1.128380171501464e-06, 0.0366843570787978, 0....</td>\n",
       "    </tr>\n",
       "    <tr>\n",
       "      <th>25</th>\n",
       "      <td>26</td>\n",
       "      <td>0.127866</td>\n",
       "      <td>[1.1283801249623027e-06, 0.036684355495822274,...</td>\n",
       "    </tr>\n",
       "    <tr>\n",
       "      <th>26</th>\n",
       "      <td>27</td>\n",
       "      <td>0.115278</td>\n",
       "      <td>[1.1283801993645926e-06, 0.036684358086063185,...</td>\n",
       "    </tr>\n",
       "    <tr>\n",
       "      <th>27</th>\n",
       "      <td>28</td>\n",
       "      <td>0.104109</td>\n",
       "      <td>[1.1283802098110973e-06, 0.0366843582828551, 0...</td>\n",
       "    </tr>\n",
       "    <tr>\n",
       "      <th>28</th>\n",
       "      <td>29</td>\n",
       "      <td>0.094182</td>\n",
       "      <td>[1.1283801258088477e-06, 0.03668435541658255, ...</td>\n",
       "    </tr>\n",
       "    <tr>\n",
       "      <th>29</th>\n",
       "      <td>30</td>\n",
       "      <td>0.085343</td>\n",
       "      <td>[1.1283800666270216e-06, 0.03668435402050818, ...</td>\n",
       "    </tr>\n",
       "    <tr>\n",
       "      <th>30</th>\n",
       "      <td>31</td>\n",
       "      <td>0.077460</td>\n",
       "      <td>[1.1283803217215782e-06, 0.03668436154589472, ...</td>\n",
       "    </tr>\n",
       "    <tr>\n",
       "      <th>31</th>\n",
       "      <td>32</td>\n",
       "      <td>0.070418</td>\n",
       "      <td>[1.1283801457234732e-06, 0.03668435646477519, ...</td>\n",
       "    </tr>\n",
       "    <tr>\n",
       "      <th>32</th>\n",
       "      <td>33</td>\n",
       "      <td>0.064116</td>\n",
       "      <td>[1.1283801420250428e-06, 0.036684356072782975,...</td>\n",
       "    </tr>\n",
       "    <tr>\n",
       "      <th>33</th>\n",
       "      <td>34</td>\n",
       "      <td>0.058466</td>\n",
       "      <td>[1.1283801015365968e-06, 0.036684354800854635,...</td>\n",
       "    </tr>\n",
       "    <tr>\n",
       "      <th>34</th>\n",
       "      <td>35</td>\n",
       "      <td>0.053395</td>\n",
       "      <td>[1.1283802420491984e-06, 0.03668435933468572, ...</td>\n",
       "    </tr>\n",
       "    <tr>\n",
       "      <th>35</th>\n",
       "      <td>36</td>\n",
       "      <td>0.048834</td>\n",
       "      <td>[1.1283800120248655e-06, 0.03668435184272312, ...</td>\n",
       "    </tr>\n",
       "    <tr>\n",
       "      <th>36</th>\n",
       "      <td>37</td>\n",
       "      <td>0.044725</td>\n",
       "      <td>[1.1283805344680653e-06, 0.03668436913858386, ...</td>\n",
       "    </tr>\n",
       "    <tr>\n",
       "      <th>37</th>\n",
       "      <td>38</td>\n",
       "      <td>0.041021</td>\n",
       "      <td>[1.1283797998196121e-06, 0.03668434461587822, ...</td>\n",
       "    </tr>\n",
       "    <tr>\n",
       "      <th>38</th>\n",
       "      <td>39</td>\n",
       "      <td>0.037671</td>\n",
       "      <td>[1.1283803746653387e-06, 0.036684363663425756,...</td>\n",
       "    </tr>\n",
       "    <tr>\n",
       "      <th>39</th>\n",
       "      <td>40</td>\n",
       "      <td>0.034644</td>\n",
       "      <td>[1.1283799942474193e-06, 0.03668435165309347, ...</td>\n",
       "    </tr>\n",
       "    <tr>\n",
       "      <th>40</th>\n",
       "      <td>41</td>\n",
       "      <td>0.031897</td>\n",
       "      <td>[1.1283802603678783e-06, 0.03668435986583063, ...</td>\n",
       "    </tr>\n",
       "    <tr>\n",
       "      <th>41</th>\n",
       "      <td>42</td>\n",
       "      <td>0.029406</td>\n",
       "      <td>[1.1283802562600531e-06, 0.03668435956024041, ...</td>\n",
       "    </tr>\n",
       "    <tr>\n",
       "      <th>42</th>\n",
       "      <td>43</td>\n",
       "      <td>0.027143</td>\n",
       "      <td>[1.1283801495121093e-06, 0.036684356414298236,...</td>\n",
       "    </tr>\n",
       "    <tr>\n",
       "      <th>43</th>\n",
       "      <td>44</td>\n",
       "      <td>0.025084</td>\n",
       "      <td>[1.128379904402621e-06, 0.03668434891733341, 0...</td>\n",
       "    </tr>\n",
       "    <tr>\n",
       "      <th>44</th>\n",
       "      <td>45</td>\n",
       "      <td>0.023205</td>\n",
       "      <td>[1.128380503034876e-06, 0.03668436697080324, 0...</td>\n",
       "    </tr>\n",
       "    <tr>\n",
       "      <th>45</th>\n",
       "      <td>46</td>\n",
       "      <td>0.021495</td>\n",
       "      <td>[1.1283801586436937e-06, 0.03668435736835818, ...</td>\n",
       "    </tr>\n",
       "    <tr>\n",
       "      <th>46</th>\n",
       "      <td>47</td>\n",
       "      <td>0.019930</td>\n",
       "      <td>[1.1283795880723257e-06, 0.03668433779330371, ...</td>\n",
       "    </tr>\n",
       "    <tr>\n",
       "      <th>47</th>\n",
       "      <td>48</td>\n",
       "      <td>0.018497</td>\n",
       "      <td>[1.1283810881224099e-06, 0.03668438671138574, ...</td>\n",
       "    </tr>\n",
       "    <tr>\n",
       "      <th>48</th>\n",
       "      <td>49</td>\n",
       "      <td>0.017191</td>\n",
       "      <td>[1.1283795515737438e-06, 0.036684337310362025,...</td>\n",
       "    </tr>\n",
       "    <tr>\n",
       "      <th>49</th>\n",
       "      <td>50</td>\n",
       "      <td>0.015988</td>\n",
       "      <td>[1.1283798220795838e-06, 0.03668434561222966, ...</td>\n",
       "    </tr>\n",
       "  </tbody>\n",
       "</table>\n",
       "</div>"
      ]
     },
     "metadata": {},
     "output_type": "display_data"
    }
   ],
   "metadata": {
    "datalore": {
     "type": "CODE",
     "hide_input_from_viewers": false,
     "hide_output_from_viewers": false
    },
    "pycharm": {
     "name": "#%%\n"
    }
   }
  },
  {
   "cell_type": "code",
   "source": [
    "fig = plot_errors({'С ускорением': data_fast})\n",
    "\n",
    "fig.update_layout(template=None, margin={'l': 100, 'r': 50, 't': 50, 'b': 50})\n",
    "fig.write_image('fast_error.svg')\n",
    "\n",
    "fig.show()"
   ],
   "execution_count": 80,
   "outputs": [
    {
     "data": {
      "text/plain": [
       "Unsupported"
      ]
     },
     "metadata": {},
     "output_type": "display_data"
    }
   ],
   "metadata": {
    "datalore": {
     "type": "CODE",
     "hide_input_from_viewers": false,
     "hide_output_from_viewers": false
    },
    "pycharm": {
     "name": "#%%\n"
    }
   }
  },
  {
   "cell_type": "code",
   "source": [
    "fig = plot_w(data_fast, original_values, t)\n",
    "\n",
    "fig.update_layout(template=None, margin={'l': 50, 'r': 50, 't': 50, 'b': 50})\n",
    "fig.write_image('fast_w.svg')\n",
    "\n",
    "fig.show()"
   ],
   "execution_count": 81,
   "outputs": [
    {
     "data": {
      "text/plain": [
       "Unsupported"
      ]
     },
     "metadata": {},
     "output_type": "display_data"
    }
   ],
   "metadata": {
    "datalore": {
     "type": "CODE",
     "hide_input_from_viewers": false,
     "hide_output_from_viewers": false
    },
    "pycharm": {
     "name": "#%%\n"
    }
   }
  },
  {
   "cell_type": "code",
   "source": [
    "fig = plot_errors({'Без ускорения': data_slow, 'С ускорением': data_fast})\n",
    "\n",
    "fig.update_layout(template=None, margin={'l': 100, 'r': 50, 't': 50, 'b': 50})\n",
    "fig.write_image('cmp_error.svg')\n",
    "\n",
    "fig.show()"
   ],
   "execution_count": 82,
   "outputs": [
    {
     "data": {
      "text/plain": [
       "Unsupported"
      ]
     },
     "metadata": {},
     "output_type": "display_data"
    }
   ],
   "metadata": {
    "datalore": {
     "type": "CODE",
     "hide_input_from_viewers": false,
     "hide_output_from_viewers": false
    },
    "pycharm": {
     "name": "#%%\n"
    }
   }
  }
 ],
 "metadata": {
  "datalore": {
   "version": 1,
   "computation_mode": "JUPYTER",
   "package_manager": "pip",
   "base_environment": "default",
   "packages": [
    {
     "name": "kaleido",
     "source": "PIP"
    }
   ]
  }
 },
 "nbformat": 4,
 "nbformat_minor": 4
}
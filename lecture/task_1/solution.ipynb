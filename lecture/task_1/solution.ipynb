{
 "cells": [
  {
   "cell_type": "markdown",
   "source": [
    "# Утилиты"
   ],
   "attachments": {},
   "metadata": {
    "datalore": {
     "type": "MD",
     "hide_input_from_viewers": false,
     "hide_output_from_viewers": false,
     "sheet_delimiter": true
    },
    "pycharm": {
     "name": "#%% md\n"
    }
   }
  },
  {
   "cell_type": "code",
   "source": [
    "import math\n",
    "from typing import Callable\n",
    "\n",
    "import numpy as np\n",
    "import numpy.linalg as linalg\n",
    "import pandas as pd\n",
    "import plotly.express as px\n",
    "import plotly.graph_objects as go\n",
    "from scipy.linalg import sqrtm"
   ],
   "execution_count": 46,
   "outputs": [],
   "metadata": {
    "datalore": {
     "type": "CODE",
     "hide_input_from_viewers": false,
     "hide_output_from_viewers": false
    },
    "pycharm": {
     "name": "#%%\n"
    }
   }
  },
  {
   "cell_type": "code",
   "source": [
    "def calculate_condition_number(matrix: np.ndarray) -> float:\n",
    "    \"\"\"Вычисляем число обусловленности матрицы.\"\"\"\n",
    "    return linalg.cond(matrix)"
   ],
   "execution_count": 47,
   "outputs": [],
   "metadata": {
    "datalore": {
     "type": "CODE",
     "hide_input_from_viewers": false,
     "hide_output_from_viewers": false
    },
    "pycharm": {
     "name": "#%%\n"
    }
   }
  },
  {
   "cell_type": "code",
   "source": [
    "def get_square_root_of_matrix(matrix: np.ndarray) -> np.ndarray:\n",
    "    \"\"\"Находим квадратный корень из матрицы.\"\"\"\n",
    "    return sqrtm(matrix)"
   ],
   "execution_count": 48,
   "outputs": [],
   "metadata": {
    "datalore": {
     "type": "CODE",
     "hide_input_from_viewers": false,
     "hide_output_from_viewers": false
    },
    "pycharm": {
     "name": "#%%\n"
    }
   }
  },
  {
   "cell_type": "code",
   "source": [
    "def generate_matrix(\n",
    "        element_factory: Callable[[int, int], float],\n",
    "        power_factory: Callable[[int, int], float],\n",
    "        size: int,\n",
    ") -> np.ndarray:\n",
    "    \"\"\"\n",
    "    Генерируем матрицу. \n",
    "    \n",
    "    Элементы матрицы создаются с помощью функции element_factory, \n",
    "    которая принимает на вход номер строки и столбца, и возвращает элемент матрицы.\n",
    "\n",
    "    Все элементы матрицы возводятся в соответсвующие степени, которые получаются из функции power_factory,\n",
    "    получающей на вход номер строки и столбца.\n",
    "    \"\"\"\n",
    "    return np.array(\n",
    "        [\n",
    "            [element_factory(row, column) ** power_factory(row, column) for column in range(1, size + 1)]\n",
    "            for row in range(1, size + 1)\n",
    "        ],\n",
    "        dtype=float,\n",
    "    )"
   ],
   "execution_count": 49,
   "outputs": [],
   "metadata": {
    "datalore": {
     "type": "CODE",
     "hide_input_from_viewers": false,
     "hide_output_from_viewers": false
    },
    "pycharm": {
     "name": "#%%\n"
    }
   }
  },
  {
   "cell_type": "code",
   "source": [
    "def get_matrix(size: int) -> np.ndarray:\n",
    "    \"\"\"Создаём обобщённую матрицу Вандермонда: a_k = k, b_k = k / 3.\"\"\"\n",
    "    return generate_matrix(\n",
    "        element_factory=lambda row, column: row,\n",
    "        power_factory=lambda row, column: column / 3,\n",
    "        size=size\n",
    "    )"
   ],
   "execution_count": 50,
   "outputs": [],
   "metadata": {
    "datalore": {
     "type": "CODE",
     "hide_input_from_viewers": false,
     "hide_output_from_viewers": false
    },
    "pycharm": {
     "name": "#%%\n"
    }
   }
  },
  {
   "cell_type": "code",
   "source": [
    "def find_right_part(matrix: np.ndarray, solution: np.ndarray) -> np.ndarray:\n",
    "    \"\"\"Находим u: matrix * solution = u\"\"\"\n",
    "    return matrix.dot(solution)"
   ],
   "execution_count": 51,
   "outputs": [],
   "metadata": {
    "datalore": {
     "type": "CODE",
     "hide_input_from_viewers": false,
     "hide_output_from_viewers": false
    },
    "pycharm": {
     "name": "#%%\n"
    }
   }
  },
  {
   "cell_type": "code",
   "source": [
    "def find_solutions_using_regularization(matrix: np.ndarray, right_part: np.ndarray, alpha: float) -> pd.Series:\n",
    "    \"\"\"Находит решение СЛУ с помощью методов регуляризации.\"\"\"\n",
    "    solutions = []\n",
    "\n",
    "    # First method\n",
    "    transpose_matrix = np.transpose(matrix)\n",
    "\n",
    "    new_matrix = transpose_matrix.dot(matrix) + alpha * np.eye(matrix.shape[0])\n",
    "    new_right_part = transpose_matrix.dot(right_part)\n",
    "\n",
    "    solutions.append(linalg.solve(new_matrix, new_right_part))\n",
    "\n",
    "    # Second method\n",
    "    square_root_matrix = get_square_root_of_matrix(matrix)\n",
    "    transposed_square_root_matrix = np.transpose(square_root_matrix)\n",
    "    inversed_square_root_matrix = linalg.inv(square_root_matrix)\n",
    "\n",
    "    new_matrix = transposed_square_root_matrix.dot(square_root_matrix) + alpha * np.eye(square_root_matrix.shape[0])\n",
    "    new_right_part = linalg.multi_dot([transposed_square_root_matrix, inversed_square_root_matrix, right_part])\n",
    "\n",
    "    solutions.append(linalg.solve(new_matrix, new_right_part))\n",
    "\n",
    "    return pd.Series(solutions)"
   ],
   "execution_count": 52,
   "outputs": [],
   "metadata": {
    "datalore": {
     "type": "CODE",
     "hide_input_from_viewers": false,
     "hide_output_from_viewers": false
    },
    "pycharm": {
     "name": "#%%\n"
    }
   }
  },
  {
   "cell_type": "code",
   "source": [
    "def estimate_error(approximate_solution: np.ndarray, true_solution: np.ndarray) -> float:\n",
    "    \"\"\"Находим то, насколько мы ошиблись с реальным решением.\"\"\"\n",
    "    return linalg.norm(approximate_solution - true_solution)"
   ],
   "execution_count": 53,
   "outputs": [],
   "metadata": {
    "datalore": {
     "type": "CODE",
     "hide_input_from_viewers": false,
     "hide_output_from_viewers": false
    },
    "pycharm": {
     "name": "#%%\n"
    }
   }
  },
  {
   "cell_type": "markdown",
   "source": [
    "# Поиск n"
   ],
   "attachments": {},
   "metadata": {
    "datalore": {
     "type": "MD",
     "hide_input_from_viewers": false,
     "hide_output_from_viewers": false,
     "sheet_delimiter": true
    },
    "pycharm": {
     "name": "#%% md\n"
    }
   }
  },
  {
   "cell_type": "code",
   "source": [
    "def banchmark_matrix(matrix: np.ndarray) -> pd.Series:\n",
    "    \"\"\"\n",
    "    \"Тестируем\" матрицу.\n",
    "\n",
    "    Находим число обусловленности для переданной матрицы matrix и для sqrt(matrix).\n",
    "    Также вычисляем то, насколько мы ошиблись при вычислении квадратного корня.\n",
    "    \"\"\"\n",
    "    square_root_matrix = get_square_root_of_matrix(matrix)\n",
    "\n",
    "    cond_matrix = calculate_condition_number(matrix)\n",
    "    cond_square_root_matrix = calculate_condition_number(square_root_matrix)\n",
    "    error = linalg.norm(matrix - square_root_matrix.dot(square_root_matrix))\n",
    "\n",
    "    return pd.Series([cond_matrix, cond_square_root_matrix, error])"
   ],
   "execution_count": 54,
   "outputs": [],
   "metadata": {
    "datalore": {
     "type": "CODE",
     "hide_input_from_viewers": false,
     "hide_output_from_viewers": false
    },
    "pycharm": {
     "name": "#%%\n"
    }
   }
  },
  {
   "cell_type": "code",
   "source": [
    "matrix_data = pd.DataFrame(range(1, 20), columns=['n'])\n",
    "matrix_data[['cond_A', 'cond_B', 'error']] = matrix_data.apply(\n",
    "    func=lambda row: banchmark_matrix(get_matrix(row.n)),\n",
    "    axis=1,\n",
    ")\n",
    "matrix_data\n",
    "\n",
    "# matrix_data.to_csv('matrix_data.csv', index=False)"
   ],
   "execution_count": 55,
   "outputs": [
    {
     "data": {
      "text/html": [
       "<div>\n",
       "<style scoped>\n",
       "    .dataframe tbody tr th:only-of-type {\n",
       "        vertical-align: middle;\n",
       "    }\n",
       "\n",
       "    .dataframe tbody tr th {\n",
       "        vertical-align: top;\n",
       "    }\n",
       "\n",
       "    .dataframe thead th {\n",
       "        text-align: right;\n",
       "    }\n",
       "</style>\n",
       "<table border=\"1\" class=\"dataframe\">\n",
       "  <thead>\n",
       "    <tr style=\"text-align: right;\">\n",
       "      <th></th>\n",
       "      <th>n</th>\n",
       "      <th>cond_A</th>\n",
       "      <th>cond_B</th>\n",
       "      <th>error</th>\n",
       "    </tr>\n",
       "  </thead>\n",
       "  <tbody>\n",
       "    <tr>\n",
       "      <th>0</th>\n",
       "      <td>1</td>\n",
       "      <td>1.000000e+00</td>\n",
       "      <td>1.000000e+00</td>\n",
       "      <td>0.000000e+00</td>\n",
       "    </tr>\n",
       "    <tr>\n",
       "      <th>1</th>\n",
       "      <td>2</td>\n",
       "      <td>1.859543e+01</td>\n",
       "      <td>4.321623e+00</td>\n",
       "      <td>7.691851e-16</td>\n",
       "    </tr>\n",
       "    <tr>\n",
       "      <th>2</th>\n",
       "      <td>3</td>\n",
       "      <td>3.234771e+02</td>\n",
       "      <td>1.801020e+01</td>\n",
       "      <td>2.349899e-15</td>\n",
       "    </tr>\n",
       "    <tr>\n",
       "      <th>3</th>\n",
       "      <td>4</td>\n",
       "      <td>6.092365e+03</td>\n",
       "      <td>7.862352e+01</td>\n",
       "      <td>2.239268e-14</td>\n",
       "    </tr>\n",
       "    <tr>\n",
       "      <th>4</th>\n",
       "      <td>5</td>\n",
       "      <td>1.265762e+05</td>\n",
       "      <td>3.634385e+02</td>\n",
       "      <td>2.761310e-14</td>\n",
       "    </tr>\n",
       "    <tr>\n",
       "      <th>5</th>\n",
       "      <td>6</td>\n",
       "      <td>2.869744e+06</td>\n",
       "      <td>1.767862e+03</td>\n",
       "      <td>9.481318e-14</td>\n",
       "    </tr>\n",
       "    <tr>\n",
       "      <th>6</th>\n",
       "      <td>7</td>\n",
       "      <td>6.983141e+07</td>\n",
       "      <td>8.965572e+03</td>\n",
       "      <td>9.935212e-14</td>\n",
       "    </tr>\n",
       "    <tr>\n",
       "      <th>7</th>\n",
       "      <td>8</td>\n",
       "      <td>1.798721e+09</td>\n",
       "      <td>4.703482e+04</td>\n",
       "      <td>5.290142e-13</td>\n",
       "    </tr>\n",
       "    <tr>\n",
       "      <th>8</th>\n",
       "      <td>9</td>\n",
       "      <td>4.855542e+10</td>\n",
       "      <td>2.537841e+05</td>\n",
       "      <td>2.688529e-12</td>\n",
       "    </tr>\n",
       "    <tr>\n",
       "      <th>9</th>\n",
       "      <td>10</td>\n",
       "      <td>1.363842e+12</td>\n",
       "      <td>1.402470e+06</td>\n",
       "      <td>6.242251e-12</td>\n",
       "    </tr>\n",
       "    <tr>\n",
       "      <th>10</th>\n",
       "      <td>11</td>\n",
       "      <td>3.965210e+13</td>\n",
       "      <td>7.913194e+06</td>\n",
       "      <td>2.148327e-11</td>\n",
       "    </tr>\n",
       "    <tr>\n",
       "      <th>11</th>\n",
       "      <td>12</td>\n",
       "      <td>1.187539e+15</td>\n",
       "      <td>4.543631e+07</td>\n",
       "      <td>4.979649e-11</td>\n",
       "    </tr>\n",
       "    <tr>\n",
       "      <th>12</th>\n",
       "      <td>13</td>\n",
       "      <td>3.754503e+16</td>\n",
       "      <td>2.655901e+08</td>\n",
       "      <td>2.414066e-10</td>\n",
       "    </tr>\n",
       "    <tr>\n",
       "      <th>13</th>\n",
       "      <td>14</td>\n",
       "      <td>9.513521e+17</td>\n",
       "      <td>7.451467e+08</td>\n",
       "      <td>2.371646e-10</td>\n",
       "    </tr>\n",
       "    <tr>\n",
       "      <th>14</th>\n",
       "      <td>15</td>\n",
       "      <td>2.093223e+18</td>\n",
       "      <td>2.596600e+09</td>\n",
       "      <td>1.177580e-09</td>\n",
       "    </tr>\n",
       "    <tr>\n",
       "      <th>15</th>\n",
       "      <td>16</td>\n",
       "      <td>7.945489e+20</td>\n",
       "      <td>1.497564e+09</td>\n",
       "      <td>3.456900e-09</td>\n",
       "    </tr>\n",
       "    <tr>\n",
       "      <th>16</th>\n",
       "      <td>17</td>\n",
       "      <td>2.677776e+20</td>\n",
       "      <td>3.595819e+09</td>\n",
       "      <td>2.396791e-08</td>\n",
       "    </tr>\n",
       "    <tr>\n",
       "      <th>17</th>\n",
       "      <td>18</td>\n",
       "      <td>1.977838e+20</td>\n",
       "      <td>7.376807e+09</td>\n",
       "      <td>7.294684e-08</td>\n",
       "    </tr>\n",
       "    <tr>\n",
       "      <th>18</th>\n",
       "      <td>19</td>\n",
       "      <td>3.528519e+20</td>\n",
       "      <td>2.773460e+10</td>\n",
       "      <td>1.479016e-07</td>\n",
       "    </tr>\n",
       "  </tbody>\n",
       "</table>\n",
       "</div>"
      ]
     },
     "metadata": {},
     "output_type": "display_data"
    }
   ],
   "metadata": {
    "datalore": {
     "type": "CODE",
     "hide_input_from_viewers": false,
     "hide_output_from_viewers": false
    },
    "pycharm": {
     "name": "#%%\n"
    }
   }
  },
  {
   "cell_type": "code",
   "source": [
    "fig = px.line(\n",
    "    matrix_data[1:],\n",
    "    x='n',\n",
    "    y='error',\n",
    "    log_y=True,\n",
    "    title='Зависимость ошибки вычисления квадратного корня матрицы от её размера',\n",
    ")\n",
    "fig.update_xaxes(title='Размер матрицы')\n",
    "fig.update_yaxes(tickformat='.e', title='Ошибка')\n",
    "fig.add_hline(y=10 ** -11, line_color='red')\n",
    "fig.update_layout(template=None)\n",
    "fig\n",
    "\n",
    "# fig.write_image('n-sqrt-error.svg')"
   ],
   "execution_count": 56,
   "outputs": [
    {
     "data": {
      "text/plain": [
       "Unsupported"
      ]
     },
     "metadata": {},
     "output_type": "display_data"
    }
   ],
   "metadata": {
    "datalore": {
     "type": "CODE",
     "hide_input_from_viewers": false,
     "hide_output_from_viewers": false
    },
    "pycharm": {
     "name": "#%%\n"
    }
   }
  },
  {
   "cell_type": "markdown",
   "source": [
    "# Проверка матриц"
   ],
   "attachments": {},
   "metadata": {
    "datalore": {
     "type": "MD",
     "hide_input_from_viewers": false,
     "hide_output_from_viewers": false,
     "sheet_delimiter": true
    },
    "pycharm": {
     "name": "#%% md\n"
    }
   }
  },
  {
   "cell_type": "code",
   "source": [
    "def check_eigenvalues(eigenvalues: np.ndarray) -> bool:\n",
    "    # Проверяем, что собственные числа не равны 0\n",
    "    if any(list(map(lambda number: math.isclose(number, 0, rel_tol=10 ** -12), eigenvalues))):\n",
    "        return False\n",
    "\n",
    "    # Проверяем, что собственные числа различны\n",
    "    for first, second in zip(eigenvalues, eigenvalues[1:]):\n",
    "        if math.isclose(first, second, rel_tol=10 ** -12):\n",
    "            return False\n",
    "\n",
    "    return True"
   ],
   "execution_count": 57,
   "outputs": [],
   "metadata": {
    "datalore": {
     "type": "CODE",
     "hide_input_from_viewers": false,
     "hide_output_from_viewers": false
    },
    "pycharm": {
     "name": "#%%\n"
    }
   }
  },
  {
   "cell_type": "code",
   "source": [
    "def check_eigenvectors(eigenvectors: np.ndarray) -> bool:\n",
    "    # Проверяем, что первый вектор не равен 0\n",
    "    if any(list(map(lambda number: math.isclose(number, 0, rel_tol=10 ** -12), eigenvectors.T[0]))):\n",
    "        return False\n",
    "\n",
    "    # Проверяем, что соблюдается знакочередование\n",
    "    for i, vector in enumerate(eigenvectors.T):\n",
    "        is_sign_change = np.diff(np.sign(vector)) != 0\n",
    "        if is_sign_change.astype(int).sum() != i:\n",
    "            return False\n",
    "\n",
    "    return True"
   ],
   "execution_count": 58,
   "outputs": [],
   "metadata": {
    "datalore": {
     "type": "CODE",
     "hide_input_from_viewers": false,
     "hide_output_from_viewers": false
    },
    "pycharm": {
     "name": "#%%\n"
    }
   }
  },
  {
   "cell_type": "code",
   "source": [
    "def check_matrix(matrix: np.ndarray) -> bool:\n",
    "    \"\"\"Проверяем, что переданная матрица является осцилляционной.\"\"\"\n",
    "    eigenvalues, eigenvectors = linalg.eig(matrix)\n",
    "\n",
    "    sort_order = np.flip(eigenvalues.argsort())\n",
    "    eigenvalues = eigenvalues[sort_order]\n",
    "    eigenvectors = eigenvectors[:, sort_order]\n",
    "\n",
    "    return check_eigenvalues(eigenvalues) and check_eigenvectors(eigenvectors)"
   ],
   "execution_count": 59,
   "outputs": [],
   "metadata": {
    "datalore": {
     "type": "CODE",
     "hide_input_from_viewers": false,
     "hide_output_from_viewers": false
    },
    "pycharm": {
     "name": "#%%\n"
    }
   }
  },
  {
   "cell_type": "code",
   "source": [
    "test_data = pd.DataFrame(range(1, 11), columns=['n'])\n",
    "test_data['is_correct'] = test_data.apply(\n",
    "    func=lambda row: check_matrix(get_matrix(row.n)),\n",
    "    axis=1,\n",
    ")\n",
    "test_data"
   ],
   "execution_count": 60,
   "outputs": [
    {
     "data": {
      "text/html": [
       "<div>\n",
       "<style scoped>\n",
       "    .dataframe tbody tr th:only-of-type {\n",
       "        vertical-align: middle;\n",
       "    }\n",
       "\n",
       "    .dataframe tbody tr th {\n",
       "        vertical-align: top;\n",
       "    }\n",
       "\n",
       "    .dataframe thead th {\n",
       "        text-align: right;\n",
       "    }\n",
       "</style>\n",
       "<table border=\"1\" class=\"dataframe\">\n",
       "  <thead>\n",
       "    <tr style=\"text-align: right;\">\n",
       "      <th></th>\n",
       "      <th>n</th>\n",
       "      <th>is_correct</th>\n",
       "    </tr>\n",
       "  </thead>\n",
       "  <tbody>\n",
       "    <tr>\n",
       "      <th>0</th>\n",
       "      <td>1</td>\n",
       "      <td>True</td>\n",
       "    </tr>\n",
       "    <tr>\n",
       "      <th>1</th>\n",
       "      <td>2</td>\n",
       "      <td>True</td>\n",
       "    </tr>\n",
       "    <tr>\n",
       "      <th>2</th>\n",
       "      <td>3</td>\n",
       "      <td>True</td>\n",
       "    </tr>\n",
       "    <tr>\n",
       "      <th>3</th>\n",
       "      <td>4</td>\n",
       "      <td>True</td>\n",
       "    </tr>\n",
       "    <tr>\n",
       "      <th>4</th>\n",
       "      <td>5</td>\n",
       "      <td>True</td>\n",
       "    </tr>\n",
       "    <tr>\n",
       "      <th>5</th>\n",
       "      <td>6</td>\n",
       "      <td>True</td>\n",
       "    </tr>\n",
       "    <tr>\n",
       "      <th>6</th>\n",
       "      <td>7</td>\n",
       "      <td>True</td>\n",
       "    </tr>\n",
       "    <tr>\n",
       "      <th>7</th>\n",
       "      <td>8</td>\n",
       "      <td>True</td>\n",
       "    </tr>\n",
       "    <tr>\n",
       "      <th>8</th>\n",
       "      <td>9</td>\n",
       "      <td>True</td>\n",
       "    </tr>\n",
       "    <tr>\n",
       "      <th>9</th>\n",
       "      <td>10</td>\n",
       "      <td>True</td>\n",
       "    </tr>\n",
       "  </tbody>\n",
       "</table>\n",
       "</div>"
      ]
     },
     "metadata": {},
     "output_type": "display_data"
    }
   ],
   "metadata": {
    "datalore": {
     "type": "CODE",
     "hide_input_from_viewers": false,
     "hide_output_from_viewers": false
    },
    "pycharm": {
     "name": "#%%\n"
    }
   }
  },
  {
   "cell_type": "markdown",
   "source": [
    "# Поиск alpha"
   ],
   "attachments": {},
   "metadata": {
    "datalore": {
     "type": "MD",
     "hide_input_from_viewers": false,
     "hide_output_from_viewers": false,
     "sheet_delimiter": true
    },
    "pycharm": {
     "name": "#%% md\n"
    }
   }
  },
  {
   "cell_type": "code",
   "source": [
    "def get_regularization_data(size: int) -> pd.DataFrame:\n",
    "    matrix = get_matrix(size)\n",
    "    right_part = find_right_part(matrix, np.ones(size))\n",
    "\n",
    "    regularization_data = pd.DataFrame([10 ** -i for i in range(2, 12)], columns=['alpha'])\n",
    "    regularization_data[['solution_1', 'solution_2']] = regularization_data.apply(\n",
    "        func=lambda row: find_solutions_using_regularization(matrix, right_part, row.alpha),\n",
    "        axis=1,\n",
    "    )\n",
    "\n",
    "    regularization_data['error_1'] = regularization_data.apply(\n",
    "        func=lambda row: estimate_error(row.solution_1, np.ones(size)),\n",
    "        axis=1\n",
    "    )\n",
    "\n",
    "    regularization_data['error_2'] = regularization_data.apply(\n",
    "        func=lambda row: estimate_error(row.solution_2, np.ones(size)),\n",
    "        axis=1\n",
    "    )\n",
    "\n",
    "    return regularization_data"
   ],
   "execution_count": 61,
   "outputs": [],
   "metadata": {
    "datalore": {
     "type": "CODE",
     "hide_input_from_viewers": false,
     "hide_output_from_viewers": false
    },
    "pycharm": {
     "name": "#%%\n"
    }
   }
  },
  {
   "cell_type": "code",
   "source": [
    "regularization_data = get_regularization_data(10)\n",
    "regularization_data\n",
    "\n",
    "# regularization_data[['alpha', 'error_1', 'error_2']].to_csv('regularization_data.csv', index=False)"
   ],
   "execution_count": 62,
   "outputs": [
    {
     "data": {
      "text/html": [
       "<div>\n",
       "<style scoped>\n",
       "    .dataframe tbody tr th:only-of-type {\n",
       "        vertical-align: middle;\n",
       "    }\n",
       "\n",
       "    .dataframe tbody tr th {\n",
       "        vertical-align: top;\n",
       "    }\n",
       "\n",
       "    .dataframe thead th {\n",
       "        text-align: right;\n",
       "    }\n",
       "</style>\n",
       "<table border=\"1\" class=\"dataframe\">\n",
       "  <thead>\n",
       "    <tr style=\"text-align: right;\">\n",
       "      <th></th>\n",
       "      <th>alpha</th>\n",
       "      <th>solution_1</th>\n",
       "      <th>solution_2</th>\n",
       "      <th>error_1</th>\n",
       "      <th>error_2</th>\n",
       "    </tr>\n",
       "  </thead>\n",
       "  <tbody>\n",
       "    <tr>\n",
       "      <th>0</th>\n",
       "      <td>1.000000e-02</td>\n",
       "      <td>[0.9808723977608305, 0.9954039291695705, 1.005...</td>\n",
       "      <td>[0.9919296284982112, 0.9970874717584739, 0.999...</td>\n",
       "      <td>0.025725</td>\n",
       "      <td>0.008663</td>\n",
       "    </tr>\n",
       "    <tr>\n",
       "      <th>1</th>\n",
       "      <td>1.000000e-03</td>\n",
       "      <td>[0.9960864130801098, 1.0004120705199042, 1.002...</td>\n",
       "      <td>[0.999108882153855, 0.9997876019182771, 1.0000...</td>\n",
       "      <td>0.005276</td>\n",
       "      <td>0.000920</td>\n",
       "    </tr>\n",
       "    <tr>\n",
       "      <th>2</th>\n",
       "      <td>1.000000e-04</td>\n",
       "      <td>[0.9991863744926299, 1.0002855457871966, 1.000...</td>\n",
       "      <td>[0.9999059841087095, 0.9999876398891457, 1.000...</td>\n",
       "      <td>0.001349</td>\n",
       "      <td>0.000095</td>\n",
       "    </tr>\n",
       "    <tr>\n",
       "      <th>3</th>\n",
       "      <td>1.000000e-05</td>\n",
       "      <td>[0.9998833031213801, 1.0000684481420354, 1.000...</td>\n",
       "      <td>[0.9999877210317494, 1.0000068217557827, 0.999...</td>\n",
       "      <td>0.000181</td>\n",
       "      <td>0.000017</td>\n",
       "    </tr>\n",
       "    <tr>\n",
       "      <th>4</th>\n",
       "      <td>1.000000e-06</td>\n",
       "      <td>[0.9999891515138227, 1.0000156795611252, 0.999...</td>\n",
       "      <td>[0.9999943923050466, 1.000014923158066, 0.9999...</td>\n",
       "      <td>0.000093</td>\n",
       "      <td>0.000025</td>\n",
       "    </tr>\n",
       "    <tr>\n",
       "      <th>5</th>\n",
       "      <td>1.000000e-07</td>\n",
       "      <td>[0.9999446566755096, 1.0001649240235981, 0.999...</td>\n",
       "      <td>[0.9999925955268383, 1.0000266217859428, 0.999...</td>\n",
       "      <td>0.000651</td>\n",
       "      <td>0.000057</td>\n",
       "    </tr>\n",
       "    <tr>\n",
       "      <th>6</th>\n",
       "      <td>1.000000e-08</td>\n",
       "      <td>[0.9980691447937107, 1.0043984768201435, 1.000...</td>\n",
       "      <td>[0.9999918197260445, 1.0000302999882371, 0.999...</td>\n",
       "      <td>0.014829</td>\n",
       "      <td>0.000070</td>\n",
       "    </tr>\n",
       "    <tr>\n",
       "      <th>7</th>\n",
       "      <td>1.000000e-09</td>\n",
       "      <td>[0.9958606357206831, 1.012916297544752, 0.9893...</td>\n",
       "      <td>[0.9999909989362111, 1.000035021328758, 0.9999...</td>\n",
       "      <td>0.030446</td>\n",
       "      <td>0.000075</td>\n",
       "    </tr>\n",
       "    <tr>\n",
       "      <th>8</th>\n",
       "      <td>1.000000e-10</td>\n",
       "      <td>[0.9941692060537324, 1.0233416119405316, 0.997...</td>\n",
       "      <td>[0.9999917504471905, 1.0000304941385703, 0.999...</td>\n",
       "      <td>0.495167</td>\n",
       "      <td>0.000072</td>\n",
       "    </tr>\n",
       "    <tr>\n",
       "      <th>9</th>\n",
       "      <td>1.000000e-11</td>\n",
       "      <td>[1.0304166128447558, 0.7724203955316078, 1.690...</td>\n",
       "      <td>[0.9999912559983974, 1.0000334479672655, 0.999...</td>\n",
       "      <td>1.963945</td>\n",
       "      <td>0.000073</td>\n",
       "    </tr>\n",
       "  </tbody>\n",
       "</table>\n",
       "</div>"
      ]
     },
     "metadata": {},
     "output_type": "display_data"
    }
   ],
   "metadata": {
    "datalore": {
     "type": "CODE",
     "hide_input_from_viewers": false,
     "hide_output_from_viewers": false
    },
    "pycharm": {
     "name": "#%%\n"
    }
   }
  },
  {
   "cell_type": "code",
   "source": [
    "fig = go.Figure()\n",
    "fig.add_scatter(x=regularization_data['alpha'], y=regularization_data['error_1'], name='Метод №1')\n",
    "fig.add_scatter(x=regularization_data['alpha'], y=regularization_data['error_2'], name='Метод №2')\n",
    "fig.update_xaxes(type='log', tickformat='.0e', autorange='reversed', title='Параметр регуляризации')\n",
    "fig.update_yaxes(title='Ошибка')\n",
    "fig.update_layout(title='Зависимость ошибки от параметра регуляризации', template=None)\n",
    "fig.show()\n",
    "\n",
    "# fig.write_image('alpha-error.svg')"
   ],
   "execution_count": 63,
   "outputs": [
    {
     "data": {
      "text/plain": [
       "Unsupported"
      ]
     },
     "metadata": {},
     "output_type": "display_data"
    }
   ],
   "metadata": {
    "datalore": {
     "type": "CODE",
     "hide_input_from_viewers": false,
     "hide_output_from_viewers": false
    },
    "pycharm": {
     "name": "#%%\n"
    }
   }
  },
  {
   "cell_type": "code",
   "source": [
    "def find_min_alpha(size: int) -> pd.Series:\n",
    "    regularization_data = get_regularization_data(size)\n",
    "\n",
    "    min_error_1_arg = regularization_data['error_1'].argmin()\n",
    "    min_error_2_arg = regularization_data['error_2'].argmin()\n",
    "\n",
    "    min_error_1 = regularization_data.loc[min_error_1_arg, 'error_1']\n",
    "    min_error_2 = regularization_data.loc[min_error_2_arg, 'error_2']\n",
    "\n",
    "    alpha_1 = regularization_data.loc[min_error_1_arg, 'alpha']\n",
    "    alpha_2 = regularization_data.loc[min_error_2_arg, 'alpha']\n",
    "\n",
    "    return pd.Series([alpha_1, min_error_1, alpha_2, min_error_2])"
   ],
   "execution_count": 64,
   "outputs": [],
   "metadata": {
    "datalore": {
     "type": "CODE",
     "hide_input_from_viewers": false,
     "hide_output_from_viewers": false
    },
    "pycharm": {
     "name": "#%%\n"
    }
   }
  },
  {
   "cell_type": "code",
   "source": [
    "regularization_min_data = pd.DataFrame(range(1, 11), columns=['n'])\n",
    "regularization_min_data[['alpha_1', 'error_1', 'alpha_2', 'error_2']] = regularization_min_data.apply(\n",
    "    func=lambda row: find_min_alpha(row.n),\n",
    "    axis=1,\n",
    ")\n",
    "regularization_min_data\n",
    "\n",
    "# regularization_min_data.to_csv('regularization_min_data.csv', index=False)"
   ],
   "execution_count": 65,
   "outputs": [
    {
     "data": {
      "text/html": [
       "<div>\n",
       "<style scoped>\n",
       "    .dataframe tbody tr th:only-of-type {\n",
       "        vertical-align: middle;\n",
       "    }\n",
       "\n",
       "    .dataframe tbody tr th {\n",
       "        vertical-align: top;\n",
       "    }\n",
       "\n",
       "    .dataframe thead th {\n",
       "        text-align: right;\n",
       "    }\n",
       "</style>\n",
       "<table border=\"1\" class=\"dataframe\">\n",
       "  <thead>\n",
       "    <tr style=\"text-align: right;\">\n",
       "      <th></th>\n",
       "      <th>n</th>\n",
       "      <th>alpha_1</th>\n",
       "      <th>error_1</th>\n",
       "      <th>alpha_2</th>\n",
       "      <th>error_2</th>\n",
       "    </tr>\n",
       "  </thead>\n",
       "  <tbody>\n",
       "    <tr>\n",
       "      <th>0</th>\n",
       "      <td>1</td>\n",
       "      <td>1.000000e-11</td>\n",
       "      <td>1.000000e-11</td>\n",
       "      <td>1.000000e-11</td>\n",
       "      <td>1.000000e-11</td>\n",
       "    </tr>\n",
       "    <tr>\n",
       "      <th>1</th>\n",
       "      <td>2</td>\n",
       "      <td>1.000000e-11</td>\n",
       "      <td>6.184801e-11</td>\n",
       "      <td>1.000000e-11</td>\n",
       "      <td>1.137751e-11</td>\n",
       "    </tr>\n",
       "    <tr>\n",
       "      <th>2</th>\n",
       "      <td>3</td>\n",
       "      <td>1.000000e-11</td>\n",
       "      <td>3.047092e-10</td>\n",
       "      <td>1.000000e-11</td>\n",
       "      <td>1.082350e-11</td>\n",
       "    </tr>\n",
       "    <tr>\n",
       "      <th>3</th>\n",
       "      <td>4</td>\n",
       "      <td>1.000000e-11</td>\n",
       "      <td>9.884686e-10</td>\n",
       "      <td>1.000000e-11</td>\n",
       "      <td>1.020903e-11</td>\n",
       "    </tr>\n",
       "    <tr>\n",
       "      <th>4</th>\n",
       "      <td>5</td>\n",
       "      <td>1.000000e-11</td>\n",
       "      <td>7.051958e-07</td>\n",
       "      <td>1.000000e-11</td>\n",
       "      <td>6.285728e-11</td>\n",
       "    </tr>\n",
       "    <tr>\n",
       "      <th>5</th>\n",
       "      <td>6</td>\n",
       "      <td>1.000000e-07</td>\n",
       "      <td>1.026658e-05</td>\n",
       "      <td>1.000000e-11</td>\n",
       "      <td>1.430493e-09</td>\n",
       "    </tr>\n",
       "    <tr>\n",
       "      <th>6</th>\n",
       "      <td>7</td>\n",
       "      <td>1.000000e-07</td>\n",
       "      <td>1.800307e-05</td>\n",
       "      <td>1.000000e-09</td>\n",
       "      <td>2.385470e-08</td>\n",
       "    </tr>\n",
       "    <tr>\n",
       "      <th>7</th>\n",
       "      <td>8</td>\n",
       "      <td>1.000000e-07</td>\n",
       "      <td>2.030721e-05</td>\n",
       "      <td>1.000000e-06</td>\n",
       "      <td>1.072611e-06</td>\n",
       "    </tr>\n",
       "    <tr>\n",
       "      <th>8</th>\n",
       "      <td>9</td>\n",
       "      <td>1.000000e-06</td>\n",
       "      <td>4.116792e-05</td>\n",
       "      <td>1.000000e-07</td>\n",
       "      <td>6.983115e-07</td>\n",
       "    </tr>\n",
       "    <tr>\n",
       "      <th>9</th>\n",
       "      <td>10</td>\n",
       "      <td>1.000000e-06</td>\n",
       "      <td>9.305338e-05</td>\n",
       "      <td>1.000000e-05</td>\n",
       "      <td>1.712937e-05</td>\n",
       "    </tr>\n",
       "  </tbody>\n",
       "</table>\n",
       "</div>"
      ]
     },
     "metadata": {},
     "output_type": "display_data"
    }
   ],
   "metadata": {
    "datalore": {
     "type": "CODE",
     "hide_input_from_viewers": false,
     "hide_output_from_viewers": false
    },
    "pycharm": {
     "name": "#%%\n"
    }
   }
  },
  {
   "cell_type": "code",
   "source": [
    "fig = go.Figure()\n",
    "fig.add_scatter(x=regularization_min_data['n'], y=regularization_min_data['error_1'], name='Метод №1')\n",
    "fig.add_scatter(x=regularization_min_data['n'], y=regularization_min_data['error_2'], name='Метод №2')\n",
    "fig.update_xaxes(title='Размер матрицы')\n",
    "fig.update_yaxes(title='Минимальная ошибка', tickformat='.0e')\n",
    "fig.update_layout(template=None, title='Зависимость минимальной ошибки от размера матрицы')\n",
    "fig\n",
    "\n",
    "# fig.write_image('n-min-error.svg')"
   ],
   "execution_count": 66,
   "outputs": [
    {
     "data": {
      "text/plain": [
       "Unsupported"
      ]
     },
     "metadata": {},
     "output_type": "display_data"
    }
   ],
   "metadata": {
    "datalore": {
     "type": "CODE",
     "hide_input_from_viewers": false,
     "hide_output_from_viewers": false
    },
    "pycharm": {
     "name": "#%%\n"
    }
   }
  }
 ],
 "metadata": {
  "datalore": {
   "version": 1,
   "computation_mode": "JUPYTER",
   "package_manager": "pip",
   "base_environment": "default",
   "packages": [
    {
     "name": "kaleido",
     "version": "0.2.1",
     "source": "PIP"
    }
   ]
  }
 },
 "nbformat": 4,
 "nbformat_minor": 4
}
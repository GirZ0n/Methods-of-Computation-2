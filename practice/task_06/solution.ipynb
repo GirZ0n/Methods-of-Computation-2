{
 "cells":[
  {
   "cell_type":"markdown",
   "source":[
    "# Utils"
   ],
   "attachments":{
    
   },
   "metadata":{
    "datalore":{
     "type":"MD",
     "hide_input_from_viewers":false,
     "hide_output_from_viewers":false,
     "sheet_delimiter":true
    }
   }
  },
  {
   "cell_type":"code",
   "source":[
    "import numpy as np\n",
    "import numpy.linalg as linalg\n",
    "from typing import Tuple, List, Callable\n",
    "from math import sqrt\n",
    "import itertools\n",
    "from enum import Enum\n",
    "import pandas as pd\n",
    "from itertools import product\n",
    "import plotly.graph_objects as go\n",
    "from timeit import default_timer as timer"
   ],
   "execution_count":1,
   "outputs":[
    
   ],
   "metadata":{
    "datalore":{
     "type":"CODE",
     "hide_input_from_viewers":false,
     "hide_output_from_viewers":false
    }
   }
  },
  {
   "cell_type":"code",
   "source":[
    "def get_circle_radius(matrix: np.ndarray, row_index: int, squared: bool = False) -> float:\n",
    "    if squared:\n",
    "        return (matrix[row_index] ** 2).sum() - (matrix[row_index][row_index] ** 2)\n",
    "\n",
    "    return abs(matrix[row_index]).sum() - abs(matrix[row_index][row_index])"
   ],
   "execution_count":2,
   "outputs":[
    
   ],
   "metadata":{
    "datalore":{
     "type":"CODE",
     "hide_input_from_viewers":false,
     "hide_output_from_viewers":false
    }
   }
  },
  {
   "cell_type":"code",
   "source":[
    "def get_gershgorin_circles(matrix: np.ndarray) -> List[Tuple[float, float]]:\n",
    "    circles = []\n",
    "    for i in range(matrix.shape[0]):\n",
    "        radius = get_circle_radius(matrix, i)\n",
    "        center = matrix[i][i]\n",
    "        circles.append((center - radius, center + radius))\n",
    "    return circles"
   ],
   "execution_count":3,
   "outputs":[
    
   ],
   "metadata":{
    "datalore":{
     "type":"CODE",
     "hide_input_from_viewers":false,
     "hide_output_from_viewers":false
    }
   }
  },
  {
   "cell_type":"code",
   "source":[
    "def rotate(matrix: np.ndarray, index: Tuple[int, int]) -> None:\n",
    "    i, j = index\n",
    "\n",
    "    matrix_ii, matrix_ij, matrix_jj = matrix[i][i], matrix[i][j], matrix[j][j]\n",
    "\n",
    "    x = -2 * matrix_ij\n",
    "    y = matrix_ii - matrix_jj\n",
    "\n",
    "    if y == 0:\n",
    "        cos_phi = sqrt(2) \/ 2\n",
    "        sin_phi = sqrt(2) \/ 2\n",
    "    else:\n",
    "        cos_phi = sqrt(1 \/ 2 * (1 + abs(y) \/ sqrt(x ** 2 + y ** 2)))\n",
    "        sin_phi = np.sign(x * y) * abs(x) \/ (2 * cos_phi * sqrt(x ** 2 + y ** 2))\n",
    "\n",
    "    matrix[i][i] = cos_phi ** 2 * matrix_ii - 2 * sin_phi * cos_phi * matrix_ij + sin_phi ** 2 * matrix_jj\n",
    "    matrix[j][j] = sin_phi ** 2 * matrix_ii + 2 * sin_phi * cos_phi * matrix_ij + cos_phi ** 2 * matrix_jj\n",
    "\n",
    "    matrix[i][j] = (cos_phi ** 2 - sin_phi ** 2) * matrix_ij + sin_phi * cos_phi * (matrix_ii - matrix_jj)\n",
    "    matrix[j][i] = (cos_phi ** 2 - sin_phi ** 2) * matrix_ij + sin_phi * cos_phi * (matrix_ii - matrix_jj)\n",
    "\n",
    "    for k in range(matrix.shape[0]):\n",
    "        if k != i and k != j:\n",
    "            matrix_ik, matrix_jk = matrix[i][k], matrix[j][k]\n",
    "\n",
    "            matrix[i][k] = cos_phi * matrix_ik - sin_phi * matrix_jk\n",
    "            matrix[k][i] = cos_phi * matrix_ik - sin_phi * matrix_jk\n",
    "\n",
    "            matrix[j][k] = sin_phi * matrix_ik + cos_phi * matrix_jk\n",
    "            matrix[k][j] = sin_phi * matrix_ik + cos_phi * matrix_jk"
   ],
   "execution_count":4,
   "outputs":[
    
   ],
   "metadata":{
    "datalore":{
     "type":"CODE",
     "hide_input_from_viewers":false,
     "hide_output_from_viewers":false
    }
   }
  },
  {
   "cell_type":"code",
   "source":[
    "def find_abs_max_index(matrix: np.ndarray) -> Tuple[int, int]:\n",
    "    matrix = matrix - np.diag(np.diag(matrix))\n",
    "    return np.unravel_index(np.argmax(abs(matrix)), matrix.shape)"
   ],
   "execution_count":5,
   "outputs":[
    
   ],
   "metadata":{
    "datalore":{
     "type":"CODE",
     "hide_input_from_viewers":false,
     "hide_output_from_viewers":false
    }
   }
  },
  {
   "cell_type":"code",
   "source":[
    "def get_line_by_line_indices(shape: Tuple[int, int]):\n",
    "    indicies = []\n",
    "    for i in range(shape[0]):\n",
    "        for j in range(shape[1]):\n",
    "            if i != j:\n",
    "                indicies.append((i, j))\n",
    "    return itertools.cycle(indicies)"
   ],
   "execution_count":6,
   "outputs":[
    
   ],
   "metadata":{
    "datalore":{
     "type":"CODE",
     "hide_input_from_viewers":false,
     "hide_output_from_viewers":false
    }
   }
  },
  {
   "cell_type":"code",
   "source":[
    "def get_vector_of_square_sums(matrix: np.ndarray) -> np.ndarray:\n",
    "    return np.array([get_circle_radius(matrix, i, squared=True) for i in range(matrix.shape[0])])\n",
    "\n",
    "\n",
    "def get_pivot_with_max_radius(matrix: np.ndarray, vector: np.ndarray) -> Tuple[int, int]:\n",
    "    i = vector.argmax()\n",
    "        \n",
    "    matrix = matrix - np.diag(np.diag(matrix))\n",
    "    j = abs(matrix[i]).argmax()\n",
    "\n",
    "    return i, j"
   ],
   "execution_count":7,
   "outputs":[
    
   ],
   "metadata":{
    "datalore":{
     "type":"CODE",
     "hide_input_from_viewers":false,
     "hide_output_from_viewers":false
    }
   }
  },
  {
   "cell_type":"code",
   "source":[
    "class PivotStrategy(Enum):\n",
    "    ABS_MAX = 'abs_max'\n",
    "    LINE_BY_LINE = 'line_by_line'\n",
    "    MAX_RADIUS = 'max_radius'"
   ],
   "execution_count":8,
   "outputs":[
    
   ],
   "metadata":{
    "datalore":{
     "type":"CODE",
     "hide_input_from_viewers":false,
     "hide_output_from_viewers":false
    }
   }
  },
  {
   "cell_type":"code",
   "source":[
    "def find_eigenvalues(\n",
    "        matrix: np.ndarray,\n",
    "        *,\n",
    "        eps: float,\n",
    "        strategy: PivotStrategy,\n",
    "        limit: int = 10000,\n",
    ") -> Tuple[np.ndarray, int]:\n",
    "    matrix = np.copy(matrix)\n",
    "\n",
    "    circle_indicies = get_line_by_line_indices(matrix.shape)\n",
    "    square_sums_vector = get_vector_of_square_sums(matrix)\n",
    "\n",
    "    for step in range(limit):\n",
    "        if strategy is PivotStrategy.MAX_RADIUS:\n",
    "            if all(get_circle_radius(matrix, i, squared=True) < eps ** 2 for i in range(matrix.shape[0])):\n",
    "                return np.diag(matrix), step\n",
    "        else:\n",
    "            if all(get_circle_radius(matrix, i) < eps for i in range(matrix.shape[0])):\n",
    "                return np.diag(matrix), step\n",
    "\n",
    "        if strategy is PivotStrategy.MAX_RADIUS:\n",
    "            index = get_pivot_with_max_radius(matrix, square_sums_vector)\n",
    "            square_sums_vector[index[0]] = get_circle_radius(matrix, index[0], squared=True)\n",
    "            square_sums_vector[index[1]] = get_circle_radius(matrix, index[1], squared=True)\n",
    "            rotate(matrix, index)\n",
    "        elif strategy is PivotStrategy.LINE_BY_LINE:\n",
    "            index = next(circle_indicies)\n",
    "            rotate(matrix, index)\n",
    "        elif strategy is PivotStrategy.ABS_MAX:\n",
    "            index = find_abs_max_index(matrix)\n",
    "            rotate(matrix, index)\n",
    "\n",
    "    return np.diag(matrix), step + 1"
   ],
   "execution_count":9,
   "outputs":[
    
   ],
   "metadata":{
    "datalore":{
     "type":"CODE",
     "hide_input_from_viewers":false,
     "hide_output_from_viewers":false
    }
   }
  },
  {
   "cell_type":"code",
   "source":[
    "def benchmark_matrix(matrix: np.ndarray, eps: float) -> pd.Series:\n",
    "    true_values, _ = linalg.eig(matrix)\n",
    "\n",
    "    abs_max_start = timer()\n",
    "    abs_max_values, abs_max_steps = find_eigenvalues(matrix, eps=eps, strategy=PivotStrategy.ABS_MAX)\n",
    "    abs_max_finish = timer()\n",
    "\n",
    "    line_by_line_start = timer()\n",
    "    line_by_line_values, line_by_line_steps = find_eigenvalues(matrix, eps=eps, strategy=PivotStrategy.LINE_BY_LINE)\n",
    "    line_by_line_finish = timer()\n",
    "\n",
    "    radius_start = timer()\n",
    "    radius_values, radius_steps = find_eigenvalues(matrix, eps=eps, strategy=PivotStrategy.MAX_RADIUS)\n",
    "    radius_finish = timer()\n",
    "\n",
    "    return pd.Series([\n",
    "        abs_max_steps,\n",
    "        abs_max_finish - abs_max_start,\n",
    "        linalg.norm(abs(np.sort(true_values)) - abs(np.sort(abs_max_values))),\n",
    "        line_by_line_steps,\n",
    "        line_by_line_finish - line_by_line_start,\n",
    "        linalg.norm(abs(np.sort(true_values)) - abs(np.sort(line_by_line_values))),\n",
    "        radius_steps,\n",
    "        radius_finish - radius_start,\n",
    "        linalg.norm(abs(np.sort(true_values)) - abs(np.sort(radius_values))),\n",
    "    ])"
   ],
   "execution_count":10,
   "outputs":[
    
   ],
   "metadata":{
    "datalore":{
     "type":"CODE",
     "hide_input_from_viewers":false,
     "hide_output_from_viewers":false
    }
   }
  },
  {
   "cell_type":"code",
   "source":[
    "def compare_size_and_steps(data: pd.DataFrame, eps: float) -> None:\n",
    "    data = data[data.eps == eps]\n",
    "\n",
    "    fig = go.Figure()\n",
    "\n",
    "    fig.add_scatter(x=data.n, y=data.abs_max_steps, name='Максимальный по модулю')\n",
    "    fig.add_scatter(x=data.n, y=data.line_by_line_steps, name='По порядку')\n",
    "    fig.add_scatter(x=data.n, y=data.radius_steps, name='Круг максимального радиуса')\n",
    "\n",
    "    fig.update_xaxes(title='Размер матрицы')\n",
    "    fig.update_yaxes(title='Количество шагов')\n",
    "\n",
    "    fig.update_layout(title=f'Зависимость количества шагов от размера матрицы (ε = {eps})', legend_title_text='Стратегия')\n",
    "\n",
    "    fig.show()"
   ],
   "execution_count":11,
   "outputs":[
    
   ],
   "metadata":{
    "datalore":{
     "type":"CODE",
     "hide_input_from_viewers":false,
     "hide_output_from_viewers":false
    }
   }
  },
  {
   "cell_type":"code",
   "source":[
    "def compare_eps_and_steps(data: pd.DataFrame, n: int) -> None:\n",
    "    data = data[data.n == n]\n",
    "\n",
    "    fig = go.Figure()\n",
    "\n",
    "    fig.add_scatter(x=data.eps, y=data.abs_max_steps, name='Максимальный по модулю')\n",
    "    fig.add_scatter(x=data.eps, y=data.line_by_line_steps, name='По порядку')\n",
    "    fig.add_scatter(x=data.eps, y=data.radius_steps, name='Круг максимального радиуса')\n",
    "\n",
    "    fig.update_xaxes(title='ε', type='log', tickformat='.0e', autorange='reversed')\n",
    "    fig.update_yaxes(title='Количество шагов')\n",
    "\n",
    "    fig.update_layout(title=f'Зависимость количества шагов от ε ({n = })', legend_title_text='Стратегия')\n",
    "\n",
    "    fig.show()"
   ],
   "execution_count":12,
   "outputs":[
    
   ],
   "metadata":{
    "datalore":{
     "type":"CODE",
     "hide_input_from_viewers":false,
     "hide_output_from_viewers":false
    }
   }
  },
  {
   "cell_type":"code",
   "source":[
    "def compare_size_and_error(data: pd.DataFrame, eps: float) -> None:\n",
    "    data = data[data.eps == eps]\n",
    "\n",
    "    fig = go.Figure()\n",
    "\n",
    "    fig.add_scatter(x=data.n, y=data.abs_max_error, name='Максимальный по модулю')\n",
    "    fig.add_scatter(x=data.n, y=data.line_by_line_error, name='По порядку')\n",
    "    fig.add_scatter(x=data.n, y=data.radius_error, name='Круг максимального радиуса')\n",
    "\n",
    "    fig.update_xaxes(title='Размер матрицы')\n",
    "    fig.update_yaxes(title='Ошибка', tickformat='.2e')\n",
    "\n",
    "    fig.update_layout(title=f'Зависимость ошибки от размера матрицы (ε = {eps})', legend_title_text='Стратегия')\n",
    "\n",
    "    fig.show()"
   ],
   "execution_count":13,
   "outputs":[
    
   ],
   "metadata":{
    "datalore":{
     "type":"CODE",
     "hide_input_from_viewers":false,
     "hide_output_from_viewers":false
    }
   }
  },
  {
   "cell_type":"code",
   "source":[
    "def compare_eps_and_error(data: pd.DataFrame, n: int) -> None:\n",
    "    data = data[data.n == n]\n",
    "\n",
    "    fig = go.Figure()\n",
    "\n",
    "    fig.add_scatter(x=data.eps, y=data.abs_max_error, name='Максимальный по модулю')\n",
    "    fig.add_scatter(x=data.eps, y=data.line_by_line_error, name='По порядку')\n",
    "    fig.add_scatter(x=data.eps, y=data.radius_error, name='Круг максимального радиуса')\n",
    "\n",
    "    fig.update_xaxes(title='ε', type='log', tickformat='.0e', autorange='reversed')\n",
    "    fig.update_yaxes(title='Ошибка', tickformat='.2e')\n",
    "\n",
    "    fig.update_layout(title=f'Зависимость ошибки от ε ({n = })', legend_title_text='Стратегия')\n",
    "\n",
    "    fig.show()"
   ],
   "execution_count":14,
   "outputs":[
    
   ],
   "metadata":{
    "datalore":{
     "type":"CODE",
     "hide_input_from_viewers":false,
     "hide_output_from_viewers":false
    }
   }
  },
  {
   "cell_type":"code",
   "source":[
    "def compare_size_and_time(data: pd.DataFrame, eps: float) -> None:\n",
    "    data = data[data.eps == eps]\n",
    "\n",
    "    fig = go.Figure()\n",
    "\n",
    "    fig.add_scatter(x=data.n, y=data.abs_max_time, name='Максимальный по модулю')\n",
    "    fig.add_scatter(x=data.n, y=data.line_by_line_time, name='По порядку')\n",
    "    fig.add_scatter(x=data.n, y=data.radius_time, name='Круг максимального радиуса')\n",
    "\n",
    "    fig.update_xaxes(title='Размер матрицы')\n",
    "    fig.update_yaxes(title='Время', tickformat='.2e')\n",
    "\n",
    "    fig.update_layout(title=f'Зависимость времени работы от размера матрицы (ε = {eps})', legend_title_text='Стратегия')\n",
    "\n",
    "    fig.show()"
   ],
   "execution_count":15,
   "outputs":[
    
   ],
   "metadata":{
    "datalore":{
     "type":"CODE",
     "hide_input_from_viewers":false,
     "hide_output_from_viewers":false
    }
   }
  },
  {
   "cell_type":"code",
   "source":[
    "def compare_eps_and_time(data: pd.DataFrame, n: int) -> None:\n",
    "    data = data[data.n == n]\n",
    "\n",
    "    fig = go.Figure()\n",
    "\n",
    "    fig.add_scatter(x=data.eps, y=data.abs_max_time, name='Максимальный по модулю')\n",
    "    fig.add_scatter(x=data.eps, y=data.line_by_line_time, name='По порядку')\n",
    "    fig.add_scatter(x=data.eps, y=data.radius_time, name='Круг максимального радиуса')\n",
    "\n",
    "    fig.update_xaxes(title='ε', type='log', tickformat='.0e', autorange='reversed')\n",
    "    fig.update_yaxes(title='Время работы', tickformat='.2e')\n",
    "\n",
    "    fig.update_layout(title=f'Зависимость времени работы от ε ({n = })', legend_title_text='Стратегия')\n",
    "\n",
    "    fig.show()"
   ],
   "execution_count":16,
   "outputs":[
    
   ],
   "metadata":{
    "datalore":{
     "type":"CODE",
     "hide_input_from_viewers":false,
     "hide_output_from_viewers":false
    }
   }
  },
  {
   "cell_type":"markdown",
   "source":[
    "# Diagonal"
   ],
   "attachments":{
    
   },
   "metadata":{
    "datalore":{
     "type":"MD",
     "hide_input_from_viewers":false,
     "hide_output_from_viewers":false,
     "sheet_delimiter":true
    }
   }
  },
  {
   "cell_type":"code",
   "source":[
    "def get_diagonal_matrix(size: int) -> np.ndarray:\n",
    "    return np.diag(range(1, size + 1))"
   ],
   "execution_count":17,
   "outputs":[
    
   ],
   "metadata":{
    "datalore":{
     "type":"CODE",
     "hide_input_from_viewers":false,
     "hide_output_from_viewers":false
    }
   }
  },
  {
   "cell_type":"code",
   "source":[
    "diagonal_data = pd.DataFrame(product(range(2, 101), [10 ** -i for i in range(2, 16)]), columns=['n', 'eps'])\n",
    "diagonal_data[\n",
    "    [\n",
    "        'abs_max_steps', \n",
    "        'abs_max_time',\n",
    "        'abs_max_error', \n",
    "        'line_by_line_steps', \n",
    "        'line_by_line_time',\n",
    "        'line_by_line_error', \n",
    "        'radius_steps',\n",
    "        'radius_time',\n",
    "        'radius_error',\n",
    "    ]\n",
    "] = diagonal_data.apply(\n",
    "    func=lambda row: benchmark_matrix(get_diagonal_matrix(int(row.n)), row.eps),\n",
    "    axis=1,\n",
    ")\n",
    "diagonal_data"
   ],
   "execution_count":18,
   "outputs":[
    {
     "data":{
      "text\/html":[
       "<div>\n",
       "<style scoped>\n",
       "    .dataframe tbody tr th:only-of-type {\n",
       "        vertical-align: middle;\n",
       "    }\n",
       "\n",
       "    .dataframe tbody tr th {\n",
       "        vertical-align: top;\n",
       "    }\n",
       "\n",
       "    .dataframe thead th {\n",
       "        text-align: right;\n",
       "    }\n",
       "<\/style>\n",
       "<table border=\"1\" class=\"dataframe\">\n",
       "  <thead>\n",
       "    <tr style=\"text-align: right;\">\n",
       "      <th><\/th>\n",
       "      <th>n<\/th>\n",
       "      <th>eps<\/th>\n",
       "      <th>abs_max_steps<\/th>\n",
       "      <th>abs_max_time<\/th>\n",
       "      <th>abs_max_error<\/th>\n",
       "      <th>line_by_line_steps<\/th>\n",
       "      <th>line_by_line_time<\/th>\n",
       "      <th>line_by_line_error<\/th>\n",
       "      <th>radius_steps<\/th>\n",
       "      <th>radius_time<\/th>\n",
       "      <th>radius_error<\/th>\n",
       "    <\/tr>\n",
       "  <\/thead>\n",
       "  <tbody>\n",
       "    <tr>\n",
       "      <th>0<\/th>\n",
       "      <td>2<\/td>\n",
       "      <td>1.000000e-02<\/td>\n",
       "      <td>0.0<\/td>\n",
       "      <td>0.000185<\/td>\n",
       "      <td>0.0<\/td>\n",
       "      <td>0.0<\/td>\n",
       "      <td>0.000070<\/td>\n",
       "      <td>0.0<\/td>\n",
       "      <td>0.0<\/td>\n",
       "      <td>0.000066<\/td>\n",
       "      <td>0.0<\/td>\n",
       "    <\/tr>\n",
       "    <tr>\n",
       "      <th>1<\/th>\n",
       "      <td>2<\/td>\n",
       "      <td>1.000000e-03<\/td>\n",
       "      <td>0.0<\/td>\n",
       "      <td>0.000092<\/td>\n",
       "      <td>0.0<\/td>\n",
       "      <td>0.0<\/td>\n",
       "      <td>0.000066<\/td>\n",
       "      <td>0.0<\/td>\n",
       "      <td>0.0<\/td>\n",
       "      <td>0.000063<\/td>\n",
       "      <td>0.0<\/td>\n",
       "    <\/tr>\n",
       "    <tr>\n",
       "      <th>2<\/th>\n",
       "      <td>2<\/td>\n",
       "      <td>1.000000e-04<\/td>\n",
       "      <td>0.0<\/td>\n",
       "      <td>0.000104<\/td>\n",
       "      <td>0.0<\/td>\n",
       "      <td>0.0<\/td>\n",
       "      <td>0.000067<\/td>\n",
       "      <td>0.0<\/td>\n",
       "      <td>0.0<\/td>\n",
       "      <td>0.000064<\/td>\n",
       "      <td>0.0<\/td>\n",
       "    <\/tr>\n",
       "    <tr>\n",
       "      <th>3<\/th>\n",
       "      <td>2<\/td>\n",
       "      <td>1.000000e-05<\/td>\n",
       "      <td>0.0<\/td>\n",
       "      <td>0.000087<\/td>\n",
       "      <td>0.0<\/td>\n",
       "      <td>0.0<\/td>\n",
       "      <td>0.000062<\/td>\n",
       "      <td>0.0<\/td>\n",
       "      <td>0.0<\/td>\n",
       "      <td>0.000061<\/td>\n",
       "      <td>0.0<\/td>\n",
       "    <\/tr>\n",
       "    <tr>\n",
       "      <th>4<\/th>\n",
       "      <td>2<\/td>\n",
       "      <td>1.000000e-06<\/td>\n",
       "      <td>0.0<\/td>\n",
       "      <td>0.000081<\/td>\n",
       "      <td>0.0<\/td>\n",
       "      <td>0.0<\/td>\n",
       "      <td>0.000062<\/td>\n",
       "      <td>0.0<\/td>\n",
       "      <td>0.0<\/td>\n",
       "      <td>0.000661<\/td>\n",
       "      <td>0.0<\/td>\n",
       "    <\/tr>\n",
       "    <tr>\n",
       "      <th>...<\/th>\n",
       "      <td>...<\/td>\n",
       "      <td>...<\/td>\n",
       "      <td>...<\/td>\n",
       "      <td>...<\/td>\n",
       "      <td>...<\/td>\n",
       "      <td>...<\/td>\n",
       "      <td>...<\/td>\n",
       "      <td>...<\/td>\n",
       "      <td>...<\/td>\n",
       "      <td>...<\/td>\n",
       "      <td>...<\/td>\n",
       "    <\/tr>\n",
       "    <tr>\n",
       "      <th>1381<\/th>\n",
       "      <td>100<\/td>\n",
       "      <td>1.000000e-11<\/td>\n",
       "      <td>0.0<\/td>\n",
       "      <td>0.003404<\/td>\n",
       "      <td>0.0<\/td>\n",
       "      <td>0.0<\/td>\n",
       "      <td>0.003193<\/td>\n",
       "      <td>0.0<\/td>\n",
       "      <td>0.0<\/td>\n",
       "      <td>0.015717<\/td>\n",
       "      <td>0.0<\/td>\n",
       "    <\/tr>\n",
       "    <tr>\n",
       "      <th>1382<\/th>\n",
       "      <td>100<\/td>\n",
       "      <td>1.000000e-12<\/td>\n",
       "      <td>0.0<\/td>\n",
       "      <td>0.003430<\/td>\n",
       "      <td>0.0<\/td>\n",
       "      <td>0.0<\/td>\n",
       "      <td>0.003248<\/td>\n",
       "      <td>0.0<\/td>\n",
       "      <td>0.0<\/td>\n",
       "      <td>0.007378<\/td>\n",
       "      <td>0.0<\/td>\n",
       "    <\/tr>\n",
       "    <tr>\n",
       "      <th>1383<\/th>\n",
       "      <td>100<\/td>\n",
       "      <td>1.000000e-13<\/td>\n",
       "      <td>0.0<\/td>\n",
       "      <td>0.003493<\/td>\n",
       "      <td>0.0<\/td>\n",
       "      <td>0.0<\/td>\n",
       "      <td>0.003271<\/td>\n",
       "      <td>0.0<\/td>\n",
       "      <td>0.0<\/td>\n",
       "      <td>0.021125<\/td>\n",
       "      <td>0.0<\/td>\n",
       "    <\/tr>\n",
       "    <tr>\n",
       "      <th>1384<\/th>\n",
       "      <td>100<\/td>\n",
       "      <td>1.000000e-14<\/td>\n",
       "      <td>0.0<\/td>\n",
       "      <td>0.003445<\/td>\n",
       "      <td>0.0<\/td>\n",
       "      <td>0.0<\/td>\n",
       "      <td>0.008615<\/td>\n",
       "      <td>0.0<\/td>\n",
       "      <td>0.0<\/td>\n",
       "      <td>0.003852<\/td>\n",
       "      <td>0.0<\/td>\n",
       "    <\/tr>\n",
       "    <tr>\n",
       "      <th>1385<\/th>\n",
       "      <td>100<\/td>\n",
       "      <td>1.000000e-15<\/td>\n",
       "      <td>0.0<\/td>\n",
       "      <td>0.004232<\/td>\n",
       "      <td>0.0<\/td>\n",
       "      <td>0.0<\/td>\n",
       "      <td>0.010419<\/td>\n",
       "      <td>0.0<\/td>\n",
       "      <td>0.0<\/td>\n",
       "      <td>0.003977<\/td>\n",
       "      <td>0.0<\/td>\n",
       "    <\/tr>\n",
       "  <\/tbody>\n",
       "<\/table>\n",
       "<p>1386 rows × 11 columns<\/p>\n",
       "<\/div>"
      ]
     },
     "metadata":{
      
     },
     "output_type":"display_data"
    }
   ],
   "metadata":{
    "datalore":{
     "type":"CODE",
     "hide_input_from_viewers":false,
     "hide_output_from_viewers":false
    }
   }
  },
  {
   "cell_type":"code",
   "source":[
    "print(get_gershgorin_circles(get_diagonal_matrix(5)))\n",
    "print(find_eigenvalues(get_diagonal_matrix(5), eps=1e-12, strategy=PivotStrategy.ABS_MAX)[0])\n",
    "print(find_eigenvalues(get_diagonal_matrix(5), eps=1e-12, strategy=PivotStrategy.LINE_BY_LINE)[0])\n",
    "print(find_eigenvalues(get_diagonal_matrix(5), eps=1e-12, strategy=PivotStrategy.MAX_RADIUS)[0])"
   ],
   "execution_count":19,
   "outputs":[
    {
     "name":"stdout",
     "text":[
      "[(1, 1), (2, 2), (3, 3), (4, 4), (5, 5)]\n",
      "[1 2 3 4 5]\n",
      "[1 2 3 4 5]\n",
      "[1 2 3 4 5]\n"
     ],
     "output_type":"stream"
    }
   ],
   "metadata":{
    "datalore":{
     "type":"CODE",
     "hide_input_from_viewers":false,
     "hide_output_from_viewers":false
    }
   }
  },
  {
   "cell_type":"markdown",
   "source":[
    "# Diagonally dominant"
   ],
   "attachments":{
    
   },
   "metadata":{
    "datalore":{
     "type":"MD",
     "hide_input_from_viewers":false,
     "hide_output_from_viewers":false,
     "sheet_delimiter":true
    }
   }
  },
  {
   "cell_type":"code",
   "source":[
    "def get_diagonally_dominant_matrix(size: int) -> np.ndarray:\n",
    "    return np.eye(size) * 4 + np.eye(size, k=1) * -1 + np.eye(size, k=-1) * -1"
   ],
   "execution_count":20,
   "outputs":[
    
   ],
   "metadata":{
    "datalore":{
     "type":"CODE",
     "hide_input_from_viewers":false,
     "hide_output_from_viewers":false
    }
   }
  },
  {
   "cell_type":"code",
   "source":[
    "diagonally_dominant_data = pd.DataFrame(product(range(2, 31), [10 ** -i for i in range(2, 16)]), columns=['n', 'eps'])\n",
    "diagonally_dominant_data[\n",
    "    [\n",
    "        'abs_max_steps',\n",
    "        'abs_max_time',\n",
    "        'abs_max_error', \n",
    "        'line_by_line_steps',\n",
    "        'line_by_line_time',\n",
    "        'line_by_line_error', \n",
    "        'radius_steps',\n",
    "        'radius_time',\n",
    "        'radius_error',\n",
    "    ]\n",
    "] = diagonally_dominant_data.apply(\n",
    "    func=lambda row: benchmark_matrix(get_diagonally_dominant_matrix(int(row.n)), row.eps),\n",
    "    axis=1,\n",
    ")\n",
    "diagonally_dominant_data"
   ],
   "execution_count":21,
   "outputs":[
    {
     "ename":"KeyboardInterrupt",
     "evalue":"KeyboardInterrupt: ",
     "traceback":[
      "\u001b[0;31m---------------------------------------------------------------------------",
      "Traceback (most recent call last)",
      "    at line 14 in <module>",
      "    at line 8740 in apply(self, func, axis, raw, result_type, args, **kwargs)",
      "    at line 688 in apply(self)",
      "    at line 812 in apply_standard(self)",
      "    at line 828 in apply_series_generator(self)",
      "    at line 15 in <lambda>(row)",
      "    at line 9 in benchmark_matrix(matrix, eps)",
      "    at line 28 in find_eigenvalues(matrix, eps, strategy, limit)",
      "    at line 27 in rotate(matrix, index)",
      "KeyboardInterrupt: "
     ],
     "output_type":"error"
    }
   ],
   "metadata":{
    "datalore":{
     "type":"CODE",
     "hide_input_from_viewers":false,
     "hide_output_from_viewers":false
    }
   }
  },
  {
   "cell_type":"code",
   "source":[
    "compare_size_and_steps(diagonally_dominant_data, eps=1e-2)\n",
    "compare_size_and_steps(diagonally_dominant_data, eps=1e-8)\n",
    "compare_size_and_steps(diagonally_dominant_data, eps=1e-15)"
   ],
   "execution_count":23,
   "outputs":[
    {
     "data":{
      "text\/plain":[
       "Unsupported"
      ]
     },
     "metadata":{
      
     },
     "output_type":"display_data"
    }
   ],
   "metadata":{
    "datalore":{
     "type":"CODE",
     "hide_input_from_viewers":false,
     "hide_output_from_viewers":false
    }
   }
  },
  {
   "cell_type":"code",
   "source":[
    "compare_eps_and_steps(diagonally_dominant_data, 7)\n",
    "compare_eps_and_steps(diagonally_dominant_data, 25)"
   ],
   "execution_count":24,
   "outputs":[
    {
     "data":{
      "text\/plain":[
       "Unsupported"
      ]
     },
     "metadata":{
      
     },
     "output_type":"display_data"
    }
   ],
   "metadata":{
    "datalore":{
     "type":"CODE",
     "hide_input_from_viewers":false,
     "hide_output_from_viewers":false
    }
   }
  },
  {
   "cell_type":"code",
   "source":[
    "compare_size_and_time(diagonally_dominant_data, eps=1e-2)\n",
    "compare_size_and_time(diagonally_dominant_data, eps=1e-8)\n",
    "compare_size_and_time(diagonally_dominant_data, eps=1e-15)"
   ],
   "execution_count":25,
   "outputs":[
    {
     "data":{
      "text\/plain":[
       "Unsupported"
      ]
     },
     "metadata":{
      
     },
     "output_type":"display_data"
    }
   ],
   "metadata":{
    "datalore":{
     "type":"CODE",
     "hide_input_from_viewers":false,
     "hide_output_from_viewers":false
    }
   }
  },
  {
   "cell_type":"code",
   "source":[
    "compare_eps_and_time(diagonally_dominant_data, 7)\n",
    "compare_eps_and_time(diagonally_dominant_data, 25)"
   ],
   "execution_count":26,
   "outputs":[
    {
     "data":{
      "text\/plain":[
       "Unsupported"
      ]
     },
     "metadata":{
      
     },
     "output_type":"display_data"
    }
   ],
   "metadata":{
    "datalore":{
     "type":"CODE",
     "hide_input_from_viewers":false,
     "hide_output_from_viewers":false
    }
   }
  },
  {
   "cell_type":"code",
   "source":[
    "compare_size_and_error(diagonally_dominant_data, 1e-2)\n",
    "compare_size_and_error(diagonally_dominant_data, 1e-8)\n",
    "compare_size_and_error(diagonally_dominant_data, 1e-15)"
   ],
   "execution_count":27,
   "outputs":[
    {
     "data":{
      "text\/plain":[
       "Unsupported"
      ]
     },
     "metadata":{
      
     },
     "output_type":"display_data"
    }
   ],
   "metadata":{
    "datalore":{
     "type":"CODE",
     "hide_input_from_viewers":false,
     "hide_output_from_viewers":false
    }
   }
  },
  {
   "cell_type":"code",
   "source":[
    "print(get_gershgorin_circles(get_diagonally_dominant_matrix(5)))\n",
    "print(find_eigenvalues(get_diagonally_dominant_matrix(5), eps=1e-12, strategy=PivotStrategy.ABS_MAX)[0])\n",
    "print(find_eigenvalues(get_diagonally_dominant_matrix(5), eps=1e-12, strategy=PivotStrategy.LINE_BY_LINE)[0])\n",
    "print(find_eigenvalues(get_diagonally_dominant_matrix(5), eps=1e-12, strategy=PivotStrategy.MAX_RADIUS)[0])"
   ],
   "execution_count":28,
   "outputs":[
    {
     "name":"stdout",
     "text":[
      "[(3.0, 5.0), (2.0, 6.0), (2.0, 6.0), (2.0, 6.0), (3.0, 5.0)]\n",
      "[5.         3.         5.73205081 2.26794919 4.        ]\n",
      "[5.73205081 2.26794919 3.         5.         4.        ]\n",
      "[3.         5.73205081 2.26794919 5.         4.        ]\n"
     ],
     "output_type":"stream"
    }
   ],
   "metadata":{
    "datalore":{
     "type":"CODE",
     "hide_input_from_viewers":false,
     "hide_output_from_viewers":false
    }
   }
  },
  {
   "cell_type":"markdown",
   "source":[
    "# Hilbert"
   ],
   "attachments":{
    
   },
   "metadata":{
    "datalore":{
     "type":"MD",
     "hide_input_from_viewers":false,
     "hide_output_from_viewers":false,
     "sheet_delimiter":true
    }
   }
  },
  {
   "cell_type":"code",
   "source":[
    "def generate_matrix(element_factory: Callable[[int, int], float], size: int) -> np.ndarray:\n",
    "    return np.array(\n",
    "        [\n",
    "            [element_factory(row, column) for column in range(1, size + 1)]\n",
    "            for row in range(1, size + 1)\n",
    "        ],\n",
    "        dtype=float,\n",
    "    )\n",
    "\n",
    "\n",
    "def get_hilbert_matrix(size: int) -> np.ndarray:\n",
    "    return generate_matrix(lambda row, column: 1 \/ (row + column - 1), size)"
   ],
   "execution_count":22,
   "outputs":[
    
   ],
   "metadata":{
    "datalore":{
     "type":"CODE",
     "hide_input_from_viewers":false,
     "hide_output_from_viewers":false
    }
   }
  },
  {
   "cell_type":"code",
   "source":[
    "hilbert_data = pd.DataFrame(product(range(2, 29), [10 ** -i for i in range(2, 16)]), columns=['n', 'eps'])\n",
    "hilbert_data[\n",
    "    [\n",
    "        'abs_max_steps',\n",
    "        'abs_max_time',\n",
    "        'abs_max_error', \n",
    "        'line_by_line_steps',\n",
    "        'line_by_line_time',\n",
    "        'line_by_line_error', \n",
    "        'radius_steps',\n",
    "        'radius_time',\n",
    "        'radius_error',\n",
    "    ]\n",
    "] = hilbert_data.apply(\n",
    "    func=lambda row: benchmark_matrix(get_hilbert_matrix(int(row.n)), row.eps),\n",
    "    axis=1,\n",
    ")\n",
    "hilbert_data"
   ],
   "execution_count":23,
   "outputs":[
    {
     "data":{
      "text\/html":[
       "<div>\n",
       "<style scoped>\n",
       "    .dataframe tbody tr th:only-of-type {\n",
       "        vertical-align: middle;\n",
       "    }\n",
       "\n",
       "    .dataframe tbody tr th {\n",
       "        vertical-align: top;\n",
       "    }\n",
       "\n",
       "    .dataframe thead th {\n",
       "        text-align: right;\n",
       "    }\n",
       "<\/style>\n",
       "<table border=\"1\" class=\"dataframe\">\n",
       "  <thead>\n",
       "    <tr style=\"text-align: right;\">\n",
       "      <th><\/th>\n",
       "      <th>n<\/th>\n",
       "      <th>eps<\/th>\n",
       "      <th>abs_max_steps<\/th>\n",
       "      <th>abs_max_time<\/th>\n",
       "      <th>abs_max_error<\/th>\n",
       "      <th>line_by_line_steps<\/th>\n",
       "      <th>line_by_line_time<\/th>\n",
       "      <th>line_by_line_error<\/th>\n",
       "      <th>radius_steps<\/th>\n",
       "      <th>radius_time<\/th>\n",
       "      <th>radius_error<\/th>\n",
       "    <\/tr>\n",
       "  <\/thead>\n",
       "  <tbody>\n",
       "    <tr>\n",
       "      <th>0<\/th>\n",
       "      <td>2<\/td>\n",
       "      <td>1.000000e-02<\/td>\n",
       "      <td>1.0<\/td>\n",
       "      <td>0.000201<\/td>\n",
       "      <td>2.237726e-16<\/td>\n",
       "      <td>1.0<\/td>\n",
       "      <td>0.000093<\/td>\n",
       "      <td>2.237726e-16<\/td>\n",
       "      <td>1.0<\/td>\n",
       "      <td>0.000133<\/td>\n",
       "      <td>2.237726e-16<\/td>\n",
       "    <\/tr>\n",
       "    <tr>\n",
       "      <th>1<\/th>\n",
       "      <td>2<\/td>\n",
       "      <td>1.000000e-03<\/td>\n",
       "      <td>1.0<\/td>\n",
       "      <td>0.000151<\/td>\n",
       "      <td>2.237726e-16<\/td>\n",
       "      <td>1.0<\/td>\n",
       "      <td>0.000089<\/td>\n",
       "      <td>2.237726e-16<\/td>\n",
       "      <td>1.0<\/td>\n",
       "      <td>0.000128<\/td>\n",
       "      <td>2.237726e-16<\/td>\n",
       "    <\/tr>\n",
       "    <tr>\n",
       "      <th>2<\/th>\n",
       "      <td>2<\/td>\n",
       "      <td>1.000000e-04<\/td>\n",
       "      <td>1.0<\/td>\n",
       "      <td>0.000188<\/td>\n",
       "      <td>2.237726e-16<\/td>\n",
       "      <td>1.0<\/td>\n",
       "      <td>0.000102<\/td>\n",
       "      <td>2.237726e-16<\/td>\n",
       "      <td>1.0<\/td>\n",
       "      <td>0.000159<\/td>\n",
       "      <td>2.237726e-16<\/td>\n",
       "    <\/tr>\n",
       "    <tr>\n",
       "      <th>3<\/th>\n",
       "      <td>2<\/td>\n",
       "      <td>1.000000e-05<\/td>\n",
       "      <td>1.0<\/td>\n",
       "      <td>0.000185<\/td>\n",
       "      <td>2.237726e-16<\/td>\n",
       "      <td>1.0<\/td>\n",
       "      <td>0.000102<\/td>\n",
       "      <td>2.237726e-16<\/td>\n",
       "      <td>1.0<\/td>\n",
       "      <td>0.000164<\/td>\n",
       "      <td>2.237726e-16<\/td>\n",
       "    <\/tr>\n",
       "    <tr>\n",
       "      <th>4<\/th>\n",
       "      <td>2<\/td>\n",
       "      <td>1.000000e-06<\/td>\n",
       "      <td>1.0<\/td>\n",
       "      <td>0.000196<\/td>\n",
       "      <td>2.237726e-16<\/td>\n",
       "      <td>1.0<\/td>\n",
       "      <td>0.000101<\/td>\n",
       "      <td>2.237726e-16<\/td>\n",
       "      <td>1.0<\/td>\n",
       "      <td>0.000165<\/td>\n",
       "      <td>2.237726e-16<\/td>\n",
       "    <\/tr>\n",
       "    <tr>\n",
       "      <th>...<\/th>\n",
       "      <td>...<\/td>\n",
       "      <td>...<\/td>\n",
       "      <td>...<\/td>\n",
       "      <td>...<\/td>\n",
       "      <td>...<\/td>\n",
       "      <td>...<\/td>\n",
       "      <td>...<\/td>\n",
       "      <td>...<\/td>\n",
       "      <td>...<\/td>\n",
       "      <td>...<\/td>\n",
       "      <td>...<\/td>\n",
       "    <\/tr>\n",
       "    <tr>\n",
       "      <th>373<\/th>\n",
       "      <td>28<\/td>\n",
       "      <td>1.000000e-11<\/td>\n",
       "      <td>895.0<\/td>\n",
       "      <td>0.141702<\/td>\n",
       "      <td>5.277773e-13<\/td>\n",
       "      <td>2413.0<\/td>\n",
       "      <td>0.248558<\/td>\n",
       "      <td>1.067210e-13<\/td>\n",
       "      <td>882.0<\/td>\n",
       "      <td>0.146152<\/td>\n",
       "      <td>1.135419e-11<\/td>\n",
       "    <\/tr>\n",
       "    <tr>\n",
       "      <th>374<\/th>\n",
       "      <td>28<\/td>\n",
       "      <td>1.000000e-12<\/td>\n",
       "      <td>994.0<\/td>\n",
       "      <td>0.156990<\/td>\n",
       "      <td>1.204290e-13<\/td>\n",
       "      <td>2580.0<\/td>\n",
       "      <td>0.273437<\/td>\n",
       "      <td>9.244751e-15<\/td>\n",
       "      <td>976.0<\/td>\n",
       "      <td>0.160946<\/td>\n",
       "      <td>4.782693e-13<\/td>\n",
       "    <\/tr>\n",
       "    <tr>\n",
       "      <th>375<\/th>\n",
       "      <td>28<\/td>\n",
       "      <td>1.000000e-13<\/td>\n",
       "      <td>1079.0<\/td>\n",
       "      <td>0.170472<\/td>\n",
       "      <td>2.713529e-14<\/td>\n",
       "      <td>2695.0<\/td>\n",
       "      <td>0.287614<\/td>\n",
       "      <td>8.407133e-15<\/td>\n",
       "      <td>1057.0<\/td>\n",
       "      <td>0.177724<\/td>\n",
       "      <td>2.120022e-14<\/td>\n",
       "    <\/tr>\n",
       "    <tr>\n",
       "      <th>376<\/th>\n",
       "      <td>28<\/td>\n",
       "      <td>1.000000e-14<\/td>\n",
       "      <td>1172.0<\/td>\n",
       "      <td>0.184557<\/td>\n",
       "      <td>2.897653e-15<\/td>\n",
       "      <td>3305.0<\/td>\n",
       "      <td>0.356298<\/td>\n",
       "      <td>2.053450e-15<\/td>\n",
       "      <td>1149.0<\/td>\n",
       "      <td>0.193077<\/td>\n",
       "      <td>2.649789e-15<\/td>\n",
       "    <\/tr>\n",
       "    <tr>\n",
       "      <th>377<\/th>\n",
       "      <td>28<\/td>\n",
       "      <td>1.000000e-15<\/td>\n",
       "      <td>1275.0<\/td>\n",
       "      <td>0.201876<\/td>\n",
       "      <td>2.803989e-15<\/td>\n",
       "      <td>3339.0<\/td>\n",
       "      <td>0.346962<\/td>\n",
       "      <td>2.052007e-15<\/td>\n",
       "      <td>1224.0<\/td>\n",
       "      <td>0.209155<\/td>\n",
       "      <td>2.399788e-15<\/td>\n",
       "    <\/tr>\n",
       "  <\/tbody>\n",
       "<\/table>\n",
       "<p>378 rows × 11 columns<\/p>\n",
       "<\/div>"
      ]
     },
     "metadata":{
      
     },
     "output_type":"display_data"
    }
   ],
   "metadata":{
    "datalore":{
     "type":"CODE",
     "hide_input_from_viewers":false,
     "hide_output_from_viewers":false
    }
   }
  },
  {
   "cell_type":"code",
   "source":[
    "compare_size_and_steps(hilbert_data, 1e-2)\n",
    "compare_size_and_steps(hilbert_data, 1e-8)\n",
    "compare_size_and_steps(hilbert_data, 1e-15)"
   ],
   "execution_count":31,
   "outputs":[
    {
     "data":{
      "text\/plain":[
       "Unsupported"
      ]
     },
     "metadata":{
      
     },
     "output_type":"display_data"
    }
   ],
   "metadata":{
    "datalore":{
     "type":"CODE",
     "hide_input_from_viewers":false,
     "hide_output_from_viewers":false
    }
   }
  },
  {
   "cell_type":"code",
   "source":[
    "compare_eps_and_steps(hilbert_data, 5)\n",
    "compare_eps_and_steps(hilbert_data, 16)\n",
    "compare_eps_and_steps(hilbert_data, 28)"
   ],
   "execution_count":32,
   "outputs":[
    {
     "data":{
      "text\/plain":[
       "Unsupported"
      ]
     },
     "metadata":{
      
     },
     "output_type":"display_data"
    }
   ],
   "metadata":{
    "datalore":{
     "type":"CODE",
     "hide_input_from_viewers":false,
     "hide_output_from_viewers":false
    }
   }
  },
  {
   "cell_type":"code",
   "source":[
    "compare_size_and_time(hilbert_data, 1e-2)\n",
    "compare_size_and_time(hilbert_data, 1e-8)\n",
    "compare_size_and_time(hilbert_data, 1e-15)"
   ],
   "execution_count":33,
   "outputs":[
    {
     "data":{
      "text\/plain":[
       "Unsupported"
      ]
     },
     "metadata":{
      
     },
     "output_type":"display_data"
    }
   ],
   "metadata":{
    "datalore":{
     "type":"CODE",
     "hide_input_from_viewers":false,
     "hide_output_from_viewers":false
    }
   }
  },
  {
   "cell_type":"code",
   "source":[
    "compare_eps_and_time(hilbert_data, 5)\n",
    "compare_eps_and_time(hilbert_data, 16)\n",
    "compare_eps_and_time(hilbert_data, 28)"
   ],
   "execution_count":34,
   "outputs":[
    {
     "data":{
      "text\/plain":[
       "Unsupported"
      ]
     },
     "metadata":{
      
     },
     "output_type":"display_data"
    }
   ],
   "metadata":{
    "datalore":{
     "type":"CODE",
     "hide_input_from_viewers":false,
     "hide_output_from_viewers":false
    }
   }
  },
  {
   "cell_type":"code",
   "source":[
    "print(get_gershgorin_circles(get_hilbert_matrix(4)))\n",
    "print(find_eigenvalues(get_hilbert_matrix(4), eps=1e-12, strategy=PivotStrategy.ABS_MAX)[0])\n",
    "print(find_eigenvalues(get_hilbert_matrix(4), eps=1e-12, strategy=PivotStrategy.LINE_BY_LINE)[0])\n",
    "print(find_eigenvalues(get_hilbert_matrix(4), eps=1e-12, strategy=PivotStrategy.MAX_RADIUS)[0])"
   ],
   "execution_count":36,
   "outputs":[
    {
     "name":"stdout",
     "text":[
      "[(-0.08333333333333304, 2.083333333333333), (-0.6166666666666667, 1.2833333333333332), (-0.5499999999999998, 0.9499999999999997), (-0.47380952380952385, 0.7595238095238095)]\n",
      "[1.50021428e+00 1.69141220e-01 9.67023040e-05 6.73827361e-03]\n",
      "[1.50021428e+00 1.69141220e-01 9.67023040e-05 6.73827361e-03]\n",
      "[1.50021428e+00 1.69141220e-01 9.67023040e-05 6.73827361e-03]\n"
     ],
     "output_type":"stream"
    }
   ],
   "metadata":{
    "datalore":{
     "type":"CODE",
     "hide_input_from_viewers":false,
     "hide_output_from_viewers":false
    }
   }
  }
 ],
 "metadata":{
  "datalore":{
   "version":1,
   "computation_mode":"JUPYTER",
   "package_manager":"pip",
   "base_environment":"default",
   "packages":[
    
   ]
  }
 },
 "nbformat":4,
 "nbformat_minor":4
}
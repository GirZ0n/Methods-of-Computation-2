{
 "cells":[
  {
   "cell_type":"markdown",
   "source":[
    "# Utils"
   ],
   "attachments":{
    
   },
   "metadata":{
    "datalore":{
     "type":"MD",
     "hide_input_from_viewers":false,
     "hide_output_from_viewers":false,
     "sheet_delimiter":true
    }
   }
  },
  {
   "cell_type":"code",
   "source":[
    "from dataclasses import dataclass\n",
    "from math import e, sin, cos, log, pi\n",
    "from typing import List, Tuple, Callable, Optional\n",
    "\n",
    "import numpy as np\n",
    "import numpy.linalg as linalg\n",
    "import plotly.express as px\n",
    "import plotly.graph_objects as go\n",
    "from scipy.integrate import quad\n",
    "from scipy.special import eval_jacobi"
   ],
   "execution_count":null,
   "outputs":[
    
   ],
   "metadata":{
    "datalore":{
     "type":"CODE",
     "hide_input_from_viewers":false,
     "hide_output_from_viewers":false
    }
   }
  },
  {
   "cell_type":"code",
   "source":[
    "Function = Callable[[np.float64], np.float64]\n",
    "RESOLUTION = 10000\n",
    "COLORS = px.colors.qualitative.Dark24"
   ],
   "execution_count":null,
   "outputs":[
    
   ],
   "metadata":{
    "datalore":{
     "type":"CODE",
     "hide_input_from_viewers":false,
     "hide_output_from_viewers":false
    }
   }
  },
  {
   "cell_type":"code",
   "source":[
    "@dataclass\n",
    "class GeneralCondition:\n",
    "    \"\"\"\n",
    "    Граничное условие общего вида: alpha_1 * u(a) ± alpha_2 * u'(a) = alpha, где\n",
    "\n",
    "    alpha_1 = first_coefficient,\n",
    "    alpha_2 = second_coefficient,\n",
    "    alpha = expected_value,\n",
    "    a = point\n",
    "    \"\"\"\n",
    "    expected_value: float\n",
    "    point: float\n",
    "\n",
    "    first_coefficient: float = 1\n",
    "    second_coefficient: float = 0"
   ],
   "execution_count":null,
   "outputs":[
    
   ],
   "metadata":{
    "datalore":{
     "type":"CODE",
     "hide_input_from_viewers":false,
     "hide_output_from_viewers":false
    }
   }
  },
  {
   "cell_type":"code",
   "source":[
    "def get_jacobi_polynomials_with_derivative(\n",
    "        *,\n",
    "        n: int,\n",
    "        k: int,\n",
    ") -> Tuple[Function, Function]:\n",
    "    polynomial: Function = lambda x: eval_jacobi(n, k, k, x)\n",
    "\n",
    "    if n == 0:\n",
    "        derivative: Function = lambda x: 0\n",
    "    else:\n",
    "        derivative: Function = lambda x: (n + 2 * k + 1) \/ 2 * eval_jacobi(n - 1, k + 1, k + 1, x)\n",
    "\n",
    "    return polynomial, derivative"
   ],
   "execution_count":null,
   "outputs":[
    
   ],
   "metadata":{
    "datalore":{
     "type":"CODE",
     "hide_input_from_viewers":false,
     "hide_output_from_viewers":false
    }
   }
  },
  {
   "cell_type":"code",
   "source":[
    "def get_basis_functions_with_derivatives(\n",
    "        *,\n",
    "        number_of_basis_functions: int,\n",
    "        left_condition: GeneralCondition,\n",
    "        right_condition: GeneralCondition,\n",
    "        k_jacobi_polynomials: int = 2,\n",
    ") -> Tuple[List[Function], List[Function]]:\n",
    "    basis_functions = []\n",
    "    basis_derivatives = []\n",
    "\n",
    "    for i in range(number_of_basis_functions):\n",
    "        basis_function, basis_derivative = get_basis_function_with_derivative(\n",
    "            number_of_basis_function=i,\n",
    "            left_condition=left_condition,\n",
    "            right_condition=right_condition,\n",
    "            k_jacobi_polynomials=k_jacobi_polynomials,\n",
    "        )\n",
    "            \n",
    "        basis_functions.append(basis_function)\n",
    "        basis_derivatives.append(basis_derivative)\n",
    "\n",
    "    return basis_functions, basis_derivatives\n",
    "\n",
    "\n",
    "def get_basis_function_with_derivative(\n",
    "        *,\n",
    "        number_of_basis_function: int,\n",
    "        left_condition: GeneralCondition,\n",
    "        right_condition: GeneralCondition,\n",
    "        k_jacobi_polynomials: int = 2,\n",
    ") -> Tuple[Function, Function]:\n",
    "    alpha_1 = left_condition.first_coefficient\n",
    "    alpha_2 = left_condition.second_coefficient\n",
    "\n",
    "    beta_1 = right_condition.first_coefficient\n",
    "    beta_2 = right_condition.second_coefficient\n",
    "\n",
    "    a = left_condition.point\n",
    "    b = right_condition.point\n",
    "\n",
    "    matrix = np.array([\n",
    "        [alpha_1 * a - alpha_2, alpha_1],\n",
    "        [beta_1 * b + beta_2, beta_1],\n",
    "    ])\n",
    "\n",
    "    if number_of_basis_function == 0:\n",
    "        right_side = np.array([\n",
    "            [a * (-1 * alpha_1 * a + 2 * alpha_2)],\n",
    "            [b * (-1 * beta_1 * b - 2 * beta_2)],\n",
    "        ])\n",
    "\n",
    "        c_1, d_1 = linalg.solve(matrix, right_side)\n",
    "\n",
    "        return np.vectorize(lambda x: x ** 2 + c_1 * x + d_1), np.vectorize(lambda x: 2 * x + c_1)\n",
    "    elif number_of_basis_function == 1:\n",
    "        right_side = np.array([\n",
    "            [a ** 2 * (-1 * alpha_1 * a + 3 * alpha_2)],\n",
    "            [b ** 2 * (-1 * beta_1 * b - 3 * beta_2)],\n",
    "        ])\n",
    "\n",
    "        c_2, d_2 = linalg.solve(matrix, right_side)\n",
    "\n",
    "        return np.vectorize(lambda x: x ** 3 + c_2 * x + d_2), np.vectorize(lambda x: 3 * x ** 2 + c_2)\n",
    "    else:\n",
    "        polynomial, derivative = get_jacobi_polynomials_with_derivative(n=number_of_basis_function - 2, k=k_jacobi_polynomials)\n",
    "        new_polynomial = lambda x: (x - a) ** 2 * (x - b) ** 2 * polynomial((2 * x - b - a) \/ (b - a))\n",
    "        new_derivative = lambda x: (\n",
    "                (x - a) ** 2 * (x - b) ** 2 * derivative((2 * x - b - a) \/ (b - a)) * (2 \/ (b - a))\n",
    "                + 2 * polynomial((2 * x - b - a) \/ (b - a)) * (x - a) * (x - b) * (2 * x - a - b)\n",
    "        )\n",
    "        return new_polynomial, new_derivative"
   ],
   "execution_count":null,
   "outputs":[
    
   ],
   "metadata":{
    "datalore":{
     "type":"CODE",
     "hide_input_from_viewers":false,
     "hide_output_from_viewers":false
    }
   }
  },
  {
   "cell_type":"code",
   "source":[
    "def solve_using_galerkin_method(\n",
    "        *,\n",
    "        k: Function,\n",
    "        v: Function,\n",
    "        q: Function,\n",
    "        f: Function,\n",
    "        left_condition: GeneralCondition,\n",
    "        right_condition: GeneralCondition,\n",
    "        k_derivative: Function,\n",
    "        number_of_basis_functions: int,\n",
    ") -> Function:\n",
    "    alpha_1 = left_condition.first_coefficient\n",
    "    alpha_2 = left_condition.second_coefficient\n",
    "    alpha = left_condition.expected_value\n",
    "\n",
    "    beta_1 = right_condition.first_coefficient\n",
    "    beta_2 = right_condition.second_coefficient\n",
    "    beta = right_condition.expected_value\n",
    "\n",
    "    a = left_condition.point\n",
    "    b = right_condition.point\n",
    "\n",
    "    z = lambda x: 0\n",
    "    new_f = f\n",
    "\n",
    "    if alpha != 0 or beta != 0:\n",
    "        matrix = np.array([\n",
    "            [a * alpha_1 - alpha_2, alpha_1],\n",
    "            [b * beta_1 + beta_2, beta_1],\n",
    "        ])\n",
    "        right_side = np.array([alpha, beta])\n",
    "\n",
    "        d_1, d_2 = linalg.solve(matrix, right_side)\n",
    "        z = lambda x: d_1 * x + d_2\n",
    "\n",
    "        new_f = lambda x: f(x) - (-1 * k_derivative(x) * d_1 + v(x) * d_1 + q(x) * (d_1 * x + d_2))\n",
    "\n",
    "    basis_functions, basis_derivatives = get_basis_functions_with_derivatives(\n",
    "        number_of_basis_functions=number_of_basis_functions,\n",
    "        left_condition=left_condition,\n",
    "        right_condition=right_condition,\n",
    "    )\n",
    "\n",
    "    matrix = []\n",
    "    right_side = []\n",
    "\n",
    "    x = np.linspace(a, b)\n",
    "\n",
    "    for basis_function_i, basis_derivative_i in zip(basis_functions, basis_derivatives):\n",
    "        matrix_row = []\n",
    "        for basis_function_j, basis_derivative_j in zip(basis_functions, basis_derivatives):\n",
    "            matrix_coefficient = quad(\n",
    "                func=lambda x: (\n",
    "                        k(x) * basis_derivative_j(x) * basis_derivative_i(x)\n",
    "                        + v(x) * basis_derivative_j(x) * basis_function_i(x)\n",
    "                        + q(x) * basis_function_j(x) * basis_function_i(x)\n",
    "                ),\n",
    "                a=a,\n",
    "                b=b,\n",
    "            )[0]\n",
    "\n",
    "            matrix_row.append(matrix_coefficient)\n",
    "\n",
    "        matrix.append(matrix_row)\n",
    "\n",
    "        right_side.append(quad(lambda x: new_f(x) * basis_function_i(x), a=a, b=b)[0])\n",
    "\n",
    "    matrix = np.array(matrix)\n",
    "    right_side = np.array(right_side)\n",
    "\n",
    "    coefficients = linalg.solve(matrix, right_side)\n",
    "\n",
    "    homogeneous_solution = lambda x: sum(\n",
    "        basis_function(x) * coefficient for basis_function, coefficient in zip(basis_functions, coefficients)\n",
    "    )\n",
    "\n",
    "    return lambda x: homogeneous_solution(x) + z(x)"
   ],
   "execution_count":null,
   "outputs":[
    
   ],
   "metadata":{
    "datalore":{
     "type":"CODE",
     "hide_input_from_viewers":false,
     "hide_output_from_viewers":false
    }
   }
  },
  {
   "cell_type":"code",
   "source":[
    "def calculate_error(\n",
    "        actual_solution: Function, \n",
    "        true_solutiion: Function, \n",
    "        segment: Tuple[float, float], \n",
    ") -> float:\n",
    "    points = np.linspace(*segment, RESOLUTION)\n",
    "\n",
    "    actual_values = actual_solution(points)\n",
    "    true_values = true_solutiion(points)\n",
    "\n",
    "    return abs(actual_values - true_values).max()"
   ],
   "execution_count":null,
   "outputs":[
    
   ],
   "metadata":{
    "datalore":{
     "type":"CODE",
     "hide_input_from_viewers":false,
     "hide_output_from_viewers":false
    }
   }
  },
  {
   "cell_type":"code",
   "source":[
    "def _add_true_solution(fig, true_solution: Function, segment: Tuple[float, float], x_bias: float) -> None:\n",
    "    a, b = segment\n",
    "\n",
    "    x, step = np.linspace(a, b, RESOLUTION, retstep=True)\n",
    "    fig.add_scatter(x=x, y=true_solution(x), name='True', line_color='rgba(0, 0, 0, 0.25)', showlegend=False)\n",
    "\n",
    "    x = np.linspace(a - x_bias, a, int(RESOLUTION * x_bias))\n",
    "    fig.add_scatter(x=x, y=true_solution(x), name='True', line_color='rgba(0, 0, 0, 0.25)', showlegend=False)\n",
    "\n",
    "    x = np.linspace(b, b + x_bias, int(RESOLUTION * x_bias))\n",
    "    fig.add_scatter(x=x, y=true_solution(x), name='True', line_color='rgba(0, 0, 0, 0.25)', showlegend=False)\n",
    "\n",
    "\n",
    "def banchmark(\n",
    "        k: Function,\n",
    "        k_derivative: Function,\n",
    "        v: Function,\n",
    "        q: Function,\n",
    "        f: Function,\n",
    "        left_condition: GeneralCondition,\n",
    "        right_condition: GeneralCondition,\n",
    "        limit: int = 20,\n",
    "        step: int = 1,\n",
    "        true_solution: Optional[Function] = None,\n",
    "        x_bias: float = 1,\n",
    ") -> None:\n",
    "    segment = (left_condition.point, right_condition.point)\n",
    "    x = np.linspace(*segment, RESOLUTION)\n",
    "\n",
    "    solution_fig = go.Figure()\n",
    "    errors = []\n",
    "    min_error = float('inf')\n",
    "    for i in range(2, limit + 1, step):\n",
    "        actual_solution = solve_using_galerkin_method(\n",
    "            k=k,\n",
    "            v=v,\n",
    "            q=q,\n",
    "            f=f,\n",
    "            left_condition=left_condition,\n",
    "            right_condition=right_condition,\n",
    "            k_derivative=k_derivative,\n",
    "            number_of_basis_functions=i,\n",
    "        )\n",
    "\n",
    "        solution_fig.add_scatter(x=x, y=actual_solution(x), name=f'{i}', line_color = COLORS[(i - 2) \/\/ step % len(COLORS)])\n",
    "\n",
    "        if true_solution is not None:\n",
    "            current_error = calculate_error(actual_solution, true_solution, (left_condition.point, right_condition.point))\n",
    "            if current_error < min_error:\n",
    "                min_error = current_error\n",
    "                best_solution = actual_solution\n",
    "                best_index = i\n",
    "            errors.append(current_error)\n",
    "\n",
    "    if true_solution is not None:\n",
    "        error_fig = px.line(x=range(2, limit + 1, step), y=errors)\n",
    "\n",
    "        error_fig.update_yaxes(tickformat='.2e', title='Ошибка')\n",
    "        error_fig.update_xaxes(title='Количество базисных функций')\n",
    "        error_fig.update_layout(title='Зависимость ошибки от количества базисных функций')\n",
    "\n",
    "        error_fig.show()    \n",
    "\n",
    "    if true_solution is not None:\n",
    "        _add_true_solution(solution_fig, true_solution, segment, x_bias)\n",
    "\n",
    "    solution_fig.update_layout(title='Сравнение истинного решение и всех найденных')\n",
    "    solution_fig.show(config={'scrollZoom': True})\n",
    "\n",
    "    if true_solution is not None:\n",
    "        best_fig = go.Figure()\n",
    "\n",
    "        x = np.linspace(*segment, RESOLUTION)\n",
    "        best_fig.add_scatter(x=x, y=best_solution(x), name=f'Best ({best_index})')\n",
    "\n",
    "        _add_true_solution(best_fig, true_solution, segment, x_bias)\n",
    "        best_fig.update_layout(title='Сравнение истинного решение и наилучшего найденного')\n",
    "\n",
    "        best_fig.show(config={'scrollZoom': True})"
   ],
   "execution_count":null,
   "outputs":[
    
   ],
   "metadata":{
    "datalore":{
     "type":"CODE",
     "hide_input_from_viewers":false,
     "hide_output_from_viewers":false
    }
   }
  },
  {
   "cell_type":"markdown",
   "source":[
    "# First"
   ],
   "attachments":{
    
   },
   "metadata":{
    "datalore":{
     "type":"MD",
     "hide_input_from_viewers":false,
     "hide_output_from_viewers":false,
     "sheet_delimiter":true
    }
   }
  },
  {
   "cell_type":"markdown",
   "source":[
    "$$u(x) = x^5 - 5x^4 + 5x^3 + 5x^2 - 6x$$\n",
    "$$u(-1) = 0$$\n",
    "$$u(3) = 0$$"
   ],
   "attachments":{
    
   },
   "metadata":{
    "datalore":{
     "type":"MD",
     "hide_input_from_viewers":false,
     "hide_output_from_viewers":false
    }
   }
  },
  {
   "cell_type":"code",
   "source":[
    "u = lambda x: x ** 5 - 5 * x ** 4 + 5 * x ** 3 + 5 * x ** 2 - 6 * x\n",
    "du = lambda x: 5 * x ** 4 - 20 * x ** 3 + 15 * x ** 2 + 10 * x - 6\n",
    "ddu = lambda x: 10 * (2 * x ** 3 - 6 * x ** 2 + 3 * x + 1)\n",
    "\n",
    "k = lambda x: x ** 2\n",
    "v = lambda x: 5\n",
    "q = lambda x: -x\n",
    "\n",
    "k_derivative = lambda x: 2 * x\n",
    "f = lambda x: -1 * (k_derivative(x) * du(x) + k(x) * ddu(x)) + v(x) * du(x) + q(x) * u(x)\n",
    "\n",
    "left_condition = GeneralCondition(expected_value=0, point=-1)\n",
    "right_condition = GeneralCondition(expected_value=0, point=3)\n",
    "\n",
    "banchmark(k, k_derivative, v, q, f, left_condition, right_condition, true_solution=np.vectorize(u))"
   ],
   "execution_count":null,
   "outputs":[
    
   ],
   "metadata":{
    "datalore":{
     "type":"CODE",
     "hide_input_from_viewers":false,
     "hide_output_from_viewers":false
    }
   }
  },
  {
   "cell_type":"markdown",
   "source":[
    "$$u(x) = x^5 - 5x^4 + 5x^3 + 5x^2 - 6x$$\n",
    "$$u(-0.9) = 1.93401$$\n",
    "$$u(3.1) = 2.93601$$"
   ],
   "attachments":{
    
   },
   "metadata":{
    "datalore":{
     "type":"MD",
     "hide_input_from_viewers":false,
     "hide_output_from_viewers":false
    }
   }
  },
  {
   "cell_type":"code",
   "source":[
    "u = lambda x: x ** 5 - 5 * x ** 4 + 5 * x ** 3 + 5 * x ** 2 - 6 * x\n",
    "du = lambda x: 5 * x ** 4 - 20 * x ** 3 + 15 * x ** 2 + 10 * x - 6\n",
    "ddu = lambda x: 10 * (2 * x ** 3 - 6 * x ** 2 + 3 * x + 1)\n",
    "\n",
    "k = lambda x: x ** 2\n",
    "v = lambda x: 5\n",
    "q = lambda x: -x\n",
    "\n",
    "k_derivative = lambda x: 2 * x\n",
    "f = lambda x: -1 * (k_derivative(x) * du(x) + k(x) * ddu(x)) + v(x) * du(x) + q(x) * u(x)\n",
    "\n",
    "left_condition = GeneralCondition(expected_value=1.93401, point=-0.9)\n",
    "right_condition = GeneralCondition(expected_value=2.93601, point=3.1)\n",
    "\n",
    "banchmark(k, k_derivative, v, q, f, left_condition, right_condition, true_solution=np.vectorize(u))"
   ],
   "execution_count":null,
   "outputs":[
    
   ],
   "metadata":{
    "datalore":{
     "type":"CODE",
     "hide_input_from_viewers":false,
     "hide_output_from_viewers":false
    }
   }
  },
  {
   "cell_type":"markdown",
   "source":[
    "# Second"
   ],
   "attachments":{
    
   },
   "metadata":{
    "datalore":{
     "type":"MD",
     "hide_input_from_viewers":false,
     "hide_output_from_viewers":false,
     "sheet_delimiter":true
    }
   }
  },
  {
   "cell_type":"markdown",
   "source":[
    "$$u = x e^{sin(x)}$$\n",
    "$$u(0) = 0$$\n",
    "$$u(6) = 6 e^{sin(6)}$$"
   ],
   "attachments":{
    
   },
   "metadata":{
    "datalore":{
     "type":"MD",
     "hide_input_from_viewers":false,
     "hide_output_from_viewers":false
    }
   }
  },
  {
   "cell_type":"code",
   "source":[
    "u = lambda x: x * e ** sin(x)\n",
    "du = lambda x: e ** sin(x) * (x * cos(x) + 1)\n",
    "ddu = lambda x: e ** sin(x) * (-x * sin(x) + x * cos(x) ** 2 + 2 * cos(x))\n",
    "\n",
    "k = lambda x: x ** 2\n",
    "v = lambda x: -x\n",
    "q = lambda x: 1\n",
    "\n",
    "k_derivative = lambda x: 2 * x\n",
    "f = lambda x: -1 * (k_derivative(x) * du(x) + k(x) * ddu(x)) + v(x) * du(x) + q(x) * u(x)\n",
    "\n",
    "left_condition = GeneralCondition(expected_value=0, point=0)\n",
    "right_condition = GeneralCondition(expected_value=6 * e ** sin(6), point=6)\n",
    "\n",
    "banchmark(k, k_derivative, v, q, f, left_condition, right_condition, true_solution=np.vectorize(u), limit=40, step=2)"
   ],
   "execution_count":null,
   "outputs":[
    
   ],
   "metadata":{
    "datalore":{
     "type":"CODE",
     "hide_input_from_viewers":false,
     "hide_output_from_viewers":false
    }
   }
  },
  {
   "cell_type":"markdown",
   "source":[
    "$$u = x e^{sin(x)}$$\n",
    "$$u(-2) = -2 e^{sin(-2)}$$\n",
    "$$u(6) = 6 e^{sin(6)}$$"
   ],
   "attachments":{
    
   },
   "metadata":{
    "datalore":{
     "type":"MD",
     "hide_input_from_viewers":false,
     "hide_output_from_viewers":false
    }
   }
  },
  {
   "cell_type":"code",
   "source":[
    "u = lambda x: x * e ** sin(x)\n",
    "du = lambda x: e ** sin(x) * (x * cos(x) + 1)\n",
    "ddu = lambda x: e ** sin(x) * (-x * sin(x) + x * cos(x) ** 2 + 2 * cos(x))\n",
    "\n",
    "k = lambda x: x ** 2\n",
    "v = lambda x: -x\n",
    "q = lambda x: 1\n",
    "\n",
    "k_derivative = lambda x: 2 * x\n",
    "f = lambda x: -1 * (k_derivative(x) * du(x) + k(x) * ddu(x)) + v(x) * du(x) + q(x) * u(x)\n",
    "\n",
    "left_condition = GeneralCondition(expected_value=-2 * e ** sin(-2), point=-2)\n",
    "right_condition = GeneralCondition(expected_value=6 * e ** sin(6), point=6)\n",
    "\n",
    "banchmark(k, k_derivative, v, q, f, left_condition, right_condition, true_solution=np.vectorize(u), limit=40, step=2)"
   ],
   "execution_count":null,
   "outputs":[
    
   ],
   "metadata":{
    "datalore":{
     "type":"CODE",
     "hide_input_from_viewers":false,
     "hide_output_from_viewers":false
    }
   }
  },
  {
   "cell_type":"markdown",
   "source":[
    "# Third"
   ],
   "attachments":{
    
   },
   "metadata":{
    "datalore":{
     "type":"MD",
     "hide_input_from_viewers":false,
     "hide_output_from_viewers":false,
     "sheet_delimiter":true
    }
   }
  },
  {
   "cell_type":"markdown",
   "source":[
    "$$u(x) = sin(e^x) + cos(log(x))$$\n",
    "$$u(0.5) = 1.7662$$\n",
    "$$u(3) = 1.3993$$"
   ],
   "attachments":{
    
   },
   "metadata":{
    "datalore":{
     "type":"MD",
     "hide_input_from_viewers":false,
     "hide_output_from_viewers":false
    }
   }
  },
  {
   "cell_type":"code",
   "source":[
    "u = lambda x: sin(e ** x) + cos(log(x))\n",
    "du = lambda x: e ** x * cos(e ** x) - sin(log(x)) \/ x\n",
    "ddu = lambda x: e ** x * cos(e ** x) - cos(log(x)) \/ x ** 2 - e ** (2 * x) * sin(e ** x) + sin(log(x)) \/ x ** 2\n",
    "\n",
    "k = lambda x: sin(x)\n",
    "v = lambda x: cos(x)\n",
    "q = lambda x: log(x)\n",
    "\n",
    "k_derivative = lambda x: cos(x)\n",
    "f = lambda x: -1 * (k_derivative(x) * du(x) + k(x) * ddu(x)) + v(x) * du(x) + q(x) * u(x)\n",
    "\n",
    "left_condition = GeneralCondition(expected_value=1.7662, point=0.5)\n",
    "right_condition = GeneralCondition(expected_value=1.3993, point=3)\n",
    "\n",
    "banchmark(k, k_derivative, v, q, f, left_condition, right_condition, true_solution=np.vectorize(u), x_bias=0.25, limit=40, step=2)"
   ],
   "execution_count":null,
   "outputs":[
    
   ],
   "metadata":{
    "datalore":{
     "type":"CODE",
     "hide_input_from_viewers":false,
     "hide_output_from_viewers":false
    }
   }
  },
  {
   "cell_type":"markdown",
   "source":[
    "# Fourth"
   ],
   "attachments":{
    
   },
   "metadata":{
    "datalore":{
     "type":"MD",
     "hide_input_from_viewers":false,
     "hide_output_from_viewers":false,
     "sheet_delimiter":true
    }
   }
  },
  {
   "cell_type":"markdown",
   "source":[
    "$$u(x) = sin\\left(\\frac{1}{x}\\right)$$\n",
    "$$u\\left(\\frac{1}{8\\pi}\\right) = 0$$\n",
    "$$u\\left(\\frac{1}{4\\pi}\\right) = 0$$"
   ],
   "attachments":{
    
   },
   "metadata":{
    "datalore":{
     "type":"MD",
     "hide_input_from_viewers":false,
     "hide_output_from_viewers":false
    }
   }
  },
  {
   "cell_type":"code",
   "source":[
    "u = lambda x: sin(1 \/ x)\n",
    "du = lambda x: -1 * cos(1 \/ x) \/ x ** 2\n",
    "ddu = lambda x: (2 * x * cos(1 \/ x) - sin(1 \/ x)) \/ x ** 4\n",
    "\n",
    "k = lambda x: x\n",
    "v = lambda x: x ** 2\n",
    "q = lambda x: x ** 3\n",
    "\n",
    "k_derivative = lambda x: 1\n",
    "f = lambda x: -1 * (k_derivative(x) * du(x) + k(x) * ddu(x)) + v(x) * du(x) + q(x) * u(x)\n",
    "\n",
    "left_condition = GeneralCondition(expected_value=0, point=1 \/ (8 * pi))\n",
    "right_condition = GeneralCondition(expected_value=0, point=1 \/ (4 * pi))\n",
    "\n",
    "banchmark(k, k_derivative, v, q, f, left_condition, right_condition, true_solution=np.vectorize(u), x_bias=0.01)"
   ],
   "execution_count":null,
   "outputs":[
    
   ],
   "metadata":{
    "datalore":{
     "type":"CODE",
     "hide_input_from_viewers":false,
     "hide_output_from_viewers":false
    }
   }
  },
  {
   "cell_type":"markdown",
   "source":[
    "$$u(x) = sin\\left(\\frac{1}{x}\\right)$$\n",
    "$$u(0.05) = 0.912945$$\n",
    "$$u(0.8) = 0.948985$$"
   ],
   "attachments":{
    
   },
   "metadata":{
    "datalore":{
     "type":"MD",
     "hide_input_from_viewers":false,
     "hide_output_from_viewers":false
    }
   }
  },
  {
   "cell_type":"code",
   "source":[
    "u = lambda x: sin(1 \/ x)\n",
    "du = lambda x: -1 * cos(1 \/ x) \/ x ** 2\n",
    "ddu = lambda x: (2 * x * cos(1 \/ x) - sin(1 \/ x)) \/ x ** 4\n",
    "\n",
    "k = lambda x: x\n",
    "v = lambda x: x ** 2\n",
    "q = lambda x: x ** 3\n",
    "\n",
    "k_derivative = lambda x: 1\n",
    "f = lambda x: -1 * (k_derivative(x) * du(x) + k(x) * ddu(x)) + v(x) * du(x) + q(x) * u(x)\n",
    "\n",
    "left_condition = GeneralCondition(expected_value=0.912945, point=0.05)\n",
    "right_condition = GeneralCondition(expected_value=0.948985, point=0.8)\n",
    "\n",
    "banchmark(k, k_derivative, v, q, f, left_condition, right_condition, true_solution=np.vectorize(u), x_bias=0.01, limit=40, step=2)"
   ],
   "execution_count":null,
   "outputs":[
    
   ],
   "metadata":{
    "datalore":{
     "type":"CODE",
     "hide_input_from_viewers":false,
     "hide_output_from_viewers":false
    }
   }
  }
 ],
 "metadata":{
  "datalore":{
   "version":1,
   "computation_mode":"JUPYTER",
   "package_manager":"pip",
   "base_environment":"default",
   "packages":[
    
   ]
  }
 },
 "nbformat":4,
 "nbformat_minor":4
}
{
 "cells":[
  {
   "cell_type":"markdown",
   "source":[
    "# Utils"
   ],
   "attachments":{
    
   },
   "metadata":{
    "datalore":{
     "type":"MD",
     "hide_input_from_viewers":false,
     "hide_output_from_viewers":false,
     "sheet_delimiter":true
    }
   }
  },
  {
   "cell_type":"code",
   "source":[
    "from itertools import product\n",
    "from math import sqrt\n",
    "from typing import Tuple, Optional, Callable\n",
    "\n",
    "import numpy as np\n",
    "import numpy.linalg as linalg\n",
    "import pandas as pd\n",
    "import plotly.graph_objects as go"
   ],
   "execution_count":1,
   "outputs":[
    
   ],
   "metadata":{
    "datalore":{
     "type":"CODE",
     "hide_input_from_viewers":false,
     "hide_output_from_viewers":false
    }
   }
  },
  {
   "cell_type":"code",
   "source":[
    "def find_eig_by_power_method(\n",
    "        matrix: np.ndarray,\n",
    "        *,\n",
    "        eps: float,\n",
    "        init_x: Optional[np.ndarray] = None,\n",
    "        limit: int = 10000,\n",
    ") -> Tuple[float, np.ndarray, int]:\n",
    "    curr_x = np.ones(matrix.shape[0]) if init_x is None else init_x\n",
    "    curr_x = curr_x \/ linalg.norm(curr_x)\n",
    "\n",
    "    for step in range(limit):\n",
    "        next_x = matrix.dot(curr_x)\n",
    "        value = sqrt(next_x.dot(next_x) \/ curr_x.dot(curr_x))\n",
    "\n",
    "        if linalg.norm(next_x - value * curr_x) \/ linalg.norm(curr_x) <= eps:\n",
    "            return value, next_x, step + 1\n",
    "\n",
    "        curr_x = next_x \/ linalg.norm(next_x)\n",
    "\n",
    "    return value, next_x, step + 1"
   ],
   "execution_count":2,
   "outputs":[
    
   ],
   "metadata":{
    "datalore":{
     "type":"CODE",
     "hide_input_from_viewers":false,
     "hide_output_from_viewers":false
    }
   }
  },
  {
   "cell_type":"code",
   "source":[
    "def find_eig_by_scalar_method(\n",
    "        matrix: np.ndarray,\n",
    "        *,\n",
    "        eps: float,\n",
    "        init_x: Optional[np.ndarray] = None,\n",
    "        limit: int = 10000,\n",
    ") -> Tuple[float, np.ndarray, int]:\n",
    "    curr_x = np.ones(matrix.shape[0]) if init_x is None else init_x\n",
    "    \n",
    "    curr_x, curr_y = curr_x \/ linalg.norm(curr_x), np.copy(curr_x)\n",
    "    next_x, next_y = matrix.dot(curr_x), matrix.T.dot(curr_y)\n",
    "\n",
    "    curr_value = next_x.dot(next_y) \/ curr_x.dot(next_y)\n",
    "\n",
    "    for step in range(limit):\n",
    "        curr_x, curr_y = next_x \/ linalg.norm(next_x), next_y \/ linalg.norm(next_y)\n",
    "        next_x, next_y = matrix.dot(curr_x), matrix.T.dot(curr_y)\n",
    "\n",
    "        next_value = next_x.dot(next_y) \/ curr_x.dot(next_y)\n",
    "\n",
    "        if linalg.norm(next_value - curr_value) <= eps:\n",
    "            return next_value, next_x, step + 1\n",
    "\n",
    "        curr_value = next_value\n",
    "\n",
    "    return next_value, next_x, step + 1"
   ],
   "execution_count":3,
   "outputs":[
    
   ],
   "metadata":{
    "datalore":{
     "type":"CODE",
     "hide_input_from_viewers":false,
     "hide_output_from_viewers":false
    }
   }
  },
  {
   "cell_type":"code",
   "source":[
    "def generate_matrix(element_factory: Callable[[int, int], float], size: int) -> np.ndarray:\n",
    "    return np.array(\n",
    "        [\n",
    "            [element_factory(row, column) for column in range(1, size + 1)]\n",
    "            for row in range(1, size + 1)\n",
    "        ],\n",
    "        dtype=float,\n",
    "    )\n",
    "\n",
    "\n",
    "def get_hilbert_matrix(size: int) -> np.ndarray:\n",
    "    return generate_matrix(lambda row, column: 1 \/ (row + column - 1), size)"
   ],
   "execution_count":4,
   "outputs":[
    
   ],
   "metadata":{
    "datalore":{
     "type":"CODE",
     "hide_input_from_viewers":false,
     "hide_output_from_viewers":false
    }
   }
  },
  {
   "cell_type":"code",
   "source":[
    "def benchmark_matrix(matrix: np.ndarray, eps: float) -> pd.Series:\n",
    "    values, vectors = linalg.eig(matrix)\n",
    "    argmax = abs(values).argmax()\n",
    "\n",
    "    true_value, true_vector = abs(values)[argmax], vectors[:, argmax]\n",
    "\n",
    "    power_value, power_vector, power_steps = find_eig_by_power_method(matrix, eps=eps)\n",
    "    scalar_value, scalar_vector, scalar_steps = find_eig_by_scalar_method(matrix, eps=eps)\n",
    "\n",
    "    return pd.Series([\n",
    "        power_steps,\n",
    "        abs(power_value - true_value),\n",
    "        linalg.norm(abs(power_vector \/ linalg.norm(power_vector)) - abs(true_vector)),\n",
    "        scalar_steps,\n",
    "        abs(scalar_value - true_value),\n",
    "        linalg.norm(abs(scalar_vector \/ linalg.norm(scalar_vector)) - abs(true_vector)),\n",
    "    ])"
   ],
   "execution_count":5,
   "outputs":[
    
   ],
   "metadata":{
    "datalore":{
     "type":"CODE",
     "hide_input_from_viewers":false,
     "hide_output_from_viewers":false
    }
   }
  },
  {
   "cell_type":"code",
   "source":[
    "def compare_eps_and_steps(data: pd.DataFrame, n: int) -> None:\n",
    "    data = data[data.n == n]\n",
    "\n",
    "    fig = go.Figure()\n",
    "\n",
    "    fig.add_scatter(x=data.eps, y=data.power_steps, name='Степенной метод')\n",
    "    fig.add_scatter(x=data.eps, y=data.scalar_steps, name='Метод скалярных произведений')\n",
    "\n",
    "    fig.update_xaxes(title='ε', type='log', autorange='reversed',tickformat='.0e')\n",
    "    fig.update_yaxes(title='Количество шагов')\n",
    "\n",
    "    fig.update_layout(title=f'Зависимость количества шагов от ε ({n = })')\n",
    "\n",
    "    fig.show()"
   ],
   "execution_count":6,
   "outputs":[
    
   ],
   "metadata":{
    "datalore":{
     "type":"CODE",
     "hide_input_from_viewers":false,
     "hide_output_from_viewers":false
    }
   }
  },
  {
   "cell_type":"code",
   "source":[
    "def compare_eps_and_value_error(data: pd.DataFrame, n: int, eps_boundary: Optional[float] = None) -> None:\n",
    "    data = data[data.n == n]\n",
    "\n",
    "    if eps_boundary is not None:\n",
    "        data = data[data.eps <= eps_boundary]\n",
    "\n",
    "    fig = go.Figure()\n",
    "\n",
    "    fig.add_scatter(x=data.eps, y=data.power_value_error, name='Степенной метод')\n",
    "    fig.add_scatter(x=data.eps, y=data.scalar_value_error, name='Метод скалярных произведений')\n",
    "\n",
    "    fig.update_xaxes(title='ε', type='log', autorange='reversed', tickformat='.0e')\n",
    "    fig.update_yaxes(title='Ошибка', tickformat='.2e')\n",
    "\n",
    "    fig.update_layout(title=f'Зависимость ошибки вычисления собственного значения от ε ({n = })')\n",
    "\n",
    "    fig.show()"
   ],
   "execution_count":7,
   "outputs":[
    
   ],
   "metadata":{
    "datalore":{
     "type":"CODE",
     "hide_input_from_viewers":false,
     "hide_output_from_viewers":false
    }
   }
  },
  {
   "cell_type":"code",
   "source":[
    "def compare_eps_and_vector_error(data: pd.DataFrame, n: int, eps_boundary: Optional[float] = None) -> None:\n",
    "    data = data[data.n == n]\n",
    "\n",
    "    if eps_boundary is not None:\n",
    "        data = data[data.eps <= eps_boundary]\n",
    "\n",
    "    fig = go.Figure()\n",
    "\n",
    "    fig.add_scatter(x=data.eps, y=data.power_vector_error, name='Степенной метод')\n",
    "    fig.add_scatter(x=data.eps, y=data.scalar_vector_error, name='Метод скалярных произведений')\n",
    "\n",
    "    fig.update_xaxes(title='ε', type='log', autorange='reversed', tickformat='.0e')\n",
    "    fig.update_yaxes(title='Ошибка', tickformat='.2e')\n",
    "\n",
    "    fig.update_layout(title=f'Зависимость ошибки вычисления собственного вектора от ε ({n = })')\n",
    "\n",
    "    fig.show()"
   ],
   "execution_count":8,
   "outputs":[
    
   ],
   "metadata":{
    "datalore":{
     "type":"CODE",
     "hide_input_from_viewers":false,
     "hide_output_from_viewers":false
    }
   }
  },
  {
   "cell_type":"markdown",
   "source":[
    "# Diagonal"
   ],
   "attachments":{
    
   },
   "metadata":{
    "datalore":{
     "type":"MD",
     "hide_input_from_viewers":false,
     "hide_output_from_viewers":false,
     "sheet_delimiter":true
    }
   }
  },
  {
   "cell_type":"code",
   "source":[
    "def get_diagonal_matrix(size: int) -> np.ndarray:\n",
    "    return np.diag(range(1, size + 1))"
   ],
   "execution_count":9,
   "outputs":[
    
   ],
   "metadata":{
    "datalore":{
     "type":"CODE",
     "hide_input_from_viewers":false,
     "hide_output_from_viewers":false
    }
   }
  },
  {
   "cell_type":"code",
   "source":[
    "diagonal_data = pd.DataFrame(product(range(2, 101), [10 ** -i for i in range(2, 16)]), columns=['n', 'eps'])\n",
    "diagonal_data[\n",
    "    [\n",
    "        'power_steps', \n",
    "        'power_value_error', \n",
    "        'power_vector_error', \n",
    "        'scalar_steps', \n",
    "        'scalar_value_error', \n",
    "        'scalar_vector_error'\n",
    "    ]\n",
    "] = diagonal_data.apply(\n",
    "    func=lambda row: benchmark_matrix(get_diagonal_matrix(int(row.n)), row.eps),\n",
    "    axis=1,\n",
    ")\n",
    "diagonal_data"
   ],
   "execution_count":10,
   "outputs":[
    {
     "data":{
      "text\/html":[
       "<div>\n",
       "<style scoped>\n",
       "    .dataframe tbody tr th:only-of-type {\n",
       "        vertical-align: middle;\n",
       "    }\n",
       "\n",
       "    .dataframe tbody tr th {\n",
       "        vertical-align: top;\n",
       "    }\n",
       "\n",
       "    .dataframe thead th {\n",
       "        text-align: right;\n",
       "    }\n",
       "<\/style>\n",
       "<table border=\"1\" class=\"dataframe\">\n",
       "  <thead>\n",
       "    <tr style=\"text-align: right;\">\n",
       "      <th><\/th>\n",
       "      <th>n<\/th>\n",
       "      <th>eps<\/th>\n",
       "      <th>power_steps<\/th>\n",
       "      <th>power_value_error<\/th>\n",
       "      <th>power_vector_error<\/th>\n",
       "      <th>scalar_steps<\/th>\n",
       "      <th>scalar_value_error<\/th>\n",
       "      <th>scalar_vector_error<\/th>\n",
       "    <\/tr>\n",
       "  <\/thead>\n",
       "  <tbody>\n",
       "    <tr>\n",
       "      <th>0<\/th>\n",
       "      <td>2<\/td>\n",
       "      <td>1.000000e-02<\/td>\n",
       "      <td>8.0<\/td>\n",
       "      <td>4.577410e-05<\/td>\n",
       "      <td>3.906228e-03<\/td>\n",
       "      <td>4.0<\/td>\n",
       "      <td>1.949318e-03<\/td>\n",
       "      <td>0.031239<\/td>\n",
       "    <\/tr>\n",
       "    <tr>\n",
       "      <th>1<\/th>\n",
       "      <td>2<\/td>\n",
       "      <td>1.000000e-03<\/td>\n",
       "      <td>11.0<\/td>\n",
       "      <td>7.152552e-07<\/td>\n",
       "      <td>4.882812e-04<\/td>\n",
       "      <td>6.0<\/td>\n",
       "      <td>1.220554e-04<\/td>\n",
       "      <td>0.007812<\/td>\n",
       "    <\/tr>\n",
       "    <tr>\n",
       "      <th>2<\/th>\n",
       "      <td>2<\/td>\n",
       "      <td>1.000000e-04<\/td>\n",
       "      <td>15.0<\/td>\n",
       "      <td>2.793968e-09<\/td>\n",
       "      <td>3.051758e-05<\/td>\n",
       "      <td>7.0<\/td>\n",
       "      <td>3.051665e-05<\/td>\n",
       "      <td>0.003906<\/td>\n",
       "    <\/tr>\n",
       "    <tr>\n",
       "      <th>3<\/th>\n",
       "      <td>2<\/td>\n",
       "      <td>1.000000e-05<\/td>\n",
       "      <td>18.0<\/td>\n",
       "      <td>4.365575e-11<\/td>\n",
       "      <td>3.814697e-06<\/td>\n",
       "      <td>9.0<\/td>\n",
       "      <td>1.907345e-06<\/td>\n",
       "      <td>0.000977<\/td>\n",
       "    <\/tr>\n",
       "    <tr>\n",
       "      <th>4<\/th>\n",
       "      <td>2<\/td>\n",
       "      <td>1.000000e-06<\/td>\n",
       "      <td>21.0<\/td>\n",
       "      <td>6.821210e-13<\/td>\n",
       "      <td>4.768372e-07<\/td>\n",
       "      <td>11.0<\/td>\n",
       "      <td>1.192093e-07<\/td>\n",
       "      <td>0.000244<\/td>\n",
       "    <\/tr>\n",
       "    <tr>\n",
       "      <th>...<\/th>\n",
       "      <td>...<\/td>\n",
       "      <td>...<\/td>\n",
       "      <td>...<\/td>\n",
       "      <td>...<\/td>\n",
       "      <td>...<\/td>\n",
       "      <td>...<\/td>\n",
       "      <td>...<\/td>\n",
       "      <td>...<\/td>\n",
       "    <\/tr>\n",
       "    <tr>\n",
       "      <th>1381<\/th>\n",
       "      <td>100<\/td>\n",
       "      <td>1.000000e-11<\/td>\n",
       "      <td>2522.0<\/td>\n",
       "      <td>0.000000e+00<\/td>\n",
       "      <td>9.816593e-12<\/td>\n",
       "      <td>1066.0<\/td>\n",
       "      <td>4.896350e-10<\/td>\n",
       "      <td>0.000022<\/td>\n",
       "    <\/tr>\n",
       "    <tr>\n",
       "      <th>1382<\/th>\n",
       "      <td>100<\/td>\n",
       "      <td>1.000000e-12<\/td>\n",
       "      <td>2751.0<\/td>\n",
       "      <td>0.000000e+00<\/td>\n",
       "      <td>9.826986e-13<\/td>\n",
       "      <td>1181.0<\/td>\n",
       "      <td>4.853007e-11<\/td>\n",
       "      <td>0.000007<\/td>\n",
       "    <\/tr>\n",
       "    <tr>\n",
       "      <th>1383<\/th>\n",
       "      <td>100<\/td>\n",
       "      <td>1.000000e-13<\/td>\n",
       "      <td>2980.0<\/td>\n",
       "      <td>0.000000e+00<\/td>\n",
       "      <td>9.837390e-14<\/td>\n",
       "      <td>1286.0<\/td>\n",
       "      <td>5.883294e-12<\/td>\n",
       "      <td>0.000002<\/td>\n",
       "    <\/tr>\n",
       "    <tr>\n",
       "      <th>1384<\/th>\n",
       "      <td>100<\/td>\n",
       "      <td>1.000000e-14<\/td>\n",
       "      <td>3209.0<\/td>\n",
       "      <td>0.000000e+00<\/td>\n",
       "      <td>9.847806e-15<\/td>\n",
       "      <td>1363.0<\/td>\n",
       "      <td>1.250555e-12<\/td>\n",
       "      <td>0.000001<\/td>\n",
       "    <\/tr>\n",
       "    <tr>\n",
       "      <th>1385<\/th>\n",
       "      <td>100<\/td>\n",
       "      <td>1.000000e-15<\/td>\n",
       "      <td>3438.0<\/td>\n",
       "      <td>0.000000e+00<\/td>\n",
       "      <td>9.858232e-16<\/td>\n",
       "      <td>1363.0<\/td>\n",
       "      <td>1.250555e-12<\/td>\n",
       "      <td>0.000001<\/td>\n",
       "    <\/tr>\n",
       "  <\/tbody>\n",
       "<\/table>\n",
       "<p>1386 rows × 8 columns<\/p>\n",
       "<\/div>"
      ]
     },
     "metadata":{
      
     },
     "output_type":"display_data"
    }
   ],
   "metadata":{
    "datalore":{
     "type":"CODE",
     "hide_input_from_viewers":false,
     "hide_output_from_viewers":false
    }
   }
  },
  {
   "cell_type":"code",
   "source":[
    "compare_eps_and_steps(diagonal_data, 10)\n",
    "compare_eps_and_steps(diagonal_data, 50)\n",
    "compare_eps_and_steps(diagonal_data, 100)"
   ],
   "execution_count":11,
   "outputs":[
    {
     "data":{
      "text\/plain":[
       "Unsupported"
      ]
     },
     "metadata":{
      
     },
     "output_type":"display_data"
    }
   ],
   "metadata":{
    "datalore":{
     "type":"CODE",
     "hide_input_from_viewers":false,
     "hide_output_from_viewers":false
    }
   }
  },
  {
   "cell_type":"code",
   "source":[
    "eps_boundary = 1e-8\n",
    "\n",
    "compare_eps_and_value_error(diagonal_data, 10, eps_boundary)\n",
    "compare_eps_and_value_error(diagonal_data, 50, eps_boundary)\n",
    "compare_eps_and_value_error(diagonal_data, 100, eps_boundary)"
   ],
   "execution_count":46,
   "outputs":[
    {
     "data":{
      "text\/plain":[
       "Unsupported"
      ]
     },
     "metadata":{
      
     },
     "output_type":"display_data"
    }
   ],
   "metadata":{
    "datalore":{
     "type":"CODE",
     "hide_input_from_viewers":false,
     "hide_output_from_viewers":false
    }
   }
  },
  {
   "cell_type":"code",
   "source":[
    "eps_boundary = 1e-8\n",
    "\n",
    "compare_eps_and_vector_error(diagonal_data, 10, eps_boundary)\n",
    "compare_eps_and_vector_error(diagonal_data, 50, eps_boundary)\n",
    "compare_eps_and_vector_error(diagonal_data, 100, eps_boundary)"
   ],
   "execution_count":47,
   "outputs":[
    {
     "data":{
      "text\/plain":[
       "Unsupported"
      ]
     },
     "metadata":{
      
     },
     "output_type":"display_data"
    }
   ],
   "metadata":{
    "datalore":{
     "type":"CODE",
     "hide_input_from_viewers":false,
     "hide_output_from_viewers":false
    }
   }
  },
  {
   "cell_type":"markdown",
   "source":[
    "# Diagonally dominant"
   ],
   "attachments":{
    
   },
   "metadata":{
    "datalore":{
     "type":"MD",
     "hide_input_from_viewers":false,
     "hide_output_from_viewers":false,
     "sheet_delimiter":true
    }
   }
  },
  {
   "cell_type":"code",
   "source":[
    "def get_diagonally_dominant_matrix(size: int) -> np.ndarray:\n",
    "    return np.eye(size) * 4 + np.eye(size, k=1) * -1 + np.eye(size, k=-1) * -1"
   ],
   "execution_count":14,
   "outputs":[
    
   ],
   "metadata":{
    "datalore":{
     "type":"CODE",
     "hide_input_from_viewers":false,
     "hide_output_from_viewers":false
    }
   }
  },
  {
   "cell_type":"code",
   "source":[
    "diagonally_dominant_data = pd.DataFrame(product(range(2, 31), [10 ** -i for i in range(2, 16)]), columns=['n', 'eps'])\n",
    "diagonally_dominant_data[\n",
    "    [\n",
    "        'power_steps', \n",
    "        'power_value_error', \n",
    "        'power_vector_error', \n",
    "        'scalar_steps', \n",
    "        'scalar_value_error', \n",
    "        'scalar_vector_error'\n",
    "    ]\n",
    "] = diagonally_dominant_data.apply(\n",
    "    func=lambda row: benchmark_matrix(get_diagonally_dominant_matrix(int(row.n)), row.eps),\n",
    "    axis=1,\n",
    ")\n",
    "diagonally_dominant_data"
   ],
   "execution_count":15,
   "outputs":[
    {
     "data":{
      "text\/html":[
       "<div>\n",
       "<style scoped>\n",
       "    .dataframe tbody tr th:only-of-type {\n",
       "        vertical-align: middle;\n",
       "    }\n",
       "\n",
       "    .dataframe tbody tr th {\n",
       "        vertical-align: top;\n",
       "    }\n",
       "\n",
       "    .dataframe thead th {\n",
       "        text-align: right;\n",
       "    }\n",
       "<\/style>\n",
       "<table border=\"1\" class=\"dataframe\">\n",
       "  <thead>\n",
       "    <tr style=\"text-align: right;\">\n",
       "      <th><\/th>\n",
       "      <th>n<\/th>\n",
       "      <th>eps<\/th>\n",
       "      <th>power_steps<\/th>\n",
       "      <th>power_value_error<\/th>\n",
       "      <th>power_vector_error<\/th>\n",
       "      <th>scalar_steps<\/th>\n",
       "      <th>scalar_value_error<\/th>\n",
       "      <th>scalar_vector_error<\/th>\n",
       "    <\/tr>\n",
       "  <\/thead>\n",
       "  <tbody>\n",
       "    <tr>\n",
       "      <th>0<\/th>\n",
       "      <td>2<\/td>\n",
       "      <td>1.000000e-02<\/td>\n",
       "      <td>1.0<\/td>\n",
       "      <td>2.000000e+00<\/td>\n",
       "      <td>1.570092e-16<\/td>\n",
       "      <td>1.0<\/td>\n",
       "      <td>2.000000<\/td>\n",
       "      <td>0.000000<\/td>\n",
       "    <\/tr>\n",
       "    <tr>\n",
       "      <th>1<\/th>\n",
       "      <td>2<\/td>\n",
       "      <td>1.000000e-03<\/td>\n",
       "      <td>1.0<\/td>\n",
       "      <td>2.000000e+00<\/td>\n",
       "      <td>1.570092e-16<\/td>\n",
       "      <td>1.0<\/td>\n",
       "      <td>2.000000<\/td>\n",
       "      <td>0.000000<\/td>\n",
       "    <\/tr>\n",
       "    <tr>\n",
       "      <th>2<\/th>\n",
       "      <td>2<\/td>\n",
       "      <td>1.000000e-04<\/td>\n",
       "      <td>1.0<\/td>\n",
       "      <td>2.000000e+00<\/td>\n",
       "      <td>1.570092e-16<\/td>\n",
       "      <td>1.0<\/td>\n",
       "      <td>2.000000<\/td>\n",
       "      <td>0.000000<\/td>\n",
       "    <\/tr>\n",
       "    <tr>\n",
       "      <th>3<\/th>\n",
       "      <td>2<\/td>\n",
       "      <td>1.000000e-05<\/td>\n",
       "      <td>1.0<\/td>\n",
       "      <td>2.000000e+00<\/td>\n",
       "      <td>1.570092e-16<\/td>\n",
       "      <td>1.0<\/td>\n",
       "      <td>2.000000<\/td>\n",
       "      <td>0.000000<\/td>\n",
       "    <\/tr>\n",
       "    <tr>\n",
       "      <th>4<\/th>\n",
       "      <td>2<\/td>\n",
       "      <td>1.000000e-06<\/td>\n",
       "      <td>1.0<\/td>\n",
       "      <td>2.000000e+00<\/td>\n",
       "      <td>1.570092e-16<\/td>\n",
       "      <td>1.0<\/td>\n",
       "      <td>2.000000<\/td>\n",
       "      <td>0.000000<\/td>\n",
       "    <\/tr>\n",
       "    <tr>\n",
       "      <th>...<\/th>\n",
       "      <td>...<\/td>\n",
       "      <td>...<\/td>\n",
       "      <td>...<\/td>\n",
       "      <td>...<\/td>\n",
       "      <td>...<\/td>\n",
       "      <td>...<\/td>\n",
       "      <td>...<\/td>\n",
       "      <td>...<\/td>\n",
       "    <\/tr>\n",
       "    <tr>\n",
       "      <th>401<\/th>\n",
       "      <td>30<\/td>\n",
       "      <td>1.000000e-11<\/td>\n",
       "      <td>1166.0<\/td>\n",
       "      <td>3.067876e-02<\/td>\n",
       "      <td>5.478716e-01<\/td>\n",
       "      <td>522.0<\/td>\n",
       "      <td>0.030679<\/td>\n",
       "      <td>0.547899<\/td>\n",
       "    <\/tr>\n",
       "    <tr>\n",
       "      <th>402<\/th>\n",
       "      <td>30<\/td>\n",
       "      <td>1.000000e-12<\/td>\n",
       "      <td>1278.0<\/td>\n",
       "      <td>3.067876e-02<\/td>\n",
       "      <td>5.478716e-01<\/td>\n",
       "      <td>578.0<\/td>\n",
       "      <td>0.030679<\/td>\n",
       "      <td>0.547880<\/td>\n",
       "    <\/tr>\n",
       "    <tr>\n",
       "      <th>403<\/th>\n",
       "      <td>30<\/td>\n",
       "      <td>1.000000e-13<\/td>\n",
       "      <td>1390.0<\/td>\n",
       "      <td>3.067876e-02<\/td>\n",
       "      <td>5.478716e-01<\/td>\n",
       "      <td>635.0<\/td>\n",
       "      <td>0.030679<\/td>\n",
       "      <td>0.547874<\/td>\n",
       "    <\/tr>\n",
       "    <tr>\n",
       "      <th>404<\/th>\n",
       "      <td>30<\/td>\n",
       "      <td>1.000000e-14<\/td>\n",
       "      <td>1503.0<\/td>\n",
       "      <td>3.067876e-02<\/td>\n",
       "      <td>5.478716e-01<\/td>\n",
       "      <td>687.0<\/td>\n",
       "      <td>0.030679<\/td>\n",
       "      <td>0.547873<\/td>\n",
       "    <\/tr>\n",
       "    <tr>\n",
       "      <th>405<\/th>\n",
       "      <td>30<\/td>\n",
       "      <td>1.000000e-15<\/td>\n",
       "      <td>10000.0<\/td>\n",
       "      <td>2.282619e-13<\/td>\n",
       "      <td>2.755484e-06<\/td>\n",
       "      <td>722.0<\/td>\n",
       "      <td>0.030679<\/td>\n",
       "      <td>0.547872<\/td>\n",
       "    <\/tr>\n",
       "  <\/tbody>\n",
       "<\/table>\n",
       "<p>406 rows × 8 columns<\/p>\n",
       "<\/div>"
      ]
     },
     "metadata":{
      
     },
     "output_type":"display_data"
    }
   ],
   "metadata":{
    "datalore":{
     "type":"CODE",
     "hide_input_from_viewers":false,
     "hide_output_from_viewers":false
    }
   }
  },
  {
   "cell_type":"code",
   "source":[
    "compare_eps_and_steps(diagonally_dominant_data, 7)\n",
    "compare_eps_and_steps(diagonally_dominant_data, 25)"
   ],
   "execution_count":16,
   "outputs":[
    {
     "data":{
      "text\/plain":[
       "Unsupported"
      ]
     },
     "metadata":{
      
     },
     "output_type":"display_data"
    }
   ],
   "metadata":{
    "datalore":{
     "type":"CODE",
     "hide_input_from_viewers":false,
     "hide_output_from_viewers":false
    }
   }
  },
  {
   "cell_type":"code",
   "source":[
    "eps_boundary = 1e-8\n",
    "\n",
    "compare_eps_and_value_error(diagonally_dominant_data, 7, eps_boundary)\n",
    "compare_eps_and_value_error(diagonally_dominant_data, 25, eps_boundary)"
   ],
   "execution_count":48,
   "outputs":[
    {
     "data":{
      "text\/plain":[
       "Unsupported"
      ]
     },
     "metadata":{
      
     },
     "output_type":"display_data"
    }
   ],
   "metadata":{
    "datalore":{
     "type":"CODE",
     "hide_input_from_viewers":false,
     "hide_output_from_viewers":false
    }
   }
  },
  {
   "cell_type":"code",
   "source":[
    "eps_boundary = 1e-8\n",
    "\n",
    "compare_eps_and_vector_error(diagonally_dominant_data, 7, eps_boundary)\n",
    "compare_eps_and_vector_error(diagonally_dominant_data, 25, eps_boundary)"
   ],
   "execution_count":49,
   "outputs":[
    {
     "data":{
      "text\/plain":[
       "Unsupported"
      ]
     },
     "metadata":{
      
     },
     "output_type":"display_data"
    }
   ],
   "metadata":{
    "datalore":{
     "type":"CODE",
     "hide_input_from_viewers":false,
     "hide_output_from_viewers":false
    }
   }
  },
  {
   "cell_type":"markdown",
   "source":[
    "# Random"
   ],
   "attachments":{
    
   },
   "metadata":{
    "datalore":{
     "type":"MD",
     "hide_input_from_viewers":false,
     "hide_output_from_viewers":false,
     "sheet_delimiter":true
    }
   }
  },
  {
   "cell_type":"code",
   "source":[
    "random_matrix = np.array([\n",
    "    [-1.19799, 0.27127, -0.87905, 1.64268, 1.40971, 0.43877, 0.33667, -0.44129, 0.28644, 0.15796],\n",
    "    [0.59457, 1.02181, -1.74053, 0.20298, 0.8621, 0.88291, 0.66765, 0.36682, -1.39194, -3.04015],\n",
    "    [-0.57733, 0.89507, 1.66682, -1.66866, -0.33356, 0.45389, -0.8239, 1.31179, 0.08234, 0.11522],\n",
    "    [-0.62787, 0.02007, -1.80254, 0.48282, 0.73049, -1.65855, 0.17265, 0.62828, 1.00379, 0.15821],\n",
    "    [-0.90439, 0.04459, -0.28638, -0.35911, -1.81614, -1.15808, -0.9615, 0.41279, 0.19879, 0.15275],\n",
    "    [-0.29761, 0.49338, 0.17208, -1.56132, -0.44397, 0.63476, 1.55016, -1.41762, 0.71268, -1.0107],\n",
    "    [-0.54966, -0.13497, 1.8501, -1.59812, 0.7826, 0.6689, 1.10238, -0.54145, -0.76669, -0.49043],\n",
    "    [0.81368, 0.59331, 1.16274, -0.34751, 0.55001, -0.43039, 0.47586, -0.72489, 0.22, 0.01402],\n",
    "    [0.74463, -2.08764, -0.40422, -0.08962, -1.30085, 0.12947, 1.3579, -0.48038, 0.75092, -1.35812],\n",
    "    [0.43595, 0.9277, 0.34069, -1.58998, -1.20261, -0.31744, 0.23336, 0.71316, -0.68451, 0.0356],\n",
    "])"
   ],
   "execution_count":19,
   "outputs":[
    
   ],
   "metadata":{
    "datalore":{
     "type":"CODE",
     "hide_input_from_viewers":false,
     "hide_output_from_viewers":false
    }
   }
  },
  {
   "cell_type":"code",
   "source":[
    "random_data = pd.DataFrame(product([10], [10 ** -i for i in range(2, 16)]), columns=['n', 'eps'])\n",
    "random_data[\n",
    "    [\n",
    "        'power_steps', \n",
    "        'power_value_error', \n",
    "        'power_vector_error', \n",
    "        'scalar_steps', \n",
    "        'scalar_value_error', \n",
    "        'scalar_vector_error'\n",
    "    ]\n",
    "] = random_data.apply(\n",
    "    func=lambda row: benchmark_matrix(random_matrix, row.eps),\n",
    "    axis=1,\n",
    ")\n",
    "random_data"
   ],
   "execution_count":20,
   "outputs":[
    {
     "data":{
      "text\/html":[
       "<div>\n",
       "<style scoped>\n",
       "    .dataframe tbody tr th:only-of-type {\n",
       "        vertical-align: middle;\n",
       "    }\n",
       "\n",
       "    .dataframe tbody tr th {\n",
       "        vertical-align: top;\n",
       "    }\n",
       "\n",
       "    .dataframe thead th {\n",
       "        text-align: right;\n",
       "    }\n",
       "<\/style>\n",
       "<table border=\"1\" class=\"dataframe\">\n",
       "  <thead>\n",
       "    <tr style=\"text-align: right;\">\n",
       "      <th><\/th>\n",
       "      <th>n<\/th>\n",
       "      <th>eps<\/th>\n",
       "      <th>power_steps<\/th>\n",
       "      <th>power_value_error<\/th>\n",
       "      <th>power_vector_error<\/th>\n",
       "      <th>scalar_steps<\/th>\n",
       "      <th>scalar_value_error<\/th>\n",
       "      <th>scalar_vector_error<\/th>\n",
       "    <\/tr>\n",
       "  <\/thead>\n",
       "  <tbody>\n",
       "    <tr>\n",
       "      <th>0<\/th>\n",
       "      <td>10<\/td>\n",
       "      <td>1.000000e-02<\/td>\n",
       "      <td>197.0<\/td>\n",
       "      <td>5.856740e-04<\/td>\n",
       "      <td>1.434672e-03<\/td>\n",
       "      <td>83.0<\/td>\n",
       "      <td>5.840821e-02<\/td>\n",
       "      <td>2.758082e-01<\/td>\n",
       "    <\/tr>\n",
       "    <tr>\n",
       "      <th>1<\/th>\n",
       "      <td>10<\/td>\n",
       "      <td>1.000000e-03<\/td>\n",
       "      <td>245.0<\/td>\n",
       "      <td>6.802123e-05<\/td>\n",
       "      <td>1.663461e-04<\/td>\n",
       "      <td>107.0<\/td>\n",
       "      <td>6.313106e-03<\/td>\n",
       "      <td>9.464796e-02<\/td>\n",
       "    <\/tr>\n",
       "    <tr>\n",
       "      <th>2<\/th>\n",
       "      <td>10<\/td>\n",
       "      <td>1.000000e-04<\/td>\n",
       "      <td>297.0<\/td>\n",
       "      <td>1.042036e-06<\/td>\n",
       "      <td>1.480572e-05<\/td>\n",
       "      <td>131.0<\/td>\n",
       "      <td>6.922654e-04<\/td>\n",
       "      <td>3.068941e-02<\/td>\n",
       "    <\/tr>\n",
       "    <tr>\n",
       "      <th>3<\/th>\n",
       "      <td>10<\/td>\n",
       "      <td>1.000000e-05<\/td>\n",
       "      <td>345.0<\/td>\n",
       "      <td>8.031842e-08<\/td>\n",
       "      <td>1.635557e-06<\/td>\n",
       "      <td>155.0<\/td>\n",
       "      <td>7.577581e-05<\/td>\n",
       "      <td>1.068008e-02<\/td>\n",
       "    <\/tr>\n",
       "    <tr>\n",
       "      <th>4<\/th>\n",
       "      <td>10<\/td>\n",
       "      <td>1.000000e-06<\/td>\n",
       "      <td>397.0<\/td>\n",
       "      <td>8.074326e-08<\/td>\n",
       "      <td>1.490928e-07<\/td>\n",
       "      <td>179.0<\/td>\n",
       "      <td>8.294415e-06<\/td>\n",
       "      <td>3.486558e-03<\/td>\n",
       "    <\/tr>\n",
       "    <tr>\n",
       "      <th>5<\/th>\n",
       "      <td>10<\/td>\n",
       "      <td>1.000000e-07<\/td>\n",
       "      <td>446.0<\/td>\n",
       "      <td>1.380063e-08<\/td>\n",
       "      <td>1.705739e-08<\/td>\n",
       "      <td>179.0<\/td>\n",
       "      <td>8.294415e-06<\/td>\n",
       "      <td>3.486558e-03<\/td>\n",
       "    <\/tr>\n",
       "    <tr>\n",
       "      <th>6<\/th>\n",
       "      <td>10<\/td>\n",
       "      <td>1.000000e-08<\/td>\n",
       "      <td>497.0<\/td>\n",
       "      <td>1.483285e-09<\/td>\n",
       "      <td>1.539994e-09<\/td>\n",
       "      <td>227.0<\/td>\n",
       "      <td>9.932015e-08<\/td>\n",
       "      <td>3.852489e-04<\/td>\n",
       "    <\/tr>\n",
       "    <tr>\n",
       "      <th>7<\/th>\n",
       "      <td>10<\/td>\n",
       "      <td>1.000000e-09<\/td>\n",
       "      <td>546.0<\/td>\n",
       "      <td>6.824230e-11<\/td>\n",
       "      <td>1.655767e-10<\/td>\n",
       "      <td>251.0<\/td>\n",
       "      <td>1.086524e-08<\/td>\n",
       "      <td>1.293379e-04<\/td>\n",
       "    <\/tr>\n",
       "    <tr>\n",
       "      <th>8<\/th>\n",
       "      <td>10<\/td>\n",
       "      <td>1.000000e-10<\/td>\n",
       "      <td>598.0<\/td>\n",
       "      <td>9.858780e-13<\/td>\n",
       "      <td>1.473538e-11<\/td>\n",
       "      <td>275.0<\/td>\n",
       "      <td>1.188384e-09<\/td>\n",
       "      <td>4.261055e-05<\/td>\n",
       "    <\/tr>\n",
       "    <tr>\n",
       "      <th>9<\/th>\n",
       "      <td>10<\/td>\n",
       "      <td>1.000000e-11<\/td>\n",
       "      <td>646.0<\/td>\n",
       "      <td>7.283063e-14<\/td>\n",
       "      <td>1.627937e-12<\/td>\n",
       "      <td>312.0<\/td>\n",
       "      <td>4.336309e-11<\/td>\n",
       "      <td>7.933457e-06<\/td>\n",
       "    <\/tr>\n",
       "    <tr>\n",
       "      <th>10<\/th>\n",
       "      <td>10<\/td>\n",
       "      <td>1.000000e-12<\/td>\n",
       "      <td>698.0<\/td>\n",
       "      <td>7.860379e-14<\/td>\n",
       "      <td>1.484442e-13<\/td>\n",
       "      <td>336.0<\/td>\n",
       "      <td>4.751310e-12<\/td>\n",
       "      <td>2.563616e-06<\/td>\n",
       "    <\/tr>\n",
       "    <tr>\n",
       "      <th>11<\/th>\n",
       "      <td>10<\/td>\n",
       "      <td>1.000000e-13<\/td>\n",
       "      <td>747.0<\/td>\n",
       "      <td>1.509903e-14<\/td>\n",
       "      <td>1.679566e-14<\/td>\n",
       "      <td>360.0<\/td>\n",
       "      <td>5.182521e-13<\/td>\n",
       "      <td>8.739164e-07<\/td>\n",
       "    <\/tr>\n",
       "    <tr>\n",
       "      <th>12<\/th>\n",
       "      <td>10<\/td>\n",
       "      <td>1.000000e-14<\/td>\n",
       "      <td>798.0<\/td>\n",
       "      <td>3.108624e-15<\/td>\n",
       "      <td>1.897910e-15<\/td>\n",
       "      <td>384.0<\/td>\n",
       "      <td>5.861978e-14<\/td>\n",
       "      <td>2.835258e-07<\/td>\n",
       "    <\/tr>\n",
       "    <tr>\n",
       "      <th>13<\/th>\n",
       "      <td>10<\/td>\n",
       "      <td>1.000000e-15<\/td>\n",
       "      <td>883.0<\/td>\n",
       "      <td>1.332268e-15<\/td>\n",
       "      <td>1.401225e-15<\/td>\n",
       "      <td>408.0<\/td>\n",
       "      <td>5.329071e-15<\/td>\n",
       "      <td>9.626553e-08<\/td>\n",
       "    <\/tr>\n",
       "  <\/tbody>\n",
       "<\/table>\n",
       "<\/div>"
      ]
     },
     "metadata":{
      
     },
     "output_type":"display_data"
    }
   ],
   "metadata":{
    "datalore":{
     "type":"CODE",
     "hide_input_from_viewers":false,
     "hide_output_from_viewers":false
    }
   }
  },
  {
   "cell_type":"code",
   "source":[
    "compare_eps_and_steps(random_data, 10)"
   ],
   "execution_count":21,
   "outputs":[
    {
     "data":{
      "text\/plain":[
       "Unsupported"
      ]
     },
     "metadata":{
      
     },
     "output_type":"display_data"
    }
   ],
   "metadata":{
    "datalore":{
     "type":"CODE",
     "hide_input_from_viewers":false,
     "hide_output_from_viewers":false
    }
   }
  },
  {
   "cell_type":"code",
   "source":[
    "compare_eps_and_value_error(random_data, n=10, eps_boundary=1e-8)"
   ],
   "execution_count":50,
   "outputs":[
    {
     "data":{
      "text\/plain":[
       "Unsupported"
      ]
     },
     "metadata":{
      
     },
     "output_type":"display_data"
    }
   ],
   "metadata":{
    "datalore":{
     "type":"CODE",
     "hide_input_from_viewers":false,
     "hide_output_from_viewers":false
    }
   }
  },
  {
   "cell_type":"code",
   "source":[
    "compare_eps_and_vector_error(random_data, n=10, eps_boundary=1e-8)"
   ],
   "execution_count":51,
   "outputs":[
    {
     "data":{
      "text\/plain":[
       "Unsupported"
      ]
     },
     "metadata":{
      
     },
     "output_type":"display_data"
    }
   ],
   "metadata":{
    "datalore":{
     "type":"CODE",
     "hide_input_from_viewers":false,
     "hide_output_from_viewers":false
    }
   }
  },
  {
   "cell_type":"markdown",
   "source":[
    "# Hilbert"
   ],
   "attachments":{
    
   },
   "metadata":{
    "datalore":{
     "type":"MD",
     "hide_input_from_viewers":false,
     "hide_output_from_viewers":false,
     "sheet_delimiter":true
    }
   }
  },
  {
   "cell_type":"code",
   "source":[
    "hilbert_data = pd.DataFrame(product(range(2, 29), [10 ** -i for i in range(2, 16)]), columns=['n', 'eps'])\n",
    "hilbert_data[\n",
    "    [\n",
    "        'power_steps', \n",
    "        'power_value_error', \n",
    "        'power_vector_error', \n",
    "        'scalar_steps', \n",
    "        'scalar_value_error', \n",
    "        'scalar_vector_error'\n",
    "    ]\n",
    "] = hilbert_data.apply(\n",
    "    func=lambda row: benchmark_matrix(get_hilbert_matrix(int(row.n)), row.eps),\n",
    "    axis=1,\n",
    ")\n",
    "hilbert_data"
   ],
   "execution_count":24,
   "outputs":[
    {
     "data":{
      "text\/html":[
       "<div>\n",
       "<style scoped>\n",
       "    .dataframe tbody tr th:only-of-type {\n",
       "        vertical-align: middle;\n",
       "    }\n",
       "\n",
       "    .dataframe tbody tr th {\n",
       "        vertical-align: top;\n",
       "    }\n",
       "\n",
       "    .dataframe thead th {\n",
       "        text-align: right;\n",
       "    }\n",
       "<\/style>\n",
       "<table border=\"1\" class=\"dataframe\">\n",
       "  <thead>\n",
       "    <tr style=\"text-align: right;\">\n",
       "      <th><\/th>\n",
       "      <th>n<\/th>\n",
       "      <th>eps<\/th>\n",
       "      <th>power_steps<\/th>\n",
       "      <th>power_value_error<\/th>\n",
       "      <th>power_vector_error<\/th>\n",
       "      <th>scalar_steps<\/th>\n",
       "      <th>scalar_value_error<\/th>\n",
       "      <th>scalar_vector_error<\/th>\n",
       "    <\/tr>\n",
       "  <\/thead>\n",
       "  <tbody>\n",
       "    <tr>\n",
       "      <th>0<\/th>\n",
       "      <td>2<\/td>\n",
       "      <td>1.000000e-02<\/td>\n",
       "      <td>3.0<\/td>\n",
       "      <td>4.192381e-07<\/td>\n",
       "      <td>4.223772e-05<\/td>\n",
       "      <td>1.0<\/td>\n",
       "      <td>1.536973e-05<\/td>\n",
       "      <td>8.144052e-04<\/td>\n",
       "    <\/tr>\n",
       "    <tr>\n",
       "      <th>1<\/th>\n",
       "      <td>2<\/td>\n",
       "      <td>1.000000e-03<\/td>\n",
       "      <td>3.0<\/td>\n",
       "      <td>4.192381e-07<\/td>\n",
       "      <td>4.223772e-05<\/td>\n",
       "      <td>2.0<\/td>\n",
       "      <td>4.134201e-08<\/td>\n",
       "      <td>4.223772e-05<\/td>\n",
       "    <\/tr>\n",
       "    <tr>\n",
       "      <th>2<\/th>\n",
       "      <td>2<\/td>\n",
       "      <td>1.000000e-04<\/td>\n",
       "      <td>4.0<\/td>\n",
       "      <td>1.127667e-09<\/td>\n",
       "      <td>2.190586e-06<\/td>\n",
       "      <td>2.0<\/td>\n",
       "      <td>4.134201e-08<\/td>\n",
       "      <td>4.223772e-05<\/td>\n",
       "    <\/tr>\n",
       "    <tr>\n",
       "      <th>3<\/th>\n",
       "      <td>2<\/td>\n",
       "      <td>1.000000e-05<\/td>\n",
       "      <td>5.0<\/td>\n",
       "      <td>3.033129e-12<\/td>\n",
       "      <td>1.136110e-07<\/td>\n",
       "      <td>3.0<\/td>\n",
       "      <td>1.112017e-10<\/td>\n",
       "      <td>2.190586e-06<\/td>\n",
       "    <\/tr>\n",
       "    <tr>\n",
       "      <th>4<\/th>\n",
       "      <td>2<\/td>\n",
       "      <td>1.000000e-06<\/td>\n",
       "      <td>6.0<\/td>\n",
       "      <td>8.215650e-15<\/td>\n",
       "      <td>5.892235e-09<\/td>\n",
       "      <td>3.0<\/td>\n",
       "      <td>1.112017e-10<\/td>\n",
       "      <td>2.190586e-06<\/td>\n",
       "    <\/tr>\n",
       "    <tr>\n",
       "      <th>...<\/th>\n",
       "      <td>...<\/td>\n",
       "      <td>...<\/td>\n",
       "      <td>...<\/td>\n",
       "      <td>...<\/td>\n",
       "      <td>...<\/td>\n",
       "      <td>...<\/td>\n",
       "      <td>...<\/td>\n",
       "      <td>...<\/td>\n",
       "    <\/tr>\n",
       "    <tr>\n",
       "      <th>373<\/th>\n",
       "      <td>28<\/td>\n",
       "      <td>1.000000e-11<\/td>\n",
       "      <td>22.0<\/td>\n",
       "      <td>1.332268e-15<\/td>\n",
       "      <td>6.316588e-13<\/td>\n",
       "      <td>11.0<\/td>\n",
       "      <td>1.882938e-13<\/td>\n",
       "      <td>1.931444e-07<\/td>\n",
       "    <\/tr>\n",
       "    <tr>\n",
       "      <th>374<\/th>\n",
       "      <td>28<\/td>\n",
       "      <td>1.000000e-12<\/td>\n",
       "      <td>23.0<\/td>\n",
       "      <td>1.332268e-15<\/td>\n",
       "      <td>1.788920e-13<\/td>\n",
       "      <td>12.0<\/td>\n",
       "      <td>1.754152e-14<\/td>\n",
       "      <td>5.461476e-08<\/td>\n",
       "    <\/tr>\n",
       "    <tr>\n",
       "      <th>375<\/th>\n",
       "      <td>28<\/td>\n",
       "      <td>1.000000e-13<\/td>\n",
       "      <td>25.0<\/td>\n",
       "      <td>1.332268e-15<\/td>\n",
       "      <td>1.469203e-14<\/td>\n",
       "      <td>13.0<\/td>\n",
       "      <td>3.108624e-15<\/td>\n",
       "      <td>1.544322e-08<\/td>\n",
       "    <\/tr>\n",
       "    <tr>\n",
       "      <th>376<\/th>\n",
       "      <td>28<\/td>\n",
       "      <td>1.000000e-14<\/td>\n",
       "      <td>27.0<\/td>\n",
       "      <td>1.554312e-15<\/td>\n",
       "      <td>1.724367e-15<\/td>\n",
       "      <td>14.0<\/td>\n",
       "      <td>1.776357e-15<\/td>\n",
       "      <td>4.366825e-09<\/td>\n",
       "    <\/tr>\n",
       "    <tr>\n",
       "      <th>377<\/th>\n",
       "      <td>28<\/td>\n",
       "      <td>1.000000e-15<\/td>\n",
       "      <td>29.0<\/td>\n",
       "      <td>1.554312e-15<\/td>\n",
       "      <td>7.527980e-16<\/td>\n",
       "      <td>15.0<\/td>\n",
       "      <td>2.220446e-15<\/td>\n",
       "      <td>1.234792e-09<\/td>\n",
       "    <\/tr>\n",
       "  <\/tbody>\n",
       "<\/table>\n",
       "<p>378 rows × 8 columns<\/p>\n",
       "<\/div>"
      ]
     },
     "metadata":{
      
     },
     "output_type":"display_data"
    }
   ],
   "metadata":{
    "datalore":{
     "type":"CODE",
     "hide_input_from_viewers":false,
     "hide_output_from_viewers":false
    }
   }
  },
  {
   "cell_type":"code",
   "source":[
    "compare_eps_and_steps(hilbert_data, 2)\n",
    "compare_eps_and_steps(hilbert_data, 14)\n",
    "compare_eps_and_steps(hilbert_data, 28)"
   ],
   "execution_count":25,
   "outputs":[
    {
     "data":{
      "text\/plain":[
       "Unsupported"
      ]
     },
     "metadata":{
      
     },
     "output_type":"display_data"
    }
   ],
   "metadata":{
    "datalore":{
     "type":"CODE",
     "hide_input_from_viewers":false,
     "hide_output_from_viewers":false
    }
   }
  },
  {
   "cell_type":"code",
   "source":[
    "eps_boundary = 1e-8\n",
    "\n",
    "compare_eps_and_value_error(hilbert_data, 2, eps_boundary)\n",
    "compare_eps_and_value_error(hilbert_data, 14, eps_boundary)\n",
    "compare_eps_and_value_error(hilbert_data, 28, eps_boundary)"
   ],
   "execution_count":52,
   "outputs":[
    {
     "data":{
      "text\/plain":[
       "Unsupported"
      ]
     },
     "metadata":{
      
     },
     "output_type":"display_data"
    }
   ],
   "metadata":{
    "datalore":{
     "type":"CODE",
     "hide_input_from_viewers":false,
     "hide_output_from_viewers":false
    }
   }
  },
  {
   "cell_type":"code",
   "source":[
    "eps_boundary = 1e-8\n",
    "\n",
    "compare_eps_and_vector_error(hilbert_data, 2, eps_boundary)\n",
    "compare_eps_and_vector_error(hilbert_data, 14, eps_boundary)\n",
    "compare_eps_and_vector_error(hilbert_data, 28, eps_boundary)"
   ],
   "execution_count":53,
   "outputs":[
    {
     "data":{
      "text\/plain":[
       "Unsupported"
      ]
     },
     "metadata":{
      
     },
     "output_type":"display_data"
    }
   ],
   "metadata":{
    "datalore":{
     "type":"CODE",
     "hide_input_from_viewers":false,
     "hide_output_from_viewers":false
    }
   }
  }
 ],
 "metadata":{
  "datalore":{
   "version":1,
   "computation_mode":"JUPYTER",
   "package_manager":"pip",
   "base_environment":"default",
   "packages":[
    
   ]
  }
 },
 "nbformat":4,
 "nbformat_minor":4
}
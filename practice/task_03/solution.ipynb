{
 "cells":[
  {
   "cell_type":"markdown",
   "source":[
    "# Utils"
   ],
   "attachments":{
    
   },
   "metadata":{
    "datalore":{
     "type":"MD",
     "hide_input_from_viewers":false,
     "hide_output_from_viewers":false,
     "sheet_delimiter":true
    }
   }
  },
  {
   "cell_type":"code",
   "source":[
    "import numpy as np\n",
    "import numpy.linalg as linalg\n",
    "\n",
    "from typing import Tuple, Literal, Optional, Callable\n",
    "from timeit import default_timer as timer\n",
    "\n",
    "import pandas as pd\n",
    "\n",
    "import plotly.express as px\n",
    "import plotly.graph_objects as go"
   ],
   "execution_count":2,
   "outputs":[
    
   ],
   "metadata":{
    "datalore":{
     "type":"CODE",
     "hide_input_from_viewers":false,
     "hide_output_from_viewers":false
    }
   }
  },
  {
   "cell_type":"code",
   "source":[
    "def calculate_spectral_condition_number(matrix: np.ndarray) -> float:\n",
    "    return linalg.cond(matrix)\n",
    "\n",
    "\n",
    "def calculate_volume_condition_number(matrix: np.ndarray) -> float:\n",
    "    volume_0 = abs(linalg.det(matrix))  # Объём косоугольного параллелепипеда\n",
    "\n",
    "    volume = 1  # Объём прямоугольного параллелепипеда\n",
    "    for row in matrix:\n",
    "        volume *= linalg.norm(row)\n",
    "\n",
    "    return volume \/ volume_0\n",
    "\n",
    "\n",
    "def calculate_angle_condition_number(matrix: np.ndarray) -> float:\n",
    "    inverse_matrix = linalg.inv(matrix)\n",
    "\n",
    "    candidates = []\n",
    "    for row, column in zip(matrix, inverse_matrix.T):\n",
    "        candidates.append(linalg.norm(row) * linalg.norm(column))\n",
    "\n",
    "    return max(candidates)"
   ],
   "execution_count":3,
   "outputs":[
    
   ],
   "metadata":{
    "datalore":{
     "type":"CODE",
     "hide_input_from_viewers":false,
     "hide_output_from_viewers":false
    }
   }
  },
  {
   "cell_type":"code",
   "source":[
    "def get_condition_number_function_by_name(name: Literal['spectral', 'volume', 'angle']) -> Callable[[np.ndarray], float]:\n",
    "    if name == 'spectral':\n",
    "        condition_function = calculate_spectral_condition_number\n",
    "    elif name == 'volume':\n",
    "        condition_function = calculate_volume_condition_number\n",
    "    else:\n",
    "        condition_function = calculate_angle_condition_number\n",
    "\n",
    "    return condition_function"
   ],
   "execution_count":4,
   "outputs":[
    
   ],
   "metadata":{
    "datalore":{
     "type":"CODE",
     "hide_input_from_viewers":false,
     "hide_output_from_viewers":false
    }
   }
  },
  {
   "cell_type":"code",
   "source":[
    "def _get_rotation_matrix(dim: int, i: int, j: int, cos: float, sin: float) -> np.ndarray:\n",
    "    matrix = np.eye(dim)\n",
    "\n",
    "    matrix[i, j] = -1 * sin\n",
    "    matrix[j, i] = sin\n",
    "\n",
    "    matrix[i, i] = cos\n",
    "    matrix[j, j] = cos\n",
    "\n",
    "    return matrix\n",
    "\n",
    "\n",
    "def get_QR_decomposition_using_rotations(matrix: np.ndarray) -> Tuple[np.ndarray, np.ndarray]:\n",
    "    dim = matrix.shape[0]\n",
    "\n",
    "    Q = np.eye(dim)\n",
    "    R = matrix.copy()\n",
    "\n",
    "    for i in range(dim - 1):\n",
    "        for j in range(i + 1, dim):\n",
    "            z_i = R[i, i]\n",
    "            z_j = R[j, i]\n",
    "\n",
    "            if np.isclose(z_j, 0):\n",
    "                continue\n",
    "\n",
    "            r = np.hypot(z_i, z_j)\n",
    "\n",
    "            cos = z_i \/ r\n",
    "            sin = -1 * z_j \/ r\n",
    "            T = _get_rotation_matrix(dim, i, j, cos, sin)\n",
    "\n",
    "            R = T.dot(R)\n",
    "            Q = T.dot(Q)\n",
    "\n",
    "    return Q.T, R"
   ],
   "execution_count":5,
   "outputs":[
    
   ],
   "metadata":{
    "datalore":{
     "type":"CODE",
     "hide_input_from_viewers":false,
     "hide_output_from_viewers":false
    }
   }
  },
  {
   "cell_type":"code",
   "source":[
    "def _swap_columns(matrix: np.ndarray, i: int, j: int) -> None:\n",
    "    matrix[:, [i, j]] = matrix[:, [j, i]]\n",
    "\n",
    "\n",
    "def get_QR_decomposition_using_reflections(\n",
    "        matrix: np.ndarray,\n",
    "        pivoting: bool = False,\n",
    ") -> Tuple[np.ndarray, np.ndarray, np.ndarray]:\n",
    "    dim = matrix.shape[0]\n",
    "\n",
    "    P = np.eye(dim)\n",
    "    Q = np.eye(dim)\n",
    "    R = matrix.copy()\n",
    "\n",
    "    for i in range(dim):\n",
    "        if pivoting:\n",
    "            norms = linalg.norm(R[i:, i:], axis=0)\n",
    "            max_norm, pivot_index = norms.max(initial=0), norms.argmax() + i\n",
    "\n",
    "            if np.isclose(max_norm, 0):\n",
    "                break\n",
    "\n",
    "            _swap_columns(R, i, pivot_index)\n",
    "            _swap_columns(P, i, pivot_index)\n",
    "\n",
    "        x = R[:, i].copy()\n",
    "        x[:i] = np.zeros(i)\n",
    "\n",
    "        alpha = (1 if x[i] > 0 else -1) * linalg.norm(x)\n",
    "\n",
    "        e = np.zeros(dim)\n",
    "        e[i] = 1\n",
    "\n",
    "        u = x + alpha * e\n",
    "        v = u \/ linalg.norm(u)\n",
    "\n",
    "        curr_Q = np.eye(dim) - 2 * np.outer(v, v)\n",
    "\n",
    "        Q = Q.dot(curr_Q)\n",
    "        R = curr_Q.dot(R)\n",
    "\n",
    "    return Q, R, P"
   ],
   "execution_count":6,
   "outputs":[
    
   ],
   "metadata":{
    "datalore":{
     "type":"CODE",
     "hide_input_from_viewers":false,
     "hide_output_from_viewers":false
    }
   }
  },
  {
   "cell_type":"code",
   "source":[
    "def _forward_substitution(L: np.ndarray, right_part: np.ndarray) -> np.ndarray:\n",
    "    size = L.shape[0]\n",
    "\n",
    "    solution = []\n",
    "    for i in range(size):\n",
    "        solution.append((right_part[i] - np.dot(L[i, :i], solution).sum()) \/ L[i][i])\n",
    "\n",
    "    return np.array(solution)\n",
    "\n",
    "\n",
    "def _back_substitution(U: np.ndarray, right_part: np.ndarray) -> np.ndarray:\n",
    "    return _forward_substitution(np.flip(U, axis=[0, 1]), right_part[::-1])[::-1]\n",
    "\n",
    "\n",
    "def solve_using_QR_decompostion(\n",
    "        matrix: np.ndarray,\n",
    "        right_part: np.ndarray,\n",
    "        method: Literal['reflections', 'rotations'] = 'reflections',\n",
    "        pivoting: bool = False,\n",
    ") -> np.ndarray:\n",
    "    if method == 'reflections':\n",
    "        Q, R, P = get_QR_decomposition_using_reflections(matrix, pivoting=pivoting)\n",
    "    else:\n",
    "        Q, R = get_QR_decomposition_using_rotations(matrix)\n",
    "        P = np.eye(matrix.shape[0])\n",
    "\n",
    "    y = _back_substitution(R, Q.T.dot(right_part))\n",
    "    return P.dot(y)"
   ],
   "execution_count":7,
   "outputs":[
    
   ],
   "metadata":{
    "datalore":{
     "type":"CODE",
     "hide_input_from_viewers":false,
     "hide_output_from_viewers":false
    }
   }
  },
  {
   "cell_type":"code",
   "source":[
    "def generate_matrix(element_factory: Callable[[int, int], float], size: int) -> np.ndarray:\n",
    "    return np.array(\n",
    "        [\n",
    "            [element_factory(row, column) for column in range(1, size + 1)]\n",
    "            for row in range(1, size + 1)\n",
    "        ],\n",
    "        dtype=float,\n",
    "    )"
   ],
   "execution_count":8,
   "outputs":[
    
   ],
   "metadata":{
    "datalore":{
     "type":"CODE",
     "hide_input_from_viewers":false,
     "hide_output_from_viewers":false
    }
   }
  },
  {
   "cell_type":"code",
   "source":[
    "def banchmark_linear_system(\n",
    "        matrix: np.ndarray,\n",
    "        right_part: np.ndarray,\n",
    "        true_solution: np.ndarray,\n",
    "        criterion: Literal['spectral', 'volume', 'angle'] = 'spectral',\n",
    ") -> Optional[pd.Series]:\n",
    "    print(matrix.shape[0])\n",
    "\n",
    "    if linalg.det(matrix) == 0:\n",
    "        return None\n",
    "\n",
    "    condition_function = get_condition_number_function_by_name(criterion)\n",
    "\n",
    "    Q, R = get_QR_decomposition_using_rotations(matrix)\n",
    "\n",
    "    matrix_condition_number = condition_function(matrix)\n",
    "    Q_condition_number = condition_function(Q)\n",
    "    R_condition_number = condition_function(R)\n",
    "\n",
    "    start = timer()\n",
    "    actual_solution = solve_using_QR_decompostion(matrix, right_part, method='rotations')\n",
    "    finish = timer()\n",
    "\n",
    "    rotation_error = linalg.norm(true_solution - actual_solution)\n",
    "    rotation_time = finish - start\n",
    "\n",
    "    start = timer()\n",
    "    actual_solution = solve_using_QR_decompostion(matrix, right_part, method='reflections')\n",
    "    finish = timer()\n",
    "\n",
    "    reflection_error = linalg.norm(true_solution - actual_solution)\n",
    "    reflection_time = finish - start\n",
    "\n",
    "    return pd.Series(\n",
    "        [\n",
    "            matrix_condition_number,\n",
    "            Q_condition_number,\n",
    "            R_condition_number,\n",
    "            rotation_error,\n",
    "            rotation_time,\n",
    "            reflection_error,\n",
    "            reflection_time,\n",
    "        ]\n",
    "    )"
   ],
   "execution_count":9,
   "outputs":[
    
   ],
   "metadata":{
    "datalore":{
     "type":"CODE",
     "hide_input_from_viewers":false,
     "hide_output_from_viewers":false
    }
   }
  },
  {
   "cell_type":"code",
   "source":[
    "def compare_n_and_cond(data: pd.DataFrame) -> None:\n",
    "    fig = go.Figure()\n",
    "\n",
    "    fig.add_scatter(x=data.n, y=data['cond(A)'], name='cond(A)')\n",
    "    fig.add_scatter(x=data.n, y=data['cond(Q)'], name='cond(Q)')\n",
    "    fig.add_scatter(x=data.n, y=data['cond(R)'], name='cond(R)')\n",
    "\n",
    "    fig.update_xaxes(title='Размер матрицы')\n",
    "    fig.update_yaxes(title='Число обусловленности')\n",
    "    fig.update_layout(title='Зависимость числа обусловленности от размера матрицы')\n",
    "\n",
    "    fig.show()"
   ],
   "execution_count":10,
   "outputs":[
    
   ],
   "metadata":{
    "datalore":{
     "type":"CODE",
     "hide_input_from_viewers":false,
     "hide_output_from_viewers":false
    }
   }
  },
  {
   "cell_type":"code",
   "source":[
    "def compare_n_and_error(data: pd.DataFrame) -> None:\n",
    "    fig = go.Figure()\n",
    "\n",
    "    fig.add_scatter(x=data.n, y=data.rot_error, name='Повороты')\n",
    "    fig.add_scatter(x=data.n, y=data.ref_error, name='Отображения')\n",
    "\n",
    "    fig.update_xaxes(title='Размер матрицы')\n",
    "    fig.update_yaxes(title='Ошибка', tickformat='.2e')\n",
    "    fig.update_layout(title='Зависимость ошибки от размера матрицы')\n",
    "\n",
    "    fig.show()"
   ],
   "execution_count":11,
   "outputs":[
    
   ],
   "metadata":{
    "datalore":{
     "type":"CODE",
     "hide_input_from_viewers":false,
     "hide_output_from_viewers":false
    }
   }
  },
  {
   "cell_type":"code",
   "source":[
    "def compare_n_and_time(data: pd.DataFrame) -> None:\n",
    "    fig = go.Figure()\n",
    "\n",
    "    fig.add_scatter(x=data.n, y=data.rot_time, name='Повороты')\n",
    "    fig.add_scatter(x=data.n, y=data.ref_time, name='Отображения')\n",
    "\n",
    "    fig.update_xaxes(title='Размер матрицы')\n",
    "    fig.update_yaxes(title='Время', tickformat='.2e')\n",
    "    fig.update_layout(title='Зависимость времени работы от размера матрицы')\n",
    "\n",
    "    fig.show()"
   ],
   "execution_count":12,
   "outputs":[
    
   ],
   "metadata":{
    "datalore":{
     "type":"CODE",
     "hide_input_from_viewers":false,
     "hide_output_from_viewers":false
    }
   }
  },
  {
   "cell_type":"markdown",
   "source":[
    "# Diagonally dominant"
   ],
   "attachments":{
    
   },
   "metadata":{
    "datalore":{
     "type":"MD",
     "hide_input_from_viewers":false,
     "hide_output_from_viewers":false,
     "sheet_delimiter":true
    }
   }
  },
  {
   "cell_type":"code",
   "source":[
    "def get_diagonally_dominant_linear_system(size: int) -> Tuple[np.ndarray, np.ndarray, np.ndarray]:\n",
    "    matrix = np.eye(size) * 2 + np.eye(size, k=-1) * -1 + np.eye(size, k=1) * -1\n",
    "    solution = np.ones(size)\n",
    "    right_part = np.dot(matrix, solution)\n",
    "    return matrix, right_part, solution"
   ],
   "execution_count":13,
   "outputs":[
    
   ],
   "metadata":{
    "datalore":{
     "type":"CODE",
     "hide_input_from_viewers":false,
     "hide_output_from_viewers":false
    }
   }
  },
  {
   "cell_type":"code",
   "source":[
    "diagonally_dominant_data = pd.DataFrame(range(2, 201), columns=['n'])\n",
    "diagonally_dominant_data[\n",
    "    ['cond(A)', 'cond(Q)', 'cond(R)', 'rot_error', 'rot_time', 'ref_error', 'ref_time']\n",
    "] = diagonally_dominant_data.apply(\n",
    "    lambda row: banchmark_linear_system(*get_diagonally_dominant_linear_system(row.n)),\n",
    "    axis=1,\n",
    ")\n",
    "diagonally_dominant_data"
   ],
   "execution_count":14,
   "outputs":[
    {
     "name":"stdout",
     "text":[
      "2\n",
      "3\n",
      "4\n",
      "5\n",
      "6\n",
      "7\n",
      "8\n",
      "9\n",
      "10\n",
      "11\n",
      "12\n",
      "13\n",
      "14\n",
      "15\n",
      "16\n",
      "17\n",
      "18\n",
      "19\n",
      "20\n",
      "21\n",
      "22\n",
      "23\n",
      "24\n",
      "25\n",
      "26\n",
      "27\n",
      "28\n",
      "29\n",
      "30\n",
      "31\n",
      "32\n",
      "33\n",
      "34\n",
      "35\n",
      "36\n",
      "37\n",
      "38\n",
      "39\n",
      "40\n",
      "41\n",
      "42\n",
      "43\n",
      "44\n",
      "45\n",
      "46\n",
      "47\n",
      "48\n",
      "49\n",
      "50\n",
      "51\n",
      "52\n",
      "53\n",
      "54\n",
      "55\n",
      "56\n",
      "57\n",
      "58\n",
      "59\n",
      "60\n",
      "61\n",
      "62\n",
      "63\n",
      "64\n",
      "65\n",
      "66\n",
      "67\n",
      "68\n",
      "69\n",
      "70\n",
      "71\n",
      "72\n",
      "73\n",
      "74\n",
      "75\n",
      "76\n",
      "77\n",
      "78\n",
      "79\n",
      "80\n",
      "81\n",
      "82\n",
      "83\n",
      "84\n",
      "85\n",
      "86\n",
      "87\n",
      "88\n",
      "89\n",
      "90\n",
      "91\n",
      "92\n",
      "93\n",
      "94\n",
      "95\n",
      "96\n",
      "97\n",
      "98\n",
      "99\n",
      "100\n",
      "101\n",
      "102\n",
      "103\n",
      "104\n",
      "105\n",
      "106\n",
      "107\n",
      "108\n",
      "109\n",
      "110\n",
      "111\n",
      "112\n",
      "113\n",
      "114\n",
      "115\n",
      "116\n",
      "117\n",
      "118\n",
      "119\n",
      "120\n",
      "121\n",
      "122\n",
      "123\n",
      "124\n",
      "125\n",
      "126\n",
      "127\n",
      "128\n",
      "129\n",
      "130\n",
      "131\n",
      "132\n",
      "133\n",
      "134\n",
      "135\n",
      "136\n",
      "137\n",
      "138\n",
      "139\n",
      "140\n",
      "141\n",
      "142\n",
      "143\n",
      "144\n",
      "145\n",
      "146\n",
      "147\n",
      "148\n",
      "149\n",
      "150\n",
      "151\n",
      "152\n",
      "153\n",
      "154\n",
      "155\n",
      "156\n",
      "157\n",
      "158\n",
      "159\n",
      "160\n",
      "161\n",
      "162\n",
      "163\n",
      "164\n",
      "165\n",
      "166\n",
      "167\n",
      "168\n",
      "169\n",
      "170\n",
      "171\n",
      "172\n",
      "173\n",
      "174\n",
      "175\n",
      "176\n",
      "177\n",
      "178\n",
      "179\n",
      "180\n",
      "181\n",
      "182\n",
      "183\n",
      "184\n",
      "185\n",
      "186\n",
      "187\n",
      "188\n",
      "189\n",
      "190\n",
      "191\n",
      "192\n",
      "193\n",
      "194\n",
      "195\n",
      "196\n",
      "197\n",
      "198\n",
      "199\n",
      "200\n"
     ],
     "output_type":"stream"
    },
    {
     "data":{
      "text\/html":[
       "<div>\n",
       "<style scoped>\n",
       "    .dataframe tbody tr th:only-of-type {\n",
       "        vertical-align: middle;\n",
       "    }\n",
       "\n",
       "    .dataframe tbody tr th {\n",
       "        vertical-align: top;\n",
       "    }\n",
       "\n",
       "    .dataframe thead th {\n",
       "        text-align: right;\n",
       "    }\n",
       "<\/style>\n",
       "<table border=\"1\" class=\"dataframe\">\n",
       "  <thead>\n",
       "    <tr style=\"text-align: right;\">\n",
       "      <th><\/th>\n",
       "      <th>n<\/th>\n",
       "      <th>cond(A)<\/th>\n",
       "      <th>cond(Q)<\/th>\n",
       "      <th>cond(R)<\/th>\n",
       "      <th>rot_error<\/th>\n",
       "      <th>rot_time<\/th>\n",
       "      <th>ref_error<\/th>\n",
       "      <th>ref_time<\/th>\n",
       "    <\/tr>\n",
       "  <\/thead>\n",
       "  <tbody>\n",
       "    <tr>\n",
       "      <th>0<\/th>\n",
       "      <td>2<\/td>\n",
       "      <td>3.000000<\/td>\n",
       "      <td>1.0<\/td>\n",
       "      <td>3.000000<\/td>\n",
       "      <td>0.000000e+00<\/td>\n",
       "      <td>0.000255<\/td>\n",
       "      <td>0.000000e+00<\/td>\n",
       "      <td>0.000214<\/td>\n",
       "    <\/tr>\n",
       "    <tr>\n",
       "      <th>1<\/th>\n",
       "      <td>3<\/td>\n",
       "      <td>5.828427<\/td>\n",
       "      <td>1.0<\/td>\n",
       "      <td>5.828427<\/td>\n",
       "      <td>0.000000e+00<\/td>\n",
       "      <td>0.000326<\/td>\n",
       "      <td>0.000000e+00<\/td>\n",
       "      <td>0.000260<\/td>\n",
       "    <\/tr>\n",
       "    <tr>\n",
       "      <th>2<\/th>\n",
       "      <td>4<\/td>\n",
       "      <td>9.472136<\/td>\n",
       "      <td>1.0<\/td>\n",
       "      <td>9.472136<\/td>\n",
       "      <td>1.570092e-16<\/td>\n",
       "      <td>0.000627<\/td>\n",
       "      <td>9.288792e-16<\/td>\n",
       "      <td>0.000655<\/td>\n",
       "    <\/tr>\n",
       "    <tr>\n",
       "      <th>3<\/th>\n",
       "      <td>5<\/td>\n",
       "      <td>13.928203<\/td>\n",
       "      <td>1.0<\/td>\n",
       "      <td>13.928203<\/td>\n",
       "      <td>6.080942e-16<\/td>\n",
       "      <td>0.000920<\/td>\n",
       "      <td>2.082963e-15<\/td>\n",
       "      <td>0.000819<\/td>\n",
       "    <\/tr>\n",
       "    <tr>\n",
       "      <th>4<\/th>\n",
       "      <td>6<\/td>\n",
       "      <td>19.195669<\/td>\n",
       "      <td>1.0<\/td>\n",
       "      <td>19.195669<\/td>\n",
       "      <td>1.185394e-15<\/td>\n",
       "      <td>0.001145<\/td>\n",
       "      <td>2.680677e-15<\/td>\n",
       "      <td>0.000486<\/td>\n",
       "    <\/tr>\n",
       "    <tr>\n",
       "      <th>...<\/th>\n",
       "      <td>...<\/td>\n",
       "      <td>...<\/td>\n",
       "      <td>...<\/td>\n",
       "      <td>...<\/td>\n",
       "      <td>...<\/td>\n",
       "      <td>...<\/td>\n",
       "      <td>...<\/td>\n",
       "      <td>...<\/td>\n",
       "    <\/tr>\n",
       "    <tr>\n",
       "      <th>194<\/th>\n",
       "      <td>196<\/td>\n",
       "      <td>15728.028601<\/td>\n",
       "      <td>1.0<\/td>\n",
       "      <td>15728.028601<\/td>\n",
       "      <td>5.857208e-13<\/td>\n",
       "      <td>1.088126<\/td>\n",
       "      <td>1.097722e-12<\/td>\n",
       "      <td>0.166216<\/td>\n",
       "    <\/tr>\n",
       "    <tr>\n",
       "      <th>195<\/th>\n",
       "      <td>197<\/td>\n",
       "      <td>15888.116072<\/td>\n",
       "      <td>1.0<\/td>\n",
       "      <td>15888.116072<\/td>\n",
       "      <td>5.858137e-13<\/td>\n",
       "      <td>1.501454<\/td>\n",
       "      <td>1.943150e-12<\/td>\n",
       "      <td>0.273478<\/td>\n",
       "    <\/tr>\n",
       "    <tr>\n",
       "      <th>196<\/th>\n",
       "      <td>198<\/td>\n",
       "      <td>16049.014111<\/td>\n",
       "      <td>1.0<\/td>\n",
       "      <td>16049.014111<\/td>\n",
       "      <td>1.352644e-13<\/td>\n",
       "      <td>2.038353<\/td>\n",
       "      <td>1.929878e-12<\/td>\n",
       "      <td>0.813537<\/td>\n",
       "    <\/tr>\n",
       "    <tr>\n",
       "      <th>197<\/th>\n",
       "      <td>199<\/td>\n",
       "      <td>16210.722720<\/td>\n",
       "      <td>1.0<\/td>\n",
       "      <td>16210.722720<\/td>\n",
       "      <td>5.884959e-13<\/td>\n",
       "      <td>14.316429<\/td>\n",
       "      <td>2.821298e-12<\/td>\n",
       "      <td>1.958704<\/td>\n",
       "    <\/tr>\n",
       "    <tr>\n",
       "      <th>198<\/th>\n",
       "      <td>200<\/td>\n",
       "      <td>16373.241899<\/td>\n",
       "      <td>1.0<\/td>\n",
       "      <td>16373.241899<\/td>\n",
       "      <td>1.326239e-13<\/td>\n",
       "      <td>11.049399<\/td>\n",
       "      <td>2.235279e-12<\/td>\n",
       "      <td>1.209647<\/td>\n",
       "    <\/tr>\n",
       "  <\/tbody>\n",
       "<\/table>\n",
       "<p>199 rows × 8 columns<\/p>\n",
       "<\/div>"
      ]
     },
     "metadata":{
      
     },
     "output_type":"display_data"
    }
   ],
   "metadata":{
    "datalore":{
     "type":"CODE",
     "hide_input_from_viewers":false,
     "hide_output_from_viewers":false
    }
   }
  },
  {
   "cell_type":"code",
   "source":[
    "compare_n_and_cond(diagonally_dominant_data)\n",
    "compare_n_and_error(diagonally_dominant_data)\n",
    "compare_n_and_time(diagonally_dominant_data)"
   ],
   "execution_count":15,
   "outputs":[
    {
     "data":{
      "text\/plain":[
       "Unsupported"
      ]
     },
     "metadata":{
      
     },
     "output_type":"display_data"
    }
   ],
   "metadata":{
    "datalore":{
     "type":"CODE",
     "hide_input_from_viewers":false,
     "hide_output_from_viewers":false
    }
   }
  },
  {
   "cell_type":"markdown",
   "source":[
    "# Hilbert"
   ],
   "attachments":{
    
   },
   "metadata":{
    "datalore":{
     "type":"MD",
     "hide_input_from_viewers":false,
     "hide_output_from_viewers":false,
     "sheet_delimiter":true
    }
   }
  },
  {
   "cell_type":"code",
   "source":[
    "def get_hilbert_linear_system(size: int) -> Tuple[np.ndarray, np.ndarray, np.ndarray]:\n",
    "    matrix = generate_matrix(lambda row, column: 1 \/ (row + column - 1), size)\n",
    "    solution = np.ones(size)\n",
    "    right_part = matrix.dot(solution)\n",
    "    return matrix, right_part, solution"
   ],
   "execution_count":16,
   "outputs":[
    
   ],
   "metadata":{
    "datalore":{
     "type":"CODE",
     "hide_input_from_viewers":false,
     "hide_output_from_viewers":false
    }
   }
  },
  {
   "cell_type":"code",
   "source":[
    "hilbert_data = pd.DataFrame(range(2, 29), columns=['n'])\n",
    "hilbert_data[\n",
    "    ['cond(A)', 'cond(Q)', 'cond(R)', 'rot_error', 'rot_time', 'ref_error', 'ref_time']\n",
    "] = hilbert_data.apply(\n",
    "    lambda row: banchmark_linear_system(*get_hilbert_linear_system(row.n)),\n",
    "    axis=1,\n",
    ")\n",
    "hilbert_data"
   ],
   "execution_count":17,
   "outputs":[
    {
     "name":"stdout",
     "text":[
      "2\n",
      "3\n",
      "4\n",
      "5\n",
      "6\n",
      "7\n",
      "8\n",
      "9\n",
      "10\n",
      "11\n",
      "12\n",
      "13\n",
      "14\n",
      "15\n",
      "16\n",
      "17\n",
      "18\n",
      "19\n",
      "20\n",
      "21\n",
      "22\n",
      "23\n",
      "24\n",
      "25\n",
      "26\n",
      "27\n",
      "28\n"
     ],
     "output_type":"stream"
    },
    {
     "data":{
      "text\/html":[
       "<div>\n",
       "<style scoped>\n",
       "    .dataframe tbody tr th:only-of-type {\n",
       "        vertical-align: middle;\n",
       "    }\n",
       "\n",
       "    .dataframe tbody tr th {\n",
       "        vertical-align: top;\n",
       "    }\n",
       "\n",
       "    .dataframe thead th {\n",
       "        text-align: right;\n",
       "    }\n",
       "<\/style>\n",
       "<table border=\"1\" class=\"dataframe\">\n",
       "  <thead>\n",
       "    <tr style=\"text-align: right;\">\n",
       "      <th><\/th>\n",
       "      <th>n<\/th>\n",
       "      <th>cond(A)<\/th>\n",
       "      <th>cond(Q)<\/th>\n",
       "      <th>cond(R)<\/th>\n",
       "      <th>rot_error<\/th>\n",
       "      <th>rot_time<\/th>\n",
       "      <th>ref_error<\/th>\n",
       "      <th>ref_time<\/th>\n",
       "    <\/tr>\n",
       "  <\/thead>\n",
       "  <tbody>\n",
       "    <tr>\n",
       "      <th>0<\/th>\n",
       "      <td>2<\/td>\n",
       "      <td>1.928147e+01<\/td>\n",
       "      <td>1.0<\/td>\n",
       "      <td>1.928147e+01<\/td>\n",
       "      <td>1.489520e-15<\/td>\n",
       "      <td>0.000407<\/td>\n",
       "      <td>1.601186e-15<\/td>\n",
       "      <td>0.021496<\/td>\n",
       "    <\/tr>\n",
       "    <tr>\n",
       "      <th>1<\/th>\n",
       "      <td>3<\/td>\n",
       "      <td>5.240568e+02<\/td>\n",
       "      <td>1.0<\/td>\n",
       "      <td>5.240568e+02<\/td>\n",
       "      <td>1.115760e-15<\/td>\n",
       "      <td>0.000456<\/td>\n",
       "      <td>6.583726e-14<\/td>\n",
       "      <td>0.000650<\/td>\n",
       "    <\/tr>\n",
       "    <tr>\n",
       "      <th>2<\/th>\n",
       "      <td>4<\/td>\n",
       "      <td>1.551374e+04<\/td>\n",
       "      <td>1.0<\/td>\n",
       "      <td>1.551374e+04<\/td>\n",
       "      <td>2.790103e-13<\/td>\n",
       "      <td>0.000759<\/td>\n",
       "      <td>1.498050e-12<\/td>\n",
       "      <td>0.000888<\/td>\n",
       "    <\/tr>\n",
       "    <tr>\n",
       "      <th>3<\/th>\n",
       "      <td>5<\/td>\n",
       "      <td>4.766073e+05<\/td>\n",
       "      <td>1.0<\/td>\n",
       "      <td>4.766073e+05<\/td>\n",
       "      <td>2.454094e-11<\/td>\n",
       "      <td>0.021315<\/td>\n",
       "      <td>2.252918e-11<\/td>\n",
       "      <td>0.000387<\/td>\n",
       "    <\/tr>\n",
       "    <tr>\n",
       "      <th>4<\/th>\n",
       "      <td>6<\/td>\n",
       "      <td>1.495106e+07<\/td>\n",
       "      <td>1.0<\/td>\n",
       "      <td>1.495106e+07<\/td>\n",
       "      <td>2.538432e-09<\/td>\n",
       "      <td>0.009966<\/td>\n",
       "      <td>8.326567e-10<\/td>\n",
       "      <td>0.000435<\/td>\n",
       "    <\/tr>\n",
       "    <tr>\n",
       "      <th>5<\/th>\n",
       "      <td>7<\/td>\n",
       "      <td>4.753674e+08<\/td>\n",
       "      <td>1.0<\/td>\n",
       "      <td>4.753674e+08<\/td>\n",
       "      <td>6.033086e-08<\/td>\n",
       "      <td>0.014048<\/td>\n",
       "      <td>6.243752e-09<\/td>\n",
       "      <td>0.000507<\/td>\n",
       "    <\/tr>\n",
       "    <tr>\n",
       "      <th>6<\/th>\n",
       "      <td>8<\/td>\n",
       "      <td>1.525758e+10<\/td>\n",
       "      <td>1.0<\/td>\n",
       "      <td>1.525758e+10<\/td>\n",
       "      <td>6.392550e-07<\/td>\n",
       "      <td>0.002342<\/td>\n",
       "      <td>2.511726e-06<\/td>\n",
       "      <td>0.016844<\/td>\n",
       "    <\/tr>\n",
       "    <tr>\n",
       "      <th>7<\/th>\n",
       "      <td>9<\/td>\n",
       "      <td>4.931538e+11<\/td>\n",
       "      <td>1.0<\/td>\n",
       "      <td>4.931537e+11<\/td>\n",
       "      <td>2.453817e+00<\/td>\n",
       "      <td>0.002954<\/td>\n",
       "      <td>8.822825e-05<\/td>\n",
       "      <td>0.000625<\/td>\n",
       "    <\/tr>\n",
       "    <tr>\n",
       "      <th>8<\/th>\n",
       "      <td>10<\/td>\n",
       "      <td>1.602442e+13<\/td>\n",
       "      <td>1.0<\/td>\n",
       "      <td>1.602497e+13<\/td>\n",
       "      <td>1.678424e+00<\/td>\n",
       "      <td>0.011777<\/td>\n",
       "      <td>9.732902e-04<\/td>\n",
       "      <td>0.000693<\/td>\n",
       "    <\/tr>\n",
       "    <tr>\n",
       "      <th>9<\/th>\n",
       "      <td>11<\/td>\n",
       "      <td>5.222678e+14<\/td>\n",
       "      <td>1.0<\/td>\n",
       "      <td>5.224591e+14<\/td>\n",
       "      <td>2.131696e+00<\/td>\n",
       "      <td>0.016668<\/td>\n",
       "      <td>2.056158e-01<\/td>\n",
       "      <td>0.000756<\/td>\n",
       "    <\/tr>\n",
       "    <tr>\n",
       "      <th>10<\/th>\n",
       "      <td>12<\/td>\n",
       "      <td>1.751473e+16<\/td>\n",
       "      <td>1.0<\/td>\n",
       "      <td>1.738227e+16<\/td>\n",
       "      <td>6.071144e+00<\/td>\n",
       "      <td>0.005028<\/td>\n",
       "      <td>2.348527e+00<\/td>\n",
       "      <td>0.013106<\/td>\n",
       "    <\/tr>\n",
       "    <tr>\n",
       "      <th>11<\/th>\n",
       "      <td>13<\/td>\n",
       "      <td>3.344143e+18<\/td>\n",
       "      <td>1.0<\/td>\n",
       "      <td>6.820320e+17<\/td>\n",
       "      <td>1.487110e+01<\/td>\n",
       "      <td>0.005928<\/td>\n",
       "      <td>8.390623e+01<\/td>\n",
       "      <td>0.000884<\/td>\n",
       "    <\/tr>\n",
       "    <tr>\n",
       "      <th>12<\/th>\n",
       "      <td>14<\/td>\n",
       "      <td>6.200786e+17<\/td>\n",
       "      <td>1.0<\/td>\n",
       "      <td>2.464507e+17<\/td>\n",
       "      <td>6.066532e+00<\/td>\n",
       "      <td>0.031420<\/td>\n",
       "      <td>6.786091e+01<\/td>\n",
       "      <td>0.000958<\/td>\n",
       "    <\/tr>\n",
       "    <tr>\n",
       "      <th>13<\/th>\n",
       "      <td>15<\/td>\n",
       "      <td>3.674393e+17<\/td>\n",
       "      <td>1.0<\/td>\n",
       "      <td>3.507688e+17<\/td>\n",
       "      <td>1.120709e+01<\/td>\n",
       "      <td>0.020275<\/td>\n",
       "      <td>2.415318e+01<\/td>\n",
       "      <td>0.001003<\/td>\n",
       "    <\/tr>\n",
       "    <tr>\n",
       "      <th>14<\/th>\n",
       "      <td>16<\/td>\n",
       "      <td>7.865468e+17<\/td>\n",
       "      <td>1.0<\/td>\n",
       "      <td>5.365587e+17<\/td>\n",
       "      <td>1.125662e+01<\/td>\n",
       "      <td>0.033322<\/td>\n",
       "      <td>4.363284e+01<\/td>\n",
       "      <td>0.001070<\/td>\n",
       "    <\/tr>\n",
       "    <tr>\n",
       "      <th>15<\/th>\n",
       "      <td>17<\/td>\n",
       "      <td>1.263684e+18<\/td>\n",
       "      <td>1.0<\/td>\n",
       "      <td>4.108184e+17<\/td>\n",
       "      <td>9.564600e+00<\/td>\n",
       "      <td>0.022979<\/td>\n",
       "      <td>8.079022e+02<\/td>\n",
       "      <td>0.013518<\/td>\n",
       "    <\/tr>\n",
       "    <tr>\n",
       "      <th>16<\/th>\n",
       "      <td>18<\/td>\n",
       "      <td>2.244631e+18<\/td>\n",
       "      <td>1.0<\/td>\n",
       "      <td>1.093660e+18<\/td>\n",
       "      <td>2.028534e+01<\/td>\n",
       "      <td>0.023225<\/td>\n",
       "      <td>6.825657e+01<\/td>\n",
       "      <td>0.001238<\/td>\n",
       "    <\/tr>\n",
       "    <tr>\n",
       "      <th>17<\/th>\n",
       "      <td>19<\/td>\n",
       "      <td>6.471954e+18<\/td>\n",
       "      <td>1.0<\/td>\n",
       "      <td>1.142555e+18<\/td>\n",
       "      <td>4.359987e+01<\/td>\n",
       "      <td>0.024478<\/td>\n",
       "      <td>1.656574e+02<\/td>\n",
       "      <td>0.013505<\/td>\n",
       "    <\/tr>\n",
       "    <tr>\n",
       "      <th>18<\/th>\n",
       "      <td>20<\/td>\n",
       "      <td>1.355366e+18<\/td>\n",
       "      <td>1.0<\/td>\n",
       "      <td>1.705059e+18<\/td>\n",
       "      <td>1.476820e+02<\/td>\n",
       "      <td>0.022022<\/td>\n",
       "      <td>2.826301e+02<\/td>\n",
       "      <td>0.001388<\/td>\n",
       "    <\/tr>\n",
       "    <tr>\n",
       "      <th>19<\/th>\n",
       "      <td>21<\/td>\n",
       "      <td>3.290126e+18<\/td>\n",
       "      <td>1.0<\/td>\n",
       "      <td>1.604364e+18<\/td>\n",
       "      <td>1.763967e+02<\/td>\n",
       "      <td>0.060028<\/td>\n",
       "      <td>7.684107e+02<\/td>\n",
       "      <td>0.001495<\/td>\n",
       "    <\/tr>\n",
       "    <tr>\n",
       "      <th>20<\/th>\n",
       "      <td>22<\/td>\n",
       "      <td>1.036103e+19<\/td>\n",
       "      <td>1.0<\/td>\n",
       "      <td>1.598872e+18<\/td>\n",
       "      <td>7.654349e+01<\/td>\n",
       "      <td>0.041142<\/td>\n",
       "      <td>1.096237e+02<\/td>\n",
       "      <td>0.001601<\/td>\n",
       "    <\/tr>\n",
       "    <tr>\n",
       "      <th>21<\/th>\n",
       "      <td>23<\/td>\n",
       "      <td>6.313779e+17<\/td>\n",
       "      <td>1.0<\/td>\n",
       "      <td>1.238527e+18<\/td>\n",
       "      <td>8.415825e+01<\/td>\n",
       "      <td>0.042830<\/td>\n",
       "      <td>3.381356e+02<\/td>\n",
       "      <td>0.001657<\/td>\n",
       "    <\/tr>\n",
       "    <tr>\n",
       "      <th>22<\/th>\n",
       "      <td>24<\/td>\n",
       "      <td>2.129503e+18<\/td>\n",
       "      <td>1.0<\/td>\n",
       "      <td>1.433915e+18<\/td>\n",
       "      <td>1.293035e+02<\/td>\n",
       "      <td>0.056686<\/td>\n",
       "      <td>2.931804e+02<\/td>\n",
       "      <td>0.009986<\/td>\n",
       "    <\/tr>\n",
       "    <tr>\n",
       "      <th>23<\/th>\n",
       "      <td>25<\/td>\n",
       "      <td>1.371935e+18<\/td>\n",
       "      <td>1.0<\/td>\n",
       "      <td>2.774722e+18<\/td>\n",
       "      <td>3.505376e+02<\/td>\n",
       "      <td>0.059418<\/td>\n",
       "      <td>6.791671e+02<\/td>\n",
       "      <td>0.018185<\/td>\n",
       "    <\/tr>\n",
       "    <tr>\n",
       "      <th>24<\/th>\n",
       "      <td>26<\/td>\n",
       "      <td>5.838637e+18<\/td>\n",
       "      <td>1.0<\/td>\n",
       "      <td>3.695537e+19<\/td>\n",
       "      <td>3.462632e+02<\/td>\n",
       "      <td>0.068404<\/td>\n",
       "      <td>2.130033e+02<\/td>\n",
       "      <td>0.001973<\/td>\n",
       "    <\/tr>\n",
       "    <tr>\n",
       "      <th>25<\/th>\n",
       "      <td>27<\/td>\n",
       "      <td>4.424588e+18<\/td>\n",
       "      <td>1.0<\/td>\n",
       "      <td>2.805834e+19<\/td>\n",
       "      <td>2.693461e+02<\/td>\n",
       "      <td>0.075360<\/td>\n",
       "      <td>1.090414e+03<\/td>\n",
       "      <td>0.002208<\/td>\n",
       "    <\/tr>\n",
       "    <tr>\n",
       "      <th>26<\/th>\n",
       "      <td>28<\/td>\n",
       "      <td>9.235324e+18<\/td>\n",
       "      <td>1.0<\/td>\n",
       "      <td>1.007312e+19<\/td>\n",
       "      <td>2.486375e+02<\/td>\n",
       "      <td>0.080010<\/td>\n",
       "      <td>2.509562e+02<\/td>\n",
       "      <td>0.014396<\/td>\n",
       "    <\/tr>\n",
       "  <\/tbody>\n",
       "<\/table>\n",
       "<\/div>"
      ]
     },
     "metadata":{
      
     },
     "output_type":"display_data"
    }
   ],
   "metadata":{
    "datalore":{
     "type":"CODE",
     "hide_input_from_viewers":false,
     "hide_output_from_viewers":false
    }
   }
  },
  {
   "cell_type":"code",
   "source":[
    "compare_n_and_cond(hilbert_data)\n",
    "compare_n_and_error(hilbert_data)\n",
    "compare_n_and_time(hilbert_data)"
   ],
   "execution_count":18,
   "outputs":[
    {
     "data":{
      "text\/plain":[
       "Unsupported"
      ]
     },
     "metadata":{
      
     },
     "output_type":"display_data"
    }
   ],
   "metadata":{
    "datalore":{
     "type":"CODE",
     "hide_input_from_viewers":false,
     "hide_output_from_viewers":false
    }
   }
  },
  {
   "cell_type":"markdown",
   "source":[
    "# Pakulina"
   ],
   "attachments":{
    
   },
   "metadata":{
    "datalore":{
     "type":"MD",
     "hide_input_from_viewers":false,
     "hide_output_from_viewers":false,
     "sheet_delimiter":true
    }
   }
  },
  {
   "cell_type":"code",
   "source":[
    "def get_pakulina_1_linear_system() -> Tuple[np.ndarray, np.ndarray, np.ndarray]:\n",
    "    matrix = np.array([\n",
    "        [3.278164, 1.046583, -1.378574],\n",
    "        [1.046583, 2.975937, 0.934251],\n",
    "        [-1.378574, 0.934251, 4.836173],\n",
    "    ])\n",
    "    solution = np.ones(3)\n",
    "    right_part = matrix.dot(solution)\n",
    "    return matrix, right_part, solution"
   ],
   "execution_count":19,
   "outputs":[
    
   ],
   "metadata":{
    "datalore":{
     "type":"CODE",
     "hide_input_from_viewers":false,
     "hide_output_from_viewers":false
    }
   }
  },
  {
   "cell_type":"code",
   "source":[
    "def get_pakulina_7_linear_system() -> Tuple[np.ndarray, np.ndarray, np.ndarray]:\n",
    "    matrix = np.array([\n",
    "        [9.331343, 1.120045, -2.880925],\n",
    "        [1.120045, 7.086042, 0.670297],\n",
    "        [-2.880925, 0.670297, 5.622534],\n",
    "    ])\n",
    "    solution = np.ones(3)\n",
    "    right_part = matrix.dot(solution)\n",
    "    return matrix, right_part, solution"
   ],
   "execution_count":20,
   "outputs":[
    
   ],
   "metadata":{
    "datalore":{
     "type":"CODE",
     "hide_input_from_viewers":false,
     "hide_output_from_viewers":false
    }
   }
  },
  {
   "cell_type":"code",
   "source":[
    "def get_pakulina_14_linear_system() -> Tuple[np.ndarray, np.ndarray, np.ndarray]:\n",
    "    matrix = np.array([\n",
    "        [9.016024, 1.082197, -2.783575],\n",
    "        [1.082197, 4.543595, 0.647647],\n",
    "        [-2.783575, 0.647647, 5.432541],\n",
    "    ])\n",
    "    solution = np.ones(3)\n",
    "    right_part = matrix.dot(solution)\n",
    "    return matrix, right_part, solution"
   ],
   "execution_count":21,
   "outputs":[
    
   ],
   "metadata":{
    "datalore":{
     "type":"CODE",
     "hide_input_from_viewers":false,
     "hide_output_from_viewers":false
    }
   }
  },
  {
   "cell_type":"code",
   "source":[
    "pakulina_data = pd.DataFrame.from_dict({\n",
    "    1: banchmark_linear_system(*get_pakulina_1_linear_system()),\n",
    "    7: banchmark_linear_system(*get_pakulina_7_linear_system()),\n",
    "    14: banchmark_linear_system(*get_pakulina_14_linear_system()),\n",
    "}, orient='index')\n",
    "pakulina_data.columns = ['cond(A)', 'cond(Q)', 'cond(R)', 'rot_error', 'rot_time', 'ref_error', 'ref_time']\n",
    "pakulina_data"
   ],
   "execution_count":22,
   "outputs":[
    {
     "name":"stdout",
     "text":[
      "3\n",
      "3\n",
      "3\n"
     ],
     "output_type":"stream"
    },
    {
     "data":{
      "text\/html":[
       "<div>\n",
       "<style scoped>\n",
       "    .dataframe tbody tr th:only-of-type {\n",
       "        vertical-align: middle;\n",
       "    }\n",
       "\n",
       "    .dataframe tbody tr th {\n",
       "        vertical-align: top;\n",
       "    }\n",
       "\n",
       "    .dataframe thead th {\n",
       "        text-align: right;\n",
       "    }\n",
       "<\/style>\n",
       "<table border=\"1\" class=\"dataframe\">\n",
       "  <thead>\n",
       "    <tr style=\"text-align: right;\">\n",
       "      <th><\/th>\n",
       "      <th>cond(A)<\/th>\n",
       "      <th>cond(Q)<\/th>\n",
       "      <th>cond(R)<\/th>\n",
       "      <th>rot_error<\/th>\n",
       "      <th>rot_time<\/th>\n",
       "      <th>ref_error<\/th>\n",
       "      <th>ref_time<\/th>\n",
       "    <\/tr>\n",
       "  <\/thead>\n",
       "  <tbody>\n",
       "    <tr>\n",
       "      <th>1<\/th>\n",
       "      <td>4.301723<\/td>\n",
       "      <td>1.0<\/td>\n",
       "      <td>4.301723<\/td>\n",
       "      <td>4.577567e-16<\/td>\n",
       "      <td>0.000378<\/td>\n",
       "      <td>6.661338e-16<\/td>\n",
       "      <td>0.000263<\/td>\n",
       "    <\/tr>\n",
       "    <tr>\n",
       "      <th>7<\/th>\n",
       "      <td>3.000000<\/td>\n",
       "      <td>1.0<\/td>\n",
       "      <td>3.000000<\/td>\n",
       "      <td>3.140185e-16<\/td>\n",
       "      <td>0.000339<\/td>\n",
       "      <td>2.220446e-16<\/td>\n",
       "      <td>0.000255<\/td>\n",
       "    <\/tr>\n",
       "    <tr>\n",
       "      <th>14<\/th>\n",
       "      <td>3.446172<\/td>\n",
       "      <td>1.0<\/td>\n",
       "      <td>3.446172<\/td>\n",
       "      <td>4.965068e-16<\/td>\n",
       "      <td>0.025185<\/td>\n",
       "      <td>4.965068e-16<\/td>\n",
       "      <td>0.000393<\/td>\n",
       "    <\/tr>\n",
       "  <\/tbody>\n",
       "<\/table>\n",
       "<\/div>"
      ]
     },
     "metadata":{
      
     },
     "output_type":"display_data"
    }
   ],
   "metadata":{
    "datalore":{
     "type":"CODE",
     "hide_input_from_viewers":false,
     "hide_output_from_viewers":false
    }
   }
  },
  {
   "cell_type":"markdown",
   "source":[
    "# Pivoting"
   ],
   "attachments":{
    
   },
   "metadata":{
    "datalore":{
     "type":"MD",
     "hide_input_from_viewers":false,
     "hide_output_from_viewers":false,
     "sheet_delimiter":true
    }
   }
  },
  {
   "cell_type":"code",
   "source":[
    "matrix = np.array([\n",
    "    [1, 0, 0],\n",
    "    [0, 1, 0],\n",
    "    [0, 0, 1],\n",
    "])\n",
    "\n",
    "Q, R, P = get_QR_decomposition_using_reflections(matrix, pivoting=True)\n",
    "\n",
    "print(f'AP = QR: {np.allclose(matrix.dot(P), Q.dot(R))}')\n",
    "print(f'Rank: {linalg.matrix_rank(matrix)}')\n",
    "\n",
    "R"
   ],
   "execution_count":35,
   "outputs":[
    {
     "name":"stdout",
     "text":[
      "AP = QR: True\n",
      "Rank: 3\n"
     ],
     "output_type":"stream"
    },
    {
     "data":{
      "text\/html":[
       
      ]
     },
     "metadata":{
      
     },
     "output_type":"display_data"
    }
   ],
   "metadata":{
    "datalore":{
     "type":"CODE",
     "hide_input_from_viewers":false,
     "hide_output_from_viewers":false
    }
   }
  },
  {
   "cell_type":"code",
   "source":[
    "matrix = np.array([\n",
    "    [1, 2, 3],\n",
    "    [4, 5, 6],\n",
    "    [7, 8, 9],\n",
    "])\n",
    "\n",
    "Q, R, P = get_QR_decomposition_using_reflections(matrix, pivoting=True)\n",
    "\n",
    "print(f'AP = QR: {np.allclose(matrix.dot(P), Q.dot(R))}')\n",
    "print(f'{linalg.matrix_rank(matrix)}')\n",
    "\n",
    "R"
   ],
   "execution_count":36,
   "outputs":[
    {
     "name":"stdout",
     "text":[
      "AP = QR: True\n",
      "2\n"
     ],
     "output_type":"stream"
    },
    {
     "data":{
      "text\/html":[
       
      ]
     },
     "metadata":{
      
     },
     "output_type":"display_data"
    }
   ],
   "metadata":{
    "datalore":{
     "type":"CODE",
     "hide_input_from_viewers":false,
     "hide_output_from_viewers":false
    }
   }
  },
  {
   "cell_type":"code",
   "source":[
    "matrix = np.array([\n",
    "    [1, 1, 1],\n",
    "    [2, 2, 2],\n",
    "    [42, 42, 42],\n",
    "])\n",
    "\n",
    "Q, R, P = get_QR_decomposition_using_reflections(matrix, pivoting=True)\n",
    "\n",
    "print(f'AP = QR: {np.allclose(matrix.dot(P), Q.dot(R))}')\n",
    "print(f'{linalg.matrix_rank(matrix)}')\n",
    "\n",
    "R"
   ],
   "execution_count":37,
   "outputs":[
    {
     "name":"stdout",
     "text":[
      "AP = QR: True\n",
      "1\n"
     ],
     "output_type":"stream"
    },
    {
     "data":{
      "text\/html":[
       
      ]
     },
     "metadata":{
      
     },
     "output_type":"display_data"
    }
   ],
   "metadata":{
    "datalore":{
     "type":"CODE",
     "hide_input_from_viewers":false,
     "hide_output_from_viewers":false
    }
   }
  },
  {
   "cell_type":"code",
   "source":[
    "matrix = np.random.rand(5, 5)\n",
    "matrix[:, 2] = 42 * matrix[:, 4]\n",
    "matrix[:, 1] = -7 * matrix[:, 3]\n",
    "\n",
    "Q, R, P = get_QR_decomposition_using_reflections(matrix, pivoting=True)\n",
    "\n",
    "print(f'AP = QR: {np.allclose(matrix.dot(P), Q.dot(R))}')\n",
    "print(f'{linalg.matrix_rank(matrix)}')\n",
    "\n",
    "R"
   ],
   "execution_count":65,
   "outputs":[
    {
     "name":"stdout",
     "text":[
      "AP = QR: True\n",
      "3\n"
     ],
     "output_type":"stream"
    },
    {
     "data":{
      "text\/html":[
       
      ]
     },
     "metadata":{
      
     },
     "output_type":"display_data"
    }
   ],
   "metadata":{
    "datalore":{
     "type":"CODE",
     "hide_input_from_viewers":false,
     "hide_output_from_viewers":false
    }
   }
  }
 ],
 "metadata":{
  "datalore":{
   "version":1,
   "computation_mode":"JUPYTER",
   "package_manager":"pip",
   "base_environment":"default",
   "packages":[
    
   ]
  }
 },
 "nbformat":4,
 "nbformat_minor":4
}
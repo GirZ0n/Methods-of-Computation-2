{
 "cells":[
  {
   "cell_type":"markdown",
   "source":[
    "# Utils"
   ],
   "attachments":{
    
   },
   "metadata":{
    "datalore":{
     "type":"MD",
     "hide_input_from_viewers":false,
     "hide_output_from_viewers":false,
     "sheet_delimiter":true
    }
   }
  },
  {
   "cell_type":"code",
   "source":[
    "from typing import Tuple, Literal, Optional, Callable\n",
    "\n",
    "import numpy as np\n",
    "import numpy.linalg as linalg\n",
    "import pandas as pd\n",
    "import plotly.graph_objects as go"
   ],
   "execution_count":1,
   "outputs":[
    
   ],
   "metadata":{
    "datalore":{
     "type":"CODE",
     "hide_input_from_viewers":false,
     "hide_output_from_viewers":false
    }
   }
  },
  {
   "cell_type":"code",
   "source":[
    "def generate_matrix(element_factory: Callable[[int, int], float], size: int) -> np.ndarray:\n",
    "    return np.array(\n",
    "        [\n",
    "            [element_factory(row, column) for column in range(1, size + 1)]\n",
    "            for row in range(1, size + 1)\n",
    "        ],\n",
    "        dtype=float,\n",
    "    )\n",
    "\n",
    "\n",
    "def get_hilbert_linear_system(size: int) -> Tuple[np.ndarray, np.ndarray, np.ndarray]:\n",
    "    matrix = generate_matrix(lambda row, column: 1 \/ (row + column - 1), size)\n",
    "    solution = np.ones(size)\n",
    "    right_part = matrix.dot(solution)\n",
    "    return matrix, right_part, solution"
   ],
   "execution_count":2,
   "outputs":[
    
   ],
   "metadata":{
    "datalore":{
     "type":"CODE",
     "hide_input_from_viewers":false,
     "hide_output_from_viewers":false
    }
   }
  },
  {
   "cell_type":"code",
   "source":[
    "def convert_linear_to_simple_iteration(\n",
    "        matrix: np.ndarray,\n",
    "        right_part: np.ndarray,\n",
    "        *,\n",
    "        matrix_type: Literal['diagonally_dominant', 'positive_definite'],\n",
    ") -> Tuple[np.ndarray, np.ndarray]:\n",
    "    size = matrix.shape[0]\n",
    "\n",
    "    B = np.ndarray((size, size))\n",
    "    c = np.ndarray(size)\n",
    "\n",
    "    if matrix_type == 'diagonally_dominant':\n",
    "        if any(np.diagonal(matrix) == 0):\n",
    "            raise np.linalg.LinAlgError\n",
    "\n",
    "        for i in range(size):\n",
    "            for j in range(size):\n",
    "                B[i][j] = -1 * matrix[i][j] \/ matrix[i][i] if i != j else 0\n",
    "            c[i] = right_part[i] \/ matrix[i][i]\n",
    "\n",
    "    elif matrix_type == 'positive_definite':\n",
    "        # eigenvalues = linalg.eigvals(matrix)\n",
    "        # alpha = 2 \/ (eigenvalues.max() + eigenvalues.min())\n",
    "\n",
    "        possible_eigenvalues = []\n",
    "        for i in range(size):\n",
    "            column = matrix[:, i]\n",
    "            centre = column[i]\n",
    "            radius = abs(column).sum() - abs(centre)\n",
    "            possible_eigenvalues.extend([centre - radius, centre + radius])\n",
    "\n",
    "        alpha = 2 \/ (min(possible_eigenvalues) + max(possible_eigenvalues))\n",
    "\n",
    "        B = np.eye(size) - alpha * matrix\n",
    "        c = alpha * right_part\n",
    "        \n",
    "    else:\n",
    "        raise ValueError\n",
    "\n",
    "    return B, c"
   ],
   "execution_count":3,
   "outputs":[
    
   ],
   "metadata":{
    "datalore":{
     "type":"CODE",
     "hide_input_from_viewers":false,
     "hide_output_from_viewers":false
    }
   }
  },
  {
   "cell_type":"code",
   "source":[
    "def solve_iterativly(\n",
    "        B: np.ndarray,\n",
    "        c: np.ndarray,\n",
    "        *,\n",
    "        eps: float,\n",
    "        limit: int = 10000,\n",
    "        init_x: Optional[np.ndarray] = None,\n",
    ") -> Tuple[np.ndarray, int]:\n",
    "    curr_x = np.zeros(B.shape[0]) if init_x is None else init_x\n",
    "\n",
    "    for step in range(limit):\n",
    "        prev_x, curr_x = curr_x, B.dot(curr_x) + c\n",
    "\n",
    "        if (\n",
    "                linalg.norm(B) < 1 and linalg.norm(curr_x - prev_x) * linalg.norm(B) \/ (1 - linalg.norm(B)) < eps\n",
    "                or linalg.norm(B) >= 1 and linalg.norm(curr_x - prev_x) < eps\n",
    "        ):\n",
    "            return curr_x, step\n",
    "\n",
    "    return curr_x, step + 1"
   ],
   "execution_count":4,
   "outputs":[
    
   ],
   "metadata":{
    "datalore":{
     "type":"CODE",
     "hide_input_from_viewers":false,
     "hide_output_from_viewers":false
    }
   }
  },
  {
   "cell_type":"code",
   "source":[
    "def solve_with_seidel_method(\n",
    "        matrix: np.ndarray,\n",
    "        right_part: np.ndarray,\n",
    "        *,\n",
    "        eps: float,\n",
    "        limit: int = 10000,\n",
    "        init_x: Optional[np.ndarray] = None,\n",
    ") -> Tuple[np.ndarray, int]:\n",
    "    curr_x = np.zeros(matrix.shape[0]) if init_x is None else init_x\n",
    "\n",
    "    for step in range(limit):\n",
    "        next_x = np.zeros(matrix.shape[0])\n",
    "\n",
    "        for i in range(matrix.shape[0]):\n",
    "            sum_1 = np.dot(matrix[i, :i], next_x[:i])\n",
    "            sum_2 = np.dot(matrix[i, (i + 1):], curr_x[(i + 1):])\n",
    "            next_x[i] = -1 * (sum_1 + sum_2 - right_part[i]) \/ matrix[i][i]\n",
    "\n",
    "        if linalg.norm(next_x - curr_x) < eps:\n",
    "            return next_x, step\n",
    "\n",
    "        curr_x = next_x\n",
    "\n",
    "    return next_x, step + 1"
   ],
   "execution_count":5,
   "outputs":[
    
   ],
   "metadata":{
    "datalore":{
     "type":"CODE",
     "hide_input_from_viewers":false,
     "hide_output_from_viewers":false
    }
   }
  },
  {
   "cell_type":"code",
   "source":[
    "def banchmark_linear_system(\n",
    "        B: np.ndarray,\n",
    "        c: np.ndarray,\n",
    "        matrix: np.ndarray,\n",
    "        right_part: np.ndarray,\n",
    "        true_solution: np.ndarray,\n",
    "        eps: float,\n",
    "        limit: int = 10000,\n",
    ") -> pd.Series:\n",
    "    actual_simple_solution, simple_steps = solve_iterativly(B, c, eps=eps, limit=limit)\n",
    "    actual_seidel_solution, seidel_steps = solve_with_seidel_method(matrix, right_part, eps=eps, limit=limit)\n",
    "\n",
    "    return pd.Series([\n",
    "        simple_steps,\n",
    "        linalg.norm(actual_simple_solution - true_solution),\n",
    "        seidel_steps,\n",
    "        linalg.norm(actual_seidel_solution - true_solution),\n",
    "    ])"
   ],
   "execution_count":6,
   "outputs":[
    
   ],
   "metadata":{
    "datalore":{
     "type":"CODE",
     "hide_input_from_viewers":false,
     "hide_output_from_viewers":false
    }
   }
  },
  {
   "cell_type":"code",
   "source":[
    "def comapare_eps_and_steps(data: pd.DataFrame, show_simple: bool = True, show_seidel: bool = True) -> None:\n",
    "    fig = go.Figure()\n",
    "\n",
    "    if show_simple:\n",
    "        fig.add_scatter(x=data.eps, y=data.simple_steps, name='Simple')\n",
    "\n",
    "    if show_seidel: \n",
    "        fig.add_scatter(x=data.eps, y=data.seidel_steps, name='Seidel')\n",
    "\n",
    "    fig.update_xaxes(type='log', title='ε', autorange='reversed', tickformat='.0e')\n",
    "    fig.update_yaxes(title='Количество шагов')\n",
    "\n",
    "    fig.update_layout(title='Зависимость количества шагов от ε')\n",
    "\n",
    "    fig.show()"
   ],
   "execution_count":7,
   "outputs":[
    
   ],
   "metadata":{
    "datalore":{
     "type":"CODE",
     "hide_input_from_viewers":false,
     "hide_output_from_viewers":false
    }
   }
  },
  {
   "cell_type":"code",
   "source":[
    "def comapare_eps_and_error(data: pd.DataFrame, show_simple: bool = True, show_seidel: bool = True) -> None:\n",
    "    fig = go.Figure()\n",
    "\n",
    "    if show_simple:\n",
    "        fig.add_scatter(x=data.eps, y=data.simple_error, name='Simple')\n",
    "\n",
    "    if show_seidel:\n",
    "        fig.add_scatter(x=data.eps, y=data.seidel_error, name='Seidel')\n",
    "\n",
    "    fig.update_xaxes(type='log', title='ε', tickformat='.0e')\n",
    "    fig.update_yaxes(type='log', title='Ошибка', tickformat='.2e')\n",
    "\n",
    "    fig.update_layout(title='Зависимость ошибки от ε')\n",
    "\n",
    "    fig.show()"
   ],
   "execution_count":8,
   "outputs":[
    
   ],
   "metadata":{
    "datalore":{
     "type":"CODE",
     "hide_input_from_viewers":false,
     "hide_output_from_viewers":false
    }
   }
  },
  {
   "cell_type":"markdown",
   "source":[
    "# Diagonally dominant"
   ],
   "attachments":{
    
   },
   "metadata":{
    "datalore":{
     "type":"MD",
     "hide_input_from_viewers":false,
     "hide_output_from_viewers":false,
     "sheet_delimiter":true
    }
   }
  },
  {
   "cell_type":"code",
   "source":[
    "A = np.array([[10., -1., 2., 0.],\n",
    "              [-1., 11., -1., 3.],\n",
    "              [2., -1., 10., -1.],\n",
    "              [0., 3., -1., 8.]])\n",
    "\n",
    "b = np.array([6.0, 25.0, -11.0, 15.0])\n",
    "\n",
    "true_solution = np.array([1, 2, -1, 1])"
   ],
   "execution_count":9,
   "outputs":[
    
   ],
   "metadata":{
    "datalore":{
     "type":"CODE",
     "hide_input_from_viewers":false,
     "hide_output_from_viewers":false
    }
   }
  },
  {
   "cell_type":"code",
   "source":[
    "B, c = convert_linear_to_simple_iteration(A, b, matrix_type='diagonally_dominant')\n",
    "print(linalg.norm(B))\n",
    "print(abs(B).sum(axis=1))\n",
    "print(abs(B).sum(axis=0))\n",
    "print((B ** 2).sum())"
   ],
   "execution_count":10,
   "outputs":[
    {
     "name":"stdout",
     "text":[
      "0.5976278866561457\n",
      "[0.3        0.45454545 0.4        0.5       ]\n",
      "[0.29090909 0.575      0.41590909 0.37272727]\n",
      "0.3571590909090909\n"
     ],
     "output_type":"stream"
    }
   ],
   "metadata":{
    "datalore":{
     "type":"CODE",
     "hide_input_from_viewers":false,
     "hide_output_from_viewers":false
    }
   }
  },
  {
   "cell_type":"code",
   "source":[
    "diag_good_1_data = pd.DataFrame([10 ** -i for i in range(2, 16)], columns=['eps'])\n",
    "diag_good_1_data[['simple_steps', 'simple_error', 'seidel_steps', 'seidel_error']] = diag_good_1_data.apply(\n",
    "    func=lambda row: banchmark_linear_system(B, c, A, b, true_solution, row.eps),\n",
    "    axis=1,\n",
    ")\n",
    "diag_good_1_data"
   ],
   "execution_count":11,
   "outputs":[
    {
     "data":{
      "text\/html":[
       "<div>\n",
       "<style scoped>\n",
       "    .dataframe tbody tr th:only-of-type {\n",
       "        vertical-align: middle;\n",
       "    }\n",
       "\n",
       "    .dataframe tbody tr th {\n",
       "        vertical-align: top;\n",
       "    }\n",
       "\n",
       "    .dataframe thead th {\n",
       "        text-align: right;\n",
       "    }\n",
       "<\/style>\n",
       "<table border=\"1\" class=\"dataframe\">\n",
       "  <thead>\n",
       "    <tr style=\"text-align: right;\">\n",
       "      <th><\/th>\n",
       "      <th>eps<\/th>\n",
       "      <th>simple_steps<\/th>\n",
       "      <th>simple_error<\/th>\n",
       "      <th>seidel_steps<\/th>\n",
       "      <th>seidel_error<\/th>\n",
       "    <\/tr>\n",
       "  <\/thead>\n",
       "  <tbody>\n",
       "    <tr>\n",
       "      <th>0<\/th>\n",
       "      <td>1.000000e-02<\/td>\n",
       "      <td>8.0<\/td>\n",
       "      <td>9.089912e-04<\/td>\n",
       "      <td>3.0<\/td>\n",
       "      <td>9.732586e-04<\/td>\n",
       "    <\/tr>\n",
       "    <tr>\n",
       "      <th>1<\/th>\n",
       "      <td>1.000000e-03<\/td>\n",
       "      <td>10.0<\/td>\n",
       "      <td>1.641435e-04<\/td>\n",
       "      <td>4.0<\/td>\n",
       "      <td>9.949503e-05<\/td>\n",
       "    <\/tr>\n",
       "    <tr>\n",
       "      <th>2<\/th>\n",
       "      <td>1.000000e-04<\/td>\n",
       "      <td>13.0<\/td>\n",
       "      <td>1.255443e-05<\/td>\n",
       "      <td>5.0<\/td>\n",
       "      <td>8.914947e-06<\/td>\n",
       "    <\/tr>\n",
       "    <tr>\n",
       "      <th>3<\/th>\n",
       "      <td>1.000000e-05<\/td>\n",
       "      <td>16.0<\/td>\n",
       "      <td>9.794820e-07<\/td>\n",
       "      <td>6.0<\/td>\n",
       "      <td>6.997203e-07<\/td>\n",
       "    <\/tr>\n",
       "    <tr>\n",
       "      <th>4<\/th>\n",
       "      <td>1.000000e-06<\/td>\n",
       "      <td>18.0<\/td>\n",
       "      <td>1.779619e-07<\/td>\n",
       "      <td>7.0<\/td>\n",
       "      <td>4.644315e-08<\/td>\n",
       "    <\/tr>\n",
       "    <tr>\n",
       "      <th>5<\/th>\n",
       "      <td>1.000000e-07<\/td>\n",
       "      <td>21.0<\/td>\n",
       "      <td>1.376887e-08<\/td>\n",
       "      <td>8.0<\/td>\n",
       "      <td>2.400053e-09<\/td>\n",
       "    <\/tr>\n",
       "    <tr>\n",
       "      <th>6<\/th>\n",
       "      <td>1.000000e-08<\/td>\n",
       "      <td>24.0<\/td>\n",
       "      <td>1.068975e-09<\/td>\n",
       "      <td>9.0<\/td>\n",
       "      <td>1.534431e-10<\/td>\n",
       "    <\/tr>\n",
       "    <tr>\n",
       "      <th>7<\/th>\n",
       "      <td>1.000000e-09<\/td>\n",
       "      <td>26.0<\/td>\n",
       "      <td>1.943630e-10<\/td>\n",
       "      <td>10.0<\/td>\n",
       "      <td>2.593783e-11<\/td>\n",
       "    <\/tr>\n",
       "    <tr>\n",
       "      <th>8<\/th>\n",
       "      <td>1.000000e-10<\/td>\n",
       "      <td>29.0<\/td>\n",
       "      <td>1.506598e-11<\/td>\n",
       "      <td>11.0<\/td>\n",
       "      <td>3.565422e-12<\/td>\n",
       "    <\/tr>\n",
       "    <tr>\n",
       "      <th>9<\/th>\n",
       "      <td>1.000000e-11<\/td>\n",
       "      <td>32.0<\/td>\n",
       "      <td>1.168588e-12<\/td>\n",
       "      <td>12.0<\/td>\n",
       "      <td>3.980505e-13<\/td>\n",
       "    <\/tr>\n",
       "    <tr>\n",
       "      <th>10<\/th>\n",
       "      <td>1.000000e-12<\/td>\n",
       "      <td>35.0<\/td>\n",
       "      <td>9.063065e-14<\/td>\n",
       "      <td>13.0<\/td>\n",
       "      <td>3.829690e-14<\/td>\n",
       "    <\/tr>\n",
       "    <tr>\n",
       "      <th>11<\/th>\n",
       "      <td>1.000000e-13<\/td>\n",
       "      <td>37.0<\/td>\n",
       "      <td>1.645566e-14<\/td>\n",
       "      <td>14.0<\/td>\n",
       "      <td>3.211981e-15<\/td>\n",
       "    <\/tr>\n",
       "    <tr>\n",
       "      <th>12<\/th>\n",
       "      <td>1.000000e-14<\/td>\n",
       "      <td>40.0<\/td>\n",
       "      <td>1.368775e-15<\/td>\n",
       "      <td>15.0<\/td>\n",
       "      <td>3.330669e-16<\/td>\n",
       "    <\/tr>\n",
       "    <tr>\n",
       "      <th>13<\/th>\n",
       "      <td>1.000000e-15<\/td>\n",
       "      <td>43.0<\/td>\n",
       "      <td>2.220446e-16<\/td>\n",
       "      <td>16.0<\/td>\n",
       "      <td>0.000000e+00<\/td>\n",
       "    <\/tr>\n",
       "  <\/tbody>\n",
       "<\/table>\n",
       "<\/div>"
      ]
     },
     "metadata":{
      
     },
     "output_type":"display_data"
    }
   ],
   "metadata":{
    "datalore":{
     "type":"CODE",
     "hide_input_from_viewers":false,
     "hide_output_from_viewers":false
    }
   }
  },
  {
   "cell_type":"code",
   "source":[
    "comapare_eps_and_steps(diag_good_1_data)"
   ],
   "execution_count":12,
   "outputs":[
    {
     "data":{
      "text\/plain":[
       "Unsupported"
      ]
     },
     "metadata":{
      
     },
     "output_type":"display_data"
    }
   ],
   "metadata":{
    "datalore":{
     "type":"CODE",
     "hide_input_from_viewers":false,
     "hide_output_from_viewers":false
    }
   }
  },
  {
   "cell_type":"code",
   "source":[
    "comapare_eps_and_error(diag_good_1_data)"
   ],
   "execution_count":13,
   "outputs":[
    {
     "data":{
      "text\/plain":[
       "Unsupported"
      ]
     },
     "metadata":{
      
     },
     "output_type":"display_data"
    }
   ],
   "metadata":{
    "datalore":{
     "type":"CODE",
     "hide_input_from_viewers":false,
     "hide_output_from_viewers":false
    }
   }
  },
  {
   "cell_type":"markdown",
   "source":[
    "# Diagonally dominant №2"
   ],
   "attachments":{
    
   },
   "metadata":{
    "datalore":{
     "type":"MD",
     "hide_input_from_viewers":false,
     "hide_output_from_viewers":false,
     "sheet_delimiter":true
    }
   }
  },
  {
   "cell_type":"code",
   "source":[
    "def get_diagonally_dominant_linear_system(size: int) -> Tuple[np.ndarray, np.ndarray, np.ndarray]:\n",
    "    matrix = np.eye(size) * 3 + np.eye(size, k=-1) * -1 + np.eye(size, k=1) * -1\n",
    "    solution = np.ones(size)\n",
    "    right_part = np.dot(matrix, solution)\n",
    "    return matrix, right_part, solution"
   ],
   "execution_count":14,
   "outputs":[
    
   ],
   "metadata":{
    "datalore":{
     "type":"CODE",
     "hide_input_from_viewers":false,
     "hide_output_from_viewers":false
    }
   }
  },
  {
   "cell_type":"code",
   "source":[
    "matrix, right_part, solution = get_diagonally_dominant_linear_system(20)\n",
    "B, c = convert_linear_to_simple_iteration(matrix, right_part, matrix_type='diagonally_dominant')\n",
    "print(linalg.norm(B))\n",
    "print(abs(B).sum(axis=1))\n",
    "print(abs(B).sum(axis=0))\n",
    "print((B ** 2).sum())"
   ],
   "execution_count":15,
   "outputs":[
    {
     "name":"stdout",
     "text":[
      "2.0548046676563256\n",
      "[0.33333333 0.66666667 0.66666667 0.66666667 0.66666667 0.66666667\n",
      " 0.66666667 0.66666667 0.66666667 0.66666667 0.66666667 0.66666667\n",
      " 0.66666667 0.66666667 0.66666667 0.66666667 0.66666667 0.66666667\n",
      " 0.66666667 0.33333333]\n",
      "[0.33333333 0.66666667 0.66666667 0.66666667 0.66666667 0.66666667\n",
      " 0.66666667 0.66666667 0.66666667 0.66666667 0.66666667 0.66666667\n",
      " 0.66666667 0.66666667 0.66666667 0.66666667 0.66666667 0.66666667\n",
      " 0.66666667 0.33333333]\n",
      "4.222222222222222\n"
     ],
     "output_type":"stream"
    }
   ],
   "metadata":{
    "datalore":{
     "type":"CODE",
     "hide_input_from_viewers":false,
     "hide_output_from_viewers":false
    }
   }
  },
  {
   "cell_type":"code",
   "source":[
    "diag_good_2_data = pd.DataFrame([10 ** -i for i in range(2, 16)], columns=['eps'])\n",
    "diag_good_2_data[['simple_steps', 'simple_error', 'seidel_steps', 'seidel_error']] = diag_good_2_data.apply(\n",
    "    func=lambda row: banchmark_linear_system(B, c, matrix, right_part, solution, row.eps),\n",
    "    axis=1,\n",
    ")\n",
    "diag_good_2_data"
   ],
   "execution_count":16,
   "outputs":[
    {
     "data":{
      "text\/html":[
       "<div>\n",
       "<style scoped>\n",
       "    .dataframe tbody tr th:only-of-type {\n",
       "        vertical-align: middle;\n",
       "    }\n",
       "\n",
       "    .dataframe tbody tr th {\n",
       "        vertical-align: top;\n",
       "    }\n",
       "\n",
       "    .dataframe thead th {\n",
       "        text-align: right;\n",
       "    }\n",
       "<\/style>\n",
       "<table border=\"1\" class=\"dataframe\">\n",
       "  <thead>\n",
       "    <tr style=\"text-align: right;\">\n",
       "      <th><\/th>\n",
       "      <th>eps<\/th>\n",
       "      <th>simple_steps<\/th>\n",
       "      <th>simple_error<\/th>\n",
       "      <th>seidel_steps<\/th>\n",
       "      <th>seidel_error<\/th>\n",
       "    <\/tr>\n",
       "  <\/thead>\n",
       "  <tbody>\n",
       "    <tr>\n",
       "      <th>0<\/th>\n",
       "      <td>1.000000e-02<\/td>\n",
       "      <td>12.0<\/td>\n",
       "      <td>1.837308e-02<\/td>\n",
       "      <td>8.0<\/td>\n",
       "      <td>6.849358e-03<\/td>\n",
       "    <\/tr>\n",
       "    <tr>\n",
       "      <th>1<\/th>\n",
       "      <td>1.000000e-03<\/td>\n",
       "      <td>18.0<\/td>\n",
       "      <td>1.503025e-03<\/td>\n",
       "      <td>11.0<\/td>\n",
       "      <td>7.908827e-04<\/td>\n",
       "    <\/tr>\n",
       "    <tr>\n",
       "      <th>2<\/th>\n",
       "      <td>1.000000e-04<\/td>\n",
       "      <td>23.0<\/td>\n",
       "      <td>1.869414e-04<\/td>\n",
       "      <td>14.0<\/td>\n",
       "      <td>9.025824e-05<\/td>\n",
       "    <\/tr>\n",
       "    <tr>\n",
       "      <th>3<\/th>\n",
       "      <td>1.000000e-05<\/td>\n",
       "      <td>29.0<\/td>\n",
       "      <td>1.533584e-05<\/td>\n",
       "      <td>18.0<\/td>\n",
       "      <td>4.855669e-06<\/td>\n",
       "    <\/tr>\n",
       "    <tr>\n",
       "      <th>4<\/th>\n",
       "      <td>1.000000e-06<\/td>\n",
       "      <td>34.0<\/td>\n",
       "      <td>1.909004e-06<\/td>\n",
       "      <td>21.0<\/td>\n",
       "      <td>5.248068e-07<\/td>\n",
       "    <\/tr>\n",
       "    <tr>\n",
       "      <th>5<\/th>\n",
       "      <td>1.000000e-07<\/td>\n",
       "      <td>40.0<\/td>\n",
       "      <td>1.566632e-07<\/td>\n",
       "      <td>24.0<\/td>\n",
       "      <td>5.456947e-08<\/td>\n",
       "    <\/tr>\n",
       "    <tr>\n",
       "      <th>6<\/th>\n",
       "      <td>1.000000e-08<\/td>\n",
       "      <td>46.0<\/td>\n",
       "      <td>1.285711e-08<\/td>\n",
       "      <td>27.0<\/td>\n",
       "      <td>5.441265e-09<\/td>\n",
       "    <\/tr>\n",
       "    <tr>\n",
       "      <th>7<\/th>\n",
       "      <td>1.000000e-09<\/td>\n",
       "      <td>51.0<\/td>\n",
       "      <td>1.600644e-09<\/td>\n",
       "      <td>30.0<\/td>\n",
       "      <td>5.219192e-10<\/td>\n",
       "    <\/tr>\n",
       "    <tr>\n",
       "      <th>8<\/th>\n",
       "      <td>1.000000e-10<\/td>\n",
       "      <td>57.0<\/td>\n",
       "      <td>1.313653e-10<\/td>\n",
       "      <td>33.0<\/td>\n",
       "      <td>4.845081e-11<\/td>\n",
       "    <\/tr>\n",
       "    <tr>\n",
       "      <th>9<\/th>\n",
       "      <td>1.000000e-11<\/td>\n",
       "      <td>62.0<\/td>\n",
       "      <td>1.635517e-11<\/td>\n",
       "      <td>36.0<\/td>\n",
       "      <td>4.381100e-12<\/td>\n",
       "    <\/tr>\n",
       "    <tr>\n",
       "      <th>10<\/th>\n",
       "      <td>1.000000e-12<\/td>\n",
       "      <td>68.0<\/td>\n",
       "      <td>1.343226e-12<\/td>\n",
       "      <td>39.0<\/td>\n",
       "      <td>3.881049e-13<\/td>\n",
       "    <\/tr>\n",
       "    <tr>\n",
       "      <th>11<\/th>\n",
       "      <td>1.000000e-13<\/td>\n",
       "      <td>73.0<\/td>\n",
       "      <td>1.678839e-13<\/td>\n",
       "      <td>41.0<\/td>\n",
       "      <td>7.637132e-14<\/td>\n",
       "    <\/tr>\n",
       "    <tr>\n",
       "      <th>12<\/th>\n",
       "      <td>1.000000e-14<\/td>\n",
       "      <td>79.0<\/td>\n",
       "      <td>1.479557e-14<\/td>\n",
       "      <td>44.0<\/td>\n",
       "      <td>6.640025e-15<\/td>\n",
       "    <\/tr>\n",
       "    <tr>\n",
       "      <th>13<\/th>\n",
       "      <td>1.000000e-15<\/td>\n",
       "      <td>84.0<\/td>\n",
       "      <td>2.512148e-15<\/td>\n",
       "      <td>47.0<\/td>\n",
       "      <td>1.064889e-15<\/td>\n",
       "    <\/tr>\n",
       "  <\/tbody>\n",
       "<\/table>\n",
       "<\/div>"
      ]
     },
     "metadata":{
      
     },
     "output_type":"display_data"
    }
   ],
   "metadata":{
    "datalore":{
     "type":"CODE",
     "hide_input_from_viewers":false,
     "hide_output_from_viewers":false
    }
   }
  },
  {
   "cell_type":"code",
   "source":[
    "comapare_eps_and_steps(diag_good_2_data)"
   ],
   "execution_count":17,
   "outputs":[
    {
     "data":{
      "text\/plain":[
       "Unsupported"
      ]
     },
     "metadata":{
      
     },
     "output_type":"display_data"
    }
   ],
   "metadata":{
    "datalore":{
     "type":"CODE",
     "hide_input_from_viewers":false,
     "hide_output_from_viewers":false
    }
   }
  },
  {
   "cell_type":"code",
   "source":[
    "comapare_eps_and_error(diag_good_2_data)"
   ],
   "execution_count":18,
   "outputs":[
    {
     "data":{
      "text\/plain":[
       "Unsupported"
      ]
     },
     "metadata":{
      
     },
     "output_type":"display_data"
    }
   ],
   "metadata":{
    "datalore":{
     "type":"CODE",
     "hide_input_from_viewers":false,
     "hide_output_from_viewers":false
    }
   }
  },
  {
   "cell_type":"markdown",
   "source":[
    "# Hilbert (2)"
   ],
   "attachments":{
    
   },
   "metadata":{
    "datalore":{
     "type":"MD",
     "hide_input_from_viewers":false,
     "hide_output_from_viewers":false,
     "sheet_delimiter":true
    }
   }
  },
  {
   "cell_type":"code",
   "source":[
    "matrix, right_part, solution = get_hilbert_linear_system(2)\n",
    "B, c = convert_linear_to_simple_iteration(matrix, right_part, matrix_type='positive_definite')\n",
    "print(linalg.norm(B))\n",
    "print(abs(B).sum(axis=1))\n",
    "print(abs(B).sum(axis=0))\n",
    "print((B ** 2).sum())"
   ],
   "execution_count":19,
   "outputs":[
    {
     "name":"stdout",
     "text":[
      "1.2747548783981961\n",
      "[1.25 1.25]\n",
      "[1.25 1.25]\n",
      "1.6249999999999996\n"
     ],
     "output_type":"stream"
    }
   ],
   "metadata":{
    "datalore":{
     "type":"CODE",
     "hide_input_from_viewers":false,
     "hide_output_from_viewers":false
    }
   }
  },
  {
   "cell_type":"code",
   "source":[
    "hilber_2_data = pd.DataFrame([10 ** -i for i in range(2, 16)], columns=['eps'])\n",
    "hilber_2_data[['simple_steps', 'simple_error', 'seidel_steps', 'seidel_error']] = hilber_2_data.apply(\n",
    "    func=lambda row: banchmark_linear_system(B, c, matrix, right_part, solution, row.eps),\n",
    "    axis=1,\n",
    ")\n",
    "hilber_2_data"
   ],
   "execution_count":20,
   "outputs":[
    {
     "data":{
      "text\/html":[
       "<div>\n",
       "<style scoped>\n",
       "    .dataframe tbody tr th:only-of-type {\n",
       "        vertical-align: middle;\n",
       "    }\n",
       "\n",
       "    .dataframe tbody tr th {\n",
       "        vertical-align: top;\n",
       "    }\n",
       "\n",
       "    .dataframe thead th {\n",
       "        text-align: right;\n",
       "    }\n",
       "<\/style>\n",
       "<table border=\"1\" class=\"dataframe\">\n",
       "  <thead>\n",
       "    <tr style=\"text-align: right;\">\n",
       "      <th><\/th>\n",
       "      <th>eps<\/th>\n",
       "      <th>simple_steps<\/th>\n",
       "      <th>simple_error<\/th>\n",
       "      <th>seidel_steps<\/th>\n",
       "      <th>seidel_error<\/th>\n",
       "    <\/tr>\n",
       "  <\/thead>\n",
       "  <tbody>\n",
       "    <tr>\n",
       "      <th>0<\/th>\n",
       "      <td>1.000000e-02<\/td>\n",
       "      <td>54.0<\/td>\n",
       "      <td>4.684440e-03<\/td>\n",
       "      <td>12.0<\/td>\n",
       "      <td>2.855268e-02<\/td>\n",
       "    <\/tr>\n",
       "    <tr>\n",
       "      <th>1<\/th>\n",
       "      <td>1.000000e-03<\/td>\n",
       "      <td>76.0<\/td>\n",
       "      <td>4.772157e-04<\/td>\n",
       "      <td>20.0<\/td>\n",
       "      <td>2.858492e-03<\/td>\n",
       "    <\/tr>\n",
       "    <tr>\n",
       "      <th>2<\/th>\n",
       "      <td>1.000000e-04<\/td>\n",
       "      <td>98.0<\/td>\n",
       "      <td>4.861517e-05<\/td>\n",
       "      <td>28.0<\/td>\n",
       "      <td>2.861719e-04<\/td>\n",
       "    <\/tr>\n",
       "    <tr>\n",
       "      <th>3<\/th>\n",
       "      <td>1.000000e-05<\/td>\n",
       "      <td>120.0<\/td>\n",
       "      <td>4.952550e-06<\/td>\n",
       "      <td>36.0<\/td>\n",
       "      <td>2.864951e-05<\/td>\n",
       "    <\/tr>\n",
       "    <tr>\n",
       "      <th>4<\/th>\n",
       "      <td>1.000000e-06<\/td>\n",
       "      <td>143.0<\/td>\n",
       "      <td>4.547761e-07<\/td>\n",
       "      <td>44.0<\/td>\n",
       "      <td>2.868186e-06<\/td>\n",
       "    <\/tr>\n",
       "    <tr>\n",
       "      <th>5<\/th>\n",
       "      <td>1.000000e-07<\/td>\n",
       "      <td>165.0<\/td>\n",
       "      <td>4.632919e-08<\/td>\n",
       "      <td>52.0<\/td>\n",
       "      <td>2.871424e-07<\/td>\n",
       "    <\/tr>\n",
       "    <tr>\n",
       "      <th>6<\/th>\n",
       "      <td>1.000000e-08<\/td>\n",
       "      <td>187.0<\/td>\n",
       "      <td>4.719671e-09<\/td>\n",
       "      <td>60.0<\/td>\n",
       "      <td>2.874667e-08<\/td>\n",
       "    <\/tr>\n",
       "    <tr>\n",
       "      <th>7<\/th>\n",
       "      <td>1.000000e-09<\/td>\n",
       "      <td>209.0<\/td>\n",
       "      <td>4.808048e-10<\/td>\n",
       "      <td>68.0<\/td>\n",
       "      <td>2.877913e-09<\/td>\n",
       "    <\/tr>\n",
       "    <tr>\n",
       "      <th>8<\/th>\n",
       "      <td>1.000000e-10<\/td>\n",
       "      <td>231.0<\/td>\n",
       "      <td>4.898029e-11<\/td>\n",
       "      <td>76.0<\/td>\n",
       "      <td>2.881173e-10<\/td>\n",
       "    <\/tr>\n",
       "    <tr>\n",
       "      <th>9<\/th>\n",
       "      <td>1.000000e-11<\/td>\n",
       "      <td>254.0<\/td>\n",
       "      <td>4.496963e-12<\/td>\n",
       "      <td>84.0<\/td>\n",
       "      <td>2.884516e-11<\/td>\n",
       "    <\/tr>\n",
       "    <tr>\n",
       "      <th>10<\/th>\n",
       "      <td>1.000000e-12<\/td>\n",
       "      <td>276.0<\/td>\n",
       "      <td>4.576741e-13<\/td>\n",
       "      <td>92.0<\/td>\n",
       "      <td>2.888725e-12<\/td>\n",
       "    <\/tr>\n",
       "    <tr>\n",
       "      <th>11<\/th>\n",
       "      <td>1.000000e-13<\/td>\n",
       "      <td>298.0<\/td>\n",
       "      <td>4.629244e-14<\/td>\n",
       "      <td>100.0<\/td>\n",
       "      <td>2.899995e-13<\/td>\n",
       "    <\/tr>\n",
       "    <tr>\n",
       "      <th>12<\/th>\n",
       "      <td>1.000000e-14<\/td>\n",
       "      <td>320.0<\/td>\n",
       "      <td>4.362484e-15<\/td>\n",
       "      <td>108.0<\/td>\n",
       "      <td>2.980696e-14<\/td>\n",
       "    <\/tr>\n",
       "    <tr>\n",
       "      <th>13<\/th>\n",
       "      <td>1.000000e-15<\/td>\n",
       "      <td>10000.0<\/td>\n",
       "      <td>6.753223e-16<\/td>\n",
       "      <td>116.0<\/td>\n",
       "      <td>3.789424e-15<\/td>\n",
       "    <\/tr>\n",
       "  <\/tbody>\n",
       "<\/table>\n",
       "<\/div>"
      ]
     },
     "metadata":{
      
     },
     "output_type":"display_data"
    }
   ],
   "metadata":{
    "datalore":{
     "type":"CODE",
     "hide_input_from_viewers":false,
     "hide_output_from_viewers":false
    }
   }
  },
  {
   "cell_type":"code",
   "source":[
    "comapare_eps_and_steps(hilber_2_data)"
   ],
   "execution_count":21,
   "outputs":[
    {
     "data":{
      "text\/plain":[
       "Unsupported"
      ]
     },
     "metadata":{
      
     },
     "output_type":"display_data"
    }
   ],
   "metadata":{
    "datalore":{
     "type":"CODE",
     "hide_input_from_viewers":false,
     "hide_output_from_viewers":false
    }
   }
  },
  {
   "cell_type":"code",
   "source":[
    "comapare_eps_and_error(hilber_2_data)"
   ],
   "execution_count":22,
   "outputs":[
    {
     "data":{
      "text\/plain":[
       "Unsupported"
      ]
     },
     "metadata":{
      
     },
     "output_type":"display_data"
    }
   ],
   "metadata":{
    "datalore":{
     "type":"CODE",
     "hide_input_from_viewers":false,
     "hide_output_from_viewers":false
    }
   }
  },
  {
   "cell_type":"markdown",
   "source":[
    "# Hilbert (3)"
   ],
   "attachments":{
    
   },
   "metadata":{
    "datalore":{
     "type":"MD",
     "hide_input_from_viewers":false,
     "hide_output_from_viewers":false,
     "sheet_delimiter":true
    }
   }
  },
  {
   "cell_type":"code",
   "source":[
    "matrix, right_part, solution = get_hilbert_linear_system(3)\n",
    "B, c = convert_linear_to_simple_iteration(matrix, right_part, matrix_type='positive_definite')\n",
    "print(linalg.norm(B))\n",
    "print(abs(B).sum(axis=1))\n",
    "print(abs(B).sum(axis=0))\n",
    "print((B ** 2).sum())"
   ],
   "execution_count":23,
   "outputs":[
    {
     "name":"stdout",
     "text":[
      "1.6289338861771931\n",
      "[1.58823529 1.58823529 1.54117647]\n",
      "[1.58823529 1.58823529 1.54117647]\n",
      "2.6534256055363326\n"
     ],
     "output_type":"stream"
    }
   ],
   "metadata":{
    "datalore":{
     "type":"CODE",
     "hide_input_from_viewers":false,
     "hide_output_from_viewers":false
    }
   }
  },
  {
   "cell_type":"code",
   "source":[
    "hilber_3_data = pd.DataFrame([10 ** -i for i in range(2, 16)], columns=['eps'])\n",
    "hilber_3_data[['simple_steps', 'simple_error', 'seidel_steps', 'seidel_error']] = hilber_3_data.apply(\n",
    "    func=lambda row: banchmark_linear_system(B, c, matrix, right_part, solution, row.eps),\n",
    "    axis=1,\n",
    ")\n",
    "hilber_3_data"
   ],
   "execution_count":24,
   "outputs":[
    {
     "data":{
      "text\/html":[
       "<div>\n",
       "<style scoped>\n",
       "    .dataframe tbody tr th:only-of-type {\n",
       "        vertical-align: middle;\n",
       "    }\n",
       "\n",
       "    .dataframe tbody tr th {\n",
       "        vertical-align: top;\n",
       "    }\n",
       "\n",
       "    .dataframe thead th {\n",
       "        text-align: right;\n",
       "    }\n",
       "<\/style>\n",
       "<table border=\"1\" class=\"dataframe\">\n",
       "  <thead>\n",
       "    <tr style=\"text-align: right;\">\n",
       "      <th><\/th>\n",
       "      <th>eps<\/th>\n",
       "      <th>simple_steps<\/th>\n",
       "      <th>simple_error<\/th>\n",
       "      <th>seidel_steps<\/th>\n",
       "      <th>seidel_error<\/th>\n",
       "    <\/tr>\n",
       "  <\/thead>\n",
       "  <tbody>\n",
       "    <tr>\n",
       "      <th>0<\/th>\n",
       "      <td>1.000000e-02<\/td>\n",
       "      <td>487.0<\/td>\n",
       "      <td>1.679571e-02<\/td>\n",
       "      <td>10.0<\/td>\n",
       "      <td>4.384660e-01<\/td>\n",
       "    <\/tr>\n",
       "    <tr>\n",
       "      <th>1<\/th>\n",
       "      <td>1.000000e-03<\/td>\n",
       "      <td>681.0<\/td>\n",
       "      <td>7.693760e-03<\/td>\n",
       "      <td>122.0<\/td>\n",
       "      <td>5.095390e-02<\/td>\n",
       "    <\/tr>\n",
       "    <tr>\n",
       "      <th>2<\/th>\n",
       "      <td>1.000000e-04<\/td>\n",
       "      <td>876.0<\/td>\n",
       "      <td>3.659040e-03<\/td>\n",
       "      <td>241.0<\/td>\n",
       "      <td>5.109248e-03<\/td>\n",
       "    <\/tr>\n",
       "    <tr>\n",
       "      <th>3<\/th>\n",
       "      <td>1.000000e-05<\/td>\n",
       "      <td>1090.0<\/td>\n",
       "      <td>1.622027e-03<\/td>\n",
       "      <td>360.0<\/td>\n",
       "      <td>5.123144e-04<\/td>\n",
       "    <\/tr>\n",
       "    <tr>\n",
       "      <th>4<\/th>\n",
       "      <td>1.000000e-06<\/td>\n",
       "      <td>1570.0<\/td>\n",
       "      <td>2.616211e-04<\/td>\n",
       "      <td>480.0<\/td>\n",
       "      <td>5.038748e-05<\/td>\n",
       "    <\/tr>\n",
       "    <tr>\n",
       "      <th>5<\/th>\n",
       "      <td>1.000000e-07<\/td>\n",
       "      <td>2175.0<\/td>\n",
       "      <td>2.623849e-05<\/td>\n",
       "      <td>599.0<\/td>\n",
       "      <td>5.052452e-06<\/td>\n",
       "    <\/tr>\n",
       "    <tr>\n",
       "      <th>6<\/th>\n",
       "      <td>1.000000e-08<\/td>\n",
       "      <td>2781.0<\/td>\n",
       "      <td>2.621526e-06<\/td>\n",
       "      <td>718.0<\/td>\n",
       "      <td>5.066193e-07<\/td>\n",
       "    <\/tr>\n",
       "    <tr>\n",
       "      <th>7<\/th>\n",
       "      <td>1.000000e-09<\/td>\n",
       "      <td>3387.0<\/td>\n",
       "      <td>2.619204e-07<\/td>\n",
       "      <td>837.0<\/td>\n",
       "      <td>5.079973e-08<\/td>\n",
       "    <\/tr>\n",
       "    <tr>\n",
       "      <th>8<\/th>\n",
       "      <td>1.000000e-10<\/td>\n",
       "      <td>3993.0<\/td>\n",
       "      <td>2.616887e-08<\/td>\n",
       "      <td>956.0<\/td>\n",
       "      <td>5.093796e-09<\/td>\n",
       "    <\/tr>\n",
       "    <tr>\n",
       "      <th>9<\/th>\n",
       "      <td>1.000000e-11<\/td>\n",
       "      <td>4598.0<\/td>\n",
       "      <td>2.624545e-09<\/td>\n",
       "      <td>1075.0<\/td>\n",
       "      <td>5.107726e-10<\/td>\n",
       "    <\/tr>\n",
       "    <tr>\n",
       "      <th>10<\/th>\n",
       "      <td>1.000000e-12<\/td>\n",
       "      <td>5204.0<\/td>\n",
       "      <td>2.622398e-10<\/td>\n",
       "      <td>1194.0<\/td>\n",
       "      <td>5.122514e-11<\/td>\n",
       "    <\/tr>\n",
       "    <tr>\n",
       "      <th>11<\/th>\n",
       "      <td>1.000000e-13<\/td>\n",
       "      <td>5810.0<\/td>\n",
       "      <td>2.621797e-11<\/td>\n",
       "      <td>1314.0<\/td>\n",
       "      <td>5.047338e-12<\/td>\n",
       "    <\/tr>\n",
       "    <tr>\n",
       "      <th>12<\/th>\n",
       "      <td>1.000000e-14<\/td>\n",
       "      <td>6426.0<\/td>\n",
       "      <td>2.540073e-12<\/td>\n",
       "      <td>1434.0<\/td>\n",
       "      <td>5.085525e-13<\/td>\n",
       "    <\/tr>\n",
       "    <tr>\n",
       "      <th>13<\/th>\n",
       "      <td>1.000000e-15<\/td>\n",
       "      <td>7014.0<\/td>\n",
       "      <td>2.897309e-13<\/td>\n",
       "      <td>1539.0<\/td>\n",
       "      <td>7.232351e-14<\/td>\n",
       "    <\/tr>\n",
       "  <\/tbody>\n",
       "<\/table>\n",
       "<\/div>"
      ]
     },
     "metadata":{
      
     },
     "output_type":"display_data"
    }
   ],
   "metadata":{
    "datalore":{
     "type":"CODE",
     "hide_input_from_viewers":false,
     "hide_output_from_viewers":false
    }
   }
  },
  {
   "cell_type":"code",
   "source":[
    "comapare_eps_and_steps(hilber_3_data)"
   ],
   "execution_count":25,
   "outputs":[
    {
     "data":{
      "text\/plain":[
       "Unsupported"
      ]
     },
     "metadata":{
      
     },
     "output_type":"display_data"
    }
   ],
   "metadata":{
    "datalore":{
     "type":"CODE",
     "hide_input_from_viewers":false,
     "hide_output_from_viewers":false
    }
   }
  },
  {
   "cell_type":"code",
   "source":[
    "comapare_eps_and_error(hilber_3_data)"
   ],
   "execution_count":26,
   "outputs":[
    {
     "data":{
      "text\/plain":[
       "Unsupported"
      ]
     },
     "metadata":{
      
     },
     "output_type":"display_data"
    }
   ],
   "metadata":{
    "datalore":{
     "type":"CODE",
     "hide_input_from_viewers":false,
     "hide_output_from_viewers":false
    }
   }
  },
  {
   "cell_type":"markdown",
   "source":[
    "# Hilbert (4)"
   ],
   "attachments":{
    
   },
   "metadata":{
    "datalore":{
     "type":"MD",
     "hide_input_from_viewers":false,
     "hide_output_from_viewers":false,
     "sheet_delimiter":true
    }
   }
  },
  {
   "cell_type":"code",
   "source":[
    "matrix, right_part, solution = get_hilbert_linear_system(4)\n",
    "B, c = convert_linear_to_simple_iteration(matrix, right_part, matrix_type='positive_definite')\n",
    "print(linalg.norm(B))\n",
    "print(abs(B).sum(axis=1))\n",
    "print(abs(B).sum(axis=0))\n",
    "print((B ** 2).sum())"
   ],
   "execution_count":27,
   "outputs":[
    {
     "name":"stdout",
     "text":[
      "1.9149239451307238\n",
      "[1.84090909 1.84090909 1.75       1.6461039 ]\n",
      "[1.84090909 1.84090909 1.75       1.6461039 ]\n",
      "3.6669337156350155\n"
     ],
     "output_type":"stream"
    }
   ],
   "metadata":{
    "datalore":{
     "type":"CODE",
     "hide_input_from_viewers":false,
     "hide_output_from_viewers":false
    }
   }
  },
  {
   "cell_type":"code",
   "source":[
    "hilber_4_data = pd.DataFrame([10 ** -i for i in range(2, 16)], columns=['eps'])\n",
    "hilber_4_data[['simple_steps', 'simple_error', 'seidel_steps', 'seidel_error']] = hilber_4_data.apply(\n",
    "    func=lambda row: banchmark_linear_system(B, c, matrix, right_part, solution, row.eps, 500000),\n",
    "    axis=1,\n",
    ")\n",
    "hilber_4_data"
   ],
   "execution_count":28,
   "outputs":[
    {
     "name":"stderr",
     "text":[
      "<ipython-input-4-4f10db6a307a>:16: RuntimeWarning:\n",
      "\n",
      "overflow encountered in subtract\n",
      "\n"
     ],
     "output_type":"stream"
    },
    {
     "data":{
      "text\/html":[
       "<div>\n",
       "<style scoped>\n",
       "    .dataframe tbody tr th:only-of-type {\n",
       "        vertical-align: middle;\n",
       "    }\n",
       "\n",
       "    .dataframe tbody tr th {\n",
       "        vertical-align: top;\n",
       "    }\n",
       "\n",
       "    .dataframe thead th {\n",
       "        text-align: right;\n",
       "    }\n",
       "<\/style>\n",
       "<table border=\"1\" class=\"dataframe\">\n",
       "  <thead>\n",
       "    <tr style=\"text-align: right;\">\n",
       "      <th><\/th>\n",
       "      <th>eps<\/th>\n",
       "      <th>simple_steps<\/th>\n",
       "      <th>simple_error<\/th>\n",
       "      <th>seidel_steps<\/th>\n",
       "      <th>seidel_error<\/th>\n",
       "    <\/tr>\n",
       "  <\/thead>\n",
       "  <tbody>\n",
       "    <tr>\n",
       "      <th>0<\/th>\n",
       "      <td>1.000000e-02<\/td>\n",
       "      <td>500000.0<\/td>\n",
       "      <td>NaN<\/td>\n",
       "      <td>34.0<\/td>\n",
       "      <td>2.347000e-01<\/td>\n",
       "    <\/tr>\n",
       "    <tr>\n",
       "      <th>1<\/th>\n",
       "      <td>1.000000e-03<\/td>\n",
       "      <td>500000.0<\/td>\n",
       "      <td>NaN<\/td>\n",
       "      <td>87.0<\/td>\n",
       "      <td>1.443003e-01<\/td>\n",
       "    <\/tr>\n",
       "    <tr>\n",
       "      <th>2<\/th>\n",
       "      <td>1.000000e-04<\/td>\n",
       "      <td>500000.0<\/td>\n",
       "      <td>NaN<\/td>\n",
       "      <td>471.0<\/td>\n",
       "      <td>1.029025e-01<\/td>\n",
       "    <\/tr>\n",
       "    <tr>\n",
       "      <th>3<\/th>\n",
       "      <td>1.000000e-05<\/td>\n",
       "      <td>500000.0<\/td>\n",
       "      <td>NaN<\/td>\n",
       "      <td>2843.0<\/td>\n",
       "      <td>1.029164e-02<\/td>\n",
       "    <\/tr>\n",
       "    <tr>\n",
       "      <th>4<\/th>\n",
       "      <td>1.000000e-06<\/td>\n",
       "      <td>500000.0<\/td>\n",
       "      <td>NaN<\/td>\n",
       "      <td>5215.0<\/td>\n",
       "      <td>1.029304e-03<\/td>\n",
       "    <\/tr>\n",
       "    <tr>\n",
       "      <th>5<\/th>\n",
       "      <td>1.000000e-07<\/td>\n",
       "      <td>500000.0<\/td>\n",
       "      <td>NaN<\/td>\n",
       "      <td>7587.0<\/td>\n",
       "      <td>1.029444e-04<\/td>\n",
       "    <\/tr>\n",
       "    <tr>\n",
       "      <th>6<\/th>\n",
       "      <td>1.000000e-08<\/td>\n",
       "      <td>500000.0<\/td>\n",
       "      <td>NaN<\/td>\n",
       "      <td>9959.0<\/td>\n",
       "      <td>1.029583e-05<\/td>\n",
       "    <\/tr>\n",
       "    <tr>\n",
       "      <th>7<\/th>\n",
       "      <td>1.000000e-09<\/td>\n",
       "      <td>500000.0<\/td>\n",
       "      <td>NaN<\/td>\n",
       "      <td>12332.0<\/td>\n",
       "      <td>1.028724e-06<\/td>\n",
       "    <\/tr>\n",
       "    <tr>\n",
       "      <th>8<\/th>\n",
       "      <td>1.000000e-10<\/td>\n",
       "      <td>500000.0<\/td>\n",
       "      <td>NaN<\/td>\n",
       "      <td>14704.0<\/td>\n",
       "      <td>1.028867e-07<\/td>\n",
       "    <\/tr>\n",
       "    <tr>\n",
       "      <th>9<\/th>\n",
       "      <td>1.000000e-11<\/td>\n",
       "      <td>500000.0<\/td>\n",
       "      <td>NaN<\/td>\n",
       "      <td>17076.0<\/td>\n",
       "      <td>1.029040e-08<\/td>\n",
       "    <\/tr>\n",
       "    <tr>\n",
       "      <th>10<\/th>\n",
       "      <td>1.000000e-12<\/td>\n",
       "      <td>500000.0<\/td>\n",
       "      <td>NaN<\/td>\n",
       "      <td>19448.0<\/td>\n",
       "      <td>1.029481e-09<\/td>\n",
       "    <\/tr>\n",
       "    <tr>\n",
       "      <th>11<\/th>\n",
       "      <td>1.000000e-13<\/td>\n",
       "      <td>500000.0<\/td>\n",
       "      <td>NaN<\/td>\n",
       "      <td>21815.0<\/td>\n",
       "      <td>1.037683e-10<\/td>\n",
       "    <\/tr>\n",
       "    <tr>\n",
       "      <th>12<\/th>\n",
       "      <td>1.000000e-14<\/td>\n",
       "      <td>500000.0<\/td>\n",
       "      <td>NaN<\/td>\n",
       "      <td>24114.0<\/td>\n",
       "      <td>1.147659e-11<\/td>\n",
       "    <\/tr>\n",
       "    <tr>\n",
       "      <th>13<\/th>\n",
       "      <td>1.000000e-15<\/td>\n",
       "      <td>500000.0<\/td>\n",
       "      <td>NaN<\/td>\n",
       "      <td>26087.0<\/td>\n",
       "      <td>2.016403e-12<\/td>\n",
       "    <\/tr>\n",
       "  <\/tbody>\n",
       "<\/table>\n",
       "<\/div>"
      ]
     },
     "metadata":{
      
     },
     "output_type":"display_data"
    }
   ],
   "metadata":{
    "datalore":{
     "type":"CODE",
     "hide_input_from_viewers":false,
     "hide_output_from_viewers":false
    }
   }
  },
  {
   "cell_type":"code",
   "source":[
    "comapare_eps_and_steps(hilber_4_data, show_simple=False)"
   ],
   "execution_count":29,
   "outputs":[
    {
     "data":{
      "text\/plain":[
       "Unsupported"
      ]
     },
     "metadata":{
      
     },
     "output_type":"display_data"
    }
   ],
   "metadata":{
    "datalore":{
     "type":"CODE",
     "hide_input_from_viewers":false,
     "hide_output_from_viewers":false
    }
   }
  },
  {
   "cell_type":"code",
   "source":[
    "comapare_eps_and_error(hilber_4_data, show_simple=False)"
   ],
   "execution_count":30,
   "outputs":[
    {
     "data":{
      "text\/plain":[
       "Unsupported"
      ]
     },
     "metadata":{
      
     },
     "output_type":"display_data"
    }
   ],
   "metadata":{
    "datalore":{
     "type":"CODE",
     "hide_input_from_viewers":false,
     "hide_output_from_viewers":false
    }
   }
  }
 ],
 "metadata":{
  "datalore":{
   "version":1,
   "computation_mode":"JUPYTER",
   "package_manager":"pip",
   "base_environment":"default",
   "packages":[
    
   ]
  }
 },
 "nbformat":4,
 "nbformat_minor":4
}
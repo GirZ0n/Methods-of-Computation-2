{
 "cells":[
  {
   "cell_type":"markdown",
   "source":[
    "# Utils"
   ],
   "attachments":{
    
   },
   "metadata":{
    "datalore":{
     "type":"MD",
     "hide_input_from_viewers":false,
     "hide_output_from_viewers":false,
     "sheet_delimiter":true
    }
   }
  },
  {
   "cell_type":"code",
   "source":[
    "from collections import defaultdict\n",
    "from math import sin, cos, e, log\n",
    "from timeit import default_timer as timer\n",
    "from typing import Callable, Tuple, Literal, Optional\n",
    "\n",
    "import numpy as np\n",
    "import pandas as pd\n",
    "import plotly.graph_objects as go\n",
    "from scipy.sparse import lil_matrix, vstack, coo_matrix\n",
    "from scipy.sparse.linalg import spsolve\n",
    "from tqdm import tqdm\n",
    "\n",
    "import plotly.express as px\n",
    "\n",
    "from functools import partialmethod\n",
    "\n",
    "tqdm.__init__ = partialmethod(tqdm.__init__, disable=True)"
   ],
   "execution_count":94,
   "outputs":[
    
   ],
   "metadata":{
    "datalore":{
     "type":"CODE",
     "hide_input_from_viewers":false,
     "hide_output_from_viewers":false
    }
   }
  },
  {
   "cell_type":"code",
   "source":[
    "Function = Callable[[float], float]\n",
    "Grid = Tuple[np.ndarray, float]\n",
    "GeneralCondition = Tuple[float, float, float]\n",
    "\n",
    "COLORS = px.colors.qualitative.Dark24"
   ],
   "execution_count":95,
   "outputs":[
    
   ],
   "metadata":{
    "datalore":{
     "type":"CODE",
     "hide_input_from_viewers":false,
     "hide_output_from_viewers":false
    }
   }
  },
  {
   "cell_type":"code",
   "source":[
    "def solve(\n",
    "        matrix: lil_matrix,\n",
    "        right_side: np.ndarray,\n",
    "        matrix_type: Literal['tridiagonal', 'other'] = 'other',\n",
    ") -> np.ndarray:\n",
    "    if matrix_type == 'other':\n",
    "        return spsolve(matrix, right_side)\n",
    "\n",
    "    alphas = []\n",
    "    betas = []\n",
    "\n",
    "    # Прямой ход: находим коэффициенты\n",
    "    for i in tqdm(range(matrix.shape[0]), desc='Прямой ход'):\n",
    "        y = matrix[i, i] if i == 0 else matrix[i, i] + matrix[i, i - 1] * alphas[i - 1]\n",
    "        alphas.append(0 if i == (matrix.shape[0] - 1) else -1 * matrix[i, i + 1] \/ y)\n",
    "        betas.append(right_side[i] \/ y if i == 0 else (right_side[i] - matrix[i, i - 1] * betas[i - 1]) \/ y)\n",
    "\n",
    "    # Обратный ход: находим x\n",
    "    reversed_solution = []\n",
    "    for i in tqdm(reversed(range(matrix.shape[0])), desc='Обратный ход'):\n",
    "        reversed_solution.append(\n",
    "            betas[i]\n",
    "            if i == (matrix.shape[0] - 1) else\n",
    "            alphas[i] * reversed_solution[matrix.shape[0] - i - 2] + betas[i]\n",
    "        )\n",
    "    return np.array(reversed_solution[::-1])"
   ],
   "execution_count":96,
   "outputs":[
    
   ],
   "metadata":{
    "datalore":{
     "type":"CODE",
     "hide_input_from_viewers":false,
     "hide_output_from_viewers":false
    }
   }
  },
  {
   "cell_type":"code",
   "source":[
    "def solve_equation_using_finite_difference_method(\n",
    "        q: Function,\n",
    "        r: Function,\n",
    "        f: Function,\n",
    "        grid: Grid,\n",
    "        left_general_condition: GeneralCondition,\n",
    "        right_general_condition: GeneralCondition,\n",
    ") -> np.ndarray:\n",
    "    left_coefficient_1, left_coefficient_2, left_value = left_general_condition\n",
    "    right_coefficient_1, right_coefficient_2, right_value = right_general_condition\n",
    "\n",
    "    matrix_type = 'tridiagonal' if left_coefficient_2 == 0 and right_coefficient_2 == 0 else 'other'\n",
    "\n",
    "    points, step = grid\n",
    "\n",
    "    first_row = [\n",
    "        left_coefficient_1 + 3 \/ (2 * step) * left_coefficient_2,\n",
    "        -2 * left_coefficient_2 \/ step,\n",
    "        left_coefficient_2 \/ (2 * step),\n",
    "    ]\n",
    "    first_row.extend([0] * (len(points) - 3))\n",
    "\n",
    "    matrix = coo_matrix([first_row])\n",
    "    right_side = [left_value]\n",
    "\n",
    "    for index, point in tqdm(enumerate(points[1:-1]), desc='Конвертация в СЛАУ'):\n",
    "        row = [0] * index\n",
    "\n",
    "        row.append(1 \/ (step ** 2) - q(point) \/ (2 * step))\n",
    "        row.append(-2 \/ (step ** 2) - r(point))\n",
    "        row.append(1 \/ (step ** 2) + q(point) \/ (2 * step))\n",
    "\n",
    "        row.extend([0] * (len(points) - index - 3))\n",
    "\n",
    "        matrix = vstack([matrix, row])\n",
    "        right_side.append(f(point))\n",
    "\n",
    "    last_row = [float(0)] * (len(points) - 3)\n",
    "    last_row.extend([\n",
    "        right_coefficient_2 \/ (2 * step),\n",
    "        -2 * right_coefficient_2 \/ step,\n",
    "        right_coefficient_1 + 3 * right_coefficient_2 \/ (2 * step),\n",
    "    ])\n",
    "\n",
    "    matrix = vstack([matrix, last_row], format='lil')\n",
    "    right_side.append(right_value)\n",
    "\n",
    "    return solve(matrix, np.array(right_side), matrix_type)"
   ],
   "execution_count":97,
   "outputs":[
    
   ],
   "metadata":{
    "datalore":{
     "type":"CODE",
     "hide_input_from_viewers":false,
     "hide_output_from_viewers":false
    }
   }
  },
  {
   "cell_type":"code",
   "source":[
    "def _get_richardson_error(curr_solution: np.ndarray, next_solution: np.ndarray) -> float:\n",
    "    error_by_even_points = abs(next_solution[::2] - curr_solution) \/ 3\n",
    "\n",
    "    max_error = -1\n",
    "    for left_error, right_error in zip(error_by_even_points, error_by_even_points[1:]):\n",
    "        max_error = max(max_error, left_error)\n",
    "        max_error = max(max_error, (left_error + right_error) \/ 2)\n",
    "        max_error = max(max_error, right_error)\n",
    "\n",
    "    return max_error\n",
    "\n",
    "\n",
    "def _get_true_error(true_solution: np.ndarray, actual_solution: np.ndarray) -> float:\n",
    "    return abs(true_solution - actual_solution).max()\n",
    "\n",
    "\n",
    "def banchmark(\n",
    "        q: Function,\n",
    "        r: Function,\n",
    "        f: Function,\n",
    "        a: float,\n",
    "        b: float,\n",
    "        left_general_condition: GeneralCondition,\n",
    "        right_general_condition: GeneralCondition,\n",
    "        checkpoint_name: str,\n",
    "        true_function: Optional[Callable[[float], float]] = None,\n",
    "        eps: Optional[float] = None,\n",
    "        limit: int = 20,\n",
    ") -> None:\n",
    "    data = pd.read_csv(checkpoint_name)\n",
    "\n",
    "    if true_function is not None:\n",
    "        true_function = np.vectorize(true_function)\n",
    "\n",
    "    number_of_points = 3\n",
    "\n",
    "    curr_grid = np.linspace(a, b, number_of_points, retstep=True)\n",
    "\n",
    "    if data[data.number_of_points == number_of_points].empty:\n",
    "        curr_solution = solve_equation_using_finite_difference_method(\n",
    "            q,\n",
    "            r,\n",
    "            f,\n",
    "            curr_grid,\n",
    "            left_general_condition,\n",
    "            right_general_condition\n",
    "        )\n",
    "    else:\n",
    "        curr_solution = np.array(eval(data.at[data.number_of_points == number_of_points, 'solution'].values[0]))\n",
    "\n",
    "    result = defaultdict(list)\n",
    "\n",
    "    for step in range(2, limit + 1):\n",
    "        print(f'Current step: {step}', end=' ')\n",
    "\n",
    "        number_of_points = number_of_points * 2 - 1\n",
    "\n",
    "        next_grid = np.linspace(a, b, number_of_points, retstep=True)\n",
    "\n",
    "        if data[data.number_of_points == number_of_points].empty:\n",
    "            start = timer()\n",
    "            next_solution = solve_equation_using_finite_difference_method(\n",
    "                q,\n",
    "                r,\n",
    "                f,\n",
    "                next_grid,\n",
    "                left_general_condition,\n",
    "                right_general_condition\n",
    "            )\n",
    "            end = timer()\n",
    "            time = end - start\n",
    "            print('(new)')\n",
    "        else:\n",
    "            next_solution = np.array(eval(data.loc[data.number_of_points == number_of_points, 'solution'].values[0]))\n",
    "            time = data.loc[data.number_of_points == number_of_points, 'time'].values[0]\n",
    "            print('(saved)')\n",
    "\n",
    "        result['step'].append(step)\n",
    "        result['number_of_points'].append(number_of_points)\n",
    "\n",
    "        error = _get_richardson_error(curr_solution, next_solution)\n",
    "        result['richardson_error'].append(error)\n",
    "\n",
    "        if true_function is not None:\n",
    "            result['true_error'].append(_get_true_error(true_function(next_grid[0]), next_solution))\n",
    "\n",
    "        result['time'].append(time)\n",
    "        result['solution'].append(next_solution.tolist())\n",
    "\n",
    "        pd.DataFrame.from_dict(result).to_csv(checkpoint_name, index=False)\n",
    "\n",
    "        curr_grid = next_grid\n",
    "        curr_solution = next_solution\n",
    "\n",
    "        if eps is not None and error <= eps:\n",
    "            break"
   ],
   "execution_count":98,
   "outputs":[
    
   ],
   "metadata":{
    "datalore":{
     "type":"CODE",
     "hide_input_from_viewers":false,
     "hide_output_from_viewers":false
    }
   }
  },
  {
   "cell_type":"code",
   "source":[
    "def compare_step_and_error(data: pd.DataFrame) -> None:\n",
    "    fig = go.Figure()\n",
    "\n",
    "    fig.add_scatter(x=data.step, y=data.richardson_error, name='По Ричардсону')\n",
    "\n",
    "    if 'true_error' in data.columns.tolist():\n",
    "        fig.add_scatter(x=data.step, y=data.true_error, name='Реальная')\n",
    "\n",
    "    fig.update_xaxes(title='Номер шага')\n",
    "    fig.update_yaxes(title='Ошибка', tickformat='.2e', type='log')\n",
    "\n",
    "    fig.update_layout(title='Зависимость ошибки от номера шага', legend_title='Ошибка')\n",
    "\n",
    "    fig.show()"
   ],
   "execution_count":99,
   "outputs":[
    
   ],
   "metadata":{
    "datalore":{
     "type":"CODE",
     "hide_input_from_viewers":false,
     "hide_output_from_viewers":false
    }
   }
  },
  {
   "cell_type":"code",
   "source":[
    "def compare_step_and_number_of_points(data: pd.DataFrame) -> None:\n",
    "    fig = go.Figure()\n",
    "\n",
    "    fig.add_scatter(x=data.step, y=data.number_of_points)\n",
    "\n",
    "    fig.update_xaxes(title='Номер шага')\n",
    "    fig.update_yaxes(title='Количество точек')\n",
    "\n",
    "    fig.update_layout(title='Зависимость количества точек в сетке от номера шага')\n",
    "\n",
    "    fig.show()"
   ],
   "execution_count":100,
   "outputs":[
    
   ],
   "metadata":{
    "datalore":{
     "type":"CODE",
     "hide_input_from_viewers":false,
     "hide_output_from_viewers":false
    }
   }
  },
  {
   "cell_type":"code",
   "source":[
    "def show_solution_approximations(\n",
    "        data: pd.DataFrame,\n",
    "        a: int,\n",
    "        b: int,\n",
    "        start_with_step=2,\n",
    "        end_with_step=20,\n",
    "        true_function: Optional[Callable[[float], float]] = None,\n",
    "        number_of_points: int = 131073,\n",
    "        x_bias: float = 1,\n",
    ") -> None:\n",
    "    fig = go.Figure()\n",
    "\n",
    "    data = data[(data.step >= start_with_step) & (data.step <= end_with_step)]\n",
    "\n",
    "    data.apply(\n",
    "        func=lambda row: fig.add_scatter(\n",
    "            x=np.linspace(a, b, row.number_of_points),\n",
    "            y=eval(row.solution),\n",
    "            name=row.step,\n",
    "            line_color=COLORS[row.name],\n",
    "            mode='lines',\n",
    "        ),\n",
    "        axis=1,\n",
    "    )\n",
    "\n",
    "    if true_function is not None:\n",
    "        x, step = np.linspace(a, b, number_of_points, retstep=True)\n",
    "        fig.add_scatter(x=x, y=list(map(true_function, x)), name='True', line_color='rgba(0, 0, 0, 0.25)', showlegend=False)\n",
    "\n",
    "        x = np.linspace(a - x_bias, a, int(1000 * x_bias))\n",
    "        fig.add_scatter(x=x, y=list(map(true_function, x)), name='True', line_color='rgba(0, 0, 0, 0.25)', showlegend=False)\n",
    "\n",
    "        x = np.linspace(b, b + x_bias, int(1000 * x_bias))\n",
    "        fig.add_scatter(x=x, y=list(map(true_function, x)), name='True', line_color='rgba(0, 0, 0, 0.25)', showlegend=False)\n",
    "\n",
    "    fig.update_layout(title='Приближение решения', legend_title='Шаг')\n",
    "\n",
    "    fig.show(config={'scrollZoom': True})"
   ],
   "execution_count":101,
   "outputs":[
    
   ],
   "metadata":{
    "datalore":{
     "type":"CODE",
     "hide_input_from_viewers":false,
     "hide_output_from_viewers":false
    }
   }
  },
  {
   "cell_type":"code",
   "source":[
    "def compare_step_and_time(data: pd.DataFrame) -> None:\n",
    "    fig = go.Figure()\n",
    "\n",
    "    fig.add_scatter(x=data.step, y=data.time \/ 60)\n",
    "\n",
    "    fig.update_xaxes(title='Номер шага')\n",
    "    fig.update_yaxes(title='Время (мин.)')\n",
    "\n",
    "    fig.update_layout(title='Зависимость времени нахождения решения от номера шага')\n",
    "\n",
    "    fig.show()"
   ],
   "execution_count":102,
   "outputs":[
    
   ],
   "metadata":{
    "datalore":{
     "type":"CODE",
     "hide_input_from_viewers":false,
     "hide_output_from_viewers":false
    }
   }
  },
  {
   "cell_type":"markdown",
   "source":[
    "# Simple conditions"
   ],
   "attachments":{
    
   },
   "metadata":{
    "datalore":{
     "type":"MD",
     "hide_input_from_viewers":false,
     "hide_output_from_viewers":false,
     "sheet_delimiter":true
    }
   }
  },
  {
   "cell_type":"markdown",
   "source":[
    "$$u = x e^{sin(x)}$$\n",
    "$$u(-2) = -2 e^{sin(-2)}$$\n",
    "$$u(6) = 6 e^{sin(6)}$$"
   ],
   "attachments":{
    
   },
   "metadata":{
    "datalore":{
     "type":"MD",
     "hide_input_from_viewers":false,
     "hide_output_from_viewers":false
    }
   }
  },
  {
   "cell_type":"code",
   "source":[
    "u = lambda x: x * e ** sin(x)\n",
    "du = lambda x: e ** sin(x) * (x * cos(x) + 1)\n",
    "ddu = lambda x: e ** sin(x) * (-x * sin(x) + x * cos(x) ** 2 + 2 * cos(x))\n",
    "\n",
    "q = lambda x: -x\n",
    "r = lambda x: 1\n",
    "f = lambda x: ddu(x) + q(x) * du(x) - r(x) * u(x)\n",
    "\n",
    "a = -2\n",
    "b = 6\n",
    "\n",
    "alpha_1 = 1\n",
    "alpha_2 = 0\n",
    "alpha = -2 * e ** sin(-2)\n",
    "\n",
    "left_condition = (alpha_1, alpha_2, alpha)\n",
    "\n",
    "beta_1 = 1\n",
    "beta_2 = 0\n",
    "beta = 6 * e ** sin(6)\n",
    "\n",
    "right_condition = (beta_1, beta_2, beta)"
   ],
   "execution_count":103,
   "outputs":[
    
   ],
   "metadata":{
    "datalore":{
     "type":"CODE",
     "hide_input_from_viewers":false,
     "hide_output_from_viewers":false
    }
   }
  },
  {
   "cell_type":"code",
   "source":[
    "# banchmark(\n",
    "#     q,\n",
    "#     r,\n",
    "#     f,\n",
    "#     a,\n",
    "#     b,\n",
    "#     left_condition,\n",
    "#     right_condition,\n",
    "#     true_function=u,\n",
    "#     checkpoint_name='simple.csv',\n",
    "# )"
   ],
   "execution_count":104,
   "outputs":[
    
   ],
   "metadata":{
    "datalore":{
     "type":"CODE",
     "hide_input_from_viewers":false,
     "hide_output_from_viewers":false
    }
   }
  },
  {
   "cell_type":"code",
   "source":[
    "data = pd.read_csv('simple.csv')\n",
    "\n",
    "compare_step_and_number_of_points(data)\n",
    "compare_step_and_time(data)\n",
    "compare_step_and_error(data)"
   ],
   "execution_count":105,
   "outputs":[
    {
     "data":{
      "text\/plain":[
       "Unsupported"
      ]
     },
     "metadata":{
      
     },
     "output_type":"display_data"
    }
   ],
   "metadata":{
    "datalore":{
     "type":"CODE",
     "hide_input_from_viewers":false,
     "hide_output_from_viewers":false
    }
   }
  },
  {
   "cell_type":"code",
   "source":[
    "data = pd.read_csv('simple.csv')\n",
    "\n",
    "u = lambda x: x * e ** sin(x)\n",
    "\n",
    "show_solution_approximations(data, -2, 6, true_function=u, end_with_step=5)"
   ],
   "execution_count":106,
   "outputs":[
    {
     "data":{
      "text\/plain":[
       "Unsupported"
      ]
     },
     "metadata":{
      
     },
     "output_type":"display_data"
    }
   ],
   "metadata":{
    "datalore":{
     "type":"CODE",
     "hide_input_from_viewers":false,
     "hide_output_from_viewers":false
    }
   }
  },
  {
   "cell_type":"code",
   "source":[
    "data = pd.read_csv('simple.csv')\n",
    "\n",
    "u = lambda x: x * e ** sin(x)\n",
    "\n",
    "show_solution_approximations(data, -2, 6, true_function=u, start_with_step=17)"
   ],
   "execution_count":107,
   "outputs":[
    {
     "data":{
      "text\/plain":[
       "Unsupported"
      ]
     },
     "metadata":{
      
     },
     "output_type":"display_data"
    }
   ],
   "metadata":{
    "datalore":{
     "type":"CODE",
     "hide_input_from_viewers":false,
     "hide_output_from_viewers":false
    }
   }
  },
  {
   "cell_type":"markdown",
   "source":[
    "# General conditions"
   ],
   "attachments":{
    
   },
   "metadata":{
    "datalore":{
     "type":"MD",
     "hide_input_from_viewers":false,
     "hide_output_from_viewers":false,
     "sheet_delimiter":true
    }
   }
  },
  {
   "cell_type":"markdown",
   "source":[
    "$$u(x) = x^5 - 5x^4 + 5x^3 + 5x^2 - 6x$$\n",
    "$$2u(-1) - 3u'(-1) = -24$$\n",
    "$$3u(3) + \\frac{3}{8}u'(3) = 3$$"
   ],
   "attachments":{
    
   },
   "metadata":{
    "datalore":{
     "type":"MD",
     "hide_input_from_viewers":false,
     "hide_output_from_viewers":false
    }
   }
  },
  {
   "cell_type":"code",
   "source":[
    "u = lambda x: x ** 5 - 5 * x ** 4 + 5 * x ** 3 + 5 * x ** 2 - 6 * x\n",
    "du = lambda x: 5 * x ** 4 - 20 * x ** 3 + 15 * x ** 2 + 10 * x - 6\n",
    "ddu = lambda x: 10 * (2 * x ** 3 - 6 * x ** 2 + 3 * x + 1)\n",
    "\n",
    "q = lambda x: 5\n",
    "r = lambda x: -x\n",
    "f = lambda x: ddu(x) + q(x) * du(x) - r(x) * u(x)\n",
    "\n",
    "a = -1\n",
    "b = 3\n",
    "\n",
    "alpha_1 = 2\n",
    "alpha_2 = 1\n",
    "alpha = -24\n",
    "\n",
    "left_condition = (alpha_1, alpha_2, alpha)\n",
    "\n",
    "beta_1 = 3\n",
    "beta_2 = 1 \/ 8\n",
    "beta = 3\n",
    "\n",
    "right_condition = (beta_1, beta_2, beta)"
   ],
   "execution_count":108,
   "outputs":[
    
   ],
   "metadata":{
    "datalore":{
     "type":"CODE",
     "hide_input_from_viewers":false,
     "hide_output_from_viewers":false
    }
   }
  },
  {
   "cell_type":"code",
   "source":[
    "# banchmark(\n",
    "#     q,\n",
    "#     r,\n",
    "#     f,\n",
    "#     a,\n",
    "#     b,\n",
    "#     left_condition,\n",
    "#     right_condition,\n",
    "#     true_function=u,\n",
    "#     checkpoint_name='general.csv',\n",
    "# )"
   ],
   "execution_count":109,
   "outputs":[
    
   ],
   "metadata":{
    "datalore":{
     "type":"CODE",
     "hide_input_from_viewers":false,
     "hide_output_from_viewers":false
    }
   }
  },
  {
   "cell_type":"code",
   "source":[
    "data = pd.read_csv('general.csv')\n",
    "\n",
    "compare_step_and_number_of_points(data)\n",
    "compare_step_and_time(data)\n",
    "compare_step_and_error(data)"
   ],
   "execution_count":110,
   "outputs":[
    {
     "data":{
      "text\/plain":[
       "Unsupported"
      ]
     },
     "metadata":{
      
     },
     "output_type":"display_data"
    }
   ],
   "metadata":{
    "datalore":{
     "type":"CODE",
     "hide_input_from_viewers":false,
     "hide_output_from_viewers":false
    }
   }
  },
  {
   "cell_type":"code",
   "source":[
    "data = pd.read_csv('general.csv')\n",
    "\n",
    "u = lambda x: x ** 5 - 5 * x ** 4 + 5 * x ** 3 + 5 * x ** 2 - 6 * x\n",
    "\n",
    "show_solution_approximations(data, -1, 3, true_function=u, end_with_step=7, x_bias=0.25)"
   ],
   "execution_count":111,
   "outputs":[
    {
     "data":{
      "text\/plain":[
       "Unsupported"
      ]
     },
     "metadata":{
      
     },
     "output_type":"display_data"
    }
   ],
   "metadata":{
    "datalore":{
     "type":"CODE",
     "hide_input_from_viewers":false,
     "hide_output_from_viewers":false
    }
   }
  },
  {
   "cell_type":"code",
   "source":[
    "data = pd.read_csv('general.csv')\n",
    "\n",
    "u = lambda x: x ** 5 - 5 * x ** 4 + 5 * x ** 3 + 5 * x ** 2 - 6 * x\n",
    "\n",
    "show_solution_approximations(data, -1, 3, true_function=u, start_with_step=14, end_with_step=16)"
   ],
   "execution_count":112,
   "outputs":[
    {
     "data":{
      "text\/plain":[
       "Unsupported"
      ]
     },
     "metadata":{
      
     },
     "output_type":"display_data"
    }
   ],
   "metadata":{
    "datalore":{
     "type":"CODE",
     "hide_input_from_viewers":false,
     "hide_output_from_viewers":false
    }
   }
  },
  {
   "cell_type":"markdown",
   "source":[
    "# Pakulina (20)"
   ],
   "attachments":{
    
   },
   "metadata":{
    "datalore":{
     "type":"MD",
     "hide_input_from_viewers":false,
     "hide_output_from_viewers":false,
     "sheet_delimiter":true
    }
   }
  },
  {
   "cell_type":"markdown",
   "source":[
    "$$-\\frac{7 + x}{8 - 3x}u'' + \\left(1 - \\frac{x}{3} \\right)u' + \\frac{1}{3}\\text{ln}(3 + x)u = \\frac{1 + x}{2}$$\n",
    "$$u(-1)-3u'(-1) = 0$$\n",
    "$$u'(1) = 0$$"
   ],
   "attachments":{
    
   },
   "metadata":{
    "datalore":{
     "type":"MD",
     "hide_input_from_viewers":false,
     "hide_output_from_viewers":false
    }
   }
  },
  {
   "cell_type":"code",
   "source":[
    "k = lambda x: -1 * (7 + x) \/ (8 - 3 * x)\n",
    "q = lambda x: (1 - x \/ 3) \/ k(x)\n",
    "r = lambda x: -1 \/ 3 * log(3 + x) \/ k(x)\n",
    "f = lambda x: (1 + x) \/ (2 * k(x))\n",
    "\n",
    "a = -1\n",
    "b = 1\n",
    "\n",
    "alpha_1 = 1\n",
    "alpha_2 = 3\n",
    "alpha = 0\n",
    "\n",
    "left_condition = (alpha_1, alpha_2, alpha)\n",
    "\n",
    "beta_1 = 0\n",
    "beta_2 = 1\n",
    "beta = 0\n",
    "\n",
    "right_condition = (beta_1, beta_2, beta)"
   ],
   "execution_count":113,
   "outputs":[
    
   ],
   "metadata":{
    "datalore":{
     "type":"CODE",
     "hide_input_from_viewers":false,
     "hide_output_from_viewers":false
    }
   }
  },
  {
   "cell_type":"code",
   "source":[
    "# banchmark(\n",
    "#     q,\n",
    "#     r,\n",
    "#     f,\n",
    "#     a,\n",
    "#     b,\n",
    "#     left_condition,\n",
    "#     right_condition,\n",
    "#     checkpoint_name='pakulina.csv',\n",
    "# )"
   ],
   "execution_count":114,
   "outputs":[
    
   ],
   "metadata":{
    "datalore":{
     "type":"CODE",
     "hide_input_from_viewers":false,
     "hide_output_from_viewers":false
    }
   }
  },
  {
   "cell_type":"code",
   "source":[
    "data = pd.read_csv('pakulina.csv')\n",
    "\n",
    "compare_step_and_number_of_points(data)\n",
    "compare_step_and_time(data)\n",
    "compare_step_and_error(data)"
   ],
   "execution_count":115,
   "outputs":[
    {
     "data":{
      "text\/plain":[
       "Unsupported"
      ]
     },
     "metadata":{
      
     },
     "output_type":"display_data"
    }
   ],
   "metadata":{
    "datalore":{
     "type":"CODE",
     "hide_input_from_viewers":false,
     "hide_output_from_viewers":false
    }
   }
  },
  {
   "cell_type":"code",
   "source":[
    "data = pd.read_csv('pakulina.csv')\n",
    "\n",
    "show_solution_approximations(data, -1, 1, end_with_step=6)"
   ],
   "execution_count":116,
   "outputs":[
    {
     "data":{
      "text\/plain":[
       "Unsupported"
      ]
     },
     "metadata":{
      
     },
     "output_type":"display_data"
    }
   ],
   "metadata":{
    "datalore":{
     "type":"CODE",
     "hide_input_from_viewers":false,
     "hide_output_from_viewers":false
    }
   }
  },
  {
   "cell_type":"code",
   "source":[
    "data = pd.read_csv('pakulina.csv')\n",
    "show_solution_approximations(data, -1, 1, start_with_step=15, end_with_step=17)"
   ],
   "execution_count":117,
   "outputs":[
    {
     "data":{
      "text\/plain":[
       "Unsupported"
      ]
     },
     "metadata":{
      
     },
     "output_type":"display_data"
    }
   ],
   "metadata":{
    "datalore":{
     "type":"CODE",
     "hide_input_from_viewers":false,
     "hide_output_from_viewers":false
    }
   }
  }
 ],
 "metadata":{
  "datalore":{
   "version":1,
   "computation_mode":"JUPYTER",
   "package_manager":"pip",
   "base_environment":"default",
   "packages":[
    
   ]
  }
 },
 "nbformat":4,
 "nbformat_minor":4
}